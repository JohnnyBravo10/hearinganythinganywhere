{
 "cells": [
  {
   "cell_type": "code",
   "execution_count": 31,
   "id": "4f1aa5bc",
   "metadata": {},
   "outputs": [
    {
     "name": "stdout",
     "output_type": "stream",
     "text": [
      "The autoreload extension is already loaded. To reload it, use:\n",
      "  %reload_ext autoreload\n"
     ]
    },
    {
     "name": "stderr",
     "output_type": "stream",
     "text": [
      "No artists with labels found to put in legend.  Note that artists whose label start with an underscore are ignored when legend() is called with no argument.\n"
     ]
    },
    {
     "data": {
      "image/png": "[encoded data removed]",
      "text/plain": [
       "<Figure size 640x480 with 1 Axes>"
      ]
     },
     "metadata": {},
     "output_type": "display_data"
    }
   ],
   "source": [
    "%load_ext autoreload\n",
    "%autoreload 2\n",
    "import sys\n",
    "sys.path.insert(1, '../')\n",
    "import numpy as np \n",
    "import matplotlib.pyplot as plt\n",
    "import rooms.dataset\n",
    "import render\n",
    "import trajectory\n",
    "from IPython.display import Audio\n",
    "\n",
    "\n",
    "D = rooms.dataset.dataLoader(\"classroomBase\")\n",
    "\n",
    "xyz_points = np.stack((3.5*np.ones(100),4*np.ones(100), 1*np.ones(100)),axis=-1)\n",
    "# Compute forward and left facing vectors\n",
    "forwards = np.array(100*[np.array([0,1,0])])\n",
    "lefts = np.array(100*[np.array([-1,0,0])])\n",
    "\n",
    "# Source xyz does not change\n",
    "source_xyzs = np.array([D.speaker_xyz]*100)\n",
    "\n",
    "def get_rot_vectors(theta):\n",
    "    return np.cos(theta-np.pi/2), np.sin(theta-np.pi/2), np.cos(theta-np.pi), np.sin(theta-np.pi)\n",
    "\n",
    "thetas = np.linspace(0, 8*np.pi, 100)\n",
    "\n",
    "source_axis_1s = []\n",
    "source_axis_2s = []\n",
    "\n",
    "for i in range(100):\n",
    "    theta = thetas[i]\n",
    "    x_1, y_1, x_2, y_2 = get_rot_vectors(theta)\n",
    "    source_axis_1s.append(np.array([x_1, y_1, 0]))\n",
    "    source_axis_2s.append(np.array([x_2, y_2, 0]))\n",
    "    \n",
    "\n",
    "    \n",
    "\n",
    "T = trajectory.Trajectory(\"classroomRotation\", \"classroomBase\",xyz_points, forwards, lefts, source_xyzs, source_axis_1s, source_axis_2s)\n",
    "\n",
    "# Plot trajectory points (orange is speaker location)\n",
    "T.plot_traj()"
   ]
  },
  {
   "cell_type": "code",
   "execution_count": null,
   "id": "c117c50a",
   "metadata": {
    "scrolled": true
   },
   "outputs": [],
   "source": [
    "T.save_paths() # Trace and store paths\n",
    "R = render.Renderer(n_surfaces=9, toa_perturb=False)\n",
    "R = R.cuda()\n",
    "T.get_RIRs(R,\"../models/classroomBase/weights.pt\") # Compute RIRs using pretrained model\n",
    "T.load_RIRs() # Load RIRs\n",
    "\n",
    "T.convolve_audio(\"chopper_long.wav\", cutoff=30*48000) # Render Audio\n",
    "rendered_audio = T.fill(\"chopper_long.wav\", fade_length=5)"
   ]
  },
  {
   "cell_type": "code",
   "execution_count": null,
   "id": "ee27fddd",
   "metadata": {},
   "outputs": [],
   "source": [
    "Audio(rendered_audio, rate=48000)"
   ]
  }
 ],
 "metadata": {
  "kernelspec": {
   "display_name": "Python 3 (ipykernel)",
   "language": "python",
   "name": "python3"
  },
  "language_info": {
   "codemirror_mode": {
    "name": "ipython",
    "version": 3
   },
   "file_extension": ".py",
   "mimetype": "text/x-python",
   "name": "python",
   "nbconvert_exporter": "python",
   "pygments_lexer": "ipython3",
   "version": "3.10.9"
  }
 },
 "nbformat": 4,
 "nbformat_minor": 5
}
