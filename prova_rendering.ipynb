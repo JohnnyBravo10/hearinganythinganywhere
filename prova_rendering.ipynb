{
 "cells": [
  {
   "cell_type": "code",
   "execution_count": null,
   "metadata": {},
   "outputs": [],
   "source": [
    "%pip install torchaudio"
   ]
  },
  {
   "cell_type": "code",
   "execution_count": 1,
   "metadata": {},
   "outputs": [],
   "source": [
    "import render\n",
    "import rooms.dataset\n",
    "import evaluate\n",
    "import torch\n",
    "import sounddevice as sd\n",
    "import torch.nn as nn\n",
    "import matplotlib.pyplot as plt\n",
    "import numpy as np\n",
    "import metrics"
   ]
  },
  {
   "cell_type": "code",
   "execution_count": 2,
   "metadata": {},
   "outputs": [],
   "source": [
    "torch.set_default_dtype(torch.float32)\n",
    "device = torch.device(\"cuda:0\" if torch.cuda.is_available() else \"cpu\")\n",
    "device  = \"cpu\""
   ]
  },
  {
   "cell_type": "code",
   "execution_count": 3,
   "metadata": {},
   "outputs": [],
   "source": [
    "D_0 = rooms.dataset.dataLoader(\"classroomBase\")\n",
    "#D"
   ]
  },
  {
   "cell_type": "code",
   "execution_count": 4,
   "metadata": {},
   "outputs": [],
   "source": [
    "D_1 = rooms.dataset.dataLoader(\"classroomAddedPanel\")"
   ]
  },
  {
   "cell_type": "markdown",
   "metadata": {},
   "source": [
    "## Original audio"
   ]
  },
  {
   "cell_type": "code",
   "execution_count": null,
   "metadata": {},
   "outputs": [],
   "source": [
    "sample_rate = 48000\n",
    "\n",
    "sd.play(D_0.music_dls[0][0], sample_rate)\n",
    "\n",
    "sd.wait()\n"
   ]
  },
  {
   "cell_type": "markdown",
   "metadata": {},
   "source": [
    "## Base"
   ]
  },
  {
   "cell_type": "code",
   "execution_count": 5,
   "metadata": {},
   "outputs": [
    {
     "name": "stdout",
     "output_type": "stream",
     "text": [
      "Source position:  [3.5838 5.723  1.2294]\n",
      "Listener position:  [2.4241125 0.581025  0.32     ]\n"
     ]
    }
   ],
   "source": [
    "print(\"Source position: \", D_0.speaker_xyz)\n",
    "print(\"Listener position: \", D_0.xyzs[0])"
   ]
  },
  {
   "cell_type": "code",
   "execution_count": 5,
   "metadata": {},
   "outputs": [
    {
     "name": "stdout",
     "output_type": "stream",
     "text": [
      "Considered Paths:\t59049\n",
      "Total Considered Paths, after Axial:\t59079\n",
      "Valid Paths:\t850\n"
     ]
    }
   ],
   "source": [
    "L_0 = render.get_listener(source_xyz=D_0.speaker_xyz, listener_xyz = D_0.xyzs[0], surfaces=D_0.all_surfaces, \n",
    "                                                speed_of_sound=D_0.speed_of_sound,\n",
    "                                                parallel_surface_pairs=D_0.parallel_surface_pairs,\n",
    "                                                max_order=D_0.max_order, max_axial_order=D_0.max_axial_order )"
   ]
  },
  {
   "cell_type": "code",
   "execution_count": 6,
   "metadata": {},
   "outputs": [
    {
     "name": "stdout",
     "output_type": "stream",
     "text": [
      "12.1\n",
      "True\n"
     ]
    }
   ],
   "source": [
    "import torch\n",
    "print(torch.version.cuda)  # Mostra la versione di CUDA compatibile\n",
    "print(torch.cuda.is_available())  # Controlla se CUDA è disponibile\n"
   ]
  },
  {
   "cell_type": "code",
   "execution_count": 7,
   "metadata": {},
   "outputs": [],
   "source": [
    "R_0 = render.Renderer(n_surfaces=len(D_0.all_surfaces))"
   ]
  },
  {
   "cell_type": "code",
   "execution_count": 8,
   "metadata": {},
   "outputs": [],
   "source": [
    "pt_file = torch.load('./models/classroomBase/weights.pt', map_location=device)\n",
    "R_0.energy_vector = nn.Parameter(pt_file['model_state_dict']['energy_vector'])\n",
    "R_0.source_response = nn.Parameter(pt_file['model_state_dict']['source_response'])\n",
    "R_0.directivity_sphere = nn.Parameter(pt_file['model_state_dict']['directivity_sphere'])\n",
    "R_0.decay = nn.Parameter(pt_file['model_state_dict']['decay'])\n",
    "R_0.RIR_residual = nn.Parameter(pt_file['model_state_dict']['RIR_residual'])\n",
    "R_0.spline_values = nn.Parameter(pt_file['model_state_dict']['spline_values'])"
   ]
  },
  {
   "cell_type": "code",
   "execution_count": 9,
   "metadata": {},
   "outputs": [],
   "source": [
    "RIR_0 = R_0.render_RIR(L_0)"
   ]
  },
  {
   "cell_type": "code",
   "execution_count": 10,
   "metadata": {},
   "outputs": [
    {
     "data": {
      "text/plain": [
       "tensor([5.3448e-10, 3.6882e-06, 5.5119e-06,  ..., 6.9838e-06, 6.3781e-06,\n",
       "        6.7109e-06], grad_fn=<AddBackward0>)"
      ]
     },
     "execution_count": 10,
     "metadata": {},
     "output_type": "execute_result"
    }
   ],
   "source": [
    "RIR_0"
   ]
  },
  {
   "cell_type": "code",
   "execution_count": 11,
   "metadata": {},
   "outputs": [],
   "source": [
    "torch.cuda.empty_cache()"
   ]
  },
  {
   "cell_type": "code",
   "execution_count": 29,
   "metadata": {},
   "outputs": [],
   "source": [
    "RIR_by_direction_0 = R_0.render_RIR_by_directions(L_0)"
   ]
  },
  {
   "cell_type": "code",
   "execution_count": 30,
   "metadata": {},
   "outputs": [
    {
     "data": {
      "text/plain": [
       "312"
      ]
     },
     "execution_count": 30,
     "metadata": {},
     "output_type": "execute_result"
    }
   ],
   "source": [
    "len(RIR_by_direction_0[0]['responses'])"
   ]
  },
  {
   "cell_type": "code",
   "execution_count": 31,
   "metadata": {},
   "outputs": [],
   "source": [
    "#trying with less data\n",
    "RIR_by_direction_0[0]['responses'] = RIR_by_direction_0[0]['responses'][:100]"
   ]
  },
  {
   "cell_type": "code",
   "execution_count": null,
   "metadata": {},
   "outputs": [],
   "source": [
    "len(RIR_by_direction_0[0]['responses'])"
   ]
  },
  {
   "cell_type": "code",
   "execution_count": 33,
   "metadata": {},
   "outputs": [],
   "source": [
    "loss = metrics.training_loss_considering_directionality(RIR_by_direction_0, RIR_by_direction_0)\n",
    "loss"
   ]
  },
  {
   "cell_type": "code",
   "execution_count": null,
   "metadata": {},
   "outputs": [],
   "source": [
    "result = sum(value for value in RIR_by_direction_0.values())\n",
    "result"
   ]
  },
  {
   "cell_type": "code",
   "execution_count": null,
   "metadata": {},
   "outputs": [],
   "source": [
    "zeros = RIR_0\n",
    "for RIR in RIR_by_direction_0.values():\n",
    "    zeros = zeros - RIR\n",
    "\n",
    "zeros"
   ]
  },
  {
   "cell_type": "code",
   "execution_count": null,
   "metadata": {},
   "outputs": [],
   "source": [
    "print(RIR_0.unsqueeze(0).shape)\n",
    "print(D_0.music_dls[0:1,...].shape)"
   ]
  },
  {
   "cell_type": "code",
   "execution_count": null,
   "metadata": {},
   "outputs": [],
   "source": [
    "music_0 = evaluate.render_music(RIR_0.unsqueeze(0), D_0.music_dls[0:1,...], device='cpu')[0][0]"
   ]
  },
  {
   "cell_type": "code",
   "execution_count": null,
   "metadata": {},
   "outputs": [],
   "source": [
    "print(music_0.shape)"
   ]
  },
  {
   "cell_type": "code",
   "execution_count": null,
   "metadata": {},
   "outputs": [],
   "source": [
    "plt.plot(music_0)\n",
    "plt.title('Music')\n",
    "plt.show()"
   ]
  },
  {
   "cell_type": "code",
   "execution_count": null,
   "metadata": {},
   "outputs": [],
   "source": [
    "sample_rate = 48000\n",
    "\n",
    "sd.play(music_0, sample_rate)\n",
    "\n",
    "sd.wait()\n"
   ]
  },
  {
   "cell_type": "markdown",
   "metadata": {},
   "source": [
    "## added panel"
   ]
  },
  {
   "cell_type": "code",
   "execution_count": null,
   "metadata": {},
   "outputs": [],
   "source": [
    "print(\"Source position: \", D_1.speaker_xyz)\n",
    "print(\"Listener position: \", D_1.xyzs[0])"
   ]
  },
  {
   "cell_type": "code",
   "execution_count": null,
   "metadata": {},
   "outputs": [],
   "source": [
    "L_1 = render.get_listener(source_xyz=D_1.speaker_xyz, listener_xyz = D_1.xyzs[0], surfaces=D_1.all_surfaces, \n",
    "                                                speed_of_sound=D_1.speed_of_sound,\n",
    "                                                parallel_surface_pairs=D_1.parallel_surface_pairs,\n",
    "                                                max_order=D_1.max_order, max_axial_order=D_1.max_axial_order )"
   ]
  },
  {
   "cell_type": "code",
   "execution_count": null,
   "metadata": {},
   "outputs": [],
   "source": [
    "R_1 = render.Renderer(n_surfaces=len(D_1.all_surfaces))"
   ]
  },
  {
   "cell_type": "code",
   "execution_count": null,
   "metadata": {},
   "outputs": [],
   "source": [
    "modified_energy_vector = torch.tensor([[[-0.5305, -0.4278, -0.2579, -0.3598, -1.6096, -0.7284, -1.8826,\n",
    "          -1.6226, -1.5753, -1.9941],\n",
    "         [ 0.5305,  0.4278,  0.2579,  0.3598,  1.6096,  0.7284,  1.8826,\n",
    "           1.6226,  1.5753,  1.9941]],\n",
    "\n",
    "        [[-2.4384,  0.8858, -0.2965, -1.5742, -0.2930, -1.9829, -1.7962,\n",
    "          -1.9131, -0.0154,  0.2472],\n",
    "         [ 2.4384, -0.8858,  0.2965,  1.5742,  0.2930,  1.9829,  1.7962,\n",
    "           1.9131,  0.0154, -0.2472]],\n",
    "\n",
    "        [[-0.9421, -0.6755, -3.6006, -0.7103, -0.8803, -1.3149, -2.2866,\n",
    "          -2.6399, -2.8685, -2.1082],\n",
    "         [ 0.9421,  0.6755,  3.6006,  0.7103,  0.8803,  1.3149,  2.2866,\n",
    "           2.6399,  2.8685,  2.1082]],\n",
    "\n",
    "        [[-4.0914, -2.7232, -0.8506, -2.3887, -3.6858, -1.3391, -2.6380,\n",
    "          -1.8897, -2.1227, -3.5193],\n",
    "         [ 4.0914,  2.7232,  0.8506,  2.3887,  3.6858,  1.3391,  2.6380,\n",
    "           1.8897,  2.1227,  3.5193]],\n",
    "\n",
    "        [[-1.1539, -0.4459, -0.3624, -0.7596, -0.7480, -1.5066, -0.9996,\n",
    "          -2.1747, -0.6960, -2.0290],\n",
    "         [ 1.1539,  0.4459,  0.3624,  0.7596,  0.7480,  1.5066,  0.9996,\n",
    "           2.1747,  0.6960,  2.0290]],\n",
    "\n",
    "        [[-1.7243, -1.1099, -0.0423, -1.1507, -1.2209, -0.4600, -2.0697,\n",
    "          -2.2589, -2.4818, -1.5450],\n",
    "         [ 1.7243,  1.1099,  0.0423,  1.1507,  1.2209,  0.4600,  2.0697,\n",
    "           2.2589,  2.4818,  1.5450]],\n",
    "\n",
    "        [[-7.8657, -7.9064, -4.2665, -2.9527, -0.6743, -0.7566,  1.5479,\n",
    "          -1.3406, -2.4598, -2.1531],\n",
    "         [ 7.8657,  7.9064,  4.2665,  2.9527,  0.6743,  0.7566, -1.5479,\n",
    "           1.3406,  2.4598,  2.1531]],\n",
    "\n",
    "        [[-4.5917, -5.2178, -4.6895, -3.5287, -3.0246,  0.2444, -1.6953,\n",
    "          -1.4810, -1.9807, -1.9190],\n",
    "         [ 4.5917,  5.2178,  4.6895,  3.5287,  3.0246, -0.2444,  1.6953,\n",
    "           1.4810,  1.9807,  1.9190]],\n",
    "\n",
    "        [[-6.7398, -2.8415, -3.7433, -0.8007, -2.0138, -1.9061, -2.0395,\n",
    "          -2.8121, -3.1212, -2.7330],\n",
    "         [ 6.7398,  2.8415,  3.7433,  0.8007,  2.0138,  1.9061,  2.0395,\n",
    "          2.8121,  3.1212,  2.7330]],\n",
    "           \n",
    "        [[-6.7398, -2.8415, -3.7433, -0.8007, -2.0138, -1.9061, -2.0395,\n",
    "          -2.8121, -3.1212, -2.7330],\n",
    "         [ 6.7398,  2.8415,  3.7433,  0.8007,  2.0138,  1.9061,  2.0395,\n",
    "          2.8121,  3.1212,  2.7330]]])"
   ]
  },
  {
   "cell_type": "code",
   "execution_count": null,
   "metadata": {},
   "outputs": [],
   "source": [
    "pt_file = torch.load('./models/classroomBase/weights.pt', map_location=device)\n",
    "R_1.energy_vector = nn.Parameter(modified_energy_vector)\n",
    "R_1.source_response = nn.Parameter(pt_file['model_state_dict']['source_response'])\n",
    "R_1.directivity_sphere = nn.Parameter(pt_file['model_state_dict']['directivity_sphere'])\n",
    "R_1.decay = nn.Parameter(pt_file['model_state_dict']['decay'])\n",
    "R_1.RIR_residual = nn.Parameter(pt_file['model_state_dict']['RIR_residual'])\n",
    "R_1.spline_values = nn.Parameter(pt_file['model_state_dict']['spline_values'])"
   ]
  },
  {
   "cell_type": "code",
   "execution_count": null,
   "metadata": {},
   "outputs": [],
   "source": [
    "RIR_1 = R_1.render_RIR(L_1)"
   ]
  },
  {
   "cell_type": "code",
   "execution_count": null,
   "metadata": {},
   "outputs": [],
   "source": [
    "print(RIR_1.unsqueeze(0).shape)\n",
    "print(D_1.music_dls[0:1,...].shape)"
   ]
  },
  {
   "cell_type": "code",
   "execution_count": null,
   "metadata": {},
   "outputs": [],
   "source": [
    "music_1 = evaluate.render_music(RIR_1.unsqueeze(0), D_1.music_dls[0:1,...], device='cpu')[0][0]"
   ]
  },
  {
   "cell_type": "code",
   "execution_count": null,
   "metadata": {},
   "outputs": [],
   "source": [
    "plt.plot(music_1)\n",
    "plt.title('Music')\n",
    "plt.show()"
   ]
  },
  {
   "cell_type": "code",
   "execution_count": null,
   "metadata": {},
   "outputs": [],
   "source": [
    "sample_rate = 48000\n",
    "\n",
    "sd.play(music_1, sample_rate)\n",
    "\n",
    "sd.wait()"
   ]
  }
 ],
 "metadata": {
  "kernelspec": {
   "display_name": "Python 3",
   "language": "python",
   "name": "python3"
  },
  "language_info": {
   "codemirror_mode": {
    "name": "ipython",
    "version": 3
   },
   "file_extension": ".py",
   "mimetype": "text/x-python",
   "name": "python",
   "nbconvert_exporter": "python",
   "pygments_lexer": "ipython3",
   "version": "3.11.9"
  }
 },
 "nbformat": 4,
 "nbformat_minor": 2
}
