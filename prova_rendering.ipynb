{
 "cells": [
  {
   "cell_type": "code",
   "execution_count": 1,
   "metadata": {},
   "outputs": [
    {
     "name": "stdout",
     "output_type": "stream",
     "text": [
      "Defaulting to user installation because normal site-packages is not writeable\n",
      "Requirement already satisfied: torchaudio in /home/gzanin/.local/lib/python3.11/site-packages (2.3.1)\n",
      "Requirement already satisfied: torch==2.3.1 in /home/gzanin/.local/lib/python3.11/site-packages (from torchaudio) (2.3.1)\n",
      "Requirement already satisfied: filelock in /home/gzanin/.local/lib/python3.11/site-packages (from torch==2.3.1->torchaudio) (3.15.4)\n",
      "Requirement already satisfied: typing-extensions>=4.8.0 in /home/gzanin/.local/lib/python3.11/site-packages (from torch==2.3.1->torchaudio) (4.12.2)\n",
      "Requirement already satisfied: sympy in /home/gzanin/.local/lib/python3.11/site-packages (from torch==2.3.1->torchaudio) (1.13.1)\n",
      "Requirement already satisfied: networkx in /home/gzanin/.local/lib/python3.11/site-packages (from torch==2.3.1->torchaudio) (3.3)\n",
      "Requirement already satisfied: jinja2 in /home/gzanin/.local/lib/python3.11/site-packages (from torch==2.3.1->torchaudio) (3.1.4)\n",
      "Requirement already satisfied: fsspec in /home/gzanin/.local/lib/python3.11/site-packages (from torch==2.3.1->torchaudio) (2024.6.1)\n",
      "Requirement already satisfied: nvidia-cuda-nvrtc-cu12==12.1.105 in /home/gzanin/.local/lib/python3.11/site-packages (from torch==2.3.1->torchaudio) (12.1.105)\n",
      "Requirement already satisfied: nvidia-cuda-runtime-cu12==12.1.105 in /home/gzanin/.local/lib/python3.11/site-packages (from torch==2.3.1->torchaudio) (12.1.105)\n",
      "Requirement already satisfied: nvidia-cuda-cupti-cu12==12.1.105 in /home/gzanin/.local/lib/python3.11/site-packages (from torch==2.3.1->torchaudio) (12.1.105)\n",
      "Requirement already satisfied: nvidia-cudnn-cu12==8.9.2.26 in /home/gzanin/.local/lib/python3.11/site-packages (from torch==2.3.1->torchaudio) (8.9.2.26)\n",
      "Requirement already satisfied: nvidia-cublas-cu12==12.1.3.1 in /home/gzanin/.local/lib/python3.11/site-packages (from torch==2.3.1->torchaudio) (12.1.3.1)\n",
      "Requirement already satisfied: nvidia-cufft-cu12==11.0.2.54 in /home/gzanin/.local/lib/python3.11/site-packages (from torch==2.3.1->torchaudio) (11.0.2.54)\n",
      "Requirement already satisfied: nvidia-curand-cu12==10.3.2.106 in /home/gzanin/.local/lib/python3.11/site-packages (from torch==2.3.1->torchaudio) (10.3.2.106)\n",
      "Requirement already satisfied: nvidia-cusolver-cu12==11.4.5.107 in /home/gzanin/.local/lib/python3.11/site-packages (from torch==2.3.1->torchaudio) (11.4.5.107)\n",
      "Requirement already satisfied: nvidia-cusparse-cu12==12.1.0.106 in /home/gzanin/.local/lib/python3.11/site-packages (from torch==2.3.1->torchaudio) (12.1.0.106)\n",
      "Requirement already satisfied: nvidia-nccl-cu12==2.20.5 in /home/gzanin/.local/lib/python3.11/site-packages (from torch==2.3.1->torchaudio) (2.20.5)\n",
      "Requirement already satisfied: nvidia-nvtx-cu12==12.1.105 in /home/gzanin/.local/lib/python3.11/site-packages (from torch==2.3.1->torchaudio) (12.1.105)\n",
      "Requirement already satisfied: triton==2.3.1 in /home/gzanin/.local/lib/python3.11/site-packages (from torch==2.3.1->torchaudio) (2.3.1)\n",
      "Requirement already satisfied: nvidia-nvjitlink-cu12 in /home/gzanin/.local/lib/python3.11/site-packages (from nvidia-cusolver-cu12==11.4.5.107->torch==2.3.1->torchaudio) (12.5.82)\n",
      "Requirement already satisfied: MarkupSafe>=2.0 in /home/gzanin/.local/lib/python3.11/site-packages (from jinja2->torch==2.3.1->torchaudio) (2.1.5)\n",
      "Requirement already satisfied: mpmath<1.4,>=1.1.0 in /home/gzanin/.local/lib/python3.11/site-packages (from sympy->torch==2.3.1->torchaudio) (1.3.0)\n",
      "\n",
      "\u001b[1m[\u001b[0m\u001b[34;49mnotice\u001b[0m\u001b[1;39;49m]\u001b[0m\u001b[39;49m A new release of pip is available: \u001b[0m\u001b[31;49m24.1.2\u001b[0m\u001b[39;49m -> \u001b[0m\u001b[32;49m24.2\u001b[0m\n",
      "\u001b[1m[\u001b[0m\u001b[34;49mnotice\u001b[0m\u001b[1;39;49m]\u001b[0m\u001b[39;49m To update, run: \u001b[0m\u001b[32;49mpip3.11 install --upgrade pip\u001b[0m\n",
      "Note: you may need to restart the kernel to use updated packages.\n"
     ]
    }
   ],
   "source": [
    "%pip install torchaudio"
   ]
  },
  {
   "cell_type": "code",
   "execution_count": 1,
   "metadata": {},
   "outputs": [],
   "source": [
    "import render\n",
    "import rooms.dataset\n",
    "import evaluate\n",
    "import torch\n",
    "#import sounddevice as sd\n",
    "import torch.nn as nn\n",
    "import matplotlib.pyplot as plt\n",
    "import numpy as np\n",
    "import metrics"
   ]
  },
  {
   "cell_type": "code",
   "execution_count": 2,
   "metadata": {},
   "outputs": [],
   "source": [
    "torch.set_default_dtype(torch.float32)\n",
    "device = torch.device(\"cuda:0\" if torch.cuda.is_available() else \"cpu\")\n",
    "#device  = \"cpu\""
   ]
  },
  {
   "cell_type": "code",
   "execution_count": 3,
   "metadata": {},
   "outputs": [],
   "source": [
    "D_0 = rooms.dataset.dataLoader(\"classroomBase\")\n",
    "#D"
   ]
  },
  {
   "cell_type": "code",
   "execution_count": 4,
   "metadata": {},
   "outputs": [],
   "source": [
    "D_1 = rooms.dataset.dataLoader(\"classroomAddedPanel\")"
   ]
  },
  {
   "cell_type": "markdown",
   "metadata": {},
   "source": [
    "## Original audio"
   ]
  },
  {
   "cell_type": "code",
   "execution_count": 6,
   "metadata": {},
   "outputs": [
    {
     "data": {
      "text/plain": [
       "'\\nsample_rate = 48000\\n\\nsd.play(D_0.music_dls[0][0], sample_rate)\\n\\nsd.wait()\\n'"
      ]
     },
     "execution_count": 6,
     "metadata": {},
     "output_type": "execute_result"
    }
   ],
   "source": [
    "'''\n",
    "sample_rate = 48000\n",
    "\n",
    "sd.play(D_0.music_dls[0][0], sample_rate)\n",
    "\n",
    "sd.wait()\n",
    "'''\n"
   ]
  },
  {
   "cell_type": "markdown",
   "metadata": {},
   "source": [
    "## Base"
   ]
  },
  {
   "cell_type": "code",
   "execution_count": 5,
   "metadata": {},
   "outputs": [
    {
     "name": "stdout",
     "output_type": "stream",
     "text": [
      "Source position:  [3.5838 5.723  1.2294]\n",
      "Listener position:  [2.4241125 0.581025  0.32     ]\n"
     ]
    }
   ],
   "source": [
    "print(\"Source position: \", D_0.speaker_xyz)\n",
    "print(\"Listener position: \", D_0.xyzs[0])"
   ]
  },
  {
   "cell_type": "code",
   "execution_count": 4,
   "metadata": {},
   "outputs": [
    {
     "name": "stdout",
     "output_type": "stream",
     "text": [
      "Considered Paths:\t59049\n",
      "Total Considered Paths, after Axial:\t59079\n",
      "Valid Paths:\t850\n"
     ]
    }
   ],
   "source": [
    "L_0 = render.get_listener(source_xyz=D_0.speaker_xyz, listener_xyz = D_0.xyzs[0], surfaces=D_0.all_surfaces, \n",
    "                                                speed_of_sound=D_0.speed_of_sound,\n",
    "                                                parallel_surface_pairs=D_0.parallel_surface_pairs,\n",
    "                                                max_order=D_0.max_order, max_axial_order=D_0.max_axial_order )"
   ]
  },
  {
   "cell_type": "code",
   "execution_count": 5,
   "metadata": {},
   "outputs": [
    {
     "name": "stdout",
     "output_type": "stream",
     "text": [
      "12.1\n",
      "True\n"
     ]
    }
   ],
   "source": [
    "import torch\n",
    "print(torch.version.cuda)  # Mostra la versione di CUDA compatibile\n",
    "print(torch.cuda.is_available())  # Controlla se CUDA è disponibile\n"
   ]
  },
  {
   "cell_type": "code",
   "execution_count": 6,
   "metadata": {},
   "outputs": [
    {
     "name": "stdout",
     "output_type": "stream",
     "text": [
      "n_freq_samples 1025\n",
      "self.freq_grid tensor([0.0000e+00, 2.3438e+01, 4.6875e+01,  ..., 2.3953e+04, 2.3977e+04,\n",
      "        2.4000e+04])\n",
      "self.surfaces_freq_indices tensor([  1,   3,   5,  11,  21,  43,  85, 171, 341, 683], dtype=torch.int32)\n"
     ]
    }
   ],
   "source": [
    "R_0 = render.Renderer(n_surfaces=len(D_0.all_surfaces))"
   ]
  },
  {
   "cell_type": "code",
   "execution_count": 7,
   "metadata": {},
   "outputs": [],
   "source": [
    "# Utilizza più GPU se disponibili\n",
    "if torch.cuda.device_count() > 1:\n",
    "    print(f\"Using {torch.cuda.device_count()} GPUs\")\n",
    "    R_0 = nn.DataParallel(R_0).module"
   ]
  },
  {
   "cell_type": "code",
   "execution_count": 8,
   "metadata": {},
   "outputs": [
    {
     "name": "stderr",
     "output_type": "stream",
     "text": [
      "/tmp/ipykernel_9189/776745237.py:1: FutureWarning: You are using `torch.load` with `weights_only=False` (the current default value), which uses the default pickle module implicitly. It is possible to construct malicious pickle data which will execute arbitrary code during unpickling (See https://github.com/pytorch/pytorch/blob/main/SECURITY.md#untrusted-models for more details). In a future release, the default value for `weights_only` will be flipped to `True`. This limits the functions that could be executed during unpickling. Arbitrary objects will no longer be allowed to be loaded via this mode unless they are explicitly allowlisted by the user via `torch.serialization.add_safe_globals`. We recommend you start setting `weights_only=True` for any use case where you don't have full control of the loaded file. Please open an issue on GitHub for any issues related to this experimental feature.\n",
      "  pt_file = torch.load('./models/classroomBase/weights.pt', map_location=device)\n"
     ]
    }
   ],
   "source": [
    "pt_file = torch.load('./models/classroomBase/weights.pt', map_location=device)\n",
    "R_0.energy_vector = nn.Parameter(pt_file['model_state_dict']['energy_vector'])\n",
    "R_0.source_response = nn.Parameter(pt_file['model_state_dict']['source_response'])\n",
    "R_0.directivity_sphere = nn.Parameter(pt_file['model_state_dict']['directivity_sphere'])\n",
    "R_0.decay = nn.Parameter(pt_file['model_state_dict']['decay'])\n",
    "R_0.RIR_residual = nn.Parameter(pt_file['model_state_dict']['RIR_residual'])\n",
    "R_0.spline_values = nn.Parameter(pt_file['model_state_dict']['spline_values'])"
   ]
  },
  {
   "cell_type": "code",
   "execution_count": 9,
   "metadata": {},
   "outputs": [
    {
     "name": "stdout",
     "output_type": "stream",
     "text": [
      "paths_without_transmissions tensor([ True,  True, False,  True, False,  True,  True,  True, False,  True,\n",
      "        False,  True, False, False,  True,  True,  True,  True,  True,  True,\n",
      "         True,  True,  True, False,  True,  True,  True, False,  True, False,\n",
      "         True, False, False,  True,  True,  True,  True,  True,  True,  True,\n",
      "         True,  True, False,  True,  True,  True,  True, False,  True,  True,\n",
      "        False,  True,  True,  True,  True, False,  True,  True,  True,  True,\n",
      "        False, False, False, False, False, False,  True, False,  True,  True,\n",
      "         True,  True,  True,  True,  True,  True,  True, False,  True,  True,\n",
      "         True,  True,  True,  True,  True,  True,  True,  True,  True,  True,\n",
      "        False,  True, False,  True, False, False,  True,  True,  True,  True,\n",
      "         True,  True,  True,  True,  True, False,  True,  True,  True,  True,\n",
      "        False,  True,  True, False,  True,  True,  True,  True, False,  True,\n",
      "         True,  True,  True, False, False, False, False, False, False,  True,\n",
      "        False,  True,  True,  True,  True,  True,  True,  True,  True,  True,\n",
      "        False,  True,  True,  True,  True,  True,  True,  True,  True,  True,\n",
      "         True,  True,  True,  True, False,  True,  True, False,  True,  True,\n",
      "         True,  True, False,  True,  True,  True,  True, False, False, False,\n",
      "        False, False, False,  True, False,  True,  True,  True,  True,  True,\n",
      "         True,  True,  True,  True, False,  True,  True,  True,  True,  True,\n",
      "         True,  True,  True,  True,  True,  True,  True,  True,  True,  True,\n",
      "        False, False,  True,  True,  True,  True,  True, False,  True,  True,\n",
      "         True,  True,  True,  True, False,  True,  True,  True,  True,  True,\n",
      "         True,  True, False, False, False, False, False, False, False, False,\n",
      "        False, False, False,  True, False, False, False, False, False,  True,\n",
      "        False, False, False,  True,  True, False,  True,  True,  True, False,\n",
      "         True,  True,  True,  True, False, False,  True, False,  True,  True,\n",
      "         True,  True,  True,  True, False, False,  True,  True,  True,  True,\n",
      "         True,  True, False,  True,  True,  True,  True,  True,  True,  True,\n",
      "        False,  True, False,  True, False, False,  True,  True,  True,  True,\n",
      "         True,  True,  True,  True,  True, False,  True,  True,  True,  True,\n",
      "        False,  True,  True, False,  True,  True,  True,  True, False,  True,\n",
      "         True,  True,  True, False, False, False, False, False, False,  True,\n",
      "        False,  True,  True,  True,  True,  True,  True,  True,  True,  True,\n",
      "        False,  True,  True,  True,  True,  True,  True,  True,  True,  True,\n",
      "         True,  True,  True,  True, False,  True,  True, False,  True,  True,\n",
      "         True,  True, False,  True,  True,  True,  True, False, False, False,\n",
      "        False, False, False,  True, False,  True,  True,  True,  True,  True,\n",
      "         True,  True,  True,  True, False,  True,  True,  True,  True,  True,\n",
      "         True,  True,  True,  True,  True,  True,  True,  True,  True,  True,\n",
      "        False, False,  True,  True,  True,  True,  True, False,  True,  True,\n",
      "         True,  True,  True,  True, False,  True,  True,  True,  True,  True,\n",
      "         True,  True, False, False, False, False, False, False, False, False,\n",
      "        False, False, False,  True, False, False, False, False, False,  True,\n",
      "        False, False, False,  True,  True, False,  True,  True,  True, False,\n",
      "         True,  True,  True,  True, False, False,  True, False,  True,  True,\n",
      "         True,  True,  True,  True, False, False,  True,  True,  True,  True,\n",
      "         True,  True, False,  True,  True,  True,  True,  True,  True,  True,\n",
      "         True, False,  True,  True, False,  True,  True,  True,  True, False,\n",
      "         True,  True,  True,  True, False, False, False, False, False, False,\n",
      "         True, False,  True,  True,  True,  True,  True,  True,  True,  True,\n",
      "         True, False,  True,  True,  True,  True,  True,  True,  True,  True,\n",
      "         True,  True,  True,  True,  True,  True,  True, False, False,  True,\n",
      "         True,  True,  True,  True, False,  True,  True,  True,  True,  True,\n",
      "         True, False,  True,  True,  True,  True,  True,  True,  True, False,\n",
      "        False, False, False, False, False, False, False, False, False, False,\n",
      "         True, False, False, False, False, False,  True, False, False, False,\n",
      "         True,  True, False,  True,  True,  True, False,  True,  True,  True,\n",
      "         True, False, False,  True, False,  True,  True,  True,  True,  True,\n",
      "         True, False, False,  True,  True,  True,  True,  True,  True, False,\n",
      "         True,  True,  True,  True,  True,  True,  True,  True,  True,  True,\n",
      "        False, False,  True,  True,  True,  True,  True, False,  True,  True,\n",
      "         True,  True,  True,  True, False,  True,  True,  True,  True,  True,\n",
      "         True,  True, False, False, False, False, False, False, False, False,\n",
      "        False, False, False,  True, False, False, False, False, False,  True,\n",
      "        False, False, False,  True,  True, False,  True,  True,  True, False,\n",
      "         True,  True,  True,  True, False, False,  True, False,  True,  True,\n",
      "         True,  True,  True,  True, False, False,  True,  True,  True,  True,\n",
      "         True,  True, False,  True,  True,  True,  True,  True,  True, False,\n",
      "         True,  True,  True,  True,  True,  True,  True, False,  True,  True,\n",
      "        False,  True,  True,  True,  True, False,  True,  True,  True, False,\n",
      "         True,  True,  True, False,  True,  True,  True,  True,  True,  True,\n",
      "        False,  True,  True,  True, False,  True, False, False, False, False,\n",
      "        False, False, False, False, False,  True, False, False, False, False,\n",
      "        False, False, False, False, False, False,  True, False, False, False,\n",
      "        False, False, False, False,  True, False, False, False, False,  True,\n",
      "         True, False, False,  True, False, False, False,  True,  True, False,\n",
      "        False,  True, False,  True,  True,  True, False, False,  True, False,\n",
      "        False,  True,  True, False,  True,  True,  True, False,  True,  True,\n",
      "         True,  True,  True,  True,  True,  True,  True, False, False, False,\n",
      "         True,  True, False,  True, False, False,  True,  True,  True,  True,\n",
      "         True,  True, False,  True, False,  True,  True,  True,  True, False,\n",
      "        False, False, False,  True, False,  True,  True,  True,  True,  True,\n",
      "         True,  True,  True,  True,  True,  True,  True,  True,  True,  True,\n",
      "        False, False, False, False, False, False, False, False, False, False,\n",
      "        False,  True,  True, False, False, False, False,  True,  True, False]) 850\n"
     ]
    }
   ],
   "source": [
    "RIR_0 = R_0.render_RIR(L_0)"
   ]
  },
  {
   "cell_type": "code",
   "execution_count": 10,
   "metadata": {},
   "outputs": [
    {
     "data": {
      "text/plain": [
       "tensor([-4.2512e-10,  3.6879e-06,  5.5119e-06,  ...,  6.9838e-06,\n",
       "         6.3781e-06,  6.7109e-06], device='cuda:0', grad_fn=<AddBackward0>)"
      ]
     },
     "execution_count": 10,
     "metadata": {},
     "output_type": "execute_result"
    }
   ],
   "source": [
    "RIR_0"
   ]
  },
  {
   "cell_type": "code",
   "execution_count": 11,
   "metadata": {},
   "outputs": [],
   "source": [
    "torch.cuda.empty_cache()"
   ]
  },
  {
   "cell_type": "code",
   "execution_count": null,
   "metadata": {},
   "outputs": [],
   "source": [
    "RIR_with_learned_bp = R_0.render_early_with_learned_beampatterns(L_0)\n",
    "RIR_with_learned_bp"
   ]
  },
  {
   "cell_type": "code",
   "execution_count": 10,
   "metadata": {},
   "outputs": [
    {
     "data": {
      "text/plain": [
       "1025"
      ]
     },
     "execution_count": 10,
     "metadata": {},
     "output_type": "execute_result"
    }
   ],
   "source": [
    "len(RIR_with_learned_bp[4])"
   ]
  },
  {
   "cell_type": "code",
   "execution_count": null,
   "metadata": {},
   "outputs": [],
   "source": [
    "loss_learned_bp = metrics.training_loss_for_learned_bp(RIR_with_learned_bp, RIR_with_learned_bp)\n",
    "loss_learned_bp"
   ]
  },
  {
   "cell_type": "code",
   "execution_count": 13,
   "metadata": {},
   "outputs": [],
   "source": [
    "RIR_by_direction_0 = R_0.render_RIR_by_directions(L_0)"
   ]
  },
  {
   "cell_type": "code",
   "execution_count": 13,
   "metadata": {},
   "outputs": [
    {
     "data": {
      "text/plain": [
       "14"
      ]
     },
     "execution_count": 13,
     "metadata": {},
     "output_type": "execute_result"
    }
   ],
   "source": [
    "len(RIR_by_direction_0[1]['responses'])"
   ]
  },
  {
   "cell_type": "code",
   "execution_count": 14,
   "metadata": {},
   "outputs": [
    {
     "data": {
      "text/plain": [
       "{'frequency_range': (1000, 5000),\n",
       " 'responses': [{'direction': [0, -90.0],\n",
       "   'response': tensor([2.2301e-07, 3.3786e-03, 8.2417e-03,  ..., 7.8734e-03, 5.2640e-03,\n",
       "           1.7655e-03], grad_fn=<AddBackward0>)},\n",
       "  {'direction': [0.0, -30.0],\n",
       "   'response': tensor([3.7494e-07, 3.3790e-03, 8.2426e-03,  ..., 7.8734e-03, 5.2640e-03,\n",
       "           1.7655e-03], grad_fn=<AddBackward0>)},\n",
       "  {'direction': [60.0, -30.0],\n",
       "   'response': tensor([2.9693e-07, 3.3783e-03, 8.2429e-03,  ..., 7.8734e-03, 5.2640e-03,\n",
       "           1.7655e-03], grad_fn=<AddBackward0>)},\n",
       "  {'direction': [120.0, -30.0],\n",
       "   'response': tensor([8.4927e-07, 3.3788e-03, 8.2429e-03,  ..., 7.8734e-03, 5.2640e-03,\n",
       "           1.7655e-03], grad_fn=<AddBackward0>)},\n",
       "  {'direction': [180.0, -30.0],\n",
       "   'response': tensor([2.0470e-06, 3.3800e-03, 8.2439e-03,  ..., 7.8734e-03, 5.2640e-03,\n",
       "           1.7655e-03], grad_fn=<AddBackward0>)},\n",
       "  {'direction': [240.0, -30.0],\n",
       "   'response': tensor([1.2198e-06, 3.3790e-03, 8.2420e-03,  ..., 7.8734e-03, 5.2640e-03,\n",
       "           1.7655e-03], grad_fn=<AddBackward0>)},\n",
       "  {'direction': [300.0, -30.0],\n",
       "   'response': tensor([9.2727e-07, 3.3793e-03, 8.2426e-03,  ..., 7.8734e-03, 5.2640e-03,\n",
       "           1.7655e-03], grad_fn=<AddBackward0>)},\n",
       "  {'direction': [0.0, 30.0],\n",
       "   'response': tensor([1.8080e-06, 3.3795e-03, 8.2423e-03,  ..., 7.8734e-03, 5.2640e-03,\n",
       "           1.7655e-03], grad_fn=<AddBackward0>)},\n",
       "  {'direction': [60.0, 30.0],\n",
       "   'response': tensor([1.2179e-06, 3.3789e-03, 8.2424e-03,  ..., 7.8734e-03, 5.2640e-03,\n",
       "           1.7655e-03], grad_fn=<AddBackward0>)},\n",
       "  {'direction': [120.0, 30.0],\n",
       "   'response': tensor([4.7370e-07, 3.3787e-03, 8.2424e-03,  ..., 7.8734e-03, 5.2640e-03,\n",
       "           1.7655e-03], grad_fn=<AddBackward0>)},\n",
       "  {'direction': [180.0, 30.0],\n",
       "   'response': tensor([9.1092e-07, 3.3833e-03, 8.2470e-03,  ..., 7.8734e-03, 5.2640e-03,\n",
       "           1.7655e-03], grad_fn=<AddBackward0>)},\n",
       "  {'direction': [240.0, 30.0],\n",
       "   'response': tensor([4.6930e-07, 3.3794e-03, 8.2425e-03,  ..., 7.8734e-03, 5.2640e-03,\n",
       "           1.7655e-03], grad_fn=<AddBackward0>)},\n",
       "  {'direction': [300.0, 30.0],\n",
       "   'response': tensor([9.0337e-07, 3.3788e-03, 8.2425e-03,  ..., 7.8734e-03, 5.2640e-03,\n",
       "           1.7655e-03], grad_fn=<AddBackward0>)},\n",
       "  {'direction': [0, 90.0],\n",
       "   'response': tensor([6.8696e-07, 3.3785e-03, 8.2430e-03,  ..., 7.8734e-03, 5.2640e-03,\n",
       "           1.7655e-03], grad_fn=<AddBackward0>)}]}"
      ]
     },
     "execution_count": 14,
     "metadata": {},
     "output_type": "execute_result"
    }
   ],
   "source": [
    "RIR_by_direction_0[1]"
   ]
  },
  {
   "cell_type": "code",
   "execution_count": 13,
   "metadata": {},
   "outputs": [],
   "source": [
    "angular_sensitivities_em64=[{'frequency_range': (20, 1000), 'angle': 90}, {'frequency_range': (1000, 5000), 'angle': 60}, {'frequency_range': (5000, 20000), 'angle': 45}]"
   ]
  },
  {
   "cell_type": "code",
   "execution_count": 14,
   "metadata": {},
   "outputs": [
    {
     "name": "stderr",
     "output_type": "stream",
     "text": [
      "/home/gzanin/.local/lib/python3.11/site-packages/torch/functional.py:665: UserWarning: stft with return_complex=False is deprecated. In a future pytorch release, stft will return complex tensors for all inputs, and return_complex=False will raise an error.\n",
      "Note: you can still call torch.view_as_real on the complex output to recover the old return format. (Triggered internally at ../aten/src/ATen/native/SpectralOps.cpp:873.)\n",
      "  return _VF.stft(input, n_fft, hop_length, win_length, window,  # type: ignore[attr-defined]\n"
     ]
    },
    {
     "data": {
      "text/plain": [
       "tensor(1348.3302, device='cuda:0', grad_fn=<AddBackward0>)"
      ]
     },
     "execution_count": 14,
     "metadata": {},
     "output_type": "execute_result"
    }
   ],
   "source": [
    "loss_with_zeros = metrics.training_loss_considering_directionality(render.initialize_directional_list(angular_sensitivities_em64, 96000, device), RIR_by_direction_0)\n",
    "loss_with_zeros"
   ]
  },
  {
   "cell_type": "code",
   "execution_count": 15,
   "metadata": {},
   "outputs": [
    {
     "ename": "OutOfMemoryError",
     "evalue": "CUDA out of memory. Tried to allocate 20.00 MiB. GPU ",
     "output_type": "error",
     "traceback": [
      "\u001b[0;31m---------------------------------------------------------------------------\u001b[0m",
      "\u001b[0;31mOutOfMemoryError\u001b[0m                          Traceback (most recent call last)",
      "Cell \u001b[0;32mIn[15], line 1\u001b[0m\n\u001b[0;32m----> 1\u001b[0m loss_with_itself \u001b[38;5;241m=\u001b[39m \u001b[43mmetrics\u001b[49m\u001b[38;5;241;43m.\u001b[39;49m\u001b[43mtraining_loss_considering_directionality\u001b[49m\u001b[43m(\u001b[49m\u001b[43mRIR_by_direction_0\u001b[49m\u001b[43m,\u001b[49m\u001b[43m \u001b[49m\u001b[43mRIR_by_direction_0\u001b[49m\u001b[43m)\u001b[49m\n\u001b[1;32m      2\u001b[0m loss_with_itself\n",
      "File \u001b[0;32m~/Desktop/hearinganythinganywhere/metrics.py:133\u001b[0m, in \u001b[0;36mtraining_loss_considering_directionality\u001b[0;34m(x, y, cutoff, eps)\u001b[0m\n\u001b[1;32m    131\u001b[0m     \u001b[38;5;28;01mfor\u001b[39;00m r \u001b[38;5;129;01min\u001b[39;00m interval[\u001b[38;5;124m'\u001b[39m\u001b[38;5;124mresponses\u001b[39m\u001b[38;5;124m'\u001b[39m]:\n\u001b[1;32m    132\u001b[0m         matching_r \u001b[38;5;241m=\u001b[39m \u001b[38;5;28mnext\u001b[39m(i \u001b[38;5;28;01mfor\u001b[39;00m i \u001b[38;5;129;01min\u001b[39;00m matching_interval[\u001b[38;5;124m'\u001b[39m\u001b[38;5;124mresponses\u001b[39m\u001b[38;5;124m'\u001b[39m] \u001b[38;5;28;01mif\u001b[39;00m (i[\u001b[38;5;124m'\u001b[39m\u001b[38;5;124mdirection\u001b[39m\u001b[38;5;124m'\u001b[39m][\u001b[38;5;241m0\u001b[39m] \u001b[38;5;241m==\u001b[39m r[\u001b[38;5;124m'\u001b[39m\u001b[38;5;124mdirection\u001b[39m\u001b[38;5;124m'\u001b[39m][\u001b[38;5;241m0\u001b[39m] \u001b[38;5;129;01mand\u001b[39;00m i[\u001b[38;5;124m'\u001b[39m\u001b[38;5;124mdirection\u001b[39m\u001b[38;5;124m'\u001b[39m][\u001b[38;5;241m1\u001b[39m] \u001b[38;5;241m==\u001b[39m r[\u001b[38;5;124m'\u001b[39m\u001b[38;5;124mdirection\u001b[39m\u001b[38;5;124m'\u001b[39m][\u001b[38;5;241m1\u001b[39m]))\n\u001b[0;32m--> 133\u001b[0m         loss \u001b[38;5;241m+\u001b[39m\u001b[38;5;241m=\u001b[39m \u001b[43mtraining_loss\u001b[49m\u001b[43m(\u001b[49m\u001b[43mr\u001b[49m\u001b[43m[\u001b[49m\u001b[38;5;124;43m'\u001b[39;49m\u001b[38;5;124;43mresponse\u001b[39;49m\u001b[38;5;124;43m'\u001b[39;49m\u001b[43m]\u001b[49m\u001b[43m,\u001b[49m\u001b[43m \u001b[49m\u001b[43mmatching_r\u001b[49m\u001b[43m[\u001b[49m\u001b[38;5;124;43m'\u001b[39;49m\u001b[38;5;124;43mresponse\u001b[39;49m\u001b[38;5;124;43m'\u001b[39;49m\u001b[43m]\u001b[49m\u001b[43m,\u001b[49m\u001b[43m \u001b[49m\u001b[43mcutoff\u001b[49m\u001b[38;5;241;43m=\u001b[39;49m\u001b[43mcutoff\u001b[49m\u001b[43m,\u001b[49m\u001b[43m \u001b[49m\u001b[43meps\u001b[49m\u001b[38;5;241;43m=\u001b[39;49m\u001b[43meps\u001b[49m\u001b[43m)\u001b[49m\n\u001b[1;32m    136\u001b[0m \u001b[38;5;28;01mreturn\u001b[39;00m loss\n",
      "File \u001b[0;32m~/Desktop/hearinganythinganywhere/metrics.py:79\u001b[0m, in \u001b[0;36mtraining_loss\u001b[0;34m(x, y, cutoff, eps)\u001b[0m\n\u001b[1;32m     77\u001b[0m loss3 \u001b[38;5;241m=\u001b[39m L1_and_Log(x,y, n_fft\u001b[38;5;241m=\u001b[39m\u001b[38;5;241m2048\u001b[39m, eps\u001b[38;5;241m=\u001b[39meps)\n\u001b[1;32m     78\u001b[0m loss4 \u001b[38;5;241m=\u001b[39m L1_and_Log(x,y, n_fft\u001b[38;5;241m=\u001b[39m\u001b[38;5;241m4096\u001b[39m, eps\u001b[38;5;241m=\u001b[39meps)\n\u001b[0;32m---> 79\u001b[0m tiny_hop_loss \u001b[38;5;241m=\u001b[39m \u001b[43mL1_and_Log\u001b[49m\u001b[43m(\u001b[49m\u001b[43mx\u001b[49m\u001b[43m[\u001b[49m\u001b[38;5;241;43m.\u001b[39;49m\u001b[38;5;241;43m.\u001b[39;49m\u001b[38;5;241;43m.\u001b[39;49m\u001b[43m,\u001b[49m\u001b[43m:\u001b[49m\u001b[43mcutoff\u001b[49m\u001b[43m]\u001b[49m\u001b[43m,\u001b[49m\u001b[43m \u001b[49m\u001b[43my\u001b[49m\u001b[43m[\u001b[49m\u001b[38;5;241;43m.\u001b[39;49m\u001b[38;5;241;43m.\u001b[39;49m\u001b[38;5;241;43m.\u001b[39;49m\u001b[43m,\u001b[49m\u001b[43m:\u001b[49m\u001b[43mcutoff\u001b[49m\u001b[43m]\u001b[49m\u001b[43m,\u001b[49m\u001b[43m \u001b[49m\u001b[43mn_fft\u001b[49m\u001b[38;5;241;43m=\u001b[39;49m\u001b[38;5;241;43m256\u001b[39;49m\u001b[43m,\u001b[49m\u001b[43m \u001b[49m\u001b[43meps\u001b[49m\u001b[38;5;241;43m=\u001b[39;49m\u001b[43meps\u001b[49m\u001b[43m,\u001b[49m\u001b[43m \u001b[49m\u001b[43mhop_length\u001b[49m\u001b[38;5;241;43m=\u001b[39;49m\u001b[38;5;241;43m1\u001b[39;49m\u001b[43m)\u001b[49m\n\u001b[1;32m     80\u001b[0m \u001b[38;5;28;01mreturn\u001b[39;00m loss1 \u001b[38;5;241m+\u001b[39m loss2 \u001b[38;5;241m+\u001b[39m loss3 \u001b[38;5;241m+\u001b[39m loss4 \u001b[38;5;241m+\u001b[39m tiny_hop_loss\n",
      "File \u001b[0;32m~/Desktop/hearinganythinganywhere/metrics.py:49\u001b[0m, in \u001b[0;36mL1_and_Log\u001b[0;34m(x, y, n_fft, hop_length, eps)\u001b[0m\n\u001b[1;32m     33\u001b[0m \u001b[38;5;28;01mdef\u001b[39;00m \u001b[38;5;21mL1_and_Log\u001b[39m(x,y, n_fft\u001b[38;5;241m=\u001b[39m\u001b[38;5;241m512\u001b[39m, hop_length\u001b[38;5;241m=\u001b[39m\u001b[38;5;28;01mNone\u001b[39;00m, eps\u001b[38;5;241m=\u001b[39m\u001b[38;5;241m1e-6\u001b[39m):\n\u001b[1;32m     34\u001b[0m \u001b[38;5;250m    \u001b[39m\u001b[38;5;124;03m\"\"\"\u001b[39;00m\n\u001b[1;32m     35\u001b[0m \u001b[38;5;124;03m    Computes spectral L1 plus log spectral L1 loss\u001b[39;00m\n\u001b[1;32m     36\u001b[0m \n\u001b[0;32m   (...)\u001b[0m\n\u001b[1;32m     47\u001b[0m \u001b[38;5;124;03m    loss (float)\u001b[39;00m\n\u001b[1;32m     48\u001b[0m \u001b[38;5;124;03m    \"\"\"\u001b[39;00m\n\u001b[0;32m---> 49\u001b[0m     est_stft \u001b[38;5;241m=\u001b[39m \u001b[43mget_stft\u001b[49m\u001b[43m(\u001b[49m\u001b[43mx\u001b[49m\u001b[43m,\u001b[49m\u001b[43m \u001b[49m\u001b[43mn_fft\u001b[49m\u001b[38;5;241;43m=\u001b[39;49m\u001b[43mn_fft\u001b[49m\u001b[43m,\u001b[49m\u001b[43mhop_length\u001b[49m\u001b[38;5;241;43m=\u001b[39;49m\u001b[43mhop_length\u001b[49m\u001b[43m)\u001b[49m\n\u001b[1;32m     50\u001b[0m     ref_stft \u001b[38;5;241m=\u001b[39m get_stft(y, n_fft\u001b[38;5;241m=\u001b[39mn_fft,hop_length\u001b[38;5;241m=\u001b[39mhop_length)\n\u001b[1;32m     52\u001b[0m     \u001b[38;5;28;01massert\u001b[39;00m est_stft\u001b[38;5;241m.\u001b[39mshape \u001b[38;5;241m==\u001b[39m ref_stft\u001b[38;5;241m.\u001b[39mshape    \n",
      "File \u001b[0;32m~/Desktop/hearinganythinganywhere/metrics.py:21\u001b[0m, in \u001b[0;36mget_stft\u001b[0;34m(x, n_fft, hop_length)\u001b[0m\n\u001b[1;32m     17\u001b[0m \u001b[38;5;28;01mdef\u001b[39;00m \u001b[38;5;21mget_stft\u001b[39m(x, n_fft, hop_length\u001b[38;5;241m=\u001b[39m\u001b[38;5;28;01mNone\u001b[39;00m):\n\u001b[1;32m     18\u001b[0m \u001b[38;5;250m    \u001b[39m\u001b[38;5;124;03m\"\"\"\u001b[39;00m\n\u001b[1;32m     19\u001b[0m \u001b[38;5;124;03m    Returns the stft of x.\u001b[39;00m\n\u001b[1;32m     20\u001b[0m \u001b[38;5;124;03m    \"\"\"\u001b[39;00m\n\u001b[0;32m---> 21\u001b[0m     \u001b[38;5;28;01mreturn\u001b[39;00m \u001b[43mtorch\u001b[49m\u001b[38;5;241;43m.\u001b[39;49m\u001b[43mstft\u001b[49m\u001b[43m(\u001b[49m\u001b[43mx\u001b[49m\u001b[43m,\u001b[49m\n\u001b[1;32m     22\u001b[0m \u001b[43m                      \u001b[49m\u001b[43mn_fft\u001b[49m\u001b[38;5;241;43m=\u001b[39;49m\u001b[43mn_fft\u001b[49m\u001b[43m,\u001b[49m\n\u001b[1;32m     23\u001b[0m \u001b[43m                      \u001b[49m\u001b[43mhop_length\u001b[49m\u001b[43m \u001b[49m\u001b[38;5;241;43m=\u001b[39;49m\u001b[43m \u001b[49m\u001b[43mhop_length\u001b[49m\u001b[43m,\u001b[49m\n\u001b[1;32m     24\u001b[0m \u001b[43m                      \u001b[49m\u001b[43mwindow\u001b[49m\u001b[38;5;241;43m=\u001b[39;49m\u001b[43mtorch\u001b[49m\u001b[38;5;241;43m.\u001b[39;49m\u001b[43mhann_window\u001b[49m\u001b[43m(\u001b[49m\u001b[43mn_fft\u001b[49m\u001b[43m)\u001b[49m\u001b[38;5;241;43m.\u001b[39;49m\u001b[43mto\u001b[49m\u001b[43m(\u001b[49m\u001b[43mdevice\u001b[49m\u001b[43m)\u001b[49m\u001b[43m,\u001b[49m\n\u001b[1;32m     25\u001b[0m \u001b[43m                      \u001b[49m\u001b[43mreturn_complex\u001b[49m\u001b[38;5;241;43m=\u001b[39;49m\u001b[38;5;28;43;01mFalse\u001b[39;49;00m\u001b[43m)\u001b[49m\n",
      "File \u001b[0;32m~/.local/lib/python3.11/site-packages/torch/functional.py:665\u001b[0m, in \u001b[0;36mstft\u001b[0;34m(input, n_fft, hop_length, win_length, window, center, pad_mode, normalized, onesided, return_complex)\u001b[0m\n\u001b[1;32m    663\u001b[0m     \u001b[38;5;28minput\u001b[39m \u001b[38;5;241m=\u001b[39m F\u001b[38;5;241m.\u001b[39mpad(\u001b[38;5;28minput\u001b[39m\u001b[38;5;241m.\u001b[39mview(extended_shape), [pad, pad], pad_mode)\n\u001b[1;32m    664\u001b[0m     \u001b[38;5;28minput\u001b[39m \u001b[38;5;241m=\u001b[39m \u001b[38;5;28minput\u001b[39m\u001b[38;5;241m.\u001b[39mview(\u001b[38;5;28minput\u001b[39m\u001b[38;5;241m.\u001b[39mshape[\u001b[38;5;241m-\u001b[39msignal_dim:])\n\u001b[0;32m--> 665\u001b[0m \u001b[38;5;28;01mreturn\u001b[39;00m \u001b[43m_VF\u001b[49m\u001b[38;5;241;43m.\u001b[39;49m\u001b[43mstft\u001b[49m\u001b[43m(\u001b[49m\u001b[38;5;28;43minput\u001b[39;49m\u001b[43m,\u001b[49m\u001b[43m \u001b[49m\u001b[43mn_fft\u001b[49m\u001b[43m,\u001b[49m\u001b[43m \u001b[49m\u001b[43mhop_length\u001b[49m\u001b[43m,\u001b[49m\u001b[43m \u001b[49m\u001b[43mwin_length\u001b[49m\u001b[43m,\u001b[49m\u001b[43m \u001b[49m\u001b[43mwindow\u001b[49m\u001b[43m,\u001b[49m\u001b[43m  \u001b[49m\u001b[38;5;66;43;03m# type: ignore[attr-defined]\u001b[39;49;00m\n\u001b[1;32m    666\u001b[0m \u001b[43m                \u001b[49m\u001b[43mnormalized\u001b[49m\u001b[43m,\u001b[49m\u001b[43m \u001b[49m\u001b[43monesided\u001b[49m\u001b[43m,\u001b[49m\u001b[43m \u001b[49m\u001b[43mreturn_complex\u001b[49m\u001b[43m)\u001b[49m\n",
      "\u001b[0;31mOutOfMemoryError\u001b[0m: CUDA out of memory. Tried to allocate 20.00 MiB. GPU "
     ]
    }
   ],
   "source": [
    "loss_with_itself = metrics.training_loss_considering_directionality(RIR_by_direction_0, RIR_by_direction_0)\n",
    "loss_with_itself"
   ]
  },
  {
   "cell_type": "code",
   "execution_count": 22,
   "metadata": {},
   "outputs": [
    {
     "name": "stdout",
     "output_type": "stream",
     "text": [
      "torch.Size([1, 96000])\n",
      "(1, 1, 624000)\n"
     ]
    }
   ],
   "source": [
    "print(RIR_0.unsqueeze(0).shape)\n",
    "print(D_0.music_dls[0:1,...].shape)"
   ]
  },
  {
   "cell_type": "code",
   "execution_count": 18,
   "metadata": {},
   "outputs": [
    {
     "name": "stderr",
     "output_type": "stream",
     "text": [
      "/home/gzanin/Desktop/hearinganythinganywhere/evaluate.py:48: UserWarning: The given NumPy array is not writable, and PyTorch does not support non-writable tensors. This means writing to this tensor will result in undefined behavior. You may want to copy the array to protect its data or make it writable before converting it to a tensor. This type of warning will be suppressed for the rest of this program. (Triggered internally at ../torch/csrc/utils/tensor_numpy.cpp:206.)\n",
      "  music_sources = torch.Tensor(music_sources)\n"
     ]
    }
   ],
   "source": [
    "music_0 = evaluate.render_music(RIR_0.unsqueeze(0), D_0.music_dls[0:1,...], device=device)[0][0]"
   ]
  },
  {
   "cell_type": "code",
   "execution_count": 22,
   "metadata": {},
   "outputs": [
    {
     "name": "stdout",
     "output_type": "stream",
     "text": [
      "(480000,)\n"
     ]
    }
   ],
   "source": [
    "print(music_0.shape)"
   ]
  },
  {
   "cell_type": "code",
   "execution_count": 23,
   "metadata": {},
   "outputs": [
    {
     "data": {
      "image/png": "[encoded data removed]",
      "text/plain": [
       "<Figure size 640x480 with 1 Axes>"
      ]
     },
     "metadata": {},
     "output_type": "display_data"
    }
   ],
   "source": [
    "plt.plot(music_0)\n",
    "plt.title('Music')\n",
    "plt.show()"
   ]
  },
  {
   "cell_type": "code",
   "execution_count": null,
   "metadata": {},
   "outputs": [],
   "source": [
    "\n",
    "'''\n",
    "sample_rate = 48000\n",
    "\n",
    "sd.play(music_0, sample_rate)\n",
    "\n",
    "sd.wait()\n",
    "'''\n"
   ]
  },
  {
   "cell_type": "markdown",
   "metadata": {},
   "source": [
    "## added panel"
   ]
  },
  {
   "cell_type": "code",
   "execution_count": 24,
   "metadata": {},
   "outputs": [
    {
     "name": "stdout",
     "output_type": "stream",
     "text": [
      "Source position:  [3.5838 5.723  1.2294]\n",
      "Listener position:  [2.4241125 0.581025  0.32     ]\n"
     ]
    }
   ],
   "source": [
    "print(\"Source position: \", D_1.speaker_xyz)\n",
    "print(\"Listener position: \", D_1.xyzs[0])"
   ]
  },
  {
   "cell_type": "code",
   "execution_count": 20,
   "metadata": {},
   "outputs": [
    {
     "name": "stdout",
     "output_type": "stream",
     "text": [
      "Considered Paths:\t100000\n",
      "Total Considered Paths, after Axial:\t100050\n",
      "Valid Paths:\t1146\n"
     ]
    }
   ],
   "source": [
    "L_1 = render.get_listener(source_xyz=D_1.speaker_xyz, listener_xyz = D_1.xyzs[0], surfaces=D_1.all_surfaces, \n",
    "                                                speed_of_sound=D_1.speed_of_sound,\n",
    "                                                parallel_surface_pairs=D_1.parallel_surface_pairs,\n",
    "                                                max_order=D_1.max_order, max_axial_order=D_1.max_axial_order )"
   ]
  },
  {
   "cell_type": "code",
   "execution_count": 22,
   "metadata": {},
   "outputs": [],
   "source": [
    "R_1 = render.Renderer(n_surfaces=len(D_1.all_surfaces))"
   ]
  },
  {
   "cell_type": "code",
   "execution_count": 23,
   "metadata": {},
   "outputs": [],
   "source": [
    "modified_energy_vector = torch.tensor([[[-0.5305, -0.4278, -0.2579, -0.3598, -1.6096, -0.7284, -1.8826,\n",
    "          -1.6226, -1.5753, -1.9941],\n",
    "         [ 0.5305,  0.4278,  0.2579,  0.3598,  1.6096,  0.7284,  1.8826,\n",
    "           1.6226,  1.5753,  1.9941]],\n",
    "\n",
    "        [[-2.4384,  0.8858, -0.2965, -1.5742, -0.2930, -1.9829, -1.7962,\n",
    "          -1.9131, -0.0154,  0.2472],\n",
    "         [ 2.4384, -0.8858,  0.2965,  1.5742,  0.2930,  1.9829,  1.7962,\n",
    "           1.9131,  0.0154, -0.2472]],\n",
    "\n",
    "        [[-0.9421, -0.6755, -3.6006, -0.7103, -0.8803, -1.3149, -2.2866,\n",
    "          -2.6399, -2.8685, -2.1082],\n",
    "         [ 0.9421,  0.6755,  3.6006,  0.7103,  0.8803,  1.3149,  2.2866,\n",
    "           2.6399,  2.8685,  2.1082]],\n",
    "\n",
    "        [[-4.0914, -2.7232, -0.8506, -2.3887, -3.6858, -1.3391, -2.6380,\n",
    "          -1.8897, -2.1227, -3.5193],\n",
    "         [ 4.0914,  2.7232,  0.8506,  2.3887,  3.6858,  1.3391,  2.6380,\n",
    "           1.8897,  2.1227,  3.5193]],\n",
    "\n",
    "        [[-1.1539, -0.4459, -0.3624, -0.7596, -0.7480, -1.5066, -0.9996,\n",
    "          -2.1747, -0.6960, -2.0290],\n",
    "         [ 1.1539,  0.4459,  0.3624,  0.7596,  0.7480,  1.5066,  0.9996,\n",
    "           2.1747,  0.6960,  2.0290]],\n",
    "\n",
    "        [[-1.7243, -1.1099, -0.0423, -1.1507, -1.2209, -0.4600, -2.0697,\n",
    "          -2.2589, -2.4818, -1.5450],\n",
    "         [ 1.7243,  1.1099,  0.0423,  1.1507,  1.2209,  0.4600,  2.0697,\n",
    "           2.2589,  2.4818,  1.5450]],\n",
    "\n",
    "        [[-7.8657, -7.9064, -4.2665, -2.9527, -0.6743, -0.7566,  1.5479,\n",
    "          -1.3406, -2.4598, -2.1531],\n",
    "         [ 7.8657,  7.9064,  4.2665,  2.9527,  0.6743,  0.7566, -1.5479,\n",
    "           1.3406,  2.4598,  2.1531]],\n",
    "\n",
    "        [[-4.5917, -5.2178, -4.6895, -3.5287, -3.0246,  0.2444, -1.6953,\n",
    "          -1.4810, -1.9807, -1.9190],\n",
    "         [ 4.5917,  5.2178,  4.6895,  3.5287,  3.0246, -0.2444,  1.6953,\n",
    "           1.4810,  1.9807,  1.9190]],\n",
    "\n",
    "        [[-6.7398, -2.8415, -3.7433, -0.8007, -2.0138, -1.9061, -2.0395,\n",
    "          -2.8121, -3.1212, -2.7330],\n",
    "         [ 6.7398,  2.8415,  3.7433,  0.8007,  2.0138,  1.9061,  2.0395,\n",
    "          2.8121,  3.1212,  2.7330]],\n",
    "           \n",
    "        [[-6.7398, -2.8415, -3.7433, -0.8007, -2.0138, -1.9061, -2.0395,\n",
    "          -2.8121, -3.1212, -2.7330],\n",
    "         [ 6.7398,  2.8415,  3.7433,  0.8007,  2.0138,  1.9061,  2.0395,\n",
    "          2.8121,  3.1212,  2.7330]]])"
   ]
  },
  {
   "cell_type": "code",
   "execution_count": 24,
   "metadata": {},
   "outputs": [],
   "source": [
    "pt_file = torch.load('./models/classroomBase/weights.pt', map_location=device)\n",
    "R_1.energy_vector = nn.Parameter(modified_energy_vector)\n",
    "R_1.source_response = nn.Parameter(pt_file['model_state_dict']['source_response'])\n",
    "R_1.directivity_sphere = nn.Parameter(pt_file['model_state_dict']['directivity_sphere'])\n",
    "R_1.decay = nn.Parameter(pt_file['model_state_dict']['decay'])\n",
    "R_1.RIR_residual = nn.Parameter(pt_file['model_state_dict']['RIR_residual'])\n",
    "R_1.spline_values = nn.Parameter(pt_file['model_state_dict']['spline_values'])"
   ]
  },
  {
   "cell_type": "code",
   "execution_count": 25,
   "metadata": {},
   "outputs": [],
   "source": [
    "torch.cuda.empty_cache()"
   ]
  },
  {
   "cell_type": "code",
   "execution_count": 26,
   "metadata": {},
   "outputs": [
    {
     "ename": "OutOfMemoryError",
     "evalue": "CUDA out of memory. Tried to allocate 898.00 MiB. GPU ",
     "output_type": "error",
     "traceback": [
      "\u001b[0;31m---------------------------------------------------------------------------\u001b[0m",
      "\u001b[0;31mOutOfMemoryError\u001b[0m                          Traceback (most recent call last)",
      "Cell \u001b[0;32mIn[26], line 1\u001b[0m\n\u001b[0;32m----> 1\u001b[0m RIR_1 \u001b[38;5;241m=\u001b[39m \u001b[43mR_1\u001b[49m\u001b[38;5;241;43m.\u001b[39;49m\u001b[43mrender_RIR\u001b[49m\u001b[43m(\u001b[49m\u001b[43mL_1\u001b[49m\u001b[43m)\u001b[49m\n",
      "File \u001b[0;32m~/Desktop/hearinganythinganywhere/render.py:434\u001b[0m, in \u001b[0;36mRenderer.render_RIR\u001b[0;34m(self, loc, hrirs, source_axis_1, source_axis_2)\u001b[0m\n\u001b[1;32m    432\u001b[0m \u001b[38;5;28;01mdef\u001b[39;00m \u001b[38;5;21mrender_RIR\u001b[39m(\u001b[38;5;28mself\u001b[39m, loc, hrirs\u001b[38;5;241m=\u001b[39m\u001b[38;5;28;01mNone\u001b[39;00m, source_axis_1\u001b[38;5;241m=\u001b[39m\u001b[38;5;28;01mNone\u001b[39;00m, source_axis_2\u001b[38;5;241m=\u001b[39m\u001b[38;5;28;01mNone\u001b[39;00m):\n\u001b[1;32m    433\u001b[0m \u001b[38;5;250m    \u001b[39m\u001b[38;5;124;03m\"\"\"Renders the RIR.\"\"\"\u001b[39;00m\n\u001b[0;32m--> 434\u001b[0m     early \u001b[38;5;241m=\u001b[39m \u001b[38;5;28;43mself\u001b[39;49m\u001b[38;5;241;43m.\u001b[39;49m\u001b[43mrender_early\u001b[49m\u001b[43m(\u001b[49m\u001b[43mloc\u001b[49m\u001b[38;5;241;43m=\u001b[39;49m\u001b[43mloc\u001b[49m\u001b[43m,\u001b[49m\u001b[43m \u001b[49m\u001b[43mhrirs\u001b[49m\u001b[38;5;241;43m=\u001b[39;49m\u001b[43mhrirs\u001b[49m\u001b[43m,\u001b[49m\u001b[43m \u001b[49m\u001b[43msource_axis_1\u001b[49m\u001b[38;5;241;43m=\u001b[39;49m\u001b[43msource_axis_1\u001b[49m\u001b[43m,\u001b[49m\u001b[43m \u001b[49m\u001b[43msource_axis_2\u001b[49m\u001b[38;5;241;43m=\u001b[39;49m\u001b[43msource_axis_2\u001b[49m\u001b[43m)\u001b[49m\n\u001b[1;32m    436\u001b[0m     \u001b[38;5;28;01mwhile\u001b[39;00m torch\u001b[38;5;241m.\u001b[39msum(torch\u001b[38;5;241m.\u001b[39misnan(early)) \u001b[38;5;241m>\u001b[39m \u001b[38;5;241m0\u001b[39m: \u001b[38;5;66;03m# Check for numerical issues\u001b[39;00m\n\u001b[1;32m    437\u001b[0m         \u001b[38;5;28mprint\u001b[39m(\u001b[38;5;124m\"\u001b[39m\u001b[38;5;124mnan found - trying again\u001b[39m\u001b[38;5;124m\"\u001b[39m)\n",
      "File \u001b[0;32m~/Desktop/hearinganythinganywhere/render.py:180\u001b[0m, in \u001b[0;36mRenderer.render_early\u001b[0;34m(self, loc, hrirs, source_axis_1, source_axis_2)\u001b[0m\n\u001b[1;32m    176\u001b[0m gains_profile \u001b[38;5;241m=\u001b[39m (amplitudes[:,\u001b[38;5;241m0\u001b[39m:\u001b[38;5;241m2\u001b[39m,:]\u001b[38;5;241m.\u001b[39munsqueeze(\u001b[38;5;241m0\u001b[39m)\u001b[38;5;241m*\u001b[39m\u001b[38;5;241m*\u001b[39mmask)\u001b[38;5;241m.\u001b[39munsqueeze(\u001b[38;5;241m-\u001b[39m\u001b[38;5;241m1\u001b[39m)\n\u001b[1;32m    178\u001b[0m \u001b[38;5;66;03m# reflection_frequency_response = n_paths * n_freq_samples\u001b[39;00m\n\u001b[1;32m    179\u001b[0m reflection_frequency_response \u001b[38;5;241m=\u001b[39m torch\u001b[38;5;241m.\u001b[39mprod(torch\u001b[38;5;241m.\u001b[39mprod(\n\u001b[0;32m--> 180\u001b[0m     torch\u001b[38;5;241m.\u001b[39msum(\u001b[38;5;28;43mself\u001b[39;49m\u001b[38;5;241;43m.\u001b[39;49m\u001b[43msurface_freq_interpolator\u001b[49m\u001b[38;5;241;43m*\u001b[39;49m\u001b[43mgains_profile\u001b[49m, dim\u001b[38;5;241m=\u001b[39m\u001b[38;5;241m-\u001b[39m\u001b[38;5;241m2\u001b[39m),dim\u001b[38;5;241m=\u001b[39m\u001b[38;5;241m-\u001b[39m\u001b[38;5;241m3\u001b[39m),dim\u001b[38;5;241m=\u001b[39m\u001b[38;5;241m-\u001b[39m\u001b[38;5;241m2\u001b[39m)\u001b[38;5;66;03m##########??????perché moltiplica coefficiente riflessione e assorbimento?\u001b[39;00m\n\u001b[1;32m    183\u001b[0m \u001b[38;5;250m\u001b[39m\u001b[38;5;124;03m\"\"\"\u001b[39;00m\n\u001b[1;32m    184\u001b[0m \u001b[38;5;124;03mComputing Directivity Response\u001b[39;00m\n\u001b[1;32m    185\u001b[0m \u001b[38;5;124;03m\"\"\"\u001b[39;00m\n\u001b[1;32m    186\u001b[0m start_directions_normalized \u001b[38;5;241m=\u001b[39m loc\u001b[38;5;241m.\u001b[39mstart_directions_normalized\u001b[38;5;241m.\u001b[39mto(\u001b[38;5;28mself\u001b[39m\u001b[38;5;241m.\u001b[39mdevice)\n",
      "\u001b[0;31mOutOfMemoryError\u001b[0m: CUDA out of memory. Tried to allocate 898.00 MiB. GPU "
     ]
    }
   ],
   "source": [
    "RIR_1 = R_1.render_RIR(L_1)"
   ]
  },
  {
   "cell_type": "code",
   "execution_count": null,
   "metadata": {},
   "outputs": [],
   "source": [
    "print(RIR_1.unsqueeze(0).shape)\n",
    "print(D_1.music_dls[0:1,...].shape)"
   ]
  },
  {
   "cell_type": "code",
   "execution_count": null,
   "metadata": {},
   "outputs": [],
   "source": [
    "music_1 = evaluate.render_music(RIR_1.unsqueeze(0), D_1.music_dls[0:1,...], device=device)[0][0]"
   ]
  },
  {
   "cell_type": "code",
   "execution_count": null,
   "metadata": {},
   "outputs": [],
   "source": [
    "plt.plot(music_1)\n",
    "plt.title('Music')\n",
    "plt.show()"
   ]
  },
  {
   "cell_type": "code",
   "execution_count": null,
   "metadata": {},
   "outputs": [],
   "source": [
    "'''\n",
    "sample_rate = 48000\n",
    "\n",
    "sd.play(music_1, sample_rate)\n",
    "\n",
    "sd.wait()\n",
    "'''"
   ]
  }
 ],
 "metadata": {
  "kernelspec": {
   "display_name": "Python 3",
   "language": "python",
   "name": "python3"
  },
  "language_info": {
   "codemirror_mode": {
    "name": "ipython",
    "version": 3
   },
   "file_extension": ".py",
   "mimetype": "text/x-python",
   "name": "python",
   "nbconvert_exporter": "python",
   "pygments_lexer": "ipython3",
   "version": "3.11.9"
  }
 },
 "nbformat": 4,
 "nbformat_minor": 2
}
