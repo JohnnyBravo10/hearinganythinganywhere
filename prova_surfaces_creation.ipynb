{
 "cells": [
  {
   "cell_type": "code",
   "execution_count": 326,
   "metadata": {},
   "outputs": [
    {
     "name": "stdout",
     "output_type": "stream",
     "text": [
      "The autoreload extension is already loaded. To reload it, use:\n",
      "  %reload_ext autoreload\n"
     ]
    }
   ],
   "source": [
    "%load_ext autoreload\n",
    "%autoreload 2\n",
    "import open3d as o3d\n",
    "import surface_creation_utilities as S\n",
    "import numpy as np"
   ]
  },
  {
   "cell_type": "code",
   "execution_count": 327,
   "metadata": {},
   "outputs": [],
   "source": [
    "\n",
    "pcd = o3d.io.read_point_cloud('../nottingham_pc.ply')"
   ]
  },
  {
   "cell_type": "code",
   "execution_count": 328,
   "metadata": {},
   "outputs": [
    {
     "name": "stdout",
     "output_type": "stream",
     "text": [
      "base surfaces\n",
      "[[-0.73818969 -1.20614918 -0.41641597]\n",
      " [-2.56295085 -1.25942851 -0.3183701 ]\n",
      " [-0.87020855 -1.20353181 -2.87203627]] True [ 0.02904441 -0.99957467 -0.0026269 ]\n",
      "[[-4.18170014 -1.56378021 -0.57853648]\n",
      " [-4.18630239 -1.56267781 -2.96765868]\n",
      " [-0.89132741 -1.638165   -0.58490916]] True [-2.26018288e-02 -9.99744459e-01 -4.17767532e-04]\n",
      "[[ 3.27010914  9.41430621 -0.33447536]\n",
      " [ 5.75825159  9.50388153 -0.23717986]\n",
      " [ 3.36955511  9.37002953 -2.8368487 ]] True [-0.0352259   0.99919723 -0.01907957]\n",
      "[[-2.12149354 -1.17993118 -2.98362238]\n",
      " [-2.01286697 -1.1763511  -0.43017903]\n",
      " [-6.13375611 -1.25206931 -2.81283473]] True [ 1.80035639e-02 -9.99837720e-01  6.35942032e-04]\n",
      "[[-5.2709583  -3.74103023 -2.9874289 ]\n",
      " [-4.11651852 -2.50368408 -2.92875931]\n",
      " [-5.34653244 -3.78658161 -0.53967671]] True [ 0.73090904 -0.68240355  0.00986758]\n",
      "[[ 3.10632146 -3.46812128 -2.19564985]\n",
      " [ 4.48033593 -3.29873949 -2.19554447]\n",
      " [ 2.84410287 -1.34102061 -2.19541588]] True [-6.21855584e-05 -1.17659498e-04  9.99999991e-01]\n",
      "[[-0.55093076 -6.24433132 -3.15053783]\n",
      " [-0.56700911 -6.31284051 -0.40148313]\n",
      " [-0.74029551 -0.657647   -3.0124196 ]] True [-0.99940928 -0.03371043 -0.00668532]\n",
      "[[-6.01878314 -2.334387   -3.12963988]\n",
      " [-6.01331376 -2.46689625  2.22450854]\n",
      " [-6.31368265  7.71859261 -2.8805385 ]] True [-9.99569762e-01 -2.93292329e-02  2.95216542e-04]\n",
      "[[ 6.01483005  9.68367142 -3.23008873]\n",
      " [ 6.00109816  9.83199321  2.8423231 ]\n",
      " [ 6.35398226 -7.2131221  -2.8166089 ]] True [0.99979618 0.0201112  0.00176967]\n",
      "[[-5.63579756 -7.22073373 -3.06953659]\n",
      " [-5.68053586 -7.09382092  2.15701066]\n",
      " [-5.78639276 -1.41748885 -3.21174204]] True [-0.99962704 -0.02613462 -0.00792202]\n",
      "[[-6.6480464   8.97214077 -2.90921188]\n",
      " [-6.46725686  9.00627823  3.23470798]\n",
      " [ 5.85229851 10.27949555 -3.28430815]] True [-0.10409096  0.99456473 -0.00246314]\n",
      "[[  6.33723459 -10.11094148  -2.87426638]\n",
      " [ -6.89588266  -9.78857243  -2.87173   ]\n",
      " [  6.81895311   9.6633817   -2.87118457]] True [-1.87760706e-04  1.60422629e-04 -9.99999970e-01]\n",
      "[[-5.45076978 -6.70437397 -3.52990425]\n",
      " [-5.9380573  -6.72703757  2.16093824]\n",
      " [ 6.90328613 -6.24533184 -2.47024027]] True [-3.71996128e-02  9.99307539e-01  7.94433561e-04]\n"
     ]
    }
   ],
   "source": [
    "#d = o3d.data.LivingRoomPointClouds()\n",
    "#pcd = o3d.io.read_point_cloud(d.paths[9])\n",
    "#pcd = o3d.io.read_point_cloud('../limerick_pc.ply')\n",
    "\n",
    "pcd = o3d.io.read_point_cloud('../nottingham_pc.ply')\n",
    "pcd.estimate_normals(search_param=o3d.geometry.KDTreeSearchParamHybrid(radius=0.1, max_nn=30))\n",
    "\n",
    "\n",
    "\n",
    "base_surfaces = S.get_surfaces_from_point_cloud(pcd)\n",
    "print(\"base surfaces\")\n",
    "for surface in base_surfaces:\n",
    "    print (surface.points, surface.parallelogram, surface.n)"
   ]
  },
  {
   "cell_type": "code",
   "execution_count": 329,
   "metadata": {},
   "outputs": [
    {
     "data": {
      "text/plain": [
       "'\\noptimized_surfaces = S.get_surfaces_from_point_cloud_with_optimization(pcd, cut_impurity= 0.20, steps_per_side=2)\\nprint(\"optimized surfaces\", optimized_surfaces)\\nfor surface in optimized_surfaces:\\n    print (surface.points, surface.parallelogram, surface.n)\\n    '"
      ]
     },
     "execution_count": 329,
     "metadata": {},
     "output_type": "execute_result"
    }
   ],
   "source": [
    "'''\n",
    "optimized_surfaces = S.get_surfaces_from_point_cloud_with_optimization(pcd, cut_impurity= 0.20, steps_per_side=2)\n",
    "print(\"optimized surfaces\", optimized_surfaces)\n",
    "for surface in optimized_surfaces:\n",
    "    print (surface.points, surface.parallelogram, surface.n)\n",
    "    '''"
   ]
  },
  {
   "cell_type": "code",
   "execution_count": 330,
   "metadata": {},
   "outputs": [
    {
     "name": "stdout",
     "output_type": "stream",
     "text": [
      "surface  0\n",
      "[[-0.73818969 -1.20614918 -0.41641597]\n",
      " [-2.56295085 -1.25942851 -0.3183701 ]\n",
      " [-0.87020855 -1.20353181 -2.87203627]]\n",
      "surface  1\n",
      "[[-4.18170014 -1.56378021 -0.57853648]\n",
      " [-4.18630239 -1.56267781 -2.96765868]\n",
      " [-0.89132741 -1.638165   -0.58490916]]\n",
      "surface  2\n",
      "[[ 3.27010914  9.41430621 -0.33447536]\n",
      " [ 5.75825159  9.50388153 -0.23717986]\n",
      " [ 3.36955511  9.37002953 -2.8368487 ]]\n",
      "surface  3\n",
      "[[-2.12149354 -1.17993118 -2.98362238]\n",
      " [-2.01286697 -1.1763511  -0.43017903]\n",
      " [-6.13375611 -1.25206931 -2.81283473]]\n",
      "surface  4\n",
      "[[-5.2709583  -3.74103023 -2.9874289 ]\n",
      " [-4.11651852 -2.50368408 -2.92875931]\n",
      " [-5.34653244 -3.78658161 -0.53967671]]\n",
      "surface  5\n",
      "[[ 3.10632146 -3.46812128 -2.19564985]\n",
      " [ 4.48033593 -3.29873949 -2.19554447]\n",
      " [ 2.84410287 -1.34102061 -2.19541588]]\n",
      "surface  6\n",
      "[[-0.55093076 -6.24433132 -3.15053783]\n",
      " [-0.56700911 -6.31284051 -0.40148313]\n",
      " [-0.74029551 -0.657647   -3.0124196 ]]\n",
      "surface  7\n",
      "[[-6.01878314 -2.334387   -3.12963988]\n",
      " [-6.01331376 -2.46689625  2.22450854]\n",
      " [-6.31368265  7.71859261 -2.8805385 ]]\n",
      "surface  8\n",
      "[[ 6.01483005  9.68367142 -3.23008873]\n",
      " [ 6.00109816  9.83199321  2.8423231 ]\n",
      " [ 6.35398226 -7.2131221  -2.8166089 ]]\n",
      "surface  9\n",
      "[[-5.63579756 -7.22073373 -3.06953659]\n",
      " [-5.68053586 -7.09382092  2.15701066]\n",
      " [-5.78639276 -1.41748885 -3.21174204]]\n",
      "surface  10\n",
      "[[-6.6480464   8.97214077 -2.90921188]\n",
      " [-6.46725686  9.00627823  3.23470798]\n",
      " [ 5.85229851 10.27949555 -3.28430815]]\n",
      "surface  11\n",
      "[[  6.33723459 -10.11094148  -2.87426638]\n",
      " [ -6.89588266  -9.78857243  -2.87173   ]\n",
      " [  6.81895311   9.6633817   -2.87118457]]\n",
      "surface  12\n",
      "[[-5.45076978 -6.70437397 -3.52990425]\n",
      " [-5.9380573  -6.72703757  2.16093824]\n",
      " [ 6.90328613 -6.24533184 -2.47024027]]\n"
     ]
    }
   ],
   "source": [
    "for i in range(len(base_surfaces)):\n",
    "    print(\"surface \", i)\n",
    "    print(base_surfaces[i].points)"
   ]
  },
  {
   "cell_type": "code",
   "execution_count": 331,
   "metadata": {},
   "outputs": [],
   "source": [
    "import trace1 as G\n",
    "\n",
    "new_surfaces = []\n",
    "for surface in [base_surfaces[2]] + base_surfaces[7:]:\n",
    "    \n",
    "    new_surfaces.append(G.Surface(surface.points - [ 6.35398226, -7.2131221,  -2.8166089 ]- [-1.88644833e-09, -1.97645900e-09, -4.97628339e-09] - [11.80475204,   0.50874813,  -0.71329534]))"
   ]
  },
  {
   "cell_type": "code",
   "execution_count": 332,
   "metadata": {},
   "outputs": [],
   "source": [
    "new_new_surfaces =[]\n",
    "\n",
    "for surface in new_surfaces:\n",
    "    \n",
    "    new_new_surfaces.append(G.Surface(surface.points * [1,1,1] + [24,0,0]))\n",
    "    \n",
    "new_surfaces = new_new_surfaces"
   ]
  },
  {
   "cell_type": "code",
   "execution_count": 333,
   "metadata": {},
   "outputs": [],
   "source": [
    "new_new_surfaces =[]\n",
    "\n",
    "for surface in new_surfaces:\n",
    "    p0 = np.array([surface.points[0][1], -1 * surface.points[0][0], surface.points[0][2]])\n",
    "    p1 = np.array([surface.points[1][1], -1 * surface.points[1][0], surface.points[1][2]])\n",
    "    p2 = np.array([surface.points[2][1], -1 * surface.points[2][0], surface.points[2][2]])\n",
    "    \n",
    "    new_new_surfaces.append(G.Surface([p0,p1,p2]))\n",
    "    \n",
    "new_surfaces = new_new_surfaces"
   ]
  },
  {
   "cell_type": "code",
   "execution_count": 334,
   "metadata": {},
   "outputs": [],
   "source": [
    "new_surfaces[3] = G.Surface(np.array([[0,0,0], [0,0,6.76461222], [16.98386952,0,0]]))\n",
    "new_surfaces = [new_surfaces[0]] + new_surfaces[2:]"
   ]
  },
  {
   "cell_type": "code",
   "execution_count": 335,
   "metadata": {},
   "outputs": [
    {
     "name": "stdout",
     "output_type": "stream",
     "text": [
      "surface  0\n",
      "[array([16.11868018, -9.11137484,  3.19542889]), array([ 16.2082555 , -11.59951729,   3.29272438]), array([16.0744035 , -9.21082081,  0.69305554])]\n",
      "surface  1\n",
      "[array([ 16.38804539, -11.85609575,   0.29981552]), array([ 16.53636718, -11.84236386,   6.37222734]), array([ -0.50874813, -12.19524796,   0.71329534])]\n",
      "surface  2\n",
      "[[ 0.          0.          0.        ]\n",
      " [ 0.          0.          6.76461222]\n",
      " [16.98386952  0.          0.        ]]\n",
      "surface  3\n",
      "[array([15.67651474,  0.8067807 ,  0.62069236]), array([15.7106522 ,  0.62599116,  6.76461222]), array([ 16.98386952, -11.69356421,   0.24559609])]\n",
      "surface  4\n",
      "[array([ -3.40656751, -12.17850029,   0.65563787]), array([-3.08419846,  1.05461696,  0.65817424]), array([ 16.36775567, -12.66021881,   0.65871967])]\n",
      "surface  5\n",
      "[array([ 5.74038483e-10, -3.90495920e-01, -8.49393555e-10]), array([-0.0226636 ,  0.0967916 ,  5.69084249]), array([  0.45904213, -12.74455183,   1.05966398])]\n"
     ]
    }
   ],
   "source": [
    "for i in range(len(new_surfaces)):\n",
    "    print(\"surface \", i)\n",
    "    print(new_surfaces[i].points)"
   ]
  },
  {
   "cell_type": "code",
   "execution_count": 336,
   "metadata": {},
   "outputs": [],
   "source": [
    "new_surfaces[5] = G.Surface(np.array([[0, 0, 0], [0, 0, 6.76461222], [0,-12.74455183,0]]))\n",
    "new_surfaces[1] = G.Surface(np.array([[16.98386952,-12.74455183,0], [16.98386952,-12.74455183,6.76461222], [0,-12.74455183,0]]))\n",
    "new_surfaces[3] = G.Surface(np.array([[16.98386952, 0, 0], [16.98386952, 0, 6.76461222], [16.98386952,-12.74455183,0]]))\n",
    "new_surfaces[0] = G.Surface(np.array([[16.8, -9.1610978, 3.2440766], [16.8, -11.59951729, 3.2440766], [16.8,-9.1610978,0]]))\n",
    "new_surfaces[4] = G.Surface(np.array([[-3.40656751, -12.74455183, 0], [-3.40656751, 1.05461696, 0], [16.98386952,-12.74455183,0]]))"
   ]
  },
  {
   "cell_type": "code",
   "execution_count": 337,
   "metadata": {},
   "outputs": [
    {
     "data": {
      "application/vnd.plotly.v1+json": {
       "config": {
        "plotlyServerURL": "https://plot.ly"
       },
       "data": [
        {
         "alphahull": 5,
         "i": [
          0,
          3
         ],
         "j": [
          1,
          1
         ],
         "k": [
          2,
          2
         ],
         "opacity": 0.2,
         "type": "mesh3d",
         "x": [
          16.8,
          16.8,
          16.8,
          16.8
         ],
         "y": [
          -9.1610978,
          -11.59951729,
          -9.1610978,
          -11.599517290000001
         ],
         "z": [
          3.2440766,
          3.2440766,
          0,
          0
         ]
        },
        {
         "alphahull": 5,
         "i": [
          0,
          3
         ],
         "j": [
          1,
          1
         ],
         "k": [
          2,
          2
         ],
         "opacity": 0.2,
         "type": "mesh3d",
         "x": [
          16.98386952,
          16.98386952,
          0,
          0
         ],
         "y": [
          -12.74455183,
          -12.74455183,
          -12.74455183,
          -12.74455183
         ],
         "z": [
          0,
          6.76461222,
          0,
          6.76461222
         ]
        },
        {
         "alphahull": 5,
         "i": [
          0,
          3
         ],
         "j": [
          1,
          1
         ],
         "k": [
          2,
          2
         ],
         "opacity": 0.2,
         "type": "mesh3d",
         "x": [
          0,
          0,
          16.98386952,
          16.98386952
         ],
         "y": [
          0,
          0,
          0,
          0
         ],
         "z": [
          0,
          6.76461222,
          0,
          6.76461222
         ]
        },
        {
         "alphahull": 5,
         "i": [
          0,
          3
         ],
         "j": [
          1,
          1
         ],
         "k": [
          2,
          2
         ],
         "opacity": 0.2,
         "type": "mesh3d",
         "x": [
          16.98386952,
          16.98386952,
          16.98386952,
          16.98386952
         ],
         "y": [
          0,
          0,
          -12.74455183,
          -12.74455183
         ],
         "z": [
          0,
          6.76461222,
          0,
          6.76461222
         ]
        },
        {
         "alphahull": 5,
         "i": [
          0,
          3
         ],
         "j": [
          1,
          1
         ],
         "k": [
          2,
          2
         ],
         "opacity": 0.2,
         "type": "mesh3d",
         "x": [
          -3.40656751,
          -3.40656751,
          16.98386952,
          16.98386952
         ],
         "y": [
          -12.74455183,
          1.05461696,
          -12.74455183,
          1.0546169600000006
         ],
         "z": [
          0,
          0,
          0,
          0
         ]
        },
        {
         "alphahull": 5,
         "i": [
          0,
          3
         ],
         "j": [
          1,
          1
         ],
         "k": [
          2,
          2
         ],
         "opacity": 0.2,
         "type": "mesh3d",
         "x": [
          0,
          0,
          0,
          0
         ],
         "y": [
          0,
          0,
          -12.74455183,
          -12.74455183
         ],
         "z": [
          0,
          6.76461222,
          0,
          6.76461222
         ]
        }
       ],
       "layout": {
        "scene": {
         "aspectmode": "data"
        },
        "template": {
         "data": {
          "bar": [
           {
            "error_x": {
             "color": "#2a3f5f"
            },
            "error_y": {
             "color": "#2a3f5f"
            },
            "marker": {
             "line": {
              "color": "#E5ECF6",
              "width": 0.5
             },
             "pattern": {
              "fillmode": "overlay",
              "size": 10,
              "solidity": 0.2
             }
            },
            "type": "bar"
           }
          ],
          "barpolar": [
           {
            "marker": {
             "line": {
              "color": "#E5ECF6",
              "width": 0.5
             },
             "pattern": {
              "fillmode": "overlay",
              "size": 10,
              "solidity": 0.2
             }
            },
            "type": "barpolar"
           }
          ],
          "carpet": [
           {
            "aaxis": {
             "endlinecolor": "#2a3f5f",
             "gridcolor": "white",
             "linecolor": "white",
             "minorgridcolor": "white",
             "startlinecolor": "#2a3f5f"
            },
            "baxis": {
             "endlinecolor": "#2a3f5f",
             "gridcolor": "white",
             "linecolor": "white",
             "minorgridcolor": "white",
             "startlinecolor": "#2a3f5f"
            },
            "type": "carpet"
           }
          ],
          "choropleth": [
           {
            "colorbar": {
             "outlinewidth": 0,
             "ticks": ""
            },
            "type": "choropleth"
           }
          ],
          "contour": [
           {
            "colorbar": {
             "outlinewidth": 0,
             "ticks": ""
            },
            "colorscale": [
             [
              0,
              "#0d0887"
             ],
             [
              0.1111111111111111,
              "#46039f"
             ],
             [
              0.2222222222222222,
              "#7201a8"
             ],
             [
              0.3333333333333333,
              "#9c179e"
             ],
             [
              0.4444444444444444,
              "#bd3786"
             ],
             [
              0.5555555555555556,
              "#d8576b"
             ],
             [
              0.6666666666666666,
              "#ed7953"
             ],
             [
              0.7777777777777778,
              "#fb9f3a"
             ],
             [
              0.8888888888888888,
              "#fdca26"
             ],
             [
              1,
              "#f0f921"
             ]
            ],
            "type": "contour"
           }
          ],
          "contourcarpet": [
           {
            "colorbar": {
             "outlinewidth": 0,
             "ticks": ""
            },
            "type": "contourcarpet"
           }
          ],
          "heatmap": [
           {
            "colorbar": {
             "outlinewidth": 0,
             "ticks": ""
            },
            "colorscale": [
             [
              0,
              "#0d0887"
             ],
             [
              0.1111111111111111,
              "#46039f"
             ],
             [
              0.2222222222222222,
              "#7201a8"
             ],
             [
              0.3333333333333333,
              "#9c179e"
             ],
             [
              0.4444444444444444,
              "#bd3786"
             ],
             [
              0.5555555555555556,
              "#d8576b"
             ],
             [
              0.6666666666666666,
              "#ed7953"
             ],
             [
              0.7777777777777778,
              "#fb9f3a"
             ],
             [
              0.8888888888888888,
              "#fdca26"
             ],
             [
              1,
              "#f0f921"
             ]
            ],
            "type": "heatmap"
           }
          ],
          "heatmapgl": [
           {
            "colorbar": {
             "outlinewidth": 0,
             "ticks": ""
            },
            "colorscale": [
             [
              0,
              "#0d0887"
             ],
             [
              0.1111111111111111,
              "#46039f"
             ],
             [
              0.2222222222222222,
              "#7201a8"
             ],
             [
              0.3333333333333333,
              "#9c179e"
             ],
             [
              0.4444444444444444,
              "#bd3786"
             ],
             [
              0.5555555555555556,
              "#d8576b"
             ],
             [
              0.6666666666666666,
              "#ed7953"
             ],
             [
              0.7777777777777778,
              "#fb9f3a"
             ],
             [
              0.8888888888888888,
              "#fdca26"
             ],
             [
              1,
              "#f0f921"
             ]
            ],
            "type": "heatmapgl"
           }
          ],
          "histogram": [
           {
            "marker": {
             "pattern": {
              "fillmode": "overlay",
              "size": 10,
              "solidity": 0.2
             }
            },
            "type": "histogram"
           }
          ],
          "histogram2d": [
           {
            "colorbar": {
             "outlinewidth": 0,
             "ticks": ""
            },
            "colorscale": [
             [
              0,
              "#0d0887"
             ],
             [
              0.1111111111111111,
              "#46039f"
             ],
             [
              0.2222222222222222,
              "#7201a8"
             ],
             [
              0.3333333333333333,
              "#9c179e"
             ],
             [
              0.4444444444444444,
              "#bd3786"
             ],
             [
              0.5555555555555556,
              "#d8576b"
             ],
             [
              0.6666666666666666,
              "#ed7953"
             ],
             [
              0.7777777777777778,
              "#fb9f3a"
             ],
             [
              0.8888888888888888,
              "#fdca26"
             ],
             [
              1,
              "#f0f921"
             ]
            ],
            "type": "histogram2d"
           }
          ],
          "histogram2dcontour": [
           {
            "colorbar": {
             "outlinewidth": 0,
             "ticks": ""
            },
            "colorscale": [
             [
              0,
              "#0d0887"
             ],
             [
              0.1111111111111111,
              "#46039f"
             ],
             [
              0.2222222222222222,
              "#7201a8"
             ],
             [
              0.3333333333333333,
              "#9c179e"
             ],
             [
              0.4444444444444444,
              "#bd3786"
             ],
             [
              0.5555555555555556,
              "#d8576b"
             ],
             [
              0.6666666666666666,
              "#ed7953"
             ],
             [
              0.7777777777777778,
              "#fb9f3a"
             ],
             [
              0.8888888888888888,
              "#fdca26"
             ],
             [
              1,
              "#f0f921"
             ]
            ],
            "type": "histogram2dcontour"
           }
          ],
          "mesh3d": [
           {
            "colorbar": {
             "outlinewidth": 0,
             "ticks": ""
            },
            "type": "mesh3d"
           }
          ],
          "parcoords": [
           {
            "line": {
             "colorbar": {
              "outlinewidth": 0,
              "ticks": ""
             }
            },
            "type": "parcoords"
           }
          ],
          "pie": [
           {
            "automargin": true,
            "type": "pie"
           }
          ],
          "scatter": [
           {
            "fillpattern": {
             "fillmode": "overlay",
             "size": 10,
             "solidity": 0.2
            },
            "type": "scatter"
           }
          ],
          "scatter3d": [
           {
            "line": {
             "colorbar": {
              "outlinewidth": 0,
              "ticks": ""
             }
            },
            "marker": {
             "colorbar": {
              "outlinewidth": 0,
              "ticks": ""
             }
            },
            "type": "scatter3d"
           }
          ],
          "scattercarpet": [
           {
            "marker": {
             "colorbar": {
              "outlinewidth": 0,
              "ticks": ""
             }
            },
            "type": "scattercarpet"
           }
          ],
          "scattergeo": [
           {
            "marker": {
             "colorbar": {
              "outlinewidth": 0,
              "ticks": ""
             }
            },
            "type": "scattergeo"
           }
          ],
          "scattergl": [
           {
            "marker": {
             "colorbar": {
              "outlinewidth": 0,
              "ticks": ""
             }
            },
            "type": "scattergl"
           }
          ],
          "scattermapbox": [
           {
            "marker": {
             "colorbar": {
              "outlinewidth": 0,
              "ticks": ""
             }
            },
            "type": "scattermapbox"
           }
          ],
          "scatterpolar": [
           {
            "marker": {
             "colorbar": {
              "outlinewidth": 0,
              "ticks": ""
             }
            },
            "type": "scatterpolar"
           }
          ],
          "scatterpolargl": [
           {
            "marker": {
             "colorbar": {
              "outlinewidth": 0,
              "ticks": ""
             }
            },
            "type": "scatterpolargl"
           }
          ],
          "scatterternary": [
           {
            "marker": {
             "colorbar": {
              "outlinewidth": 0,
              "ticks": ""
             }
            },
            "type": "scatterternary"
           }
          ],
          "surface": [
           {
            "colorbar": {
             "outlinewidth": 0,
             "ticks": ""
            },
            "colorscale": [
             [
              0,
              "#0d0887"
             ],
             [
              0.1111111111111111,
              "#46039f"
             ],
             [
              0.2222222222222222,
              "#7201a8"
             ],
             [
              0.3333333333333333,
              "#9c179e"
             ],
             [
              0.4444444444444444,
              "#bd3786"
             ],
             [
              0.5555555555555556,
              "#d8576b"
             ],
             [
              0.6666666666666666,
              "#ed7953"
             ],
             [
              0.7777777777777778,
              "#fb9f3a"
             ],
             [
              0.8888888888888888,
              "#fdca26"
             ],
             [
              1,
              "#f0f921"
             ]
            ],
            "type": "surface"
           }
          ],
          "table": [
           {
            "cells": {
             "fill": {
              "color": "#EBF0F8"
             },
             "line": {
              "color": "white"
             }
            },
            "header": {
             "fill": {
              "color": "#C8D4E3"
             },
             "line": {
              "color": "white"
             }
            },
            "type": "table"
           }
          ]
         },
         "layout": {
          "annotationdefaults": {
           "arrowcolor": "#2a3f5f",
           "arrowhead": 0,
           "arrowwidth": 1
          },
          "autotypenumbers": "strict",
          "coloraxis": {
           "colorbar": {
            "outlinewidth": 0,
            "ticks": ""
           }
          },
          "colorscale": {
           "diverging": [
            [
             0,
             "#8e0152"
            ],
            [
             0.1,
             "#c51b7d"
            ],
            [
             0.2,
             "#de77ae"
            ],
            [
             0.3,
             "#f1b6da"
            ],
            [
             0.4,
             "#fde0ef"
            ],
            [
             0.5,
             "#f7f7f7"
            ],
            [
             0.6,
             "#e6f5d0"
            ],
            [
             0.7,
             "#b8e186"
            ],
            [
             0.8,
             "#7fbc41"
            ],
            [
             0.9,
             "#4d9221"
            ],
            [
             1,
             "#276419"
            ]
           ],
           "sequential": [
            [
             0,
             "#0d0887"
            ],
            [
             0.1111111111111111,
             "#46039f"
            ],
            [
             0.2222222222222222,
             "#7201a8"
            ],
            [
             0.3333333333333333,
             "#9c179e"
            ],
            [
             0.4444444444444444,
             "#bd3786"
            ],
            [
             0.5555555555555556,
             "#d8576b"
            ],
            [
             0.6666666666666666,
             "#ed7953"
            ],
            [
             0.7777777777777778,
             "#fb9f3a"
            ],
            [
             0.8888888888888888,
             "#fdca26"
            ],
            [
             1,
             "#f0f921"
            ]
           ],
           "sequentialminus": [
            [
             0,
             "#0d0887"
            ],
            [
             0.1111111111111111,
             "#46039f"
            ],
            [
             0.2222222222222222,
             "#7201a8"
            ],
            [
             0.3333333333333333,
             "#9c179e"
            ],
            [
             0.4444444444444444,
             "#bd3786"
            ],
            [
             0.5555555555555556,
             "#d8576b"
            ],
            [
             0.6666666666666666,
             "#ed7953"
            ],
            [
             0.7777777777777778,
             "#fb9f3a"
            ],
            [
             0.8888888888888888,
             "#fdca26"
            ],
            [
             1,
             "#f0f921"
            ]
           ]
          },
          "colorway": [
           "#636efa",
           "#EF553B",
           "#00cc96",
           "#ab63fa",
           "#FFA15A",
           "#19d3f3",
           "#FF6692",
           "#B6E880",
           "#FF97FF",
           "#FECB52"
          ],
          "font": {
           "color": "#2a3f5f"
          },
          "geo": {
           "bgcolor": "white",
           "lakecolor": "white",
           "landcolor": "#E5ECF6",
           "showlakes": true,
           "showland": true,
           "subunitcolor": "white"
          },
          "hoverlabel": {
           "align": "left"
          },
          "hovermode": "closest",
          "mapbox": {
           "style": "light"
          },
          "paper_bgcolor": "white",
          "plot_bgcolor": "#E5ECF6",
          "polar": {
           "angularaxis": {
            "gridcolor": "white",
            "linecolor": "white",
            "ticks": ""
           },
           "bgcolor": "#E5ECF6",
           "radialaxis": {
            "gridcolor": "white",
            "linecolor": "white",
            "ticks": ""
           }
          },
          "scene": {
           "xaxis": {
            "backgroundcolor": "#E5ECF6",
            "gridcolor": "white",
            "gridwidth": 2,
            "linecolor": "white",
            "showbackground": true,
            "ticks": "",
            "zerolinecolor": "white"
           },
           "yaxis": {
            "backgroundcolor": "#E5ECF6",
            "gridcolor": "white",
            "gridwidth": 2,
            "linecolor": "white",
            "showbackground": true,
            "ticks": "",
            "zerolinecolor": "white"
           },
           "zaxis": {
            "backgroundcolor": "#E5ECF6",
            "gridcolor": "white",
            "gridwidth": 2,
            "linecolor": "white",
            "showbackground": true,
            "ticks": "",
            "zerolinecolor": "white"
           }
          },
          "shapedefaults": {
           "line": {
            "color": "#2a3f5f"
           }
          },
          "ternary": {
           "aaxis": {
            "gridcolor": "white",
            "linecolor": "white",
            "ticks": ""
           },
           "baxis": {
            "gridcolor": "white",
            "linecolor": "white",
            "ticks": ""
           },
           "bgcolor": "#E5ECF6",
           "caxis": {
            "gridcolor": "white",
            "linecolor": "white",
            "ticks": ""
           }
          },
          "title": {
           "x": 0.05
          },
          "xaxis": {
           "automargin": true,
           "gridcolor": "white",
           "linecolor": "white",
           "ticks": "",
           "title": {
            "standoff": 15
           },
           "zerolinecolor": "white",
           "zerolinewidth": 2
          },
          "yaxis": {
           "automargin": true,
           "gridcolor": "white",
           "linecolor": "white",
           "ticks": "",
           "title": {
            "standoff": 15
           },
           "zerolinecolor": "white",
           "zerolinewidth": 2
          }
         }
        }
       }
      }
     },
     "metadata": {},
     "output_type": "display_data"
    }
   ],
   "source": [
    "import trace1 as G\n",
    "import plotly.graph_objects as go\n",
    "\n",
    "fig = go.Figure()\n",
    "#pcd = o3d.io.read_point_cloud(d.paths[9])\n",
    "#pcd = o3d.io.read_point_cloud('../limerick_pc.ply')\n",
    "#G.plot_points(fig, np.array(pcd.points), size=0.3)#############################################\n",
    "G.plot_surfaces(fig, new_surfaces)\n"
   ]
  },
  {
   "cell_type": "code",
   "execution_count": 338,
   "metadata": {},
   "outputs": [],
   "source": [
    "#table\n",
    "new_surfaces.append(G.Surface(np.array([[4.40, -6, 0.73], [6, -6, 0.73], [4.40,-6.80,0.73]])))"
   ]
  },
  {
   "cell_type": "code",
   "execution_count": 339,
   "metadata": {},
   "outputs": [],
   "source": [
    "#tables\n",
    "new_surfaces.append(G.Surface(np.array([[6.80, -1.30, 0.73], [6.80, -2.90, 0.73], [7.60,-1.30,0.73]])))\n",
    "new_surfaces.append(G.Surface(np.array([[6.80, -3.90, 0.73], [6.80, -5.50, 0.73], [7.60,-3.90,0.73]])))\n",
    "\n",
    "#monitor\n",
    "new_surfaces.append(G.Surface(np.array([[6.85, -4.35, 0.90], [6.85, -5.05, 0.90], [6.85,-4.35,1.30]])))"
   ]
  },
  {
   "cell_type": "code",
   "execution_count": 340,
   "metadata": {},
   "outputs": [],
   "source": [
    "#big panel on the wall\n",
    "new_surfaces.append(G.Surface(np.array([[16.8, -4, 2], [16.8, -4, 4.50], [16.8,-8.50,2]])))\n",
    "\n",
    "#green screen\n",
    "new_surfaces.append(G.Surface(np.array([[16.98386952, 0, 0], [16.8, 0, 2.40], [16.8,-4.20,0]])))\n",
    "new_surfaces.append(G.Surface(np.array([[16.98386952, 0, 0], [13.50, 0, 0], [16.98386952, 0, 2.40]])))"
   ]
  },
  {
   "cell_type": "code",
   "execution_count": 341,
   "metadata": {},
   "outputs": [],
   "source": [
    "#ceiling\n",
    "new_surfaces.append(G.Surface(np.array([[0, 0, 6.76461222], [0, -12.74455183, 6.76461222], [16.98386952,0,6.76461222]])))"
   ]
  },
  {
   "cell_type": "code",
   "execution_count": 342,
   "metadata": {},
   "outputs": [],
   "source": [
    "#left wall doors\n",
    "new_surfaces.append(G.Surface(np.array([[0, -0.30, 0], [0, -2.10, 0], [0,-0.30, 2]])))\n",
    "new_surfaces.append(G.Surface(np.array([[0, -3.10, 0], [0, -5.60, 0], [0,-3.10, 2]])))\n",
    "new_surfaces.append(G.Surface(np.array([[0, -7, 0], [0, -9, 0], [0,-7, 2]])))\n"
   ]
  },
  {
   "cell_type": "code",
   "execution_count": 343,
   "metadata": {},
   "outputs": [
    {
     "data": {
      "text/plain": [
       "17"
      ]
     },
     "execution_count": 343,
     "metadata": {},
     "output_type": "execute_result"
    }
   ],
   "source": [
    "len(new_surfaces)"
   ]
  },
  {
   "cell_type": "code",
   "execution_count": 344,
   "metadata": {},
   "outputs": [
    {
     "data": {
      "application/vnd.plotly.v1+json": {
       "config": {
        "plotlyServerURL": "https://plot.ly"
       },
       "data": [
        {
         "alphahull": 5,
         "i": [
          0,
          3
         ],
         "j": [
          1,
          1
         ],
         "k": [
          2,
          2
         ],
         "opacity": 0.2,
         "type": "mesh3d",
         "x": [
          16.8,
          16.8,
          16.8,
          16.8
         ],
         "y": [
          -9.1610978,
          -11.59951729,
          -9.1610978,
          -11.599517290000001
         ],
         "z": [
          3.2440766,
          3.2440766,
          0,
          0
         ]
        },
        {
         "alphahull": 5,
         "i": [
          0,
          3
         ],
         "j": [
          1,
          1
         ],
         "k": [
          2,
          2
         ],
         "opacity": 0.2,
         "type": "mesh3d",
         "x": [
          16.98386952,
          16.98386952,
          0,
          0
         ],
         "y": [
          -12.74455183,
          -12.74455183,
          -12.74455183,
          -12.74455183
         ],
         "z": [
          0,
          6.76461222,
          0,
          6.76461222
         ]
        },
        {
         "alphahull": 5,
         "i": [
          0,
          3
         ],
         "j": [
          1,
          1
         ],
         "k": [
          2,
          2
         ],
         "opacity": 0.2,
         "type": "mesh3d",
         "x": [
          0,
          0,
          16.98386952,
          16.98386952
         ],
         "y": [
          0,
          0,
          0,
          0
         ],
         "z": [
          0,
          6.76461222,
          0,
          6.76461222
         ]
        },
        {
         "alphahull": 5,
         "i": [
          0,
          3
         ],
         "j": [
          1,
          1
         ],
         "k": [
          2,
          2
         ],
         "opacity": 0.2,
         "type": "mesh3d",
         "x": [
          16.98386952,
          16.98386952,
          16.98386952,
          16.98386952
         ],
         "y": [
          0,
          0,
          -12.74455183,
          -12.74455183
         ],
         "z": [
          0,
          6.76461222,
          0,
          6.76461222
         ]
        },
        {
         "alphahull": 5,
         "i": [
          0,
          3
         ],
         "j": [
          1,
          1
         ],
         "k": [
          2,
          2
         ],
         "opacity": 0.2,
         "type": "mesh3d",
         "x": [
          -3.40656751,
          -3.40656751,
          16.98386952,
          16.98386952
         ],
         "y": [
          -12.74455183,
          1.05461696,
          -12.74455183,
          1.0546169600000006
         ],
         "z": [
          0,
          0,
          0,
          0
         ]
        },
        {
         "alphahull": 5,
         "i": [
          0,
          3
         ],
         "j": [
          1,
          1
         ],
         "k": [
          2,
          2
         ],
         "opacity": 0.2,
         "type": "mesh3d",
         "x": [
          0,
          0,
          0,
          0
         ],
         "y": [
          0,
          0,
          -12.74455183,
          -12.74455183
         ],
         "z": [
          0,
          6.76461222,
          0,
          6.76461222
         ]
        },
        {
         "alphahull": 5,
         "i": [
          0,
          3
         ],
         "j": [
          1,
          1
         ],
         "k": [
          2,
          2
         ],
         "opacity": 0.2,
         "type": "mesh3d",
         "x": [
          4.4,
          6,
          4.4,
          6
         ],
         "y": [
          -6,
          -6,
          -6.8,
          -6.800000000000001
         ],
         "z": [
          0.73,
          0.73,
          0.73,
          0.73
         ]
        },
        {
         "alphahull": 5,
         "i": [
          0,
          3
         ],
         "j": [
          1,
          1
         ],
         "k": [
          2,
          2
         ],
         "opacity": 0.2,
         "type": "mesh3d",
         "x": [
          6.8,
          6.8,
          7.6,
          7.599999999999999
         ],
         "y": [
          -1.3,
          -2.9,
          -1.3,
          -2.9000000000000004
         ],
         "z": [
          0.73,
          0.73,
          0.73,
          0.73
         ]
        },
        {
         "alphahull": 5,
         "i": [
          0,
          3
         ],
         "j": [
          1,
          1
         ],
         "k": [
          2,
          2
         ],
         "opacity": 0.2,
         "type": "mesh3d",
         "x": [
          6.8,
          6.8,
          7.6,
          7.599999999999999
         ],
         "y": [
          -3.9,
          -5.5,
          -3.9,
          -5.5
         ],
         "z": [
          0.73,
          0.73,
          0.73,
          0.73
         ]
        },
        {
         "alphahull": 5,
         "i": [
          0,
          3
         ],
         "j": [
          1,
          1
         ],
         "k": [
          2,
          2
         ],
         "opacity": 0.2,
         "type": "mesh3d",
         "x": [
          6.85,
          6.85,
          6.85,
          6.85
         ],
         "y": [
          -4.35,
          -5.05,
          -4.35,
          -5.049999999999999
         ],
         "z": [
          0.9,
          0.9,
          1.3,
          1.3000000000000003
         ]
        },
        {
         "alphahull": 5,
         "i": [
          0,
          3
         ],
         "j": [
          1,
          1
         ],
         "k": [
          2,
          2
         ],
         "opacity": 0.2,
         "type": "mesh3d",
         "x": [
          16.8,
          16.8,
          16.8,
          16.8
         ],
         "y": [
          -4,
          -4,
          -8.5,
          -8.5
         ],
         "z": [
          2,
          4.5,
          2,
          4.5
         ]
        },
        {
         "alphahull": 5,
         "i": [
          0,
          3
         ],
         "j": [
          1,
          1
         ],
         "k": [
          2,
          2
         ],
         "opacity": 0.2,
         "type": "mesh3d",
         "x": [
          16.98386952,
          16.8,
          16.8,
          16.616130480000002
         ],
         "y": [
          0,
          0,
          -4.2,
          -4.2
         ],
         "z": [
          0,
          2.4,
          0,
          2.4
         ]
        },
        {
         "alphahull": 5,
         "i": [
          0,
          3
         ],
         "j": [
          1,
          1
         ],
         "k": [
          2,
          2
         ],
         "opacity": 0.2,
         "type": "mesh3d",
         "x": [
          16.98386952,
          13.5,
          16.98386952,
          13.5
         ],
         "y": [
          0,
          0,
          0,
          0
         ],
         "z": [
          0,
          0,
          2.4,
          2.4
         ]
        },
        {
         "alphahull": 5,
         "i": [
          0,
          3
         ],
         "j": [
          1,
          1
         ],
         "k": [
          2,
          2
         ],
         "opacity": 0.2,
         "type": "mesh3d",
         "x": [
          0,
          0,
          16.98386952,
          16.98386952
         ],
         "y": [
          0,
          -12.74455183,
          0,
          -12.74455183
         ],
         "z": [
          6.76461222,
          6.76461222,
          6.76461222,
          6.76461222
         ]
        },
        {
         "alphahull": 5,
         "i": [
          0,
          3
         ],
         "j": [
          1,
          1
         ],
         "k": [
          2,
          2
         ],
         "opacity": 0.2,
         "type": "mesh3d",
         "x": [
          0,
          0,
          0,
          0
         ],
         "y": [
          -0.3,
          -2.1,
          -0.3,
          -2.1
         ],
         "z": [
          0,
          0,
          2,
          2
         ]
        },
        {
         "alphahull": 5,
         "i": [
          0,
          3
         ],
         "j": [
          1,
          1
         ],
         "k": [
          2,
          2
         ],
         "opacity": 0.2,
         "type": "mesh3d",
         "x": [
          0,
          0,
          0,
          0
         ],
         "y": [
          -3.1,
          -5.6,
          -3.1,
          -5.6
         ],
         "z": [
          0,
          0,
          2,
          2
         ]
        },
        {
         "alphahull": 5,
         "i": [
          0,
          3
         ],
         "j": [
          1,
          1
         ],
         "k": [
          2,
          2
         ],
         "opacity": 0.2,
         "type": "mesh3d",
         "x": [
          0,
          0,
          0,
          0
         ],
         "y": [
          -7,
          -9,
          -7,
          -9
         ],
         "z": [
          0,
          0,
          2,
          2
         ]
        }
       ],
       "layout": {
        "scene": {
         "aspectmode": "data"
        },
        "template": {
         "data": {
          "bar": [
           {
            "error_x": {
             "color": "#2a3f5f"
            },
            "error_y": {
             "color": "#2a3f5f"
            },
            "marker": {
             "line": {
              "color": "#E5ECF6",
              "width": 0.5
             },
             "pattern": {
              "fillmode": "overlay",
              "size": 10,
              "solidity": 0.2
             }
            },
            "type": "bar"
           }
          ],
          "barpolar": [
           {
            "marker": {
             "line": {
              "color": "#E5ECF6",
              "width": 0.5
             },
             "pattern": {
              "fillmode": "overlay",
              "size": 10,
              "solidity": 0.2
             }
            },
            "type": "barpolar"
           }
          ],
          "carpet": [
           {
            "aaxis": {
             "endlinecolor": "#2a3f5f",
             "gridcolor": "white",
             "linecolor": "white",
             "minorgridcolor": "white",
             "startlinecolor": "#2a3f5f"
            },
            "baxis": {
             "endlinecolor": "#2a3f5f",
             "gridcolor": "white",
             "linecolor": "white",
             "minorgridcolor": "white",
             "startlinecolor": "#2a3f5f"
            },
            "type": "carpet"
           }
          ],
          "choropleth": [
           {
            "colorbar": {
             "outlinewidth": 0,
             "ticks": ""
            },
            "type": "choropleth"
           }
          ],
          "contour": [
           {
            "colorbar": {
             "outlinewidth": 0,
             "ticks": ""
            },
            "colorscale": [
             [
              0,
              "#0d0887"
             ],
             [
              0.1111111111111111,
              "#46039f"
             ],
             [
              0.2222222222222222,
              "#7201a8"
             ],
             [
              0.3333333333333333,
              "#9c179e"
             ],
             [
              0.4444444444444444,
              "#bd3786"
             ],
             [
              0.5555555555555556,
              "#d8576b"
             ],
             [
              0.6666666666666666,
              "#ed7953"
             ],
             [
              0.7777777777777778,
              "#fb9f3a"
             ],
             [
              0.8888888888888888,
              "#fdca26"
             ],
             [
              1,
              "#f0f921"
             ]
            ],
            "type": "contour"
           }
          ],
          "contourcarpet": [
           {
            "colorbar": {
             "outlinewidth": 0,
             "ticks": ""
            },
            "type": "contourcarpet"
           }
          ],
          "heatmap": [
           {
            "colorbar": {
             "outlinewidth": 0,
             "ticks": ""
            },
            "colorscale": [
             [
              0,
              "#0d0887"
             ],
             [
              0.1111111111111111,
              "#46039f"
             ],
             [
              0.2222222222222222,
              "#7201a8"
             ],
             [
              0.3333333333333333,
              "#9c179e"
             ],
             [
              0.4444444444444444,
              "#bd3786"
             ],
             [
              0.5555555555555556,
              "#d8576b"
             ],
             [
              0.6666666666666666,
              "#ed7953"
             ],
             [
              0.7777777777777778,
              "#fb9f3a"
             ],
             [
              0.8888888888888888,
              "#fdca26"
             ],
             [
              1,
              "#f0f921"
             ]
            ],
            "type": "heatmap"
           }
          ],
          "heatmapgl": [
           {
            "colorbar": {
             "outlinewidth": 0,
             "ticks": ""
            },
            "colorscale": [
             [
              0,
              "#0d0887"
             ],
             [
              0.1111111111111111,
              "#46039f"
             ],
             [
              0.2222222222222222,
              "#7201a8"
             ],
             [
              0.3333333333333333,
              "#9c179e"
             ],
             [
              0.4444444444444444,
              "#bd3786"
             ],
             [
              0.5555555555555556,
              "#d8576b"
             ],
             [
              0.6666666666666666,
              "#ed7953"
             ],
             [
              0.7777777777777778,
              "#fb9f3a"
             ],
             [
              0.8888888888888888,
              "#fdca26"
             ],
             [
              1,
              "#f0f921"
             ]
            ],
            "type": "heatmapgl"
           }
          ],
          "histogram": [
           {
            "marker": {
             "pattern": {
              "fillmode": "overlay",
              "size": 10,
              "solidity": 0.2
             }
            },
            "type": "histogram"
           }
          ],
          "histogram2d": [
           {
            "colorbar": {
             "outlinewidth": 0,
             "ticks": ""
            },
            "colorscale": [
             [
              0,
              "#0d0887"
             ],
             [
              0.1111111111111111,
              "#46039f"
             ],
             [
              0.2222222222222222,
              "#7201a8"
             ],
             [
              0.3333333333333333,
              "#9c179e"
             ],
             [
              0.4444444444444444,
              "#bd3786"
             ],
             [
              0.5555555555555556,
              "#d8576b"
             ],
             [
              0.6666666666666666,
              "#ed7953"
             ],
             [
              0.7777777777777778,
              "#fb9f3a"
             ],
             [
              0.8888888888888888,
              "#fdca26"
             ],
             [
              1,
              "#f0f921"
             ]
            ],
            "type": "histogram2d"
           }
          ],
          "histogram2dcontour": [
           {
            "colorbar": {
             "outlinewidth": 0,
             "ticks": ""
            },
            "colorscale": [
             [
              0,
              "#0d0887"
             ],
             [
              0.1111111111111111,
              "#46039f"
             ],
             [
              0.2222222222222222,
              "#7201a8"
             ],
             [
              0.3333333333333333,
              "#9c179e"
             ],
             [
              0.4444444444444444,
              "#bd3786"
             ],
             [
              0.5555555555555556,
              "#d8576b"
             ],
             [
              0.6666666666666666,
              "#ed7953"
             ],
             [
              0.7777777777777778,
              "#fb9f3a"
             ],
             [
              0.8888888888888888,
              "#fdca26"
             ],
             [
              1,
              "#f0f921"
             ]
            ],
            "type": "histogram2dcontour"
           }
          ],
          "mesh3d": [
           {
            "colorbar": {
             "outlinewidth": 0,
             "ticks": ""
            },
            "type": "mesh3d"
           }
          ],
          "parcoords": [
           {
            "line": {
             "colorbar": {
              "outlinewidth": 0,
              "ticks": ""
             }
            },
            "type": "parcoords"
           }
          ],
          "pie": [
           {
            "automargin": true,
            "type": "pie"
           }
          ],
          "scatter": [
           {
            "fillpattern": {
             "fillmode": "overlay",
             "size": 10,
             "solidity": 0.2
            },
            "type": "scatter"
           }
          ],
          "scatter3d": [
           {
            "line": {
             "colorbar": {
              "outlinewidth": 0,
              "ticks": ""
             }
            },
            "marker": {
             "colorbar": {
              "outlinewidth": 0,
              "ticks": ""
             }
            },
            "type": "scatter3d"
           }
          ],
          "scattercarpet": [
           {
            "marker": {
             "colorbar": {
              "outlinewidth": 0,
              "ticks": ""
             }
            },
            "type": "scattercarpet"
           }
          ],
          "scattergeo": [
           {
            "marker": {
             "colorbar": {
              "outlinewidth": 0,
              "ticks": ""
             }
            },
            "type": "scattergeo"
           }
          ],
          "scattergl": [
           {
            "marker": {
             "colorbar": {
              "outlinewidth": 0,
              "ticks": ""
             }
            },
            "type": "scattergl"
           }
          ],
          "scattermapbox": [
           {
            "marker": {
             "colorbar": {
              "outlinewidth": 0,
              "ticks": ""
             }
            },
            "type": "scattermapbox"
           }
          ],
          "scatterpolar": [
           {
            "marker": {
             "colorbar": {
              "outlinewidth": 0,
              "ticks": ""
             }
            },
            "type": "scatterpolar"
           }
          ],
          "scatterpolargl": [
           {
            "marker": {
             "colorbar": {
              "outlinewidth": 0,
              "ticks": ""
             }
            },
            "type": "scatterpolargl"
           }
          ],
          "scatterternary": [
           {
            "marker": {
             "colorbar": {
              "outlinewidth": 0,
              "ticks": ""
             }
            },
            "type": "scatterternary"
           }
          ],
          "surface": [
           {
            "colorbar": {
             "outlinewidth": 0,
             "ticks": ""
            },
            "colorscale": [
             [
              0,
              "#0d0887"
             ],
             [
              0.1111111111111111,
              "#46039f"
             ],
             [
              0.2222222222222222,
              "#7201a8"
             ],
             [
              0.3333333333333333,
              "#9c179e"
             ],
             [
              0.4444444444444444,
              "#bd3786"
             ],
             [
              0.5555555555555556,
              "#d8576b"
             ],
             [
              0.6666666666666666,
              "#ed7953"
             ],
             [
              0.7777777777777778,
              "#fb9f3a"
             ],
             [
              0.8888888888888888,
              "#fdca26"
             ],
             [
              1,
              "#f0f921"
             ]
            ],
            "type": "surface"
           }
          ],
          "table": [
           {
            "cells": {
             "fill": {
              "color": "#EBF0F8"
             },
             "line": {
              "color": "white"
             }
            },
            "header": {
             "fill": {
              "color": "#C8D4E3"
             },
             "line": {
              "color": "white"
             }
            },
            "type": "table"
           }
          ]
         },
         "layout": {
          "annotationdefaults": {
           "arrowcolor": "#2a3f5f",
           "arrowhead": 0,
           "arrowwidth": 1
          },
          "autotypenumbers": "strict",
          "coloraxis": {
           "colorbar": {
            "outlinewidth": 0,
            "ticks": ""
           }
          },
          "colorscale": {
           "diverging": [
            [
             0,
             "#8e0152"
            ],
            [
             0.1,
             "#c51b7d"
            ],
            [
             0.2,
             "#de77ae"
            ],
            [
             0.3,
             "#f1b6da"
            ],
            [
             0.4,
             "#fde0ef"
            ],
            [
             0.5,
             "#f7f7f7"
            ],
            [
             0.6,
             "#e6f5d0"
            ],
            [
             0.7,
             "#b8e186"
            ],
            [
             0.8,
             "#7fbc41"
            ],
            [
             0.9,
             "#4d9221"
            ],
            [
             1,
             "#276419"
            ]
           ],
           "sequential": [
            [
             0,
             "#0d0887"
            ],
            [
             0.1111111111111111,
             "#46039f"
            ],
            [
             0.2222222222222222,
             "#7201a8"
            ],
            [
             0.3333333333333333,
             "#9c179e"
            ],
            [
             0.4444444444444444,
             "#bd3786"
            ],
            [
             0.5555555555555556,
             "#d8576b"
            ],
            [
             0.6666666666666666,
             "#ed7953"
            ],
            [
             0.7777777777777778,
             "#fb9f3a"
            ],
            [
             0.8888888888888888,
             "#fdca26"
            ],
            [
             1,
             "#f0f921"
            ]
           ],
           "sequentialminus": [
            [
             0,
             "#0d0887"
            ],
            [
             0.1111111111111111,
             "#46039f"
            ],
            [
             0.2222222222222222,
             "#7201a8"
            ],
            [
             0.3333333333333333,
             "#9c179e"
            ],
            [
             0.4444444444444444,
             "#bd3786"
            ],
            [
             0.5555555555555556,
             "#d8576b"
            ],
            [
             0.6666666666666666,
             "#ed7953"
            ],
            [
             0.7777777777777778,
             "#fb9f3a"
            ],
            [
             0.8888888888888888,
             "#fdca26"
            ],
            [
             1,
             "#f0f921"
            ]
           ]
          },
          "colorway": [
           "#636efa",
           "#EF553B",
           "#00cc96",
           "#ab63fa",
           "#FFA15A",
           "#19d3f3",
           "#FF6692",
           "#B6E880",
           "#FF97FF",
           "#FECB52"
          ],
          "font": {
           "color": "#2a3f5f"
          },
          "geo": {
           "bgcolor": "white",
           "lakecolor": "white",
           "landcolor": "#E5ECF6",
           "showlakes": true,
           "showland": true,
           "subunitcolor": "white"
          },
          "hoverlabel": {
           "align": "left"
          },
          "hovermode": "closest",
          "mapbox": {
           "style": "light"
          },
          "paper_bgcolor": "white",
          "plot_bgcolor": "#E5ECF6",
          "polar": {
           "angularaxis": {
            "gridcolor": "white",
            "linecolor": "white",
            "ticks": ""
           },
           "bgcolor": "#E5ECF6",
           "radialaxis": {
            "gridcolor": "white",
            "linecolor": "white",
            "ticks": ""
           }
          },
          "scene": {
           "xaxis": {
            "backgroundcolor": "#E5ECF6",
            "gridcolor": "white",
            "gridwidth": 2,
            "linecolor": "white",
            "showbackground": true,
            "ticks": "",
            "zerolinecolor": "white"
           },
           "yaxis": {
            "backgroundcolor": "#E5ECF6",
            "gridcolor": "white",
            "gridwidth": 2,
            "linecolor": "white",
            "showbackground": true,
            "ticks": "",
            "zerolinecolor": "white"
           },
           "zaxis": {
            "backgroundcolor": "#E5ECF6",
            "gridcolor": "white",
            "gridwidth": 2,
            "linecolor": "white",
            "showbackground": true,
            "ticks": "",
            "zerolinecolor": "white"
           }
          },
          "shapedefaults": {
           "line": {
            "color": "#2a3f5f"
           }
          },
          "ternary": {
           "aaxis": {
            "gridcolor": "white",
            "linecolor": "white",
            "ticks": ""
           },
           "baxis": {
            "gridcolor": "white",
            "linecolor": "white",
            "ticks": ""
           },
           "bgcolor": "#E5ECF6",
           "caxis": {
            "gridcolor": "white",
            "linecolor": "white",
            "ticks": ""
           }
          },
          "title": {
           "x": 0.05
          },
          "xaxis": {
           "automargin": true,
           "gridcolor": "white",
           "linecolor": "white",
           "ticks": "",
           "title": {
            "standoff": 15
           },
           "zerolinecolor": "white",
           "zerolinewidth": 2
          },
          "yaxis": {
           "automargin": true,
           "gridcolor": "white",
           "linecolor": "white",
           "ticks": "",
           "title": {
            "standoff": 15
           },
           "zerolinecolor": "white",
           "zerolinewidth": 2
          }
         }
        }
       }
      }
     },
     "metadata": {},
     "output_type": "display_data"
    }
   ],
   "source": [
    "import trace1 as G\n",
    "import plotly.graph_objects as go\n",
    "\n",
    "fig = go.Figure()\n",
    "#pcd = o3d.io.read_point_cloud(d.paths[9])\n",
    "#pcd = o3d.io.read_point_cloud('../limerick_pc.ply')\n",
    "#G.plot_points(fig, np.array(pcd.points), size=0.3)#############################################\n",
    "G.plot_surfaces(fig, new_surfaces)"
   ]
  },
  {
   "cell_type": "code",
   "execution_count": 345,
   "metadata": {},
   "outputs": [
    {
     "data": {
      "text/plain": [
       "'\\ndetected_planes = pcd.detect_planar_patches(normal_variance_threshold_deg=70, coplanarity_deg=75, outlier_ratio=0.75, min_plane_edge_length=0.0, min_num_points=0, search_param=o3d.geometry.KDTreeSearchParamKNN(knn=20)) #si potrebbe fare fine tuning\\n\\nfor i in range (len(detected_planes)):  \\n    oobb = detected_planes[i]\\n    mesh = oobb.get_box_points()  # Crea i vertici del box\\n    oobb_mesh = o3d.geometry.TriangleMesh.create_from_oriented_bounding_box(oobb)\\n    o3d.io.write_triangle_mesh(\"../planes_nottingham/bounding_box_\" + str(i) + \".ply\", oobb_mesh)\\n'"
      ]
     },
     "execution_count": 345,
     "metadata": {},
     "output_type": "execute_result"
    }
   ],
   "source": [
    "'''\n",
    "detected_planes = pcd.detect_planar_patches(normal_variance_threshold_deg=70, coplanarity_deg=75, outlier_ratio=0.75, min_plane_edge_length=0.0, min_num_points=0, search_param=o3d.geometry.KDTreeSearchParamKNN(knn=20)) #si potrebbe fare fine tuning\n",
    "\n",
    "for i in range (len(detected_planes)):  \n",
    "    oobb = detected_planes[i]\n",
    "    mesh = oobb.get_box_points()  # Crea i vertici del box\n",
    "    oobb_mesh = o3d.geometry.TriangleMesh.create_from_oriented_bounding_box(oobb)\n",
    "    o3d.io.write_triangle_mesh(\"../planes_nottingham/bounding_box_\" + str(i) + \".ply\", oobb_mesh)\n",
    "'''"
   ]
  },
  {
   "cell_type": "markdown",
   "metadata": {},
   "source": [
    "Optimized surfaces with 2 cuts and 0.2 impurity"
   ]
  },
  {
   "cell_type": "code",
   "execution_count": 346,
   "metadata": {},
   "outputs": [
    {
     "data": {
      "text/plain": [
       "\"\\nfig = go.Figure()\\n#pcd = o3d.io.read_point_cloud('../limerick_pc.ply')\\n#G.plot_points(fig, np.array(pcd.points), size=0.3)\\nG.plot_surfaces(fig, optimized_surfaces)\\n\""
      ]
     },
     "execution_count": 346,
     "metadata": {},
     "output_type": "execute_result"
    }
   ],
   "source": [
    "'''\n",
    "fig = go.Figure()\n",
    "#pcd = o3d.io.read_point_cloud('../limerick_pc.ply')\n",
    "#G.plot_points(fig, np.array(pcd.points), size=0.3)\n",
    "G.plot_surfaces(fig, optimized_surfaces)\n",
    "'''\n"
   ]
  },
  {
   "cell_type": "markdown",
   "metadata": {},
   "source": [
    "optimized surfaces with 5 cuts and 0.2 impurity(ran on cluster)"
   ]
  },
  {
   "cell_type": "code",
   "execution_count": 347,
   "metadata": {},
   "outputs": [
    {
     "data": {
      "text/plain": [
       "'\\nimport trace1 as G\\nimport plotly.graph_objects as go\\nimport numpy as np\\n\\ns1 = G.Surface(np.array([np.array([-10.09956508,   3.65454533,  -7.84540534]),np.array([  0.86774405,   6.99933054,   6.01149353]), np.array([ 10.98616466,   3.66615976,  -8.4795603 ])]), False)\\ns2 = G.Surface (np.array([np.array([ 7.55907675,  4.35202429, -7.91548223]), np.array([ 2.70740392, -0.89751088, -7.98298702]), np.array([-7.380409,    3.92225067, -7.09470918])]), True)\\ns3 = G.Surface(np.array([np.array([-11.56846834,   4.45404118,  -7.36522756]), np.array([-11.68461323,  -1.04622091,  -3.9365148 ]), np.array([-11.16990109,   4.68593711,   2.4972895 ])]), True )\\ns4 = G.Surface(np.array([np.array([  9.46738246,  -1.46172153,   4.32533956]), np.array([  4.22134378,   7.33461314,   5.36916622]), np.array([-11.38545785,  -1.66056523,   6.16671428])]), False)\\ns5 = G.Surface(np.array([np.array([ 7.83008668, -0.86969988,  3.93674075]), np.array([ 7.62700772,  4.06404333,  2.11977209]), np.array([ 7.84355217, -0.99216121, -1.15348157])]), True)\\ns6 = G.Surface(np.array([np.array([11.1342835,  -0.08410565, -8.7524018 ]), np.array([ 5.79069151, -0.5683638,   5.59693664]), np.array([-6.39798901, -1.12114865, -8.14225057])]), True)\\n\\n\\nwell_optimized_surfaces = [s1, s2, s3, s4, s5, s6]\\n'"
      ]
     },
     "execution_count": 347,
     "metadata": {},
     "output_type": "execute_result"
    }
   ],
   "source": [
    "'''\n",
    "import trace1 as G\n",
    "import plotly.graph_objects as go\n",
    "import numpy as np\n",
    "\n",
    "s1 = G.Surface(np.array([np.array([-10.09956508,   3.65454533,  -7.84540534]),np.array([  0.86774405,   6.99933054,   6.01149353]), np.array([ 10.98616466,   3.66615976,  -8.4795603 ])]), False)\n",
    "s2 = G.Surface (np.array([np.array([ 7.55907675,  4.35202429, -7.91548223]), np.array([ 2.70740392, -0.89751088, -7.98298702]), np.array([-7.380409,    3.92225067, -7.09470918])]), True)\n",
    "s3 = G.Surface(np.array([np.array([-11.56846834,   4.45404118,  -7.36522756]), np.array([-11.68461323,  -1.04622091,  -3.9365148 ]), np.array([-11.16990109,   4.68593711,   2.4972895 ])]), True )\n",
    "s4 = G.Surface(np.array([np.array([  9.46738246,  -1.46172153,   4.32533956]), np.array([  4.22134378,   7.33461314,   5.36916622]), np.array([-11.38545785,  -1.66056523,   6.16671428])]), False)\n",
    "s5 = G.Surface(np.array([np.array([ 7.83008668, -0.86969988,  3.93674075]), np.array([ 7.62700772,  4.06404333,  2.11977209]), np.array([ 7.84355217, -0.99216121, -1.15348157])]), True)\n",
    "s6 = G.Surface(np.array([np.array([11.1342835,  -0.08410565, -8.7524018 ]), np.array([ 5.79069151, -0.5683638,   5.59693664]), np.array([-6.39798901, -1.12114865, -8.14225057])]), True)\n",
    "\n",
    "\n",
    "well_optimized_surfaces = [s1, s2, s3, s4, s5, s6]\n",
    "'''"
   ]
  },
  {
   "cell_type": "code",
   "execution_count": 348,
   "metadata": {},
   "outputs": [
    {
     "data": {
      "text/plain": [
       "\"\\nfig = go.Figure()\\n#pcd = o3d.io.read_point_cloud('../limerick_pc.ply')\\n#G.plot_points(fig, np.array(pcd.points), size=0.3)\\nG.plot_surfaces(fig, well_optimized_surfaces)\\n\""
      ]
     },
     "execution_count": 348,
     "metadata": {},
     "output_type": "execute_result"
    }
   ],
   "source": [
    "'''\n",
    "fig = go.Figure()\n",
    "#pcd = o3d.io.read_point_cloud('../limerick_pc.ply')\n",
    "#G.plot_points(fig, np.array(pcd.points), size=0.3)\n",
    "G.plot_surfaces(fig, well_optimized_surfaces)\n",
    "'''"
   ]
  },
  {
   "cell_type": "markdown",
   "metadata": {},
   "source": [
    "Limerick planes "
   ]
  },
  {
   "cell_type": "code",
   "execution_count": 349,
   "metadata": {},
   "outputs": [
    {
     "data": {
      "text/plain": [
       "\"\\nlimerick_planes = o3d.io.read_point_cloud('/home/gzanin/Documents/limerick_planes.ply')\\nfig = go.Figure()\\nG.plot_points(fig, np.array(limerick_planes.points), size=0.3)\\n\""
      ]
     },
     "execution_count": 349,
     "metadata": {},
     "output_type": "execute_result"
    }
   ],
   "source": [
    "'''\n",
    "limerick_planes = o3d.io.read_point_cloud('/home/gzanin/Documents/limerick_planes.ply')\n",
    "fig = go.Figure()\n",
    "G.plot_points(fig, np.array(limerick_planes.points), size=0.3)\n",
    "'''"
   ]
  }
 ],
 "metadata": {
  "kernelspec": {
   "display_name": "Python 3",
   "language": "python",
   "name": "python3"
  },
  "language_info": {
   "codemirror_mode": {
    "name": "ipython",
    "version": 3
   },
   "file_extension": ".py",
   "mimetype": "text/x-python",
   "name": "python",
   "nbconvert_exporter": "python",
   "pygments_lexer": "ipython3",
   "version": "3.11.9"
  }
 },
 "nbformat": 4,
 "nbformat_minor": 2
}
