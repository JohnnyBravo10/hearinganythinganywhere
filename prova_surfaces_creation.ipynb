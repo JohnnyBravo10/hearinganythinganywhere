{
 "cells": [
  {
   "cell_type": "code",
   "execution_count": null,
   "metadata": {},
   "outputs": [],
   "source": [
    "%load_ext autoreload\n",
    "%autoreload 2\n",
    "import open3d as o3d\n",
    "import surface_creation_utilities as S\n",
    "\n",
    "d = o3d.data.LivingRoomPointClouds()\n",
    "base_surfaces = S.get_surfaces_from_point_cloud(d.paths[9])\n",
    "print(\"base surfaces\")\n",
    "for surface in base_surfaces:\n",
    "    print (surface.points, surface.parallelogram, surface.n)\n",
    "\n",
    "\n",
    "optimized_surfaces = S.get_surfaces_from_point_cloud_with_optimization(d.paths[9], cut_impurity= 0.05, steps_per_side=10)\n",
    "print(\"optimized surfaces\", optimized_surfaces)\n",
    "for surface in optimized_surfaces:\n",
    "    print (surface.points, surface.parallelogram, surface.n)"
   ]
  },
  {
   "cell_type": "code",
   "execution_count": null,
   "metadata": {},
   "outputs": [],
   "source": [
    "import trace1 as G\n",
    "import plotly.graph_objects as go\n",
    "\n",
    "fig = go.Figure()\n",
    "G.plot_surfaces(fig, base_surfaces[7:8])\n"
   ]
  },
  {
   "cell_type": "code",
   "execution_count": null,
   "metadata": {},
   "outputs": [],
   "source": [
    "import trace1 as G\n",
    "import plotly.graph_objects as go\n",
    "\n",
    "fig = go.Figure()\n",
    "G.plot_surfaces(fig, optimized_surfaces[7:8])\n"
   ]
  }
 ],
 "metadata": {
  "kernelspec": {
   "display_name": "Python 3",
   "language": "python",
   "name": "python3"
  },
  "language_info": {
   "codemirror_mode": {
    "name": "ipython",
    "version": 3
   },
   "file_extension": ".py",
   "mimetype": "text/x-python",
   "name": "python",
   "nbconvert_exporter": "python",
   "pygments_lexer": "ipython3",
   "version": "3.11.9"
  }
 },
 "nbformat": 4,
 "nbformat_minor": 2
}
