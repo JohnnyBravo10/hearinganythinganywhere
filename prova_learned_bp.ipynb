{
 "cells": [
  {
   "cell_type": "code",
   "execution_count": 1,
   "metadata": {},
   "outputs": [
    {
     "name": "stderr",
     "output_type": "stream",
     "text": [
      "/home/gzanin/.local/lib/python3.11/site-packages/torch/cuda/__init__.py:118: UserWarning: CUDA initialization: CUDA unknown error - this may be due to an incorrectly set up environment, e.g. changing env variable CUDA_VISIBLE_DEVICES after program start. Setting the available devices to be zero. (Triggered internally at ../c10/cuda/CUDAFunctions.cpp:108.)\n",
      "  return torch._C._cuda_getDeviceCount() > 0\n"
     ]
    }
   ],
   "source": [
    "import render\n",
    "import rooms.dataset\n",
    "import evaluate\n",
    "import torch\n",
    "#import sounddevice as sd\n",
    "import torch.nn as nn\n",
    "import matplotlib.pyplot as plt\n",
    "import numpy as np\n",
    "import metrics"
   ]
  },
  {
   "cell_type": "code",
   "execution_count": 2,
   "metadata": {},
   "outputs": [],
   "source": [
    "torch.set_default_dtype(torch.float32)\n",
    "device = torch.device(\"cuda:0\" if torch.cuda.is_available() else \"cpu\")\n",
    "#device  = \"cpu\""
   ]
  },
  {
   "cell_type": "code",
   "execution_count": 3,
   "metadata": {},
   "outputs": [],
   "source": [
    "D_0 = rooms.dataset.dataLoader(\"classroomBase\")"
   ]
  },
  {
   "cell_type": "code",
   "execution_count": 4,
   "metadata": {},
   "outputs": [
    {
     "name": "stdout",
     "output_type": "stream",
     "text": [
      "Considered Paths:\t59049\n",
      "Total Considered Paths, after Axial:\t59079\n",
      "Valid Paths:\t851\n"
     ]
    }
   ],
   "source": [
    "L_0 = render.get_listener(source_xyz=D_0.speaker_xyz, listener_xyz = D_0.xyzs[0], surfaces=D_0.all_surfaces, \n",
    "                                                speed_of_sound=D_0.speed_of_sound,\n",
    "                                                parallel_surface_pairs=D_0.parallel_surface_pairs,\n",
    "                                                max_order=D_0.max_order, max_axial_order=D_0.max_axial_order )"
   ]
  },
  {
   "cell_type": "code",
   "execution_count": 5,
   "metadata": {},
   "outputs": [],
   "source": [
    "R_0 = render.Renderer(n_surfaces=len(D_0.all_surfaces))"
   ]
  },
  {
   "cell_type": "code",
   "execution_count": 6,
   "metadata": {},
   "outputs": [
    {
     "data": {
      "text/plain": [
       "Parameter containing:\n",
       "tensor([  70.,  400.,  800., 1000., 1300., 2000.], requires_grad=True)"
      ]
     },
     "execution_count": 6,
     "metadata": {},
     "output_type": "execute_result"
    }
   ],
   "source": [
    "pt_file = torch.load('./models/classroomBase/weights.pt', map_location=device)\n",
    "R_0.energy_vector = nn.Parameter(pt_file['model_state_dict']['energy_vector'])\n",
    "R_0.source_response = nn.Parameter(pt_file['model_state_dict']['source_response'])\n",
    "R_0.directivity_sphere = nn.Parameter(pt_file['model_state_dict']['directivity_sphere'])\n",
    "R_0.decay = nn.Parameter(pt_file['model_state_dict']['decay'])\n",
    "R_0.RIR_residual = nn.Parameter(pt_file['model_state_dict']['RIR_residual'])\n",
    "R_0.spline_values = nn.Parameter(pt_file['model_state_dict']['spline_values'])\n",
    "\n",
    "R_0.bp_ord_cut_freqs.to(device)"
   ]
  },
  {
   "cell_type": "code",
   "execution_count": 7,
   "metadata": {},
   "outputs": [
    {
     "name": "stdout",
     "output_type": "stream",
     "text": [
      "frequency response tensor([[4.5546e-02, 4.5546e-02, 6.2867e-01,  ..., 1.6183e-01, 1.6183e-01,\n",
      "         1.6183e-01],\n",
      "        [2.5605e-02, 2.5605e-02, 3.4855e-01,  ..., 2.6467e-02, 2.6467e-02,\n",
      "         2.6467e-02],\n",
      "        [1.2562e-02, 1.2562e-02, 3.8377e-01,  ..., 1.0689e-02, 1.0689e-02,\n",
      "         1.0689e-02],\n",
      "        ...,\n",
      "        [5.4416e-08, 5.4416e-08, 2.2072e-05,  ..., 7.4562e-10, 7.4562e-10,\n",
      "         7.4562e-10],\n",
      "        [5.6889e-08, 5.6889e-08, 1.1741e-05,  ..., 1.3788e-10, 1.3788e-10,\n",
      "         1.3788e-10],\n",
      "        [1.6537e-08, 1.6537e-08, 1.1544e-05,  ..., 9.4752e-11, 9.4752e-11,\n",
      "         9.4752e-11]], dtype=torch.float64, grad_fn=<MulBackward0>)\n",
      "frequency response shape torch.Size([851, 6930])\n",
      "path:  1 of 851\n"
     ]
    },
    {
     "data": {
      "text/plain": [
       "[{'angle': [0, -90.0],\n",
       "  'f_response': tensor([ 0.0036+0.0000j, -0.0084-0.0125j, -0.0271-0.0009j,  ...,\n",
       "           0.0210+0.0240j,  0.0280+0.0159j,  0.0319+0.0056j],\n",
       "         grad_fn=<CopySlices>),\n",
       "  't_response': tensor([-4.7866e-06, -4.7539e-06, -2.5393e-05,  ..., -2.0074e-18,\n",
       "           5.5062e-19,  8.1095e-19], grad_fn=<MulBackward0>)},\n",
       " {'angle': [0.0, -30.0],\n",
       "  'f_response': tensor([ 0.0036+0.0000j, -0.0084-0.0125j, -0.0271-0.0009j,  ...,\n",
       "           0.0579+0.0662j,  0.0770+0.0437j,  0.0877+0.0153j],\n",
       "         grad_fn=<CopySlices>),\n",
       "  't_response': tensor([-1.4525e-05, -1.0936e-05, -6.7143e-05,  ..., -5.5795e-18,\n",
       "           2.4707e-18, -2.4241e-18], grad_fn=<MulBackward0>)},\n",
       " {'angle': [60.0, -30.0],\n",
       "  'f_response': tensor([ 0.0036+0.0000j, -0.0084-0.0125j, -0.0271-0.0009j,  ...,\n",
       "           0.0098+0.0112j,  0.0130+0.0074j,  0.0148+0.0026j],\n",
       "         grad_fn=<CopySlices>),\n",
       "  't_response': tensor([-1.0548e-05, -1.4172e-05, -6.2088e-05,  ..., -1.6504e-19,\n",
       "          -4.5561e-20, -9.0024e-19], grad_fn=<MulBackward0>)},\n",
       " {'angle': [120.0, -30.0],\n",
       "  'f_response': tensor([ 0.0036+0.0000j, -0.0084-0.0125j, -0.0271-0.0009j,  ...,\n",
       "           0.0084+0.0096j,  0.0112+0.0063j,  0.0127+0.0022j],\n",
       "         grad_fn=<CopySlices>),\n",
       "  't_response': tensor([ 1.5497e-05,  1.8142e-05,  8.3495e-05,  ..., -8.6963e-19,\n",
       "          -1.5943e-19,  4.9624e-19], grad_fn=<MulBackward0>)},\n",
       " {'angle': [180.0, -30.0],\n",
       "  'f_response': tensor([ 0.0036+0.0000j, -0.0084-0.0125j, -0.0271-0.0009j,  ...,\n",
       "           0.0126+0.0144j,  0.0168+0.0095j,  0.0191+0.0033j],\n",
       "         grad_fn=<CopySlices>),\n",
       "  't_response': tensor([ 1.5071e-05,  2.1822e-05,  9.1012e-05,  ..., -9.8092e-19,\n",
       "          -3.1071e-19,  4.3795e-19], grad_fn=<MulBackward0>)},\n",
       " {'angle': [240.0, -30.0],\n",
       "  'f_response': tensor([ 0.0036+0.0000j, -0.0084-0.0125j, -0.0271-0.0009j,  ...,\n",
       "           0.0021+0.0024j,  0.0028+0.0016j,  0.0032+0.0006j],\n",
       "         grad_fn=<CopySlices>),\n",
       "  't_response': tensor([-2.1603e-05, -2.9959e-05, -1.2894e-04,  ..., -7.6548e-19,\n",
       "          -8.3756e-20,  3.6102e-19], grad_fn=<MulBackward0>)},\n",
       " {'angle': [300.0, -30.0],\n",
       "  'f_response': tensor([ 0.0036+0.0000j, -0.0084-0.0125j, -0.0271-0.0009j,  ...,\n",
       "           0.0134+0.0153j,  0.0178+0.0101j,  0.0203+0.0035j],\n",
       "         grad_fn=<CopySlices>),\n",
       "  't_response': tensor([ 6.5297e-05,  8.0163e-05,  3.6244e-04,  ..., -1.5394e-19,\n",
       "           8.4360e-19, -6.5987e-19], grad_fn=<MulBackward0>)},\n",
       " {'angle': [0.0, 30.0],\n",
       "  'f_response': tensor([ 0.0036+0.0000j, -0.0084-0.0125j, -0.0271-0.0009j,  ...,\n",
       "           0.1135+0.1299j,  0.1511+0.0857j,  0.1721+0.0300j],\n",
       "         grad_fn=<CopySlices>),\n",
       "  't_response': tensor([ 3.9920e-05,  4.8090e-05,  2.1253e-04,  ..., -9.9519e-18,\n",
       "          -4.5012e-18, -6.3418e-19], grad_fn=<MulBackward0>)},\n",
       " {'angle': [60.0, 30.0],\n",
       "  'f_response': tensor([ 0.0036+0.0000j, -0.0084-0.0125j, -0.0271-0.0009j,  ...,\n",
       "           0.0317+0.0363j,  0.0422+0.0239j,  0.0481+0.0084j],\n",
       "         grad_fn=<CopySlices>),\n",
       "  't_response': tensor([ 2.1849e-05,  2.8880e-05,  1.2510e-04,  ..., -2.3104e-18,\n",
       "           8.9666e-19, -1.4950e-18], grad_fn=<MulBackward0>)},\n",
       " {'angle': [120.0, 30.0],\n",
       "  'f_response': tensor([ 0.0036+0.0000j, -0.0084-0.0125j, -0.0271-0.0009j,  ...,\n",
       "           0.0210+0.0241j,  0.0280+0.0159j,  0.0319+0.0056j],\n",
       "         grad_fn=<CopySlices>),\n",
       "  't_response': tensor([-3.3306e-05, -4.1095e-05, -1.8686e-04,  ..., -9.7330e-19,\n",
       "          -1.2033e-18, -3.6865e-19], grad_fn=<MulBackward0>)},\n",
       " {'angle': [180.0, 30.0],\n",
       "  'f_response': tensor([ 0.0036+0.0000j, -0.0084-0.0125j, -0.0271-0.0009j,  ...,\n",
       "           0.0100+0.0114j,  0.0133+0.0075j,  0.0151+0.0026j],\n",
       "         grad_fn=<CopySlices>),\n",
       "  't_response': tensor([ 2.0291e-05,  2.2459e-05,  1.0648e-04,  ..., -6.1346e-19,\n",
       "           8.0464e-20, -7.1058e-20], grad_fn=<MulBackward0>)},\n",
       " {'angle': [240.0, 30.0],\n",
       "  'f_response': tensor([ 0.0036+0.0000j, -0.0084-0.0125j, -0.0271-0.0009j,  ...,\n",
       "           0.0211+0.0242j,  0.0281+0.0159j,  0.0320+0.0056j],\n",
       "         grad_fn=<CopySlices>),\n",
       "  't_response': tensor([-4.6933e-06, -4.5972e-06, -2.4780e-05,  ..., -2.4744e-18,\n",
       "          -4.4935e-19,  1.3468e-18], grad_fn=<MulBackward0>)},\n",
       " {'angle': [300.0, 30.0],\n",
       "  'f_response': tensor([ 0.0036+0.0000j, -0.0084-0.0125j, -0.0271-0.0009j,  ...,\n",
       "           0.0444+0.0508j,  0.0591+0.0335j,  0.0673+0.0118j],\n",
       "         grad_fn=<CopySlices>),\n",
       "  't_response': tensor([ 1.7775e-05,  2.5820e-05,  1.0590e-04,  ..., -4.0543e-18,\n",
       "          -3.2033e-19, -1.0158e-18], grad_fn=<MulBackward0>)},\n",
       " {'angle': [0, 90.0],\n",
       "  'f_response': tensor([ 0.0036+0.0000j, -0.0084-0.0125j, -0.0271-0.0009j,  ...,\n",
       "           0.0100+0.0115j,  0.0134+0.0076j,  0.0152+0.0027j],\n",
       "         grad_fn=<CopySlices>),\n",
       "  't_response': tensor([-1.0408e-05, -1.4004e-05, -6.1325e-05,  ..., -4.5863e-19,\n",
       "          -1.5606e-19, -2.3480e-19], grad_fn=<MulBackward0>)}]"
      ]
     },
     "execution_count": 7,
     "metadata": {},
     "output_type": "execute_result"
    }
   ],
   "source": [
    "resp = R_0.render_early_with_learned_beampatterns(L_0)\n",
    "resp"
   ]
  },
  {
   "cell_type": "code",
   "execution_count": 8,
   "metadata": {},
   "outputs": [
    {
     "data": {
      "text/plain": [
       "tensor([-4.7866e-06, -4.7539e-06, -2.5393e-05,  ..., -2.0074e-18,\n",
       "         5.5062e-19,  8.1095e-19], grad_fn=<MulBackward0>)"
      ]
     },
     "execution_count": 8,
     "metadata": {},
     "output_type": "execute_result"
    }
   ],
   "source": [
    "len(resp)\n",
    "resp[0]['t_response']"
   ]
  },
  {
   "cell_type": "code",
   "execution_count": 9,
   "metadata": {},
   "outputs": [
    {
     "data": {
      "image/png": "[encoded data removed]",
      "text/plain": [
       "<Figure size 640x480 with 1 Axes>"
      ]
     },
     "metadata": {},
     "output_type": "display_data"
    }
   ],
   "source": [
    "import torch\n",
    "import matplotlib.pyplot as plt\n",
    "\n",
    "# Step 3: Fare il plot del tensore\n",
    "plt.plot(resp[5]['t_response'].detach().cpu())\n",
    "plt.title(\"Plot del Tensore Monodimensionale\")\n",
    "plt.xlabel(\"Indice\")\n",
    "plt.ylabel(\"Valore\")\n",
    "plt.grid(True)\n",
    "plt.show()\n"
   ]
  },
  {
   "cell_type": "code",
   "execution_count": 10,
   "metadata": {},
   "outputs": [
    {
     "name": "stdout",
     "output_type": "stream",
     "text": [
      "frequency response tensor([[4.5546e-02, 4.5546e-02, 6.2867e-01,  ..., 1.6183e-01, 1.6183e-01,\n",
      "         1.6183e-01],\n",
      "        [2.5605e-02, 2.5605e-02, 3.4855e-01,  ..., 2.6467e-02, 2.6467e-02,\n",
      "         2.6467e-02],\n",
      "        [1.2562e-02, 1.2562e-02, 3.8377e-01,  ..., 1.0689e-02, 1.0689e-02,\n",
      "         1.0689e-02],\n",
      "        ...,\n",
      "        [5.4416e-08, 5.4416e-08, 2.2072e-05,  ..., 7.4562e-10, 7.4562e-10,\n",
      "         7.4562e-10],\n",
      "        [5.6889e-08, 5.6889e-08, 1.1741e-05,  ..., 1.3788e-10, 1.3788e-10,\n",
      "         1.3788e-10],\n",
      "        [1.6537e-08, 1.6537e-08, 1.1544e-05,  ..., 9.4752e-11, 9.4752e-11,\n",
      "         9.4752e-11]], dtype=torch.float64, grad_fn=<MulBackward0>)\n",
      "frequency response shape torch.Size([851, 6930])\n",
      "path:  1 of 851\n"
     ]
    },
    {
     "data": {
      "text/plain": [
       "[{'angle': [0, -90.0],\n",
       "  'f_response': tensor([ 0.0036+0.0000j, -0.0084-0.0125j, -0.0271-0.0009j,  ...,\n",
       "           0.0210+0.0240j,  0.0280+0.0159j,  0.0319+0.0056j],\n",
       "         grad_fn=<CopySlices>),\n",
       "  't_response': tensor([-4.7866e-06, -4.4749e-06, -2.4833e-05,  ...,  4.9885e-07,\n",
       "           4.5558e-07,  4.7935e-07], grad_fn=<AddBackward0>)},\n",
       " {'angle': [0.0, -30.0],\n",
       "  'f_response': tensor([ 0.0036+0.0000j, -0.0084-0.0125j, -0.0271-0.0009j,  ...,\n",
       "           0.0579+0.0662j,  0.0770+0.0437j,  0.0877+0.0153j],\n",
       "         grad_fn=<CopySlices>),\n",
       "  't_response': tensor([-1.4525e-05, -1.0637e-05, -6.6308e-05,  ...,  4.9885e-07,\n",
       "           4.5558e-07,  4.7935e-07], grad_fn=<AddBackward0>)},\n",
       " {'angle': [60.0, -30.0],\n",
       "  'f_response': tensor([ 0.0036+0.0000j, -0.0084-0.0125j, -0.0271-0.0009j,  ...,\n",
       "           0.0098+0.0112j,  0.0130+0.0074j,  0.0148+0.0026j],\n",
       "         grad_fn=<CopySlices>),\n",
       "  't_response': tensor([-1.0548e-05, -1.3862e-05, -6.1287e-05,  ...,  4.9885e-07,\n",
       "           4.5558e-07,  4.7935e-07], grad_fn=<AddBackward0>)},\n",
       " {'angle': [120.0, -30.0],\n",
       "  'f_response': tensor([ 0.0036+0.0000j, -0.0084-0.0125j, -0.0271-0.0009j,  ...,\n",
       "           0.0084+0.0096j,  0.0112+0.0063j,  0.0127+0.0022j],\n",
       "         grad_fn=<CopySlices>),\n",
       "  't_response': tensor([1.5497e-05, 1.8346e-05, 8.3340e-05,  ..., 4.9885e-07, 4.5558e-07,\n",
       "          4.7935e-07], grad_fn=<AddBackward0>)},\n",
       " {'angle': [180.0, -30.0],\n",
       "  'f_response': tensor([ 0.0036+0.0000j, -0.0084-0.0125j, -0.0271-0.0009j,  ...,\n",
       "           0.0126+0.0144j,  0.0168+0.0095j,  0.0191+0.0033j],\n",
       "         grad_fn=<CopySlices>),\n",
       "  't_response': tensor([1.5071e-05, 2.2014e-05, 9.0807e-05,  ..., 4.9885e-07, 4.5558e-07,\n",
       "          4.7935e-07], grad_fn=<AddBackward0>)},\n",
       " {'angle': [240.0, -30.0],\n",
       "  'f_response': tensor([ 0.0036+0.0000j, -0.0084-0.0125j, -0.0271-0.0009j,  ...,\n",
       "           0.0021+0.0024j,  0.0028+0.0016j,  0.0032+0.0006j],\n",
       "         grad_fn=<CopySlices>),\n",
       "  't_response': tensor([-2.1603e-05, -2.9597e-05, -1.2770e-04,  ...,  4.9885e-07,\n",
       "           4.5558e-07,  4.7935e-07], grad_fn=<AddBackward0>)},\n",
       " {'angle': [300.0, -30.0],\n",
       "  'f_response': tensor([ 0.0036+0.0000j, -0.0084-0.0125j, -0.0271-0.0009j,  ...,\n",
       "           0.0134+0.0153j,  0.0178+0.0101j,  0.0203+0.0035j],\n",
       "         grad_fn=<CopySlices>),\n",
       "  't_response': tensor([6.5297e-05, 8.0163e-05, 3.6045e-04,  ..., 4.9885e-07, 4.5558e-07,\n",
       "          4.7935e-07], grad_fn=<AddBackward0>)},\n",
       " {'angle': [0.0, 30.0],\n",
       "  'f_response': tensor([ 0.0036+0.0000j, -0.0084-0.0125j, -0.0271-0.0009j,  ...,\n",
       "           0.1135+0.1299j,  0.1511+0.0857j,  0.1721+0.0300j],\n",
       "         grad_fn=<CopySlices>),\n",
       "  't_response': tensor([3.9920e-05, 4.8195e-05, 2.1152e-04,  ..., 4.9885e-07, 4.5558e-07,\n",
       "          4.7935e-07], grad_fn=<AddBackward0>)},\n",
       " {'angle': [60.0, 30.0],\n",
       "  'f_response': tensor([ 0.0036+0.0000j, -0.0084-0.0125j, -0.0271-0.0009j,  ...,\n",
       "           0.0317+0.0363j,  0.0422+0.0239j,  0.0481+0.0084j],\n",
       "         grad_fn=<CopySlices>),\n",
       "  't_response': tensor([2.1849e-05, 2.9049e-05, 1.2467e-04,  ..., 4.9885e-07, 4.5558e-07,\n",
       "          4.7935e-07], grad_fn=<AddBackward0>)},\n",
       " {'angle': [120.0, 30.0],\n",
       "  'f_response': tensor([ 0.0036+0.0000j, -0.0084-0.0125j, -0.0271-0.0009j,  ...,\n",
       "           0.0210+0.0241j,  0.0280+0.0159j,  0.0319+0.0056j],\n",
       "         grad_fn=<CopySlices>),\n",
       "  't_response': tensor([-3.3306e-05, -4.0697e-05, -1.8524e-04,  ...,  4.9885e-07,\n",
       "           4.5558e-07,  4.7935e-07], grad_fn=<AddBackward0>)},\n",
       " {'angle': [180.0, 30.0],\n",
       "  'f_response': tensor([ 0.0036+0.0000j, -0.0084-0.0125j, -0.0271-0.0009j,  ...,\n",
       "           0.0100+0.0114j,  0.0133+0.0075j,  0.0151+0.0026j],\n",
       "         grad_fn=<CopySlices>),\n",
       "  't_response': tensor([2.0291e-05, 2.2648e-05, 1.0618e-04,  ..., 4.9885e-07, 4.5558e-07,\n",
       "          4.7935e-07], grad_fn=<AddBackward0>)},\n",
       " {'angle': [240.0, 30.0],\n",
       "  'f_response': tensor([ 0.0036+0.0000j, -0.0084-0.0125j, -0.0271-0.0009j,  ...,\n",
       "           0.0211+0.0242j,  0.0281+0.0159j,  0.0320+0.0056j],\n",
       "         grad_fn=<CopySlices>),\n",
       "  't_response': tensor([-4.6933e-06, -4.3186e-06, -2.4224e-05,  ...,  4.9885e-07,\n",
       "           4.5558e-07,  4.7935e-07], grad_fn=<AddBackward0>)},\n",
       " {'angle': [300.0, 30.0],\n",
       "  'f_response': tensor([ 0.0036+0.0000j, -0.0084-0.0125j, -0.0271-0.0009j,  ...,\n",
       "           0.0444+0.0508j,  0.0591+0.0335j,  0.0673+0.0118j],\n",
       "         grad_fn=<CopySlices>),\n",
       "  't_response': tensor([1.7775e-05, 2.5999e-05, 1.0560e-04,  ..., 4.9885e-07, 4.5558e-07,\n",
       "          4.7935e-07], grad_fn=<AddBackward0>)},\n",
       " {'angle': [0, 90.0],\n",
       "  'f_response': tensor([ 0.0036+0.0000j, -0.0084-0.0125j, -0.0271-0.0009j,  ...,\n",
       "           0.0100+0.0115j,  0.0134+0.0076j,  0.0152+0.0027j],\n",
       "         grad_fn=<CopySlices>),\n",
       "  't_response': tensor([-1.0408e-05, -1.3694e-05, -6.0528e-05,  ...,  4.9885e-07,\n",
       "           4.5558e-07,  4.7935e-07], grad_fn=<AddBackward0>)}]"
      ]
     },
     "execution_count": 10,
     "metadata": {},
     "output_type": "execute_result"
    }
   ],
   "source": [
    "resp = R_0.render_RIR_learned_beampattern(L_0)\n",
    "resp"
   ]
  },
  {
   "cell_type": "code",
   "execution_count": 11,
   "metadata": {},
   "outputs": [
    {
     "data": {
      "image/png": "[encoded data removed]",
      "text/plain": [
       "<Figure size 640x480 with 1 Axes>"
      ]
     },
     "metadata": {},
     "output_type": "display_data"
    }
   ],
   "source": [
    "import torch\n",
    "import matplotlib.pyplot as plt\n",
    "\n",
    "# Step 3: Fare il plot del tensore\n",
    "plt.plot(resp[0]['t_response'].detach().cpu())\n",
    "plt.title(\"Plot del Tensore Monodimensionale\")\n",
    "plt.xlabel(\"Indice\")\n",
    "plt.ylabel(\"Valore\")\n",
    "plt.grid(True)\n",
    "plt.show()"
   ]
  },
  {
   "cell_type": "code",
   "execution_count": 12,
   "metadata": {},
   "outputs": [
    {
     "data": {
      "text/plain": [
       "tensor([-7.7284e-10,  3.6873e-06,  5.5102e-06,  ...,  6.9838e-06,\n",
       "         6.3781e-06,  6.7109e-06], grad_fn=<AddBackward0>)"
      ]
     },
     "execution_count": 12,
     "metadata": {},
     "output_type": "execute_result"
    }
   ],
   "source": [
    "resp = R_0.render_RIR(L_0)\n",
    "resp"
   ]
  },
  {
   "cell_type": "code",
   "execution_count": 13,
   "metadata": {},
   "outputs": [
    {
     "data": {
      "image/png": "[encoded data removed]",
      "text/plain": [
       "<Figure size 640x480 with 1 Axes>"
      ]
     },
     "metadata": {},
     "output_type": "display_data"
    }
   ],
   "source": [
    "import torch\n",
    "import matplotlib.pyplot as plt\n",
    "\n",
    "# Step 3: Fare il plot del tensore\n",
    "plt.plot(resp.detach().cpu())\n",
    "plt.title(\"Plot del Tensore Monodimensionale\")\n",
    "plt.xlabel(\"Indice\")\n",
    "plt.ylabel(\"Valore\")\n",
    "plt.grid(True)\n",
    "plt.show()"
   ]
  }
 ],
 "metadata": {
  "kernelspec": {
   "display_name": "Python 3",
   "language": "python",
   "name": "python3"
  },
  "language_info": {
   "codemirror_mode": {
    "name": "ipython",
    "version": 3
   },
   "file_extension": ".py",
   "mimetype": "text/x-python",
   "name": "python",
   "nbconvert_exporter": "python",
   "pygments_lexer": "ipython3",
   "version": "3.11.9"
  }
 },
 "nbformat": 4,
 "nbformat_minor": 2
}
