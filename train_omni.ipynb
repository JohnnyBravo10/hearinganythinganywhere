{
 "cells": [
  {
   "cell_type": "code",
   "execution_count": 1,
   "metadata": {},
   "outputs": [
    {
     "name": "stderr",
     "output_type": "stream",
     "text": [
      "/home/gzanin/.local/lib/python3.11/site-packages/torch/cuda/__init__.py:128: UserWarning: CUDA initialization: CUDA unknown error - this may be due to an incorrectly set up environment, e.g. changing env variable CUDA_VISIBLE_DEVICES after program start. Setting the available devices to be zero. (Triggered internally at ../c10/cuda/CUDAFunctions.cpp:108.)\n",
      "  return torch._C._cuda_getDeviceCount() > 0\n"
     ]
    }
   ],
   "source": [
    "import rooms.dataset\n",
    "import render_optimized as render\n",
    "import torch\n",
    "import torch.nn as nn\n",
    "import metrics\n",
    "import train\n",
    "import os\n",
    "import numpy as np\n",
    "import evaluate\n",
    "import trace1\n",
    "\n",
    "import matplotlib.pyplot as plt"
   ]
  },
  {
   "cell_type": "code",
   "execution_count": 2,
   "metadata": {},
   "outputs": [],
   "source": [
    "torch.set_default_dtype(torch.float32)\n",
    "device = torch.device(\"cuda:0\" if torch.cuda.is_available() else \"cpu\")"
   ]
  },
  {
   "cell_type": "code",
   "execution_count": 3,
   "metadata": {},
   "outputs": [],
   "source": [
    "dataset_name = \"espoo_S2\"\n",
    "\n",
    "D = rooms.dataset.dataLoader(dataset_name)"
   ]
  },
  {
   "cell_type": "code",
   "execution_count": null,
   "metadata": {},
   "outputs": [],
   "source": [
    "#training parameters\n",
    "\n",
    "n_fibonacci = 128 #128 \n",
    "late_stage_model= \"UniformResidual\" #\"UniformResidual\"\n",
    "toa_perturb = True #True\n",
    "model_transmission = False #False\n",
    "\n",
    "skip_train = False #False\n",
    "continue_train = True #False ############\n",
    "\n",
    "n_epochs = 500 #1000 \n",
    "batch_size = 7 #4 #4 nel test ##############If dataset has different microphone types better if batch_size divides N_train and the number of microphones of different type!!!!!!\n",
    "lr = 1e-2 #1e-2\n",
    "pink_noise_supervision = True #True\n",
    "pink_start_epoch = 250 #500\n",
    "fs = 48000 #48000 \n",
    "\n",
    "load_dir= 'precomputed/' + dataset_name\n",
    "#save_dir= '~/espoo_s2_200amb+300om_epochs'\n",
    "save_dir= '~/espoo_s2_200amb+300om_6mics'\n",
    "\n",
    "skip_inference = False #False\n",
    "skip_music = True #False\n",
    "skip_eval = False #False\n",
    "skip_binaural = True #False\n",
    "\n",
    "valid = False #False #Evaluate on valid instead of test"
   ]
  },
  {
   "cell_type": "code",
   "execution_count": 5,
   "metadata": {},
   "outputs": [],
   "source": [
    "R = render.Renderer(n_surfaces=len(D.all_surfaces), n_fibonacci=n_fibonacci,\n",
    "                        late_stage_model=late_stage_model,\n",
    "                        toa_perturb = toa_perturb, model_transmission=model_transmission).to(device)"
   ]
  },
  {
   "cell_type": "code",
   "execution_count": 6,
   "metadata": {},
   "outputs": [],
   "source": [
    "# Use multiple GPUs if available\n",
    "if torch.cuda.device_count() > 1:\n",
    "    print(f\"Using {torch.cuda.device_count()} GPUs\")\n",
    "    R = nn.DataParallel(R).module"
   ]
  },
  {
   "cell_type": "code",
   "execution_count": 7,
   "metadata": {},
   "outputs": [],
   "source": [
    "# Omnidirectional case\n",
    "\n",
    "loss_fcn = metrics.training_loss\n",
    "\n",
    "gt_audio = torch.Tensor(D.RIRs[:, :R.RIR_length])\n",
    "\n",
    "#rendering_method = render.Renderer.render_RIR\n"
   ]
  },
  {
   "cell_type": "markdown",
   "metadata": {},
   "source": [
    "solo per training le prossime"
   ]
  },
  {
   "cell_type": "code",
   "execution_count": 8,
   "metadata": {},
   "outputs": [],
   "source": [
    "def initialize(indices, source_xyz, listener_xyzs, surfaces, load_dir,\n",
    "               ######################################################\n",
    "                rendering_methods,\n",
    "                mic_orientations,\n",
    "                mic_0_gains,\n",
    "                mic_180_loss,\n",
    "                cardioid_exponents):\n",
    "    Ls = []\n",
    "\n",
    "    for idx in indices:\n",
    "        L= render.get_listener(source_xyz=source_xyz, listener_xyz = listener_xyzs[idx], surfaces = surfaces, \n",
    "                               load_dir = load_dir, load_num = idx, speed_of_sound = D.speed_of_sound, \n",
    "                               max_order = D.max_order, parallel_surface_pairs = D.parallel_surface_pairs, \n",
    "                               max_axial_order = D.max_axial_order, \n",
    "                               ####################################################\n",
    "                               rendering_method = rendering_methods[idx], mic_orientation = mic_orientations[idx], mic_0_gains = mic_0_gains[idx], mic_180_loss = mic_180_loss[idx], cardioid_exponents = cardioid_exponents[idx])\n",
    "        Ls.append(L)\n",
    "    return Ls"
   ]
  },
  {
   "cell_type": "code",
   "execution_count": 9,
   "metadata": {},
   "outputs": [
    {
     "name": "stdout",
     "output_type": "stream",
     "text": [
      "Training\n",
      "Listener Loading From: precomputed/espoo_S2\n",
      "Listener Loading From: precomputed/espoo_S2\n",
      "Listener Loading From: precomputed/espoo_S2\n",
      "Listener Loading From: precomputed/espoo_S2\n",
      "Listener Loading From: precomputed/espoo_S2\n",
      "Listener Loading From: precomputed/espoo_S2\n"
     ]
    },
    {
     "name": "stderr",
     "output_type": "stream",
     "text": [
      "/tmp/ipykernel_68432/3893329438.py:20: FutureWarning: You are using `torch.load` with `weights_only=False` (the current default value), which uses the default pickle module implicitly. It is possible to construct malicious pickle data which will execute arbitrary code during unpickling (See https://github.com/pytorch/pytorch/blob/main/SECURITY.md#untrusted-models for more details). In a future release, the default value for `weights_only` will be flipped to `True`. This limits the functions that could be executed during unpickling. Arbitrary objects will no longer be allowed to be loaded via this mode unless they are explicitly allowlisted by the user via `torch.serialization.add_safe_globals`. We recommend you start setting `weights_only=True` for any use case where you don't have full control of the loaded file. Please open an issue on GitHub for any issues related to this experimental feature.\n",
      "  R.load_state_dict(torch.load(os.path.join(save_dir,\"weights.pt\"), map_location = device)['model_state_dict'])\n"
     ]
    },
    {
     "ename": "FileNotFoundError",
     "evalue": "[Errno 2] No such file or directory: '~/espoo_s2_200amb+300om_epochs_6mics/weights.pt'",
     "output_type": "error",
     "traceback": [
      "\u001b[0;31m---------------------------------------------------------------------------\u001b[0m",
      "\u001b[0;31mFileNotFoundError\u001b[0m                         Traceback (most recent call last)",
      "Cell \u001b[0;32mIn[9], line 20\u001b[0m\n\u001b[1;32m      8\u001b[0m     Ls \u001b[38;5;241m=\u001b[39m initialize(indices\u001b[38;5;241m=\u001b[39mD\u001b[38;5;241m.\u001b[39mtrain_indices,\n\u001b[1;32m      9\u001b[0m                     listener_xyzs\u001b[38;5;241m=\u001b[39mD\u001b[38;5;241m.\u001b[39mxyzs,\n\u001b[1;32m     10\u001b[0m                     source_xyz\u001b[38;5;241m=\u001b[39mD\u001b[38;5;241m.\u001b[39mspeaker_xyz,\n\u001b[0;32m   (...)\u001b[0m\n\u001b[1;32m     17\u001b[0m                     mic_180_loss \u001b[38;5;241m=\u001b[39m D\u001b[38;5;241m.\u001b[39mmic_180_loss,\n\u001b[1;32m     18\u001b[0m                     cardioid_exponents \u001b[38;5;241m=\u001b[39m D\u001b[38;5;241m.\u001b[39mcardioid_exponents)\n\u001b[1;32m     19\u001b[0m     \u001b[38;5;28;01mif\u001b[39;00m continue_train:\n\u001b[0;32m---> 20\u001b[0m         R\u001b[38;5;241m.\u001b[39mload_state_dict(\u001b[43mtorch\u001b[49m\u001b[38;5;241;43m.\u001b[39;49m\u001b[43mload\u001b[49m\u001b[43m(\u001b[49m\u001b[43mos\u001b[49m\u001b[38;5;241;43m.\u001b[39;49m\u001b[43mpath\u001b[49m\u001b[38;5;241;43m.\u001b[39;49m\u001b[43mjoin\u001b[49m\u001b[43m(\u001b[49m\u001b[43msave_dir\u001b[49m\u001b[43m,\u001b[49m\u001b[38;5;124;43m\"\u001b[39;49m\u001b[38;5;124;43mweights.pt\u001b[39;49m\u001b[38;5;124;43m\"\u001b[39;49m\u001b[43m)\u001b[49m\u001b[43m,\u001b[49m\u001b[43m \u001b[49m\u001b[43mmap_location\u001b[49m\u001b[43m \u001b[49m\u001b[38;5;241;43m=\u001b[39;49m\u001b[43m \u001b[49m\u001b[43mdevice\u001b[49m\u001b[43m)\u001b[49m[\u001b[38;5;124m'\u001b[39m\u001b[38;5;124mmodel_state_dict\u001b[39m\u001b[38;5;124m'\u001b[39m])\n\u001b[1;32m     22\u001b[0m     losses \u001b[38;5;241m=\u001b[39m train\u001b[38;5;241m.\u001b[39mtrain_loop(R\u001b[38;5;241m=\u001b[39mR, Ls\u001b[38;5;241m=\u001b[39mLs, train_gt_audio\u001b[38;5;241m=\u001b[39mgt_audio[D\u001b[38;5;241m.\u001b[39mtrain_indices], D\u001b[38;5;241m=\u001b[39mD,\n\u001b[1;32m     23\u001b[0m                         n_epochs \u001b[38;5;241m=\u001b[39m n_epochs, batch_size \u001b[38;5;241m=\u001b[39m batch_size, lr \u001b[38;5;241m=\u001b[39m lr, loss_fcn \u001b[38;5;241m=\u001b[39m loss_fcn,\n\u001b[1;32m     24\u001b[0m                         save_dir\u001b[38;5;241m=\u001b[39msave_dir,\n\u001b[1;32m     25\u001b[0m                         pink_noise_supervision \u001b[38;5;241m=\u001b[39m pink_noise_supervision,\n\u001b[1;32m     26\u001b[0m                         pink_start_epoch\u001b[38;5;241m=\u001b[39mpink_start_epoch,\n\u001b[1;32m     27\u001b[0m                         continue_train \u001b[38;5;241m=\u001b[39m continue_train, fs\u001b[38;5;241m=\u001b[39mfs)\n\u001b[1;32m     29\u001b[0m \u001b[38;5;28;01melse\u001b[39;00m:\n",
      "File \u001b[0;32m~/.local/lib/python3.11/site-packages/torch/serialization.py:1065\u001b[0m, in \u001b[0;36mload\u001b[0;34m(f, map_location, pickle_module, weights_only, mmap, **pickle_load_args)\u001b[0m\n\u001b[1;32m   1062\u001b[0m \u001b[38;5;28;01mif\u001b[39;00m \u001b[38;5;124m'\u001b[39m\u001b[38;5;124mencoding\u001b[39m\u001b[38;5;124m'\u001b[39m \u001b[38;5;129;01mnot\u001b[39;00m \u001b[38;5;129;01min\u001b[39;00m pickle_load_args\u001b[38;5;241m.\u001b[39mkeys():\n\u001b[1;32m   1063\u001b[0m     pickle_load_args[\u001b[38;5;124m'\u001b[39m\u001b[38;5;124mencoding\u001b[39m\u001b[38;5;124m'\u001b[39m] \u001b[38;5;241m=\u001b[39m \u001b[38;5;124m'\u001b[39m\u001b[38;5;124mutf-8\u001b[39m\u001b[38;5;124m'\u001b[39m\n\u001b[0;32m-> 1065\u001b[0m \u001b[38;5;28;01mwith\u001b[39;00m \u001b[43m_open_file_like\u001b[49m\u001b[43m(\u001b[49m\u001b[43mf\u001b[49m\u001b[43m,\u001b[49m\u001b[43m \u001b[49m\u001b[38;5;124;43m'\u001b[39;49m\u001b[38;5;124;43mrb\u001b[39;49m\u001b[38;5;124;43m'\u001b[39;49m\u001b[43m)\u001b[49m \u001b[38;5;28;01mas\u001b[39;00m opened_file:\n\u001b[1;32m   1066\u001b[0m     \u001b[38;5;28;01mif\u001b[39;00m _is_zipfile(opened_file):\n\u001b[1;32m   1067\u001b[0m         \u001b[38;5;66;03m# The zipfile reader is going to advance the current file position.\u001b[39;00m\n\u001b[1;32m   1068\u001b[0m         \u001b[38;5;66;03m# If we want to actually tail call to torch.jit.load, we need to\u001b[39;00m\n\u001b[1;32m   1069\u001b[0m         \u001b[38;5;66;03m# reset back to the original position.\u001b[39;00m\n\u001b[1;32m   1070\u001b[0m         orig_position \u001b[38;5;241m=\u001b[39m opened_file\u001b[38;5;241m.\u001b[39mtell()\n",
      "File \u001b[0;32m~/.local/lib/python3.11/site-packages/torch/serialization.py:468\u001b[0m, in \u001b[0;36m_open_file_like\u001b[0;34m(name_or_buffer, mode)\u001b[0m\n\u001b[1;32m    466\u001b[0m \u001b[38;5;28;01mdef\u001b[39;00m \u001b[38;5;21m_open_file_like\u001b[39m(name_or_buffer, mode):\n\u001b[1;32m    467\u001b[0m     \u001b[38;5;28;01mif\u001b[39;00m _is_path(name_or_buffer):\n\u001b[0;32m--> 468\u001b[0m         \u001b[38;5;28;01mreturn\u001b[39;00m \u001b[43m_open_file\u001b[49m\u001b[43m(\u001b[49m\u001b[43mname_or_buffer\u001b[49m\u001b[43m,\u001b[49m\u001b[43m \u001b[49m\u001b[43mmode\u001b[49m\u001b[43m)\u001b[49m\n\u001b[1;32m    469\u001b[0m     \u001b[38;5;28;01melse\u001b[39;00m:\n\u001b[1;32m    470\u001b[0m         \u001b[38;5;28;01mif\u001b[39;00m \u001b[38;5;124m'\u001b[39m\u001b[38;5;124mw\u001b[39m\u001b[38;5;124m'\u001b[39m \u001b[38;5;129;01min\u001b[39;00m mode:\n",
      "File \u001b[0;32m~/.local/lib/python3.11/site-packages/torch/serialization.py:449\u001b[0m, in \u001b[0;36m_open_file.__init__\u001b[0;34m(self, name, mode)\u001b[0m\n\u001b[1;32m    448\u001b[0m \u001b[38;5;28;01mdef\u001b[39;00m \u001b[38;5;21m__init__\u001b[39m(\u001b[38;5;28mself\u001b[39m, name, mode):\n\u001b[0;32m--> 449\u001b[0m     \u001b[38;5;28msuper\u001b[39m()\u001b[38;5;241m.\u001b[39m\u001b[38;5;21m__init__\u001b[39m(\u001b[38;5;28;43mopen\u001b[39;49m\u001b[43m(\u001b[49m\u001b[43mname\u001b[49m\u001b[43m,\u001b[49m\u001b[43m \u001b[49m\u001b[43mmode\u001b[49m\u001b[43m)\u001b[49m)\n",
      "\u001b[0;31mFileNotFoundError\u001b[0m: [Errno 2] No such file or directory: '~/espoo_s2_200amb+300om_epochs_6mics/weights.pt'"
     ]
    }
   ],
   "source": [
    "\"\"\"\n",
    "Training\n",
    "\"\"\"\n",
    "if not skip_train:\n",
    "    print(\"Training\")\n",
    "\n",
    "    #Initialize Listeners\n",
    "    Ls = initialize(indices=D.train_indices,\n",
    "                    listener_xyzs=D.xyzs,\n",
    "                    source_xyz=D.speaker_xyz,\n",
    "                    surfaces=D.all_surfaces,\n",
    "                    load_dir=load_dir,\n",
    "                    #######################################\n",
    "                    rendering_methods = D.rendering_methods, #############should define the rendering method for every listener!!!!!!!!!!!!!!!!!!!!!!!!\n",
    "                    mic_orientations = D.mic_orientations,#############and all this other stuff!!!!!!!!!!!\n",
    "                    mic_0_gains= D.mic_0_gains, ############################it's needed for the microphone responses!!!!!!!!!!!!!!!!!!!!!!\n",
    "                    mic_180_loss = D.mic_180_loss,\n",
    "                    cardioid_exponents = D.cardioid_exponents)\n",
    "    if continue_train:\n",
    "        R.load_state_dict(torch.load(os.path.join(save_dir,\"weights.pt\"), map_location = device)['model_state_dict'])\n",
    "\n",
    "    losses = train.train_loop(R=R, Ls=Ls, train_gt_audio=gt_audio[D.train_indices], D=D,\n",
    "                        n_epochs = n_epochs, batch_size = batch_size, lr = lr, loss_fcn = loss_fcn,\n",
    "                        save_dir=save_dir,\n",
    "                        pink_noise_supervision = pink_noise_supervision,\n",
    "                        pink_start_epoch=pink_start_epoch,\n",
    "                        continue_train = continue_train, fs=fs)\n",
    "\n",
    "else:\n",
    "    R.load_state_dict(torch.load(os.path.join(save_dir,\"weights.pt\"))['model_state_dict'])\n",
    "    R.train = False\n",
    "    R.toa_perturb = False"
   ]
  },
  {
   "cell_type": "markdown",
   "metadata": {},
   "source": [
    "Inference and evaluation"
   ]
  },
  {
   "cell_type": "code",
   "execution_count": null,
   "metadata": {},
   "outputs": [],
   "source": [
    "dataset_name = \"espoo_S2\"\n",
    "\n",
    "D = rooms.dataset.dataLoader(dataset_name)"
   ]
  },
  {
   "cell_type": "code",
   "execution_count": null,
   "metadata": {},
   "outputs": [],
   "source": [
    "print(D.test_indices)"
   ]
  },
  {
   "cell_type": "code",
   "execution_count": null,
   "metadata": {},
   "outputs": [],
   "source": [
    "R = render.Renderer(n_surfaces=len(D.all_surfaces), n_fibonacci=n_fibonacci,\n",
    "                        late_stage_model=late_stage_model,\n",
    "                        toa_perturb = toa_perturb, model_transmission=model_transmission).to(device) "
   ]
  },
  {
   "cell_type": "code",
   "execution_count": null,
   "metadata": {},
   "outputs": [],
   "source": [
    "gt_audio = torch.Tensor(D.RIRs[:, :R.RIR_length])"
   ]
  },
  {
   "cell_type": "code",
   "execution_count": null,
   "metadata": {},
   "outputs": [
    {
     "name": "stderr",
     "output_type": "stream",
     "text": [
      "/tmp/ipykernel_48181/4204995420.py:1: FutureWarning: You are using `torch.load` with `weights_only=False` (the current default value), which uses the default pickle module implicitly. It is possible to construct malicious pickle data which will execute arbitrary code during unpickling (See https://github.com/pytorch/pytorch/blob/main/SECURITY.md#untrusted-models for more details). In a future release, the default value for `weights_only` will be flipped to `True`. This limits the functions that could be executed during unpickling. Arbitrary objects will no longer be allowed to be loaded via this mode unless they are explicitly allowlisted by the user via `torch.serialization.add_safe_globals`. We recommend you start setting `weights_only=True` for any use case where you don't have full control of the loaded file. Please open an issue on GitHub for any issues related to this experimental feature.\n",
      "  pt_file = torch.load(save_dir + '/weights.pt', map_location=device)\n"
     ]
    }
   ],
   "source": [
    "pt_file = torch.load(save_dir + '/weights.pt', map_location=device)\n",
    "R.energy_vector = nn.Parameter(pt_file['model_state_dict']['energy_vector'])\n",
    "R.source_response = nn.Parameter(pt_file['model_state_dict']['source_response'])\n",
    "R.directivity_sphere = nn.Parameter(pt_file['model_state_dict']['directivity_sphere'])\n",
    "R.decay = nn.Parameter(pt_file['model_state_dict']['decay'])\n",
    "R.RIR_residual = nn.Parameter(pt_file['model_state_dict']['RIR_residual'])\n",
    "R.spline_values = nn.Parameter(pt_file['model_state_dict']['spline_values'])\n",
    "\n",
    "R.bp_ord_cut_freqs = nn.Parameter(pt_file['model_state_dict']['bp_ord_cut_freqs'])"
   ]
  },
  {
   "cell_type": "code",
   "execution_count": null,
   "metadata": {},
   "outputs": [],
   "source": [
    "#Note - this function relies on precomputed reflection paths\n",
    "#########above in the original code, I added the case where there are no precomputed paths\n",
    "def inference(R, source_xyz, xyzs, load_dir, source_axis_1=None, source_axis_2=None):\n",
    "    \"\"\"\n",
    "    Render monoaural RIRs at given precomputed reflection paths.\n",
    "\n",
    "    Parameters\n",
    "    ----------\n",
    "    R: Renderer\n",
    "        renderer to perform inference on\n",
    "    source_xyz: np.array (3,)\n",
    "        3D location of source in meters\n",
    "    xyzs: np.array (N, 3)\n",
    "        set of listener locations to render at\n",
    "    load_dir: str\n",
    "        directory to load precomputed listener paths\n",
    "    source_axis_1: np.array (3,)\n",
    "        first axis specifying virtual source rotation,\n",
    "        default is None which is (1,0,0)\n",
    "    source_axis_2: np.array (3,)\n",
    "        second axis specifying virtual source rotation,\n",
    "        default is None which is (0,1,0)    \n",
    "\n",
    "    Returns\n",
    "    -------\n",
    "    predictions: np.array (N, T) of predicted RIRs    \n",
    "    \"\"\"\n",
    "\n",
    "    predictions = np.zeros((xyzs.shape[0], R.RIR_length))\n",
    "\n",
    "    with torch.no_grad():\n",
    "        R.toa_perturb = False\n",
    "        for idx in range(xyzs.shape[0]):\n",
    "            print(idx, flush=True)\n",
    "            \n",
    "            if load_dir is None: \n",
    "                # Tracing from Scratch\n",
    "                reflections, transmissions, delays, start_directions, end_directions = (\n",
    "                    trace1.get_reflections_transmissions_and_delays(\n",
    "                    source=source_xyz, dest=xyzs[idx], surfaces=D.all_surfaces, speed_of_sound=D.speed_of_sound,\n",
    "                    max_order=D.max_order,parallel_surface_pairs=D.parallel_surface_pairs, max_axial_order=D.max_axial_order)\n",
    "                )\n",
    "                \n",
    "            else:   \n",
    "                reflections = np.load(os.path.join(load_dir, \"reflections/\"+str(idx)+\".npy\"), allow_pickle=True)\n",
    "                transmissions = np.load(os.path.join(load_dir, \"transmissions/\"+str(idx)+\".npy\"), allow_pickle=True)\n",
    "                delays = np.load(os.path.join(load_dir, \"delays/\"+str(idx)+\".npy\"),allow_pickle=True)\n",
    "                start_directions = np.load(os.path.join(load_dir, \"starts/\"+str(idx)+\".npy\"))\n",
    "                end_directions = np.load(os.path.join(load_dir, \"ends/\"+str(idx)+\".npy\"))\n",
    "\n",
    "            L = render.ListenerLocation(\n",
    "                source_xyz=source_xyz,\n",
    "                listener_xyz=xyzs[idx],\n",
    "                n_surfaces=R.n_surfaces,\n",
    "                reflections=reflections,\n",
    "                transmissions=transmissions,\n",
    "                delays=delays,\n",
    "                start_directions = start_directions,\n",
    "                end_directions=end_directions)\n",
    "            ########################################################\n",
    "            #predict = R.render_RIR(L, source_axis_1=source_axis_1, source_axis_2=source_axis_2)\n",
    "            ########################################################\n",
    "            predict = R.render_RIR_omni(L, source_axis_1=source_axis_1, source_axis_2=source_axis_2)\n",
    "            \n",
    "            predictions[idx] = predict.detach().cpu().numpy()\n",
    "\n",
    "    return predictions"
   ]
  },
  {
   "cell_type": "code",
   "execution_count": null,
   "metadata": {},
   "outputs": [
    {
     "name": "stdout",
     "output_type": "stream",
     "text": [
      "0\n",
      "1\n",
      "2\n",
      "3\n",
      "4\n",
      "5\n",
      "6\n",
      "multiscale_log_l1 Metric:\n",
      "0.959359264356743\n",
      "env_loss Metric:\n",
      "0.22819484981371949\n",
      "rt60_error Metric:\n",
      "177.62771006992884\n",
      "rt60_diff Metric:\n",
      "0.005035714046763522\n"
     ]
    },
    {
     "name": "stderr",
     "output_type": "stream",
     "text": [
      "/home/gzanin/Desktop/hearinganythinganywhere/evaluate.py:26: UserWarning: To copy construct from a tensor, it is recommended to use sourceTensor.clone().detach() or sourceTensor.clone().detach().requires_grad_(True), rather than torch.tensor(sourceTensor).\n",
      "  errors[i] = metric(torch.tensor(predicted_audios[i]).to(device), torch.tensor(gt_audios[i]).to(device))\n"
     ]
    }
   ],
   "source": [
    "\"\"\"\n",
    "Inference, rendering RIR\n",
    "\"\"\"\n",
    "R.train = False\n",
    "R.toa_perturb = False\n",
    "###############################################\n",
    "R.mic_direction = torch.Tensor([0,1,0])\n",
    "R.mic_0_gain = {0: 0, 50:1, 1000:1, 5000: 1, 10000: 1, 15000: 1, 20000: 1}\n",
    "R.mic_180_loss = {0:0, 50:0, 1000: 0,  5000: 0, 10000: 0, 15000: 0, 20000: 0}\n",
    "###############################################\n",
    "pred_dir = os.path.join(save_dir, \"predictions\")\n",
    "if not skip_inference:\n",
    "    pred_rirs = inference(R=R, source_xyz=D.speaker_xyz, \n",
    "                          xyzs=D.xyzs[:(len(D.train_indices)+len(D.test_indices) + len(D.valid_indices))],\n",
    "                            load_dir=load_dir,\n",
    "                            source_axis_1= np.array([0.648, -0.762, 0]),####s3 SOURCE ROTATION AXIS\n",
    "                            source_axis_2= np.array([0.762, 0.648, 0]))\n",
    "    train.makedir_if_needed(pred_dir)\n",
    "    np.save(os.path.join(pred_dir, \"pred_rirs.npy\"), pred_rirs)\n",
    "\n",
    "    if not skip_music:\n",
    "        pred_music = evaluate.render_music(pred_rirs, D.music_dls)    \n",
    "        np.save(os.path.join(pred_dir,\"pred_musics.npy\"), pred_music)\n",
    "else:\n",
    "    pred_rirs = np.load(os.path.join(pred_dir, \"pred_rirs.npy\"))\n",
    "    pred_music = np.load(os.path.join(pred_dir, \"pred_musics.npy\"))\n",
    "    \n",
    "    \n",
    "\"\"\"\n",
    "Evaluation of Monoaural Audio Using Metrics\n",
    "\"\"\"\n",
    "if not skip_eval:\n",
    "    errors_dir = os.path.join(save_dir, \"errors\")\n",
    "    train.makedir_if_needed(errors_dir)\n",
    "    list_of_metrics = metrics.baseline_metrics\n",
    "\n",
    "    if valid:\n",
    "        eval_indices = D.valid_indices\n",
    "    else:\n",
    "        eval_indices = D.test_indices\n",
    "\n",
    "    # Evaluating RIR Interp\n",
    "    for eval_metric in list_of_metrics:\n",
    "\n",
    "        metric_name = eval_metric.__name__\n",
    "        errors = evaluate.compute_error(pred_rirs, gt_audio, metric=eval_metric, device=\"cpu\") #original code#changed cuda to cpu!!!!!!!!\n",
    "        #errors = evaluate.compute_error(pred_rirs[eval_indices], gt_audio[eval_indices], metric=eval_metric)\n",
    "        \n",
    "        np.save(os.path.join(errors_dir, \"errors_\" + metric_name +\".npy\"), errors)\n",
    "        print(metric_name + \" Metric:\", flush=True)\n",
    "        print(np.mean(errors[eval_indices]))\n",
    "        #print(np.mean(errors))\n",
    "        \n",
    "    # Evaluating Music Interp\n",
    "    if not skip_music:\n",
    "        for eval_metric in list_of_metrics:\n",
    "\n",
    "            metric_name = eval_metric.__name__\n",
    "\n",
    "            # Computing Error\n",
    "            errors_music = evaluate.eval_music(pred_music, D.music, eval_metric)\n",
    "            #errors_music = evaluate.eval_music(pred_music[eval_indices], D.music[eval_indices], eval_metric)\n",
    "            \n",
    "            np.save(os.path.join(errors_dir, \"errors_music_\" + metric_name +\".npy\"), errors_music)\n",
    "            print(metric_name + \" Music Metric:\", flush=True)\n",
    "            print(np.mean(errors_music[eval_indices]))\n",
    "            #print(np.mean(errors_music))"
   ]
  },
  {
   "cell_type": "markdown",
   "metadata": {},
   "source": [
    "Binaural Rendering"
   ]
  },
  {
   "cell_type": "code",
   "execution_count": 14,
   "metadata": {},
   "outputs": [],
   "source": [
    "import binauralize\n",
    "\n",
    "\"\"\"\n",
    "Binaural Rendering\n",
    "\"\"\"\n",
    "if not skip_binaural:\n",
    "    pred_binaural_RIRs = []\n",
    "    for i in range(D.bin_xyzs.shape[0]):\n",
    "        binaural_RIR_xyz = D.bin_xyzs[i]\n",
    "        bin_rir = binauralize.render_binaural(R=R, source_xyz = D.speaker_xyz,\n",
    "                                            source_axis_1=None, source_axis_2=None,\n",
    "                                            listener_xyz=binaural_RIR_xyz,\n",
    "                                            listener_forward=D.default_binaural_listener_forward, \n",
    "                                            listener_left=D.default_binaural_listener_left,\n",
    "                                            surfaces=D.all_surfaces,\n",
    "                                            speed_of_sound=D.speed_of_sound,\n",
    "                                            parallel_surface_pairs=D.parallel_surface_pairs,\n",
    "                                            max_order=D.max_order, max_axial_order=D.max_axial_order)\n",
    "\n",
    "        pred_binaural_RIRs.append(bin_rir)\n",
    "\n",
    "    pred_binaural_RIRs = np.array(pred_binaural_RIRs)\n",
    "    np.save(os.path.join(pred_dir, \"pred_bin_RIRs.npy\"), pred_binaural_RIRs)\n",
    "\n",
    "    if not skip_music:\n",
    "        pred_L = pred_binaural_RIRs[:,0,:]\n",
    "        pred_R = pred_binaural_RIRs[:,1,:]\n",
    "\n",
    "        pred_L_music = evaluate.render_music(pred_L, D.music_dls[:pred_L.shape[0]])\n",
    "        pred_R_music = evaluate.render_music(pred_R, D.music_dls[:pred_R.shape[0]])\n",
    "\n",
    "        pred_bin_music = np.stack((pred_L_music, pred_R_music), axis=2)\n",
    "        print(pred_bin_music.shape)\n",
    "        np.save(os.path.join(pred_dir, \"pred_bin_musics.npy\"), pred_bin_music)"
   ]
  },
  {
   "cell_type": "markdown",
   "metadata": {},
   "source": [
    "prova di ascolto"
   ]
  },
  {
   "cell_type": "code",
   "execution_count": 15,
   "metadata": {},
   "outputs": [
    {
     "name": "stdout",
     "output_type": "stream",
     "text": [
      "Listener Loading From: precomputed/espoo_S2\n",
      "Listener Loading From: precomputed/espoo_S2\n"
     ]
    }
   ],
   "source": [
    "listener_1 = render.get_listener(source_xyz= np.array([5,3,1.5]), listener_xyz = np.array([5,7,1.5]), surfaces = D.all_surfaces, \n",
    "                               load_dir = load_dir, load_num = 0, speed_of_sound = D.speed_of_sound, \n",
    "                               max_order = D.max_order, parallel_surface_pairs = D.parallel_surface_pairs, \n",
    "                               max_axial_order = D.max_axial_order)\n",
    "\n",
    "listener_2 = render.get_listener(source_xyz= np.array([9.9,9.9,2.9]), listener_xyz = np.array([5,3,1.5]), surfaces = D.all_surfaces, \n",
    "                               load_dir = load_dir, load_num = 1, speed_of_sound = D.speed_of_sound, \n",
    "                               max_order = D.max_order, parallel_surface_pairs = D.parallel_surface_pairs, \n",
    "                               max_axial_order = D.max_axial_order)"
   ]
  },
  {
   "cell_type": "code",
   "execution_count": 16,
   "metadata": {},
   "outputs": [],
   "source": [
    "RIR_1 = R.render_RIR(listener_1)"
   ]
  },
  {
   "cell_type": "code",
   "execution_count": 17,
   "metadata": {},
   "outputs": [],
   "source": [
    "RIR_2 = R.render_RIR(listener_2)"
   ]
  },
  {
   "cell_type": "code",
   "execution_count": 18,
   "metadata": {},
   "outputs": [
    {
     "data": {
      "image/png": "[encoded data removed]",
      "text/plain": [
       "<Figure size 640x480 with 1 Axes>"
      ]
     },
     "metadata": {},
     "output_type": "display_data"
    }
   ],
   "source": [
    "# RIR_1 plot\n",
    "plt.plot(RIR_1.detach().cpu())\n",
    "plt.title(\"RIR_1\")\n",
    "plt.xlabel(\"Sample\")\n",
    "plt.ylabel(\"Value\")\n",
    "plt.grid(True)\n",
    "plt.show()"
   ]
  },
  {
   "cell_type": "code",
   "execution_count": 19,
   "metadata": {},
   "outputs": [
    {
     "data": {
      "image/png": "[encoded data removed]",
      "text/plain": [
       "<Figure size 640x480 with 1 Axes>"
      ]
     },
     "metadata": {},
     "output_type": "display_data"
    }
   ],
   "source": [
    "# RIR_2\" plot\n",
    "plt.plot(RIR_2.detach().cpu())\n",
    "plt.title(\"Plot\")\n",
    "plt.xlabel(\"Indice\")\n",
    "plt.ylabel(\"Valore\")\n",
    "plt.grid(True)\n",
    "plt.show()"
   ]
  },
  {
   "cell_type": "code",
   "execution_count": 20,
   "metadata": {},
   "outputs": [
    {
     "ename": "IndexError",
     "evalue": "index 0 is out of bounds for axis 0 with size 0",
     "output_type": "error",
     "traceback": [
      "\u001b[0;31m---------------------------------------------------------------------------\u001b[0m",
      "\u001b[0;31mIndexError\u001b[0m                                Traceback (most recent call last)",
      "Cell \u001b[0;32mIn[20], line 1\u001b[0m\n\u001b[0;32m----> 1\u001b[0m predicted_music_1 \u001b[38;5;241m=\u001b[39m evaluate\u001b[38;5;241m.\u001b[39mrender_music(np\u001b[38;5;241m.\u001b[39marray([RIR_1\u001b[38;5;241m.\u001b[39mdetach()\u001b[38;5;241m.\u001b[39mcpu()]), np\u001b[38;5;241m.\u001b[39marray([\u001b[43mD\u001b[49m\u001b[38;5;241;43m.\u001b[39;49m\u001b[43mmusic_dls\u001b[49m\u001b[43m[\u001b[49m\u001b[38;5;241;43m0\u001b[39;49m\u001b[43m]\u001b[49m]), device \u001b[38;5;241m=\u001b[39m device)\n\u001b[1;32m      2\u001b[0m predicted_music_2 \u001b[38;5;241m=\u001b[39m evaluate\u001b[38;5;241m.\u001b[39mrender_music(np\u001b[38;5;241m.\u001b[39marray([RIR_2\u001b[38;5;241m.\u001b[39mdetach()\u001b[38;5;241m.\u001b[39mcpu()]), np\u001b[38;5;241m.\u001b[39marray([D\u001b[38;5;241m.\u001b[39mmusic_dls[\u001b[38;5;241m0\u001b[39m]]), device \u001b[38;5;241m=\u001b[39m device)\n",
      "File \u001b[0;32m~/.pyenv/versions/3.11.9/lib/python3.11/site-packages/numpy/core/memmap.py:335\u001b[0m, in \u001b[0;36mmemmap.__getitem__\u001b[0;34m(self, index)\u001b[0m\n\u001b[1;32m    334\u001b[0m \u001b[38;5;28;01mdef\u001b[39;00m \u001b[38;5;21m__getitem__\u001b[39m(\u001b[38;5;28mself\u001b[39m, index):\n\u001b[0;32m--> 335\u001b[0m     res \u001b[38;5;241m=\u001b[39m \u001b[38;5;28;43msuper\u001b[39;49m\u001b[43m(\u001b[49m\u001b[43m)\u001b[49m\u001b[38;5;241;43m.\u001b[39;49m\u001b[38;5;21;43m__getitem__\u001b[39;49m\u001b[43m(\u001b[49m\u001b[43mindex\u001b[49m\u001b[43m)\u001b[49m\n\u001b[1;32m    336\u001b[0m     \u001b[38;5;28;01mif\u001b[39;00m \u001b[38;5;28mtype\u001b[39m(res) \u001b[38;5;129;01mis\u001b[39;00m memmap \u001b[38;5;129;01mand\u001b[39;00m res\u001b[38;5;241m.\u001b[39m_mmap \u001b[38;5;129;01mis\u001b[39;00m \u001b[38;5;28;01mNone\u001b[39;00m:\n\u001b[1;32m    337\u001b[0m         \u001b[38;5;28;01mreturn\u001b[39;00m res\u001b[38;5;241m.\u001b[39mview(\u001b[38;5;28mtype\u001b[39m\u001b[38;5;241m=\u001b[39mndarray)\n",
      "\u001b[0;31mIndexError\u001b[0m: index 0 is out of bounds for axis 0 with size 0"
     ]
    }
   ],
   "source": [
    "predicted_music_1 = evaluate.render_music(np.array([RIR_1.detach().cpu()]), np.array([D.music_dls[0]]), device = device)\n",
    "predicted_music_2 = evaluate.render_music(np.array([RIR_2.detach().cpu()]), np.array([D.music_dls[0]]), device = device)"
   ]
  },
  {
   "cell_type": "code",
   "execution_count": null,
   "metadata": {},
   "outputs": [],
   "source": [
    "import sounddevice as sd\n",
    "\n",
    "duration = predicted_music_1.shape[2]/fs  # Duration in seconds\n",
    "t = np.linspace(0, duration, int(fs * duration), endpoint=False)\n",
    "\n",
    "\n",
    "sd.play(predicted_music_1[0][0], samplerate=48000)\n",
    "sd.wait()  \n"
   ]
  },
  {
   "cell_type": "code",
   "execution_count": null,
   "metadata": {},
   "outputs": [],
   "source": [
    "duration = predicted_music_2.shape[2]/fs \n",
    "t = np.linspace(0, duration, int(fs * duration), endpoint=False)\n",
    "\n",
    "\n",
    "sd.play(predicted_music_2[0][0], samplerate=48000)\n",
    "sd.wait() "
   ]
  },
  {
   "cell_type": "code",
   "execution_count": null,
   "metadata": {},
   "outputs": [],
   "source": [
    "sd.play(D.music_dls[9][0], samplerate=48000)\n",
    "sd.wait() "
   ]
  }
 ],
 "metadata": {
  "kernelspec": {
   "display_name": "3.11.9",
   "language": "python",
   "name": "python3"
  },
  "language_info": {
   "codemirror_mode": {
    "name": "ipython",
    "version": 3
   },
   "file_extension": ".py",
   "mimetype": "text/x-python",
   "name": "python",
   "nbconvert_exporter": "python",
   "pygments_lexer": "ipython3",
   "version": "3.11.9"
  }
 },
 "nbformat": 4,
 "nbformat_minor": 2
}
