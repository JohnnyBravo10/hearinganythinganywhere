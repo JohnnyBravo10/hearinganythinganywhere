{
 "cells": [
  {
   "cell_type": "code",
   "execution_count": 22,
   "metadata": {},
   "outputs": [],
   "source": [
    "import numpy as np\n",
    "import torch"
   ]
  },
  {
   "cell_type": "code",
   "execution_count": 36,
   "metadata": {},
   "outputs": [
    {
     "data": {
      "text/plain": [
       "OrderedDict([('energy_vector',\n",
       "              tensor([[[ 0.2358, -0.3700,  1.2930, -0.3559, -0.5278, -0.4747, -1.1789,\n",
       "                        -2.0230, -1.1184, -1.3833],\n",
       "                       [-0.2358,  0.3700, -1.2930,  0.3559,  0.5278,  0.4747,  1.1789,\n",
       "                         2.0230,  1.1184,  1.3833]],\n",
       "              \n",
       "                      [[-1.1596, -0.4881, -0.3753, -1.7862,  0.4012, -1.7094, -1.6006,\n",
       "                        -2.0352,  0.8716,  1.9510],\n",
       "                       [ 1.1596,  0.4881,  0.3753,  1.7862, -0.4012,  1.7094,  1.6006,\n",
       "                         2.0352, -0.8716, -1.9510]],\n",
       "              \n",
       "                      [[-2.4367, -1.0749, -1.5681, -0.6310, -0.5543, -1.6173, -0.8984,\n",
       "                        -1.0310, -2.3357, -1.9602],\n",
       "                       [ 2.4367,  1.0749,  1.5681,  0.6310,  0.5543,  1.6173,  0.8984,\n",
       "                         1.0310,  2.3357,  1.9602]],\n",
       "              \n",
       "                      [[-1.6467, -0.4605, -1.1996, -1.1455, -1.5221, -0.6231, -1.6541,\n",
       "                        -1.3373, -1.5434, -3.5535],\n",
       "                       [ 1.6467,  0.4605,  1.1996,  1.1455,  1.5221,  0.6231,  1.6541,\n",
       "                         1.3373,  1.5434,  3.5535]],\n",
       "              \n",
       "                      [[ 1.5390,  0.5306,  0.2159,  0.5641, -0.6404, -0.5502, -0.5960,\n",
       "                        -1.1998, -0.4492, -1.2288],\n",
       "                       [-1.5390, -0.5306, -0.2159, -0.5641,  0.6404,  0.5502,  0.5960,\n",
       "                         1.1998,  0.4492,  1.2288]],\n",
       "              \n",
       "                      [[ 1.7954, -0.0604, -0.2657,  0.5000, -0.5130,  0.0994, -0.9587,\n",
       "                        -1.9630, -2.0653, -0.9617],\n",
       "                       [-1.7954,  0.0604,  0.2657, -0.5000,  0.5130, -0.0994,  0.9587,\n",
       "                         1.9630,  2.0653,  0.9617]],\n",
       "              \n",
       "                      [[-8.1035, -7.4990, -4.0156, -2.9923,  0.9002, -0.4808,  1.6271,\n",
       "                        -1.2669, -1.8406, -1.7344],\n",
       "                       [ 8.1035,  7.4990,  4.0156,  2.9923, -0.9002,  0.4808, -1.6271,\n",
       "                         1.2669,  1.8406,  1.7344]],\n",
       "              \n",
       "                      [[-3.3347, -5.3559, -2.8291, -3.8371, -1.5008,  1.7533, -1.3674,\n",
       "                        -1.1970, -2.0517, -1.6461],\n",
       "                       [ 3.3347,  5.3559,  2.8291,  3.8371,  1.5008, -1.7533,  1.3674,\n",
       "                         1.1970,  2.0517,  1.6461]],\n",
       "              \n",
       "                      [[-4.3509, -0.5957, -2.6758, -2.3615,  1.7417, -1.9444, -2.0090,\n",
       "                        -2.5518, -3.0687, -3.5856],\n",
       "                       [ 4.3509,  0.5957,  2.6758,  2.3615, -1.7417,  1.9444,  2.0090,\n",
       "                         2.5518,  3.0687,  3.5856]]])),\n",
       "             ('source_response',\n",
       "              tensor([ 0.8905,  0.5164, -1.4705,  ...,  0.0231,  0.0348,  0.0223])),\n",
       "             ('directivity_sphere',\n",
       "              tensor([[ 3.9505, -0.1541,  3.6368,  ..., -0.9842,  0.0484, -3.4204],\n",
       "                      [ 5.9757,  1.4041,  3.3648,  ..., -0.6041,  0.0222, -2.9900],\n",
       "                      [ 1.6210, -1.8630,  4.0574,  ..., -1.1405, -0.1484, -3.4160],\n",
       "                      ...,\n",
       "                      [ 2.3979,  2.4219, -0.3917,  ...,  5.6760,  6.2142,  4.9655],\n",
       "                      [ 0.1878,  4.2907, -0.0218,  ...,  3.5325,  4.0106,  2.5177],\n",
       "                      [ 2.4431,  3.0799, -0.9355,  ...,  4.8250,  5.0279,  3.5532]])),\n",
       "             ('decay', tensor([2.7284])),\n",
       "             ('RIR_residual',\n",
       "              tensor([ 0.0000,  0.0372,  0.1064,  ..., -0.0002, -0.0002, -0.0001])),\n",
       "             ('spline_values',\n",
       "              tensor([-6.5271, -4.4239, -2.2176, -1.4029, -2.3027, -1.4068, -2.0806, -1.2429,\n",
       "                      -1.6340, -1.5536, -1.6248, -1.6119, -1.6029, -1.8516, -2.0420, -2.1747,\n",
       "                      -2.3282, -2.4735, -2.5659, -2.6959, -2.7857, -2.9272, -2.9818, -3.0434,\n",
       "                      -3.1352, -3.1238, -3.1892, -3.1705, -3.2211, -3.2729, -3.3189, -3.2391,\n",
       "                      -3.2994, -3.2320])),\n",
       "             ('bp_ord_cut_freqs',\n",
       "              tensor([  70.,  400.,  800., 1000., 1300., 2000.]))])"
      ]
     },
     "execution_count": 36,
     "metadata": {},
     "output_type": "execute_result"
    }
   ],
   "source": [
    "#data = np.load('/home/gzanin/Desktop/hearinganythinganywhere/~/prova_training_1000epochs/weights.pt', allow_pickle = True)\n",
    "\n",
    "data = torch.load('/home/gzanin/Desktop/hearinganythinganywhere/~/prova_different/weights.pt', map_location=torch.device('cpu'))\n",
    "data['model_state_dict']\n"
   ]
  },
  {
   "cell_type": "code",
   "execution_count": 37,
   "metadata": {},
   "outputs": [
    {
     "data": {
      "text/plain": [
       "3.3706185e-06"
      ]
     },
     "execution_count": 37,
     "metadata": {},
     "output_type": "execute_result"
    }
   ],
   "source": [
    "np.average(data['model_state_dict']['RIR_residual']**2)"
   ]
  },
  {
   "cell_type": "code",
   "execution_count": 23,
   "metadata": {},
   "outputs": [
    {
     "data": {
      "text/plain": [
       "OrderedDict([('energy_vector',\n",
       "              tensor([[[-0.4306,  0.0139, -0.1534, -0.6002, -0.5568, -0.8848, -0.6152,\n",
       "                        -0.5500, -0.4947, -1.0771],\n",
       "                       [ 0.4306, -0.0139,  0.1534,  0.6002,  0.5568,  0.8848,  0.6152,\n",
       "                         0.5500,  0.4947,  1.0771]],\n",
       "              \n",
       "                      [[-0.5032, -0.3979, -0.6826, -0.8591, -0.6661, -0.7019, -0.4719,\n",
       "                        -0.4146, -0.3564, -1.1106],\n",
       "                       [ 0.5032,  0.3979,  0.6826,  0.8591,  0.6661,  0.7019,  0.4719,\n",
       "                         0.4146,  0.3564,  1.1106]],\n",
       "              \n",
       "                      [[-0.6106, -0.3106,  0.5309, -0.9772, -1.1807, -1.0646, -1.1549,\n",
       "                        -1.1210, -1.0190, -1.1071],\n",
       "                       [ 0.6106,  0.3106, -0.5309,  0.9772,  1.1807,  1.0646,  1.1549,\n",
       "                         1.1210,  1.0190,  1.1071]],\n",
       "              \n",
       "                      [[-0.7347, -0.5260, -1.3325, -1.1374, -1.1475, -0.9857, -1.1167,\n",
       "                        -1.1255, -1.0305, -1.1054],\n",
       "                       [ 0.7347,  0.5260,  1.3325,  1.1374,  1.1475,  0.9857,  1.1167,\n",
       "                         1.1255,  1.0305,  1.1054]],\n",
       "              \n",
       "                      [[ 0.0707, -1.2103,  1.3561,  0.8261,  1.0892,  1.0182,  1.0362,\n",
       "                         1.0234,  0.9751,  0.0733],\n",
       "                       [-0.0707,  1.2103, -1.3561, -0.8261, -1.0892, -1.0182, -1.0362,\n",
       "                        -1.0234, -0.9751, -0.0733]],\n",
       "              \n",
       "                      [[ 0.2534, -1.0186,  1.3351,  0.8247,  1.0854,  1.0062,  1.0340,\n",
       "                         1.0206,  0.9640,  0.1930],\n",
       "                       [-0.2534,  1.0186, -1.3351, -0.8247, -1.0854, -1.0062, -1.0340,\n",
       "                        -1.0206, -0.9640, -0.1930]]])),\n",
       "             ('source_response',\n",
       "              tensor([ 0.1165,  0.1423, -0.0685,  ..., -0.0069, -0.0858, -0.0327])),\n",
       "             ('directivity_sphere',\n",
       "              tensor([[ 0.6512,  1.0352,  0.8839,  ...,  0.7359,  0.9235,  0.1015],\n",
       "                      [ 0.6820,  1.0933,  1.1965,  ...,  0.6405,  0.8387,  0.0945],\n",
       "                      [ 0.5785,  0.8504,  0.6783,  ...,  0.6221,  0.8047,  0.1057],\n",
       "                      ...,\n",
       "                      [ 0.4834,  0.2615,  0.9487,  ...,  0.0373, -0.0043, -0.4672],\n",
       "                      [ 0.5818,  0.3404,  1.6949,  ...,  0.1530,  0.1441, -0.3960],\n",
       "                      [ 0.5292,  0.2047,  1.0660,  ...,  0.0350, -0.0189, -0.4898]])),\n",
       "             ('decay', tensor([6.0483])),\n",
       "             ('RIR_residual',\n",
       "              tensor([ 0.0000e+00, -2.1300e-02, -2.1759e-02,  ...,  4.7802e-06,\n",
       "                       5.4308e-06, -4.2442e-06])),\n",
       "             ('spline_values',\n",
       "              tensor([-3.1149, -3.1076, -2.5090, -2.2662, -1.9416, -1.5523, -1.5047, -1.6328,\n",
       "                      -3.0214, -3.4338, -2.7812, -1.4586,  0.1474,  0.2397,  0.2419,  0.2238,\n",
       "                       0.3309,  0.4651,  0.3051,  0.4152,  0.6812,  0.9743,  1.2591,  1.5504,\n",
       "                       1.8497,  2.1600,  2.4584,  2.7614,  3.0621,  3.3643,  3.6692,  3.9681,\n",
       "                       4.2630,  4.5518])),\n",
       "             ('bp_ord_cut_freqs',\n",
       "              tensor([  70.,  400.,  800., 1000., 1300., 2000.]))])"
      ]
     },
     "execution_count": 23,
     "metadata": {},
     "output_type": "execute_result"
    }
   ],
   "source": [
    "data = torch.load('C:/Users/giova/Documents/Units/IIT/hearinganythinganywhere/~/espoo_s2_200om+300om_epochs/weights.pt', map_location=torch.device('cpu'))\n",
    "data['model_state_dict']"
   ]
  },
  {
   "cell_type": "code",
   "execution_count": 39,
   "metadata": {},
   "outputs": [
    {
     "data": {
      "text/plain": [
       "1.4959952e-06"
      ]
     },
     "execution_count": 39,
     "metadata": {},
     "output_type": "execute_result"
    }
   ],
   "source": [
    "np.average(data['model_state_dict']['RIR_residual']**2)"
   ]
  },
  {
   "cell_type": "code",
   "execution_count": null,
   "metadata": {},
   "outputs": [],
   "source": [
    "data['model_state_dict']['spline_values']"
   ]
  },
  {
   "cell_type": "code",
   "execution_count": null,
   "metadata": {},
   "outputs": [],
   "source": [
    "model_weights = torch.load('/home/gzanin/Desktop/hearinganythinganywhere/models/hallwayBase/weights.pt', map_location=torch.device('cpu'))\n",
    "\n",
    "#print(model_weights.keys())"
   ]
  },
  {
   "cell_type": "code",
   "execution_count": null,
   "metadata": {},
   "outputs": [],
   "source": [
    "model_weights['model_state_dict']['spline_values']"
   ]
  },
  {
   "cell_type": "code",
   "execution_count": 20,
   "metadata": {},
   "outputs": [
    {
     "name": "stdout",
     "output_type": "stream",
     "text": [
      "epochs made: 200.0\n"
     ]
    }
   ],
   "source": [
    "data_losses = np.load('C:/Users/giova/Documents/Units/IIT/hearinganythinganywhere/~/espoo_s2_200amb+300om_epochs/losses.npy')\n",
    "data_losses.shape\n",
    "\n",
    "print(\"epochs made:\", data_losses.shape[0]/7)"
   ]
  },
  {
   "cell_type": "markdown",
   "metadata": {},
   "source": [
    "Create dummy dataset"
   ]
  },
  {
   "cell_type": "code",
   "execution_count": null,
   "metadata": {},
   "outputs": [],
   "source": [
    "import fibonacci_utilities as fib\n",
    "import render"
   ]
  },
  {
   "cell_type": "code",
   "execution_count": null,
   "metadata": {},
   "outputs": [],
   "source": [
    "azimuths, elevations = fib.fibonacci_azimuths_and_elevations(15)"
   ]
  },
  {
   "cell_type": "code",
   "execution_count": 5,
   "metadata": {},
   "outputs": [
    {
     "data": {
      "text/plain": [
       "array([[ 6.11514818e-06,  7.35741694e-06,  5.00817302e-06, ...,\n",
       "        -7.26507135e-07,  3.53323294e-07,  5.90716509e-07],\n",
       "       [ 9.97966657e-06,  3.15541092e-05, -1.79595778e-06, ...,\n",
       "         2.03789893e-06, -1.19009891e-05, -3.57242990e-06],\n",
       "       [ 9.85353793e-06,  7.06042298e-06,  1.01186370e-05, ...,\n",
       "        -1.48643564e-06,  1.73800477e-06, -1.97854981e-06],\n",
       "       ...,\n",
       "       [ 1.95844156e-05,  2.08539409e-05,  2.17284163e-05, ...,\n",
       "         1.87933942e-05,  2.10904654e-05,  1.78315590e-05],\n",
       "       [ 8.10003875e-06,  9.77486737e-06,  8.16097347e-06, ...,\n",
       "         7.35602554e-07, -3.14799097e-07,  1.75372285e-06],\n",
       "       [ 6.92069176e-06,  6.67534747e-06,  5.70008310e-06, ...,\n",
       "        -1.09548276e-06,  4.15361797e-06,  1.40834412e-07]])"
      ]
     },
     "execution_count": 5,
     "metadata": {},
     "output_type": "execute_result"
    }
   ],
   "source": [
    "data = np.load('/home/gzanin/Desktop/classroomBase/RIRs.npy', allow_pickle=True, encoding= 'latin1')\n",
    "data"
   ]
  },
  {
   "cell_type": "code",
   "execution_count": null,
   "metadata": {},
   "outputs": [],
   "source": [
    "##########only 12 microphones are considered\n",
    "\n",
    "m = []\n",
    "\n",
    "for i in range (12):\n",
    "    m.append(render.initialize_directional_list(azimuths, elevations, 1, \"cpu\"))\n",
    "\n",
    "for j in range (len(m)):\n",
    "    for r in m[j]:\n",
    "        r['t_response'] = data[j]\n",
    "\n",
    "m = np.array(m)"
   ]
  },
  {
   "cell_type": "code",
   "execution_count": null,
   "metadata": {},
   "outputs": [],
   "source": [
    "#m = data[:12]"
   ]
  },
  {
   "cell_type": "code",
   "execution_count": null,
   "metadata": {},
   "outputs": [],
   "source": [
    "m.shape"
   ]
  },
  {
   "cell_type": "code",
   "execution_count": null,
   "metadata": {},
   "outputs": [],
   "source": [
    "np.save('/home/gzanin/Desktop/prova_dataset/RIRs.npy', m)"
   ]
  },
  {
   "cell_type": "code",
   "execution_count": 10,
   "metadata": {},
   "outputs": [
    {
     "data": {
      "text/plain": [
       "array([[2.4241125 , 0.581025  , 0.32      ],\n",
       "       [2.16535   , 0.581025  , 0.32      ],\n",
       "       [1.90738125, 0.581025  , 0.32      ],\n",
       "       ...,\n",
       "       [5.04586875, 7.648575  , 1.5113    ],\n",
       "       [4.78393125, 7.648575  , 1.5113    ],\n",
       "       [4.524375  , 7.648575  , 1.5113    ]])"
      ]
     },
     "execution_count": 10,
     "metadata": {},
     "output_type": "execute_result"
    }
   ],
   "source": [
    "new_data = np.load(\"../classroomBase/xyzs.npy\")\n",
    "\n",
    "new_data\n"
   ]
  },
  {
   "cell_type": "code",
   "execution_count": 11,
   "metadata": {},
   "outputs": [],
   "source": [
    "nottingham1_positions = np.array([[6.68, 6.07, 0.55], [6.60, 1.42, 0.55], [1.50, 1.39, 0.55], [1.35, 5.95, 0.55], [6.68, 6.07, 2.00], [6.60, 1.42, 2.00], [1.50, 1.39, 2.00], [1.35, 5.95, 2.00], [5.28, 6.04, 1.40], [2.86, 6.01, 1.40]])"
   ]
  },
  {
   "cell_type": "code",
   "execution_count": 12,
   "metadata": {},
   "outputs": [],
   "source": [
    "np.save('../Nottingham1/xyzs.npy', nottingham1_positions)"
   ]
  },
  {
   "cell_type": "code",
   "execution_count": 2,
   "metadata": {},
   "outputs": [],
   "source": [
    "nottingham2_positions = np.array([[4.04, 5.60, 1.45], [4.04, 5.60, 1.45], [4.04, 5.60, 1.45], [4.04, 5.60, 1.45], [4.10, 5.80, 1.60]])"
   ]
  },
  {
   "cell_type": "code",
   "execution_count": 4,
   "metadata": {},
   "outputs": [],
   "source": [
    "np.save('../Nottingham2/xyzs.npy', nottingham2_positions)"
   ]
  },
  {
   "cell_type": "code",
   "execution_count": 5,
   "metadata": {},
   "outputs": [],
   "source": [
    "nottingham3_positions = np.array([[3.51, 4.00, 1.80]])"
   ]
  },
  {
   "cell_type": "code",
   "execution_count": 6,
   "metadata": {},
   "outputs": [],
   "source": [
    "np.save('../Nottingham3/xyzs.npy', nottingham3_positions)"
   ]
  }
 ],
 "metadata": {
  "kernelspec": {
   "display_name": "Python 3",
   "language": "python",
   "name": "python3"
  },
  "language_info": {
   "codemirror_mode": {
    "name": "ipython",
    "version": 3
   },
   "file_extension": ".py",
   "mimetype": "text/x-python",
   "name": "python",
   "nbconvert_exporter": "python",
   "pygments_lexer": "ipython3",
   "version": "3.11.9"
  }
 },
 "nbformat": 4,
 "nbformat_minor": 2
}
