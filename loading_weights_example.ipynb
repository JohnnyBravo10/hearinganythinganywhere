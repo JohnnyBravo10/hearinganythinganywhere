{
 "cells": [
  {
   "cell_type": "code",
   "execution_count": 1,
   "metadata": {},
   "outputs": [],
   "source": [
    "import numpy as np\n",
    "import torch"
   ]
  },
  {
   "cell_type": "code",
   "execution_count": 36,
   "metadata": {},
   "outputs": [
    {
     "data": {
      "text/plain": [
       "OrderedDict([('energy_vector',\n",
       "              tensor([[[ 0.2358, -0.3700,  1.2930, -0.3559, -0.5278, -0.4747, -1.1789,\n",
       "                        -2.0230, -1.1184, -1.3833],\n",
       "                       [-0.2358,  0.3700, -1.2930,  0.3559,  0.5278,  0.4747,  1.1789,\n",
       "                         2.0230,  1.1184,  1.3833]],\n",
       "              \n",
       "                      [[-1.1596, -0.4881, -0.3753, -1.7862,  0.4012, -1.7094, -1.6006,\n",
       "                        -2.0352,  0.8716,  1.9510],\n",
       "                       [ 1.1596,  0.4881,  0.3753,  1.7862, -0.4012,  1.7094,  1.6006,\n",
       "                         2.0352, -0.8716, -1.9510]],\n",
       "              \n",
       "                      [[-2.4367, -1.0749, -1.5681, -0.6310, -0.5543, -1.6173, -0.8984,\n",
       "                        -1.0310, -2.3357, -1.9602],\n",
       "                       [ 2.4367,  1.0749,  1.5681,  0.6310,  0.5543,  1.6173,  0.8984,\n",
       "                         1.0310,  2.3357,  1.9602]],\n",
       "              \n",
       "                      [[-1.6467, -0.4605, -1.1996, -1.1455, -1.5221, -0.6231, -1.6541,\n",
       "                        -1.3373, -1.5434, -3.5535],\n",
       "                       [ 1.6467,  0.4605,  1.1996,  1.1455,  1.5221,  0.6231,  1.6541,\n",
       "                         1.3373,  1.5434,  3.5535]],\n",
       "              \n",
       "                      [[ 1.5390,  0.5306,  0.2159,  0.5641, -0.6404, -0.5502, -0.5960,\n",
       "                        -1.1998, -0.4492, -1.2288],\n",
       "                       [-1.5390, -0.5306, -0.2159, -0.5641,  0.6404,  0.5502,  0.5960,\n",
       "                         1.1998,  0.4492,  1.2288]],\n",
       "              \n",
       "                      [[ 1.7954, -0.0604, -0.2657,  0.5000, -0.5130,  0.0994, -0.9587,\n",
       "                        -1.9630, -2.0653, -0.9617],\n",
       "                       [-1.7954,  0.0604,  0.2657, -0.5000,  0.5130, -0.0994,  0.9587,\n",
       "                         1.9630,  2.0653,  0.9617]],\n",
       "              \n",
       "                      [[-8.1035, -7.4990, -4.0156, -2.9923,  0.9002, -0.4808,  1.6271,\n",
       "                        -1.2669, -1.8406, -1.7344],\n",
       "                       [ 8.1035,  7.4990,  4.0156,  2.9923, -0.9002,  0.4808, -1.6271,\n",
       "                         1.2669,  1.8406,  1.7344]],\n",
       "              \n",
       "                      [[-3.3347, -5.3559, -2.8291, -3.8371, -1.5008,  1.7533, -1.3674,\n",
       "                        -1.1970, -2.0517, -1.6461],\n",
       "                       [ 3.3347,  5.3559,  2.8291,  3.8371,  1.5008, -1.7533,  1.3674,\n",
       "                         1.1970,  2.0517,  1.6461]],\n",
       "              \n",
       "                      [[-4.3509, -0.5957, -2.6758, -2.3615,  1.7417, -1.9444, -2.0090,\n",
       "                        -2.5518, -3.0687, -3.5856],\n",
       "                       [ 4.3509,  0.5957,  2.6758,  2.3615, -1.7417,  1.9444,  2.0090,\n",
       "                         2.5518,  3.0687,  3.5856]]])),\n",
       "             ('source_response',\n",
       "              tensor([ 0.8905,  0.5164, -1.4705,  ...,  0.0231,  0.0348,  0.0223])),\n",
       "             ('directivity_sphere',\n",
       "              tensor([[ 3.9505, -0.1541,  3.6368,  ..., -0.9842,  0.0484, -3.4204],\n",
       "                      [ 5.9757,  1.4041,  3.3648,  ..., -0.6041,  0.0222, -2.9900],\n",
       "                      [ 1.6210, -1.8630,  4.0574,  ..., -1.1405, -0.1484, -3.4160],\n",
       "                      ...,\n",
       "                      [ 2.3979,  2.4219, -0.3917,  ...,  5.6760,  6.2142,  4.9655],\n",
       "                      [ 0.1878,  4.2907, -0.0218,  ...,  3.5325,  4.0106,  2.5177],\n",
       "                      [ 2.4431,  3.0799, -0.9355,  ...,  4.8250,  5.0279,  3.5532]])),\n",
       "             ('decay', tensor([2.7284])),\n",
       "             ('RIR_residual',\n",
       "              tensor([ 0.0000,  0.0372,  0.1064,  ..., -0.0002, -0.0002, -0.0001])),\n",
       "             ('spline_values',\n",
       "              tensor([-6.5271, -4.4239, -2.2176, -1.4029, -2.3027, -1.4068, -2.0806, -1.2429,\n",
       "                      -1.6340, -1.5536, -1.6248, -1.6119, -1.6029, -1.8516, -2.0420, -2.1747,\n",
       "                      -2.3282, -2.4735, -2.5659, -2.6959, -2.7857, -2.9272, -2.9818, -3.0434,\n",
       "                      -3.1352, -3.1238, -3.1892, -3.1705, -3.2211, -3.2729, -3.3189, -3.2391,\n",
       "                      -3.2994, -3.2320])),\n",
       "             ('bp_ord_cut_freqs',\n",
       "              tensor([  70.,  400.,  800., 1000., 1300., 2000.]))])"
      ]
     },
     "execution_count": 36,
     "metadata": {},
     "output_type": "execute_result"
    }
   ],
   "source": [
    "#data = np.load('/home/gzanin/Desktop/hearinganythinganywhere/~/prova_training_1000epochs/weights.pt', allow_pickle = True)\n",
    "\n",
    "data = torch.load('/home/gzanin/Desktop/hearinganythinganywhere/~/prova_different/weights.pt', map_location=torch.device('cpu'))\n",
    "data['model_state_dict']\n"
   ]
  },
  {
   "cell_type": "code",
   "execution_count": 37,
   "metadata": {},
   "outputs": [
    {
     "data": {
      "text/plain": [
       "3.3706185e-06"
      ]
     },
     "execution_count": 37,
     "metadata": {},
     "output_type": "execute_result"
    }
   ],
   "source": [
    "np.average(data['model_state_dict']['RIR_residual']**2)"
   ]
  },
  {
   "cell_type": "code",
   "execution_count": 38,
   "metadata": {},
   "outputs": [
    {
     "data": {
      "text/plain": [
       "OrderedDict([('energy_vector',\n",
       "              tensor([[[-0.5305, -0.4278, -0.2579, -0.3598, -1.6096, -0.7284, -1.8826,\n",
       "                        -1.6226, -1.5753, -1.9941],\n",
       "                       [ 0.5305,  0.4278,  0.2579,  0.3598,  1.6096,  0.7284,  1.8826,\n",
       "                         1.6226,  1.5753,  1.9941]],\n",
       "              \n",
       "                      [[-2.4384,  0.8858, -0.2965, -1.5742, -0.2930, -1.9829, -1.7962,\n",
       "                        -1.9131, -0.0154,  0.2472],\n",
       "                       [ 2.4384, -0.8858,  0.2965,  1.5742,  0.2930,  1.9829,  1.7962,\n",
       "                         1.9131,  0.0154, -0.2472]],\n",
       "              \n",
       "                      [[-0.9421, -0.6755, -3.6006, -0.7103, -0.8803, -1.3149, -2.2866,\n",
       "                        -2.6399, -2.8685, -2.1082],\n",
       "                       [ 0.9421,  0.6755,  3.6006,  0.7103,  0.8803,  1.3149,  2.2866,\n",
       "                         2.6399,  2.8685,  2.1082]],\n",
       "              \n",
       "                      [[-4.0914, -2.7232, -0.8506, -2.3887, -3.6858, -1.3391, -2.6380,\n",
       "                        -1.8897, -2.1227, -3.5193],\n",
       "                       [ 4.0914,  2.7232,  0.8506,  2.3887,  3.6858,  1.3391,  2.6380,\n",
       "                         1.8897,  2.1227,  3.5193]],\n",
       "              \n",
       "                      [[-1.1539, -0.4459, -0.3624, -0.7596, -0.7480, -1.5066, -0.9996,\n",
       "                        -2.1747, -0.6960, -2.0290],\n",
       "                       [ 1.1539,  0.4459,  0.3624,  0.7596,  0.7480,  1.5066,  0.9996,\n",
       "                         2.1747,  0.6960,  2.0290]],\n",
       "              \n",
       "                      [[-1.7243, -1.1099, -0.0423, -1.1507, -1.2209, -0.4600, -2.0697,\n",
       "                        -2.2589, -2.4818, -1.5450],\n",
       "                       [ 1.7243,  1.1099,  0.0423,  1.1507,  1.2209,  0.4600,  2.0697,\n",
       "                         2.2589,  2.4818,  1.5450]],\n",
       "              \n",
       "                      [[-7.8657, -7.9064, -4.2665, -2.9527, -0.6743, -0.7566,  1.5479,\n",
       "                        -1.3406, -2.4598, -2.1531],\n",
       "                       [ 7.8657,  7.9064,  4.2665,  2.9527,  0.6743,  0.7566, -1.5479,\n",
       "                         1.3406,  2.4598,  2.1531]],\n",
       "              \n",
       "                      [[-4.5917, -5.2178, -4.6895, -3.5287, -3.0246,  0.2444, -1.6953,\n",
       "                        -1.4810, -1.9807, -1.9190],\n",
       "                       [ 4.5917,  5.2178,  4.6895,  3.5287,  3.0246, -0.2444,  1.6953,\n",
       "                         1.4810,  1.9807,  1.9190]],\n",
       "              \n",
       "                      [[-6.7398, -2.8415, -3.7433, -0.8007, -2.0138, -1.9061, -2.0395,\n",
       "                        -2.8121, -3.1212, -2.7330],\n",
       "                       [ 6.7398,  2.8415,  3.7433,  0.8007,  2.0138,  1.9061,  2.0395,\n",
       "                         2.8121,  3.1212,  2.7330]]])),\n",
       "             ('source_response',\n",
       "              tensor([1.5215e-01, 4.1587e-02, 6.7090e-01,  ..., 8.2030e-04, 2.2078e-03,\n",
       "                      1.4022e-05])),\n",
       "             ('directivity_sphere',\n",
       "              tensor([[-3.4524,  1.6719, -3.6990,  ..., -3.6162, -2.3411, -3.9077],\n",
       "                      [-2.5685,  2.0622, -2.5335,  ..., -2.8585, -1.4680, -3.5047],\n",
       "                      [-4.3388,  1.4324, -2.0727,  ..., -3.7070, -2.7122, -4.0011],\n",
       "                      ...,\n",
       "                      [-0.4502,  0.1542, -3.3825,  ...,  3.2589,  3.9532,  2.0766],\n",
       "                      [-4.1413,  4.1214, -0.0064,  ...,  1.3092,  2.1478, -0.1479],\n",
       "                      [-2.4112,  2.2528, -1.8598,  ...,  2.4405,  2.9038,  0.6524]])),\n",
       "             ('decay', tensor([-9.8330])),\n",
       "             ('RIR_residual',\n",
       "              tensor([0.0000, 0.0011, 0.0008,  ..., 0.0002, 0.0002, 0.0002])),\n",
       "             ('spline_values',\n",
       "              tensor([ 0.6511,  1.4453,  0.6415, -1.0928, -2.0299, -1.1339, -1.7262, -1.2218,\n",
       "                      -1.6048, -1.4720, -1.6755, -1.6071, -1.6066, -1.8474, -2.0567, -2.1694,\n",
       "                      -2.3191, -2.4544, -2.5631, -2.6530, -2.7381, -2.8571, -2.8786, -2.9455,\n",
       "                      -3.0394, -3.0734, -3.1095, -3.1346, -3.1649, -3.2403, -3.2963, -3.2196,\n",
       "                      -3.3004, -3.2412]))])"
      ]
     },
     "execution_count": 38,
     "metadata": {},
     "output_type": "execute_result"
    }
   ],
   "source": [
    "data = torch.load('/home/gzanin/Desktop/hearinganythinganywhere/models/classroomBase/weights.pt', map_location=torch.device('cpu'))\n",
    "data['model_state_dict']"
   ]
  },
  {
   "cell_type": "code",
   "execution_count": 39,
   "metadata": {},
   "outputs": [
    {
     "data": {
      "text/plain": [
       "1.4959952e-06"
      ]
     },
     "execution_count": 39,
     "metadata": {},
     "output_type": "execute_result"
    }
   ],
   "source": [
    "np.average(data['model_state_dict']['RIR_residual']**2)"
   ]
  },
  {
   "cell_type": "code",
   "execution_count": null,
   "metadata": {},
   "outputs": [],
   "source": [
    "data['model_state_dict']['spline_values']"
   ]
  },
  {
   "cell_type": "code",
   "execution_count": null,
   "metadata": {},
   "outputs": [],
   "source": [
    "model_weights = torch.load('/home/gzanin/Desktop/hearinganythinganywhere/models/hallwayBase/weights.pt', map_location=torch.device('cpu'))\n",
    "\n",
    "#print(model_weights.keys())"
   ]
  },
  {
   "cell_type": "code",
   "execution_count": null,
   "metadata": {},
   "outputs": [],
   "source": [
    "model_weights['model_state_dict']['spline_values']"
   ]
  },
  {
   "cell_type": "code",
   "execution_count": 17,
   "metadata": {},
   "outputs": [
    {
     "name": "stdout",
     "output_type": "stream",
     "text": [
      "epochs made: 6.0\n"
     ]
    }
   ],
   "source": [
    "data_losses = np.load('C:/Users/giova/Documents/Units/IIT/hearinganythinganywhere/nottnigham_S1_500epochs/losses.npy')\n",
    "data_losses.shape\n",
    "\n",
    "print(\"epochs made:\", data_losses.shape[0]/8)"
   ]
  },
  {
   "cell_type": "markdown",
   "metadata": {},
   "source": [
    "Create dummy dataset"
   ]
  },
  {
   "cell_type": "code",
   "execution_count": null,
   "metadata": {},
   "outputs": [],
   "source": [
    "import fibonacci_utilities as fib\n",
    "import render"
   ]
  },
  {
   "cell_type": "code",
   "execution_count": null,
   "metadata": {},
   "outputs": [],
   "source": [
    "azimuths, elevations = fib.fibonacci_azimuths_and_elevations(15)"
   ]
  },
  {
   "cell_type": "code",
   "execution_count": 5,
   "metadata": {},
   "outputs": [
    {
     "data": {
      "text/plain": [
       "array([[ 6.11514818e-06,  7.35741694e-06,  5.00817302e-06, ...,\n",
       "        -7.26507135e-07,  3.53323294e-07,  5.90716509e-07],\n",
       "       [ 9.97966657e-06,  3.15541092e-05, -1.79595778e-06, ...,\n",
       "         2.03789893e-06, -1.19009891e-05, -3.57242990e-06],\n",
       "       [ 9.85353793e-06,  7.06042298e-06,  1.01186370e-05, ...,\n",
       "        -1.48643564e-06,  1.73800477e-06, -1.97854981e-06],\n",
       "       ...,\n",
       "       [ 1.95844156e-05,  2.08539409e-05,  2.17284163e-05, ...,\n",
       "         1.87933942e-05,  2.10904654e-05,  1.78315590e-05],\n",
       "       [ 8.10003875e-06,  9.77486737e-06,  8.16097347e-06, ...,\n",
       "         7.35602554e-07, -3.14799097e-07,  1.75372285e-06],\n",
       "       [ 6.92069176e-06,  6.67534747e-06,  5.70008310e-06, ...,\n",
       "        -1.09548276e-06,  4.15361797e-06,  1.40834412e-07]])"
      ]
     },
     "execution_count": 5,
     "metadata": {},
     "output_type": "execute_result"
    }
   ],
   "source": [
    "data = np.load('/home/gzanin/Desktop/classroomBase/RIRs.npy', allow_pickle=True, encoding= 'latin1')\n",
    "data"
   ]
  },
  {
   "cell_type": "code",
   "execution_count": null,
   "metadata": {},
   "outputs": [],
   "source": [
    "##########only 12 microphones are considered\n",
    "\n",
    "m = []\n",
    "\n",
    "for i in range (12):\n",
    "    m.append(render.initialize_directional_list(azimuths, elevations, 1, \"cpu\"))\n",
    "\n",
    "for j in range (len(m)):\n",
    "    for r in m[j]:\n",
    "        r['t_response'] = data[j]\n",
    "\n",
    "m = np.array(m)"
   ]
  },
  {
   "cell_type": "code",
   "execution_count": null,
   "metadata": {},
   "outputs": [],
   "source": [
    "#m = data[:12]"
   ]
  },
  {
   "cell_type": "code",
   "execution_count": null,
   "metadata": {},
   "outputs": [],
   "source": [
    "m.shape"
   ]
  },
  {
   "cell_type": "code",
   "execution_count": null,
   "metadata": {},
   "outputs": [],
   "source": [
    "np.save('/home/gzanin/Desktop/prova_dataset/RIRs.npy', m)"
   ]
  },
  {
   "cell_type": "code",
   "execution_count": 10,
   "metadata": {},
   "outputs": [
    {
     "data": {
      "text/plain": [
       "array([[2.4241125 , 0.581025  , 0.32      ],\n",
       "       [2.16535   , 0.581025  , 0.32      ],\n",
       "       [1.90738125, 0.581025  , 0.32      ],\n",
       "       ...,\n",
       "       [5.04586875, 7.648575  , 1.5113    ],\n",
       "       [4.78393125, 7.648575  , 1.5113    ],\n",
       "       [4.524375  , 7.648575  , 1.5113    ]])"
      ]
     },
     "execution_count": 10,
     "metadata": {},
     "output_type": "execute_result"
    }
   ],
   "source": [
    "new_data = np.load(\"../classroomBase/xyzs.npy\")\n",
    "\n",
    "new_data\n"
   ]
  },
  {
   "cell_type": "code",
   "execution_count": 11,
   "metadata": {},
   "outputs": [],
   "source": [
    "nottingham1_positions = np.array([[6.68, 6.07, 0.55], [6.60, 1.42, 0.55], [1.50, 1.39, 0.55], [1.35, 5.95, 0.55], [6.68, 6.07, 2.00], [6.60, 1.42, 2.00], [1.50, 1.39, 2.00], [1.35, 5.95, 2.00], [5.28, 6.04, 1.40], [2.86, 6.01, 1.40]])"
   ]
  },
  {
   "cell_type": "code",
   "execution_count": 12,
   "metadata": {},
   "outputs": [],
   "source": [
    "np.save('../Nottingham1/xyzs.npy', nottingham1_positions)"
   ]
  },
  {
   "cell_type": "code",
   "execution_count": 2,
   "metadata": {},
   "outputs": [],
   "source": [
    "nottingham2_positions = np.array([[4.04, 5.60, 1.45], [4.04, 5.60, 1.45], [4.04, 5.60, 1.45], [4.04, 5.60, 1.45], [4.10, 5.80, 1.60]])"
   ]
  },
  {
   "cell_type": "code",
   "execution_count": 4,
   "metadata": {},
   "outputs": [],
   "source": [
    "np.save('../Nottingham2/xyzs.npy', nottingham2_positions)"
   ]
  },
  {
   "cell_type": "code",
   "execution_count": 5,
   "metadata": {},
   "outputs": [],
   "source": [
    "nottingham3_positions = np.array([[3.51, 4.00, 1.80]])"
   ]
  },
  {
   "cell_type": "code",
   "execution_count": 6,
   "metadata": {},
   "outputs": [],
   "source": [
    "np.save('../Nottingham3/xyzs.npy', nottingham3_positions)"
   ]
  }
 ],
 "metadata": {
  "kernelspec": {
   "display_name": "Python 3",
   "language": "python",
   "name": "python3"
  },
  "language_info": {
   "codemirror_mode": {
    "name": "ipython",
    "version": 3
   },
   "file_extension": ".py",
   "mimetype": "text/x-python",
   "name": "python",
   "nbconvert_exporter": "python",
   "pygments_lexer": "ipython3",
   "version": "3.11.9"
  }
 },
 "nbformat": 4,
 "nbformat_minor": 2
}
