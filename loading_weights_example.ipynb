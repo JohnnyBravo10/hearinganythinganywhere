{
 "cells": [
  {
   "cell_type": "code",
   "execution_count": 2,
   "metadata": {},
   "outputs": [],
   "source": [
    "import numpy as np\n",
    "import torch"
   ]
  },
  {
   "cell_type": "code",
   "execution_count": 2,
   "metadata": {},
   "outputs": [
    {
     "data": {
      "text/plain": [
       "OrderedDict([('energy_vector',\n",
       "              tensor([[[-1.4181, -0.7319, -0.8180, -1.2595, -0.6004, -0.4023, -1.1022,\n",
       "                        -1.2090, -0.7921, -1.2131],\n",
       "                       [ 1.4181,  0.7319,  0.8180,  1.2595,  0.6004,  0.4023,  1.1022,\n",
       "                         1.2090,  0.7921,  1.2131]],\n",
       "              \n",
       "                      [[-0.9758, -0.5013, -1.2749, -1.0446, -0.4070, -1.0256, -0.8352,\n",
       "                        -0.5703, -0.7295, -1.4489],\n",
       "                       [ 0.9758,  0.5013,  1.2749,  1.0446,  0.4070,  1.0256,  0.8352,\n",
       "                         0.5703,  0.7295,  1.4489]],\n",
       "              \n",
       "                      [[-1.8832, -1.4464, -1.4775, -1.1178, -1.4811, -0.1710, -0.4940,\n",
       "                        -0.4712,  0.0776, -0.5494],\n",
       "                       [ 1.8832,  1.4464,  1.4775,  1.1178,  1.4811,  0.1710,  0.4940,\n",
       "                         0.4712, -0.0776,  0.5494]],\n",
       "              \n",
       "                      [[-1.6162, -0.9132, -1.2496, -2.0956, -1.9076, -0.6826, -1.2030,\n",
       "                        -1.3207, -0.8272, -1.3282],\n",
       "                       [ 1.6162,  0.9132,  1.2496,  2.0956,  1.9076,  0.6826,  1.2030,\n",
       "                         1.3207,  0.8272,  1.3282]],\n",
       "              \n",
       "                      [[-1.1416, -0.7313, -1.1340, -1.3774, -1.0713, -0.7024, -0.5592,\n",
       "                        -0.5808, -0.4204, -1.0925],\n",
       "                       [ 1.1416,  0.7313,  1.1340,  1.3774,  1.0713,  0.7024,  0.5592,\n",
       "                         0.5808,  0.4204,  1.0925]],\n",
       "              \n",
       "                      [[-0.2253, -0.4643, -0.7766, -0.7689, -0.2709, -0.5400, -0.2255,\n",
       "                         0.2724,  0.1883, -0.7662],\n",
       "                       [ 0.2253,  0.4643,  0.7766,  0.7689,  0.2709,  0.5400,  0.2255,\n",
       "                        -0.2724, -0.1883,  0.7662]]])),\n",
       "             ('source_response',\n",
       "              tensor([ 0.0224,  0.2179,  0.3761,  ..., -0.2373, -1.0451, -0.5738])),\n",
       "             ('directivity_sphere',\n",
       "              tensor([[-1.1720e-03,  6.8244e-01,  6.6334e-01,  ..., -5.0777e-01,\n",
       "                        1.1932e-01, -6.0915e-01],\n",
       "                      [-1.9287e-01,  8.4217e-01,  5.8678e-01,  ..., -8.9268e-01,\n",
       "                        6.3461e-02, -5.7654e-01],\n",
       "                      [-5.8243e-02,  6.3983e-01,  6.4242e-01,  ..., -6.7148e-01,\n",
       "                        1.2135e-01, -5.3922e-01],\n",
       "                      ...,\n",
       "                      [-3.2668e-01,  5.0299e-01, -3.4804e-01,  ..., -1.4816e+00,\n",
       "                       -1.1753e+00, -1.2499e+00],\n",
       "                      [ 5.8300e-02,  3.6476e-01, -6.2466e-01,  ..., -1.3272e-01,\n",
       "                       -8.5426e-01, -9.7413e-01],\n",
       "                      [-3.3017e-01,  4.8898e-01, -7.8345e-01,  ..., -1.0628e+00,\n",
       "                       -1.1058e+00, -1.0827e+00]])),\n",
       "             ('decay', tensor([5.4683])),\n",
       "             ('RIR_residual',\n",
       "              tensor([ 0.0000e+00, -1.1420e-02,  1.6988e-02,  ..., -7.9689e-05,\n",
       "                      -7.8058e-05, -9.1964e-05])),\n",
       "             ('spline_values',\n",
       "              tensor([-1.4584, -0.8253, -1.2196,  0.4358,  0.5591, -0.2744, -0.8465, -1.6628,\n",
       "                      -0.5773, -1.1724, -0.5567, -0.7167,  1.0462,  2.2586,  3.0895,  3.2626,\n",
       "                       3.5813,  4.0390,  1.0101,  3.3931,  4.1651,  4.4641,  4.5458,  4.4525,\n",
       "                       3.7744,  5.6220,  4.9598,  2.5068,  3.5196,  3.7540,  4.3187,  3.5400,\n",
       "                       3.4195,  3.6077])),\n",
       "             ('bp_ord_cut_freqs',\n",
       "              tensor([  70.,  400.,  800., 1000., 1300., 2000.]))])"
      ]
     },
     "execution_count": 2,
     "metadata": {},
     "output_type": "execute_result"
    }
   ],
   "source": [
    "#data = np.load('/home/gzanin/Desktop/hearinganythinganywhere/~/prova_training_1000epochs/weights.pt', allow_pickle = True)\n",
    "\n",
    "data = torch.load('/home/gzanin/Desktop/hearinganythinganywhere/~/prova_training_1000epochs/weights.pt', map_location=torch.device('cpu'))\n",
    "data['model_state_dict']\n"
   ]
  },
  {
   "cell_type": "code",
   "execution_count": 3,
   "metadata": {},
   "outputs": [
    {
     "data": {
      "text/plain": [
       "tensor([-1.4584, -0.8253, -1.2196,  0.4358,  0.5591, -0.2744, -0.8465, -1.6628,\n",
       "        -0.5773, -1.1724, -0.5567, -0.7167,  1.0462,  2.2586,  3.0895,  3.2626,\n",
       "         3.5813,  4.0390,  1.0101,  3.3931,  4.1651,  4.4641,  4.5458,  4.4525,\n",
       "         3.7744,  5.6220,  4.9598,  2.5068,  3.5196,  3.7540,  4.3187,  3.5400,\n",
       "         3.4195,  3.6077])"
      ]
     },
     "execution_count": 3,
     "metadata": {},
     "output_type": "execute_result"
    }
   ],
   "source": [
    "data['model_state_dict']['spline_values']"
   ]
  },
  {
   "cell_type": "code",
   "execution_count": 4,
   "metadata": {},
   "outputs": [],
   "source": [
    "model_weights = torch.load('/home/gzanin/Desktop/hearinganythinganywhere/models/hallwayBase/weights.pt', map_location=torch.device('cpu'))\n",
    "\n",
    "#print(model_weights.keys())"
   ]
  },
  {
   "cell_type": "code",
   "execution_count": 5,
   "metadata": {},
   "outputs": [
    {
     "data": {
      "text/plain": [
       "tensor([-1.1889,  0.9600,  0.1497, -1.6674, -1.7362, -0.8662, -0.0920, -0.1603,\n",
       "        -0.7774, -0.5799, -0.2962, -0.4480, -0.3558, -0.4179, -0.6262, -0.7645,\n",
       "        -0.8553, -0.9175, -1.0549, -1.1494, -1.2660, -1.3254, -1.3975, -1.4152,\n",
       "        -1.5259, -1.5676, -1.6296, -1.7462, -1.7349, -1.8844, -2.0238, -2.2500,\n",
       "        -2.5868, -2.5822])"
      ]
     },
     "execution_count": 5,
     "metadata": {},
     "output_type": "execute_result"
    }
   ],
   "source": [
    "model_weights['model_state_dict']['spline_values']"
   ]
  },
  {
   "cell_type": "code",
   "execution_count": 6,
   "metadata": {},
   "outputs": [
    {
     "name": "stdout",
     "output_type": "stream",
     "text": [
      "epochs made: 226.0\n"
     ]
    }
   ],
   "source": [
    "data_losses = np.load('/home/gzanin/Desktop/hearinganythinganywhere/~/prova_training_1000epochs/losses.npy')\n",
    "data_losses.shape\n",
    "\n",
    "print(\"epochs made:\", data_losses.shape[0]/8)"
   ]
  },
  {
   "cell_type": "markdown",
   "metadata": {},
   "source": [
    "Create dummy dataset"
   ]
  },
  {
   "cell_type": "code",
   "execution_count": 11,
   "metadata": {},
   "outputs": [],
   "source": [
    "import fibonacci_utilities as fib\n",
    "import render"
   ]
  },
  {
   "cell_type": "code",
   "execution_count": 12,
   "metadata": {},
   "outputs": [],
   "source": [
    "azimuths, elevations = fib.fibonacci_azimuths_and_elevations(15)"
   ]
  },
  {
   "cell_type": "code",
   "execution_count": null,
   "metadata": {},
   "outputs": [],
   "source": [
    "data = np.load('/home/gzanin/Desktop/classroomBase/RIRs.npy', allow_pickle=True, encoding= 'latin1')\n",
    "data.shape"
   ]
  },
  {
   "cell_type": "code",
   "execution_count": 20,
   "metadata": {},
   "outputs": [],
   "source": [
    "##########only 12 microphones are considered\n",
    "\n",
    "m = []\n",
    "\n",
    "for i in range (12):\n",
    "    m.append(render.initialize_directional_list(azimuths, elevations, 1, \"cpu\"))\n",
    "\n",
    "for j in range (len(m)):\n",
    "    for r in m[j]:\n",
    "        r['t_response'] = data[j]\n",
    "\n",
    "m = np.array(m)"
   ]
  },
  {
   "cell_type": "code",
   "execution_count": 23,
   "metadata": {},
   "outputs": [],
   "source": [
    "#m = data[:12]"
   ]
  },
  {
   "cell_type": "code",
   "execution_count": null,
   "metadata": {},
   "outputs": [],
   "source": [
    "m.shape"
   ]
  },
  {
   "cell_type": "code",
   "execution_count": 24,
   "metadata": {},
   "outputs": [],
   "source": [
    "np.save('/home/gzanin/Desktop/prova_dataset/RIRs.npy', m)"
   ]
  },
  {
   "cell_type": "code",
   "execution_count": null,
   "metadata": {},
   "outputs": [],
   "source": [
    "new_data = np.load('/home/gzanin/Desktop/prova_dataset/xyzs.npy', allow_pickle=True, encoding= 'latin1')\n",
    "\n",
    "new_data\n"
   ]
  }
 ],
 "metadata": {
  "kernelspec": {
   "display_name": "Python 3",
   "language": "python",
   "name": "python3"
  },
  "language_info": {
   "codemirror_mode": {
    "name": "ipython",
    "version": 3
   },
   "file_extension": ".py",
   "mimetype": "text/x-python",
   "name": "python",
   "nbconvert_exporter": "python",
   "pygments_lexer": "ipython3",
   "version": "3.11.9"
  }
 },
 "nbformat": 4,
 "nbformat_minor": 2
}
