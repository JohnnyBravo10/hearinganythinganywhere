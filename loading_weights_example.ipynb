{
 "cells": [
  {
   "cell_type": "code",
   "execution_count": null,
   "metadata": {},
   "outputs": [],
   "source": [
    "import numpy as np\n",
    "import torch"
   ]
  },
  {
   "cell_type": "code",
   "execution_count": null,
   "metadata": {},
   "outputs": [],
   "source": [
    "#data = np.load('/home/gzanin/Desktop/hearinganythinganywhere/~/prova_training_1000epochs/weights.pt', allow_pickle = True)\n",
    "\n",
    "data = torch.load('/home/gzanin/Desktop/hearinganythinganywhere/~/prova_different/weights.pt', map_location=torch.device('cpu'))\n",
    "data['model_state_dict']\n"
   ]
  },
  {
   "cell_type": "code",
   "execution_count": null,
   "metadata": {},
   "outputs": [],
   "source": [
    "data = torch.load('/home/gzanin/Desktop/hearinganythinganywhere/models/classroomBase/weights.pt', map_location=torch.device('cpu'))\n",
    "data['model_state_dict']"
   ]
  },
  {
   "cell_type": "code",
   "execution_count": null,
   "metadata": {},
   "outputs": [],
   "source": [
    "data['model_state_dict']['spline_values']"
   ]
  },
  {
   "cell_type": "code",
   "execution_count": null,
   "metadata": {},
   "outputs": [],
   "source": [
    "model_weights = torch.load('/home/gzanin/Desktop/hearinganythinganywhere/models/hallwayBase/weights.pt', map_location=torch.device('cpu'))\n",
    "\n",
    "#print(model_weights.keys())"
   ]
  },
  {
   "cell_type": "code",
   "execution_count": null,
   "metadata": {},
   "outputs": [],
   "source": [
    "model_weights['model_state_dict']['spline_values']"
   ]
  },
  {
   "cell_type": "code",
   "execution_count": null,
   "metadata": {},
   "outputs": [],
   "source": [
    "data_losses = np.load('/home/gzanin/Desktop/hearinganythinganywhere/~/prova_training_1000epochs/losses.npy')\n",
    "data_losses.shape\n",
    "\n",
    "print(\"epochs made:\", data_losses.shape[0]/8)"
   ]
  },
  {
   "cell_type": "markdown",
   "metadata": {},
   "source": [
    "Create dummy dataset"
   ]
  },
  {
   "cell_type": "code",
   "execution_count": null,
   "metadata": {},
   "outputs": [],
   "source": [
    "import fibonacci_utilities as fib\n",
    "import render"
   ]
  },
  {
   "cell_type": "code",
   "execution_count": null,
   "metadata": {},
   "outputs": [],
   "source": [
    "azimuths, elevations = fib.fibonacci_azimuths_and_elevations(15)"
   ]
  },
  {
   "cell_type": "code",
   "execution_count": null,
   "metadata": {},
   "outputs": [],
   "source": [
    "data = np.load('/home/gzanin/Desktop/classroomBase/RIRs.npy', allow_pickle=True, encoding= 'latin1')\n",
    "data"
   ]
  },
  {
   "cell_type": "code",
   "execution_count": null,
   "metadata": {},
   "outputs": [],
   "source": [
    "##########only 12 microphones are considered\n",
    "\n",
    "m = []\n",
    "\n",
    "for i in range (12):\n",
    "    m.append(render.initialize_directional_list(azimuths, elevations, 1, \"cpu\"))\n",
    "\n",
    "for j in range (len(m)):\n",
    "    for r in m[j]:\n",
    "        r['t_response'] = data[j]\n",
    "\n",
    "m = np.array(m)"
   ]
  },
  {
   "cell_type": "code",
   "execution_count": null,
   "metadata": {},
   "outputs": [],
   "source": [
    "#m = data[:12]"
   ]
  },
  {
   "cell_type": "code",
   "execution_count": null,
   "metadata": {},
   "outputs": [],
   "source": [
    "m.shape"
   ]
  },
  {
   "cell_type": "code",
   "execution_count": null,
   "metadata": {},
   "outputs": [],
   "source": [
    "np.save('/home/gzanin/Desktop/prova_dataset/RIRs.npy', m)"
   ]
  },
  {
   "cell_type": "code",
   "execution_count": null,
   "metadata": {},
   "outputs": [],
   "source": [
    "new_data = np.load('/home/gzanin/Desktop/prova_dataset/xyzs.npy', allow_pickle=True, encoding= 'latin1')\n",
    "\n",
    "new_data\n"
   ]
  }
 ],
 "metadata": {
  "kernelspec": {
   "display_name": "Python 3",
   "language": "python",
   "name": "python3"
  },
  "language_info": {
   "codemirror_mode": {
    "name": "ipython",
    "version": 3
   },
   "file_extension": ".py",
   "mimetype": "text/x-python",
   "name": "python",
   "nbconvert_exporter": "python",
   "pygments_lexer": "ipython3",
   "version": "3.11.9"
  }
 },
 "nbformat": 4,
 "nbformat_minor": 2
}
