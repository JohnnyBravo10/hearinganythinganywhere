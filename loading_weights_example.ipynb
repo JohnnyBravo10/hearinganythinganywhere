{
 "cells": [
  {
   "cell_type": "code",
   "execution_count": 1,
   "metadata": {},
   "outputs": [],
   "source": [
    "import numpy as np\n",
    "import torch"
   ]
  },
  {
   "cell_type": "code",
   "execution_count": 2,
   "metadata": {},
   "outputs": [
    {
     "data": {
      "text/plain": [
       "OrderedDict([('energy_vector',\n",
       "              tensor([[[-1.2105, -0.6898, -0.7542, -1.1262, -0.4720, -0.3523, -0.8585,\n",
       "                        -0.9232, -0.5353, -1.0581],\n",
       "                       [ 1.2105,  0.6898,  0.7542,  1.1262,  0.4720,  0.3523,  0.8585,\n",
       "                         0.9232,  0.5353,  1.0581]],\n",
       "              \n",
       "                      [[-0.8692, -0.5684, -1.0809, -1.0215, -0.4124, -1.0143, -0.6256,\n",
       "                        -0.4943, -0.6451, -1.1420],\n",
       "                       [ 0.8692,  0.5684,  1.0809,  1.0215,  0.4124,  1.0143,  0.6256,\n",
       "                         0.4943,  0.6451,  1.1420]],\n",
       "              \n",
       "                      [[-1.6262, -1.2395, -1.3932, -1.0594, -1.4244, -0.3195, -0.5973,\n",
       "                        -0.6629, -0.0424, -0.5722],\n",
       "                       [ 1.6262,  1.2395,  1.3932,  1.0594,  1.4244,  0.3195,  0.5973,\n",
       "                         0.6629,  0.0424,  0.5722]],\n",
       "              \n",
       "                      [[-1.4128, -0.8613, -1.0688, -1.8623, -1.6768, -0.6424, -1.0768,\n",
       "                        -1.1092, -0.7348, -1.0842],\n",
       "                       [ 1.4128,  0.8613,  1.0688,  1.8623,  1.6768,  0.6424,  1.0768,\n",
       "                         1.1092,  0.7348,  1.0842]],\n",
       "              \n",
       "                      [[-1.0004, -0.8227, -1.0543, -1.2568, -0.7426, -0.6520, -0.3672,\n",
       "                        -0.4833, -0.2927, -0.9209],\n",
       "                       [ 1.0004,  0.8227,  1.0543,  1.2568,  0.7426,  0.6520,  0.3672,\n",
       "                         0.4833,  0.2927,  0.9209]],\n",
       "              \n",
       "                      [[-0.3005, -0.5029, -0.7414, -0.6425, -0.4069, -0.6203, -0.0033,\n",
       "                         0.3989,  0.1405, -0.6213],\n",
       "                       [ 0.3005,  0.5029,  0.7414,  0.6425,  0.4069,  0.6203,  0.0033,\n",
       "                        -0.3989, -0.1405,  0.6213]]])),\n",
       "             ('source_response',\n",
       "              tensor([ 0.0060,  0.1538,  0.2537,  ..., -0.1191, -0.6315, -0.3542])),\n",
       "             ('directivity_sphere',\n",
       "              tensor([[ 0.0182,  0.4289,  1.0704,  ...,  0.2602,  0.5327, -0.1429],\n",
       "                      [-0.1120,  0.5070,  1.0082,  ..., -0.1977,  0.3868, -0.1440],\n",
       "                      [-0.0712,  0.4173,  1.0580,  ...,  0.0564,  0.4899, -0.1588],\n",
       "                      ...,\n",
       "                      [-0.3189,  0.6688, -0.2197,  ..., -0.8209, -0.4754, -0.5720],\n",
       "                      [ 0.0668,  0.5334, -0.5500,  ..., -0.2296, -0.3898, -0.3910],\n",
       "                      [-0.2872,  0.6265, -0.5847,  ..., -0.6161, -0.4998, -0.4373]])),\n",
       "             ('decay', tensor([5.1542])),\n",
       "             ('RIR_residual',\n",
       "              tensor([ 0.0000e+00, -9.0955e-03,  1.4415e-02,  ...,  5.8225e-05,\n",
       "                       7.1277e-05,  5.3439e-05])),\n",
       "             ('spline_values',\n",
       "              tensor([-2.3781, -1.8732, -2.2199, -0.9309, -0.7883, -0.8614, -1.3513, -2.3236,\n",
       "                      -1.6415, -2.3728, -1.7739, -1.3295,  0.1876,  1.0328,  1.9185,  2.2384,\n",
       "                       2.4763,  2.9482,  0.8513,  2.8332,  3.4219,  3.6815,  3.8908,  3.9024,\n",
       "                       3.6092,  4.6633,  4.9367,  2.6658,  3.4229,  3.7009,  4.2821,  3.8060,\n",
       "                       3.8174,  4.0510])),\n",
       "             ('bp_ord_cut_freqs',\n",
       "              tensor([  70.,  400.,  800., 1000., 1300., 2000.]))])"
      ]
     },
     "execution_count": 2,
     "metadata": {},
     "output_type": "execute_result"
    }
   ],
   "source": [
    "#data = np.load('/home/gzanin/Desktop/hearinganythinganywhere/~/prova_training_1000epochs/weights.pt', allow_pickle = True)\n",
    "\n",
    "data = torch.load('/home/gzanin/Desktop/hearinganythinganywhere/~/prova_training_1000epochs/weights.pt', map_location=torch.device('cpu'))\n",
    "data['model_state_dict']\n"
   ]
  },
  {
   "cell_type": "code",
   "execution_count": 3,
   "metadata": {},
   "outputs": [
    {
     "data": {
      "text/plain": [
       "tensor([-2.3781, -1.8732, -2.2199, -0.9309, -0.7883, -0.8614, -1.3513, -2.3236,\n",
       "        -1.6415, -2.3728, -1.7739, -1.3295,  0.1876,  1.0328,  1.9185,  2.2384,\n",
       "         2.4763,  2.9482,  0.8513,  2.8332,  3.4219,  3.6815,  3.8908,  3.9024,\n",
       "         3.6092,  4.6633,  4.9367,  2.6658,  3.4229,  3.7009,  4.2821,  3.8060,\n",
       "         3.8174,  4.0510])"
      ]
     },
     "execution_count": 3,
     "metadata": {},
     "output_type": "execute_result"
    }
   ],
   "source": [
    "data['model_state_dict']['spline_values']"
   ]
  },
  {
   "cell_type": "code",
   "execution_count": 5,
   "metadata": {},
   "outputs": [],
   "source": [
    "model_weights = torch.load('/home/gzanin/Desktop/hearinganythinganywhere/models/hallwayBase/weights.pt', map_location=torch.device('cpu'))\n",
    "\n",
    "#print(model_weights.keys())"
   ]
  },
  {
   "cell_type": "code",
   "execution_count": 6,
   "metadata": {},
   "outputs": [
    {
     "data": {
      "text/plain": [
       "tensor([-1.1889,  0.9600,  0.1497, -1.6674, -1.7362, -0.8662, -0.0920, -0.1603,\n",
       "        -0.7774, -0.5799, -0.2962, -0.4480, -0.3558, -0.4179, -0.6262, -0.7645,\n",
       "        -0.8553, -0.9175, -1.0549, -1.1494, -1.2660, -1.3254, -1.3975, -1.4152,\n",
       "        -1.5259, -1.5676, -1.6296, -1.7462, -1.7349, -1.8844, -2.0238, -2.2500,\n",
       "        -2.5868, -2.5822])"
      ]
     },
     "execution_count": 6,
     "metadata": {},
     "output_type": "execute_result"
    }
   ],
   "source": [
    "model_weights['model_state_dict']['spline_values']"
   ]
  },
  {
   "cell_type": "code",
   "execution_count": 8,
   "metadata": {},
   "outputs": [
    {
     "name": "stdout",
     "output_type": "stream",
     "text": [
      "epochs made: 156.0\n"
     ]
    }
   ],
   "source": [
    "data_losses = np.load('/home/gzanin/Desktop/hearinganythinganywhere/~/prova_training_1000epochs/losses.npy')\n",
    "data_losses.shape\n",
    "\n",
    "print(\"epochs made:\", data_losses.shape[0]/8)"
   ]
  },
  {
   "cell_type": "markdown",
   "metadata": {},
   "source": [
    "Create dummy dataset"
   ]
  },
  {
   "cell_type": "code",
   "execution_count": 11,
   "metadata": {},
   "outputs": [],
   "source": [
    "import fibonacci_utilities as fib\n",
    "import render"
   ]
  },
  {
   "cell_type": "code",
   "execution_count": 5,
   "metadata": {},
   "outputs": [],
   "source": [
    "def initialize_directional_list_for_beampattern(angular_sensitivity, n_freq_samples, device):\n",
    "\n",
    "    frequency_responses_list = []\n",
    "    used_angle = 180/(int(180/angular_sensitivity))\n",
    "    azimuths = np.arange(0, 360, used_angle)\n",
    "    elevations = np.arange(-90, 90+ used_angle, used_angle)\n",
    "    for elevation in elevations:\n",
    "        if (elevation == -90 or elevation == 90):\n",
    "            direction_dict = dict()\n",
    "            direction_dict['angle'] = [0, elevation]#-90 and +90 elevations are considered having azimuth=0\n",
    "            direction_dict['f_response'] = torch.zeros(n_freq_samples).to(device)\n",
    "            frequency_responses_list.append(direction_dict)\n",
    "        else:   \n",
    "            for azimuth in azimuths:\n",
    "                direction_dict = dict()\n",
    "                direction_dict['angle'] = [azimuth, elevation]\n",
    "                direction_dict['f_response'] = torch.zeros(n_freq_samples).to(device)\n",
    "                frequency_responses_list.append(direction_dict)\n",
    "\n",
    "    return frequency_responses_list"
   ]
  },
  {
   "cell_type": "code",
   "execution_count": 12,
   "metadata": {},
   "outputs": [],
   "source": [
    "azimuths, elevations = fib.fibonacci_azimuths_and_elevations(15)"
   ]
  },
  {
   "cell_type": "code",
   "execution_count": null,
   "metadata": {},
   "outputs": [],
   "source": [
    "data = np.load('/home/gzanin/Desktop/classroomBase/RIRs.npy', allow_pickle=True, encoding= 'latin1')\n",
    "data.shape"
   ]
  },
  {
   "cell_type": "code",
   "execution_count": 20,
   "metadata": {},
   "outputs": [],
   "source": [
    "##########only 12 microphones are considered\n",
    "\n",
    "m = []\n",
    "\n",
    "for i in range (12):\n",
    "    m.append(render.initialize_directional_list(azimuths, elevations, 1, \"cpu\"))\n",
    "\n",
    "for j in range (len(m)):\n",
    "    for r in m[j]:\n",
    "        r['t_response'] = data[j]\n",
    "\n",
    "m = np.array(m)"
   ]
  },
  {
   "cell_type": "code",
   "execution_count": 23,
   "metadata": {},
   "outputs": [],
   "source": [
    "#m = data[:12]"
   ]
  },
  {
   "cell_type": "code",
   "execution_count": null,
   "metadata": {},
   "outputs": [],
   "source": [
    "m.shape"
   ]
  },
  {
   "cell_type": "code",
   "execution_count": 24,
   "metadata": {},
   "outputs": [],
   "source": [
    "np.save('/home/gzanin/Desktop/prova_dataset/RIRs.npy', m)"
   ]
  },
  {
   "cell_type": "code",
   "execution_count": null,
   "metadata": {},
   "outputs": [],
   "source": [
    "new_data = np.load('/home/gzanin/Desktop/prova_dataset/xyzs.npy', allow_pickle=True, encoding= 'latin1')\n",
    "\n",
    "new_data\n"
   ]
  }
 ],
 "metadata": {
  "kernelspec": {
   "display_name": "Python 3",
   "language": "python",
   "name": "python3"
  },
  "language_info": {
   "codemirror_mode": {
    "name": "ipython",
    "version": 3
   },
   "file_extension": ".py",
   "mimetype": "text/x-python",
   "name": "python",
   "nbconvert_exporter": "python",
   "pygments_lexer": "ipython3",
   "version": "3.11.9"
  }
 },
 "nbformat": 4,
 "nbformat_minor": 2
}
