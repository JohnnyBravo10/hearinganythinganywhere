{
 "cells": [
  {
   "cell_type": "code",
   "execution_count": 1,
   "metadata": {},
   "outputs": [],
   "source": [
    "import numpy as np\n",
    "import torch"
   ]
  },
  {
   "cell_type": "code",
   "execution_count": 2,
   "metadata": {},
   "outputs": [
    {
     "data": {
      "text/plain": [
       "OrderedDict([('energy_vector',\n",
       "              tensor([[[-1.6225, -0.7819, -0.9241, -1.0965, -0.6052, -0.2993, -1.0732,\n",
       "                        -1.0307, -0.7379, -1.3821],\n",
       "                       [ 1.6225,  0.7819,  0.9241,  1.0965,  0.6052,  0.2993,  1.0732,\n",
       "                         1.0307,  0.7379,  1.3821]],\n",
       "              \n",
       "                      [[-0.9106, -0.4159, -1.3413, -1.0573, -0.2784, -1.0093, -1.2336,\n",
       "                        -0.8712, -0.9405, -1.8466],\n",
       "                       [ 0.9106,  0.4159,  1.3413,  1.0573,  0.2784,  1.0093,  1.2336,\n",
       "                         0.8712,  0.9405,  1.8466]],\n",
       "              \n",
       "                      [[-2.1117, -1.7155, -1.3066, -1.0594, -1.6962,  0.0512, -0.3373,\n",
       "                        -0.1897,  0.1828, -0.7508],\n",
       "                       [ 2.1117,  1.7155,  1.3066,  1.0594,  1.6962, -0.0512,  0.3373,\n",
       "                         0.1897, -0.1828,  0.7508]],\n",
       "              \n",
       "                      [[-1.8291, -0.9968, -1.3955, -2.1800, -2.1157, -0.5392, -1.1801,\n",
       "                        -1.2650, -0.6791, -1.5087],\n",
       "                       [ 1.8291,  0.9968,  1.3955,  2.1800,  2.1157,  0.5392,  1.1801,\n",
       "                         1.2650,  0.6791,  1.5087]],\n",
       "              \n",
       "                      [[-1.2895, -0.6666, -1.0521, -1.2460, -1.0968, -0.6313, -0.6670,\n",
       "                        -0.6312, -0.5817, -1.4053],\n",
       "                       [ 1.2895,  0.6666,  1.0521,  1.2460,  1.0968,  0.6313,  0.6670,\n",
       "                         0.6312,  0.5817,  1.4053]],\n",
       "              \n",
       "                      [[-0.0676, -0.3008, -1.0339, -0.9753, -0.2750, -0.6038, -0.5920,\n",
       "                        -0.1222,  0.0114, -1.0986],\n",
       "                       [ 0.0676,  0.3008,  1.0339,  0.9753,  0.2750,  0.6038,  0.5920,\n",
       "                         0.1222, -0.0114,  1.0986]]])),\n",
       "             ('source_response',\n",
       "              tensor([ 0.1485,  0.1510,  0.3045,  ..., -0.3378, -1.3680, -0.7013])),\n",
       "             ('directivity_sphere',\n",
       "              tensor([[ 0.0893,  0.9997,  0.4073,  ..., -0.7322, -0.2369, -1.2294],\n",
       "                      [-0.0955,  1.2025,  0.3310,  ..., -1.0023, -0.1988, -1.1696],\n",
       "                      [ 0.0432,  0.9040,  0.4391,  ..., -0.8867, -0.1417, -1.0077],\n",
       "                      ...,\n",
       "                      [-0.4787,  0.1654, -0.1914,  ..., -2.2345, -1.9023, -2.0823],\n",
       "                      [ 0.0769, -0.0140, -0.5142,  ..., -0.8215, -1.5046, -1.7475],\n",
       "                      [-0.5787,  0.0620, -0.7439,  ..., -1.7756, -1.7625, -1.9183]])),\n",
       "             ('decay', tensor([4.6320])),\n",
       "             ('RIR_residual',\n",
       "              tensor([ 0.0000e+00, -1.0994e-02,  1.9246e-02,  ..., -9.3653e-05,\n",
       "                      -6.2157e-05, -7.1722e-05])),\n",
       "             ('spline_values',\n",
       "              tensor([-0.6144, -0.1386, -0.8911,  1.4687,  1.6805,  0.0834, -0.0577, -0.9298,\n",
       "                       0.3006, -0.1819, -0.2970, -0.4653,  1.9687,  3.3043,  3.9816,  3.9033,\n",
       "                       3.7904,  4.3551,  1.2830,  4.0281,  4.7798,  5.2476,  4.9928,  4.7315,\n",
       "                       3.8250,  5.9038,  4.6655,  2.5565,  3.7240,  3.9094,  4.4227,  3.3289,\n",
       "                       3.0696,  3.1734])),\n",
       "             ('bp_ord_cut_freqs',\n",
       "              tensor([  70.,  400.,  800., 1000., 1300., 2000.]))])"
      ]
     },
     "execution_count": 2,
     "metadata": {},
     "output_type": "execute_result"
    }
   ],
   "source": [
    "#data = np.load('/home/gzanin/Desktop/hearinganythinganywhere/~/prova_training_1000epochs/weights.pt', allow_pickle = True)\n",
    "\n",
    "data = torch.load('/home/gzanin/Desktop/hearinganythinganywhere/~/prova_training_1000epochs/weights.pt', map_location=torch.device('cpu'))\n",
    "data['model_state_dict']\n"
   ]
  },
  {
   "cell_type": "code",
   "execution_count": 3,
   "metadata": {},
   "outputs": [
    {
     "data": {
      "text/plain": [
       "tensor([-0.6144, -0.1386, -0.8911,  1.4687,  1.6805,  0.0834, -0.0577, -0.9298,\n",
       "         0.3006, -0.1819, -0.2970, -0.4653,  1.9687,  3.3043,  3.9816,  3.9033,\n",
       "         3.7904,  4.3551,  1.2830,  4.0281,  4.7798,  5.2476,  4.9928,  4.7315,\n",
       "         3.8250,  5.9038,  4.6655,  2.5565,  3.7240,  3.9094,  4.4227,  3.3289,\n",
       "         3.0696,  3.1734])"
      ]
     },
     "execution_count": 3,
     "metadata": {},
     "output_type": "execute_result"
    }
   ],
   "source": [
    "data['model_state_dict']['spline_values']"
   ]
  },
  {
   "cell_type": "code",
   "execution_count": 4,
   "metadata": {},
   "outputs": [],
   "source": [
    "model_weights = torch.load('/home/gzanin/Desktop/hearinganythinganywhere/models/hallwayBase/weights.pt', map_location=torch.device('cpu'))\n",
    "\n",
    "#print(model_weights.keys())"
   ]
  },
  {
   "cell_type": "code",
   "execution_count": 5,
   "metadata": {},
   "outputs": [
    {
     "data": {
      "text/plain": [
       "tensor([-1.1889,  0.9600,  0.1497, -1.6674, -1.7362, -0.8662, -0.0920, -0.1603,\n",
       "        -0.7774, -0.5799, -0.2962, -0.4480, -0.3558, -0.4179, -0.6262, -0.7645,\n",
       "        -0.8553, -0.9175, -1.0549, -1.1494, -1.2660, -1.3254, -1.3975, -1.4152,\n",
       "        -1.5259, -1.5676, -1.6296, -1.7462, -1.7349, -1.8844, -2.0238, -2.2500,\n",
       "        -2.5868, -2.5822])"
      ]
     },
     "execution_count": 5,
     "metadata": {},
     "output_type": "execute_result"
    }
   ],
   "source": [
    "model_weights['model_state_dict']['spline_values']"
   ]
  },
  {
   "cell_type": "code",
   "execution_count": 6,
   "metadata": {},
   "outputs": [
    {
     "name": "stdout",
     "output_type": "stream",
     "text": [
      "epochs made: 301.0\n"
     ]
    }
   ],
   "source": [
    "data_losses = np.load('/home/gzanin/Desktop/hearinganythinganywhere/~/prova_training_1000epochs/losses.npy')\n",
    "data_losses.shape\n",
    "\n",
    "print(\"epochs made:\", data_losses.shape[0]/8)"
   ]
  },
  {
   "cell_type": "markdown",
   "metadata": {},
   "source": [
    "Create dummy dataset"
   ]
  },
  {
   "cell_type": "code",
   "execution_count": 11,
   "metadata": {},
   "outputs": [],
   "source": [
    "import fibonacci_utilities as fib\n",
    "import render"
   ]
  },
  {
   "cell_type": "code",
   "execution_count": 12,
   "metadata": {},
   "outputs": [],
   "source": [
    "azimuths, elevations = fib.fibonacci_azimuths_and_elevations(15)"
   ]
  },
  {
   "cell_type": "code",
   "execution_count": null,
   "metadata": {},
   "outputs": [],
   "source": [
    "data = np.load('/home/gzanin/Desktop/classroomBase/RIRs.npy', allow_pickle=True, encoding= 'latin1')\n",
    "data.shape"
   ]
  },
  {
   "cell_type": "code",
   "execution_count": 20,
   "metadata": {},
   "outputs": [],
   "source": [
    "##########only 12 microphones are considered\n",
    "\n",
    "m = []\n",
    "\n",
    "for i in range (12):\n",
    "    m.append(render.initialize_directional_list(azimuths, elevations, 1, \"cpu\"))\n",
    "\n",
    "for j in range (len(m)):\n",
    "    for r in m[j]:\n",
    "        r['t_response'] = data[j]\n",
    "\n",
    "m = np.array(m)"
   ]
  },
  {
   "cell_type": "code",
   "execution_count": 23,
   "metadata": {},
   "outputs": [],
   "source": [
    "#m = data[:12]"
   ]
  },
  {
   "cell_type": "code",
   "execution_count": null,
   "metadata": {},
   "outputs": [],
   "source": [
    "m.shape"
   ]
  },
  {
   "cell_type": "code",
   "execution_count": 24,
   "metadata": {},
   "outputs": [],
   "source": [
    "np.save('/home/gzanin/Desktop/prova_dataset/RIRs.npy', m)"
   ]
  },
  {
   "cell_type": "code",
   "execution_count": null,
   "metadata": {},
   "outputs": [],
   "source": [
    "new_data = np.load('/home/gzanin/Desktop/prova_dataset/xyzs.npy', allow_pickle=True, encoding= 'latin1')\n",
    "\n",
    "new_data\n"
   ]
  }
 ],
 "metadata": {
  "kernelspec": {
   "display_name": "Python 3",
   "language": "python",
   "name": "python3"
  },
  "language_info": {
   "codemirror_mode": {
    "name": "ipython",
    "version": 3
   },
   "file_extension": ".py",
   "mimetype": "text/x-python",
   "name": "python",
   "nbconvert_exporter": "python",
   "pygments_lexer": "ipython3",
   "version": "3.11.9"
  }
 },
 "nbformat": 4,
 "nbformat_minor": 2
}
