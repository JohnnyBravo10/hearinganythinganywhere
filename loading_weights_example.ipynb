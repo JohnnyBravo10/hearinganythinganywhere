{
 "cells": [
  {
   "cell_type": "code",
   "execution_count": 1,
   "metadata": {},
   "outputs": [],
   "source": [
    "import numpy as np\n",
    "import torch"
   ]
  },
  {
   "cell_type": "code",
   "execution_count": 2,
   "metadata": {},
   "outputs": [
    {
     "data": {
      "text/plain": [
       "OrderedDict([('energy_vector',\n",
       "              tensor([[[-1.5401, -0.7943, -0.9091, -1.3150, -0.6574, -0.3863, -1.1271,\n",
       "                        -1.1646, -0.8094, -1.3051],\n",
       "                       [ 1.5401,  0.7943,  0.9091,  1.3150,  0.6574,  0.3863,  1.1271,\n",
       "                         1.1646,  0.8094,  1.3051]],\n",
       "              \n",
       "                      [[-0.9759, -0.4994, -1.3032, -1.2177, -0.3614, -0.9981, -1.0377,\n",
       "                        -0.7199, -0.8342, -1.6437],\n",
       "                       [ 0.9759,  0.4994,  1.3032,  1.2177,  0.3614,  0.9981,  1.0377,\n",
       "                         0.7199,  0.8342,  1.6437]],\n",
       "              \n",
       "                      [[-2.0089, -1.5780, -1.4189, -1.0632, -1.5322, -0.0126, -0.3368,\n",
       "                        -0.2425,  0.1932, -0.5778],\n",
       "                       [ 2.0089,  1.5780,  1.4189,  1.0632,  1.5322,  0.0126,  0.3368,\n",
       "                         0.2425, -0.1932,  0.5778]],\n",
       "              \n",
       "                      [[-1.7584, -0.9833, -1.3878, -2.1214, -2.0416, -0.6179, -1.1845,\n",
       "                        -1.3269, -0.7873, -1.4275],\n",
       "                       [ 1.7584,  0.9833,  1.3878,  2.1214,  2.0416,  0.6179,  1.1845,\n",
       "                         1.3269,  0.7873,  1.4275]],\n",
       "              \n",
       "                      [[-1.2375, -0.7319, -1.0754, -1.3686, -1.1205, -0.6822, -0.6484,\n",
       "                        -0.6190, -0.5260, -1.2589],\n",
       "                       [ 1.2375,  0.7319,  1.0754,  1.3686,  1.1205,  0.6822,  0.6484,\n",
       "                         0.6190,  0.5260,  1.2589]],\n",
       "              \n",
       "                      [[-0.1456, -0.4225, -0.8457, -0.8830, -0.2722, -0.5884, -0.4272,\n",
       "                         0.0526,  0.1075, -0.9257],\n",
       "                       [ 0.1456,  0.4225,  0.8457,  0.8830,  0.2722,  0.5884,  0.4272,\n",
       "                        -0.0526, -0.1075,  0.9257]]])),\n",
       "             ('source_response',\n",
       "              tensor([ 0.0826,  0.2040,  0.3587,  ..., -0.2888, -1.2139, -0.6409])),\n",
       "             ('directivity_sphere',\n",
       "              tensor([[ 0.0526,  0.8693,  0.4589,  ..., -0.7017, -0.0947, -0.8985],\n",
       "                      [-0.1440,  1.0600,  0.3743,  ..., -1.0336, -0.1125, -0.8564],\n",
       "                      [-0.0054,  0.8012,  0.4614,  ..., -0.8537, -0.0520, -0.7614],\n",
       "                      ...,\n",
       "                      [-0.3214,  0.3081, -0.2793,  ..., -1.8649, -1.5130, -1.6305],\n",
       "                      [ 0.1087,  0.1296, -0.4963,  ..., -0.4173, -1.0964, -1.2995],\n",
       "                      [-0.3417,  0.2755, -0.6888,  ..., -1.3803, -1.3718, -1.4482]])),\n",
       "             ('decay', tensor([5.2008])),\n",
       "             ('RIR_residual',\n",
       "              tensor([ 0.0000e+00, -1.1337e-02,  1.8135e-02,  ..., -7.4935e-05,\n",
       "                      -6.9689e-05, -7.4607e-05])),\n",
       "             ('spline_values',\n",
       "              tensor([-1.0309, -0.4218, -1.0556,  1.0760,  1.2255, -0.1364, -0.5142, -1.3442,\n",
       "                      -0.0597, -0.5715, -0.3542, -0.6326,  1.4924,  2.8066,  3.5737,  3.5931,\n",
       "                       3.7868,  4.3739,  1.1239,  3.6809,  4.4836,  4.8477,  4.7484,  4.6311,\n",
       "                       3.7861,  5.8187,  4.7990,  2.5141,  3.6256,  3.8223,  4.3824,  3.4411,\n",
       "                       3.2556,  3.3974])),\n",
       "             ('bp_ord_cut_freqs',\n",
       "              tensor([  70.,  400.,  800., 1000., 1300., 2000.]))])"
      ]
     },
     "execution_count": 2,
     "metadata": {},
     "output_type": "execute_result"
    }
   ],
   "source": [
    "#data = np.load('/home/gzanin/Desktop/hearinganythinganywhere/~/prova_training_1000epochs/weights.pt', allow_pickle = True)\n",
    "\n",
    "data = torch.load('/home/gzanin/Desktop/hearinganythinganywhere/~/prova_training_1000epochs/weights.pt', map_location=torch.device('cpu'))\n",
    "data['model_state_dict']\n"
   ]
  },
  {
   "cell_type": "code",
   "execution_count": 3,
   "metadata": {},
   "outputs": [
    {
     "data": {
      "text/plain": [
       "tensor([-1.0309, -0.4218, -1.0556,  1.0760,  1.2255, -0.1364, -0.5142, -1.3442,\n",
       "        -0.0597, -0.5715, -0.3542, -0.6326,  1.4924,  2.8066,  3.5737,  3.5931,\n",
       "         3.7868,  4.3739,  1.1239,  3.6809,  4.4836,  4.8477,  4.7484,  4.6311,\n",
       "         3.7861,  5.8187,  4.7990,  2.5141,  3.6256,  3.8223,  4.3824,  3.4411,\n",
       "         3.2556,  3.3974])"
      ]
     },
     "execution_count": 3,
     "metadata": {},
     "output_type": "execute_result"
    }
   ],
   "source": [
    "data['model_state_dict']['spline_values']"
   ]
  },
  {
   "cell_type": "code",
   "execution_count": 4,
   "metadata": {},
   "outputs": [],
   "source": [
    "model_weights = torch.load('/home/gzanin/Desktop/hearinganythinganywhere/models/hallwayBase/weights.pt', map_location=torch.device('cpu'))\n",
    "\n",
    "#print(model_weights.keys())"
   ]
  },
  {
   "cell_type": "code",
   "execution_count": 5,
   "metadata": {},
   "outputs": [
    {
     "data": {
      "text/plain": [
       "tensor([-1.1889,  0.9600,  0.1497, -1.6674, -1.7362, -0.8662, -0.0920, -0.1603,\n",
       "        -0.7774, -0.5799, -0.2962, -0.4480, -0.3558, -0.4179, -0.6262, -0.7645,\n",
       "        -0.8553, -0.9175, -1.0549, -1.1494, -1.2660, -1.3254, -1.3975, -1.4152,\n",
       "        -1.5259, -1.5676, -1.6296, -1.7462, -1.7349, -1.8844, -2.0238, -2.2500,\n",
       "        -2.5868, -2.5822])"
      ]
     },
     "execution_count": 5,
     "metadata": {},
     "output_type": "execute_result"
    }
   ],
   "source": [
    "model_weights['model_state_dict']['spline_values']"
   ]
  },
  {
   "cell_type": "code",
   "execution_count": 4,
   "metadata": {},
   "outputs": [
    {
     "name": "stdout",
     "output_type": "stream",
     "text": [
      "epochs made: 263.0\n"
     ]
    }
   ],
   "source": [
    "data_losses = np.load('/home/gzanin/Desktop/hearinganythinganywhere/~/prova_training_1000epochs/losses.npy')\n",
    "data_losses.shape\n",
    "\n",
    "print(\"epochs made:\", data_losses.shape[0]/8)"
   ]
  },
  {
   "cell_type": "markdown",
   "metadata": {},
   "source": [
    "Create dummy dataset"
   ]
  },
  {
   "cell_type": "code",
   "execution_count": 11,
   "metadata": {},
   "outputs": [],
   "source": [
    "import fibonacci_utilities as fib\n",
    "import render"
   ]
  },
  {
   "cell_type": "code",
   "execution_count": 12,
   "metadata": {},
   "outputs": [],
   "source": [
    "azimuths, elevations = fib.fibonacci_azimuths_and_elevations(15)"
   ]
  },
  {
   "cell_type": "code",
   "execution_count": null,
   "metadata": {},
   "outputs": [],
   "source": [
    "data = np.load('/home/gzanin/Desktop/classroomBase/RIRs.npy', allow_pickle=True, encoding= 'latin1')\n",
    "data.shape"
   ]
  },
  {
   "cell_type": "code",
   "execution_count": 20,
   "metadata": {},
   "outputs": [],
   "source": [
    "##########only 12 microphones are considered\n",
    "\n",
    "m = []\n",
    "\n",
    "for i in range (12):\n",
    "    m.append(render.initialize_directional_list(azimuths, elevations, 1, \"cpu\"))\n",
    "\n",
    "for j in range (len(m)):\n",
    "    for r in m[j]:\n",
    "        r['t_response'] = data[j]\n",
    "\n",
    "m = np.array(m)"
   ]
  },
  {
   "cell_type": "code",
   "execution_count": 23,
   "metadata": {},
   "outputs": [],
   "source": [
    "#m = data[:12]"
   ]
  },
  {
   "cell_type": "code",
   "execution_count": null,
   "metadata": {},
   "outputs": [],
   "source": [
    "m.shape"
   ]
  },
  {
   "cell_type": "code",
   "execution_count": 24,
   "metadata": {},
   "outputs": [],
   "source": [
    "np.save('/home/gzanin/Desktop/prova_dataset/RIRs.npy', m)"
   ]
  },
  {
   "cell_type": "code",
   "execution_count": null,
   "metadata": {},
   "outputs": [],
   "source": [
    "new_data = np.load('/home/gzanin/Desktop/prova_dataset/xyzs.npy', allow_pickle=True, encoding= 'latin1')\n",
    "\n",
    "new_data\n"
   ]
  }
 ],
 "metadata": {
  "kernelspec": {
   "display_name": "Python 3",
   "language": "python",
   "name": "python3"
  },
  "language_info": {
   "codemirror_mode": {
    "name": "ipython",
    "version": 3
   },
   "file_extension": ".py",
   "mimetype": "text/x-python",
   "name": "python",
   "nbconvert_exporter": "python",
   "pygments_lexer": "ipython3",
   "version": "3.11.9"
  }
 },
 "nbformat": 4,
 "nbformat_minor": 2
}
