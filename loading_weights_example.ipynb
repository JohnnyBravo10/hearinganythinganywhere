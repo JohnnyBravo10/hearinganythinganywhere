{
 "cells": [
  {
   "cell_type": "code",
   "execution_count": 22,
   "metadata": {},
   "outputs": [],
   "source": [
    "import numpy as np\n",
    "import torch"
   ]
  },
  {
   "cell_type": "code",
   "execution_count": 36,
   "metadata": {},
   "outputs": [
    {
     "data": {
      "text/plain": [
       "OrderedDict([('energy_vector',\n",
       "              tensor([[[ 0.2358, -0.3700,  1.2930, -0.3559, -0.5278, -0.4747, -1.1789,\n",
       "                        -2.0230, -1.1184, -1.3833],\n",
       "                       [-0.2358,  0.3700, -1.2930,  0.3559,  0.5278,  0.4747,  1.1789,\n",
       "                         2.0230,  1.1184,  1.3833]],\n",
       "              \n",
       "                      [[-1.1596, -0.4881, -0.3753, -1.7862,  0.4012, -1.7094, -1.6006,\n",
       "                        -2.0352,  0.8716,  1.9510],\n",
       "                       [ 1.1596,  0.4881,  0.3753,  1.7862, -0.4012,  1.7094,  1.6006,\n",
       "                         2.0352, -0.8716, -1.9510]],\n",
       "              \n",
       "                      [[-2.4367, -1.0749, -1.5681, -0.6310, -0.5543, -1.6173, -0.8984,\n",
       "                        -1.0310, -2.3357, -1.9602],\n",
       "                       [ 2.4367,  1.0749,  1.5681,  0.6310,  0.5543,  1.6173,  0.8984,\n",
       "                         1.0310,  2.3357,  1.9602]],\n",
       "              \n",
       "                      [[-1.6467, -0.4605, -1.1996, -1.1455, -1.5221, -0.6231, -1.6541,\n",
       "                        -1.3373, -1.5434, -3.5535],\n",
       "                       [ 1.6467,  0.4605,  1.1996,  1.1455,  1.5221,  0.6231,  1.6541,\n",
       "                         1.3373,  1.5434,  3.5535]],\n",
       "              \n",
       "                      [[ 1.5390,  0.5306,  0.2159,  0.5641, -0.6404, -0.5502, -0.5960,\n",
       "                        -1.1998, -0.4492, -1.2288],\n",
       "                       [-1.5390, -0.5306, -0.2159, -0.5641,  0.6404,  0.5502,  0.5960,\n",
       "                         1.1998,  0.4492,  1.2288]],\n",
       "              \n",
       "                      [[ 1.7954, -0.0604, -0.2657,  0.5000, -0.5130,  0.0994, -0.9587,\n",
       "                        -1.9630, -2.0653, -0.9617],\n",
       "                       [-1.7954,  0.0604,  0.2657, -0.5000,  0.5130, -0.0994,  0.9587,\n",
       "                         1.9630,  2.0653,  0.9617]],\n",
       "              \n",
       "                      [[-8.1035, -7.4990, -4.0156, -2.9923,  0.9002, -0.4808,  1.6271,\n",
       "                        -1.2669, -1.8406, -1.7344],\n",
       "                       [ 8.1035,  7.4990,  4.0156,  2.9923, -0.9002,  0.4808, -1.6271,\n",
       "                         1.2669,  1.8406,  1.7344]],\n",
       "              \n",
       "                      [[-3.3347, -5.3559, -2.8291, -3.8371, -1.5008,  1.7533, -1.3674,\n",
       "                        -1.1970, -2.0517, -1.6461],\n",
       "                       [ 3.3347,  5.3559,  2.8291,  3.8371,  1.5008, -1.7533,  1.3674,\n",
       "                         1.1970,  2.0517,  1.6461]],\n",
       "              \n",
       "                      [[-4.3509, -0.5957, -2.6758, -2.3615,  1.7417, -1.9444, -2.0090,\n",
       "                        -2.5518, -3.0687, -3.5856],\n",
       "                       [ 4.3509,  0.5957,  2.6758,  2.3615, -1.7417,  1.9444,  2.0090,\n",
       "                         2.5518,  3.0687,  3.5856]]])),\n",
       "             ('source_response',\n",
       "              tensor([ 0.8905,  0.5164, -1.4705,  ...,  0.0231,  0.0348,  0.0223])),\n",
       "             ('directivity_sphere',\n",
       "              tensor([[ 3.9505, -0.1541,  3.6368,  ..., -0.9842,  0.0484, -3.4204],\n",
       "                      [ 5.9757,  1.4041,  3.3648,  ..., -0.6041,  0.0222, -2.9900],\n",
       "                      [ 1.6210, -1.8630,  4.0574,  ..., -1.1405, -0.1484, -3.4160],\n",
       "                      ...,\n",
       "                      [ 2.3979,  2.4219, -0.3917,  ...,  5.6760,  6.2142,  4.9655],\n",
       "                      [ 0.1878,  4.2907, -0.0218,  ...,  3.5325,  4.0106,  2.5177],\n",
       "                      [ 2.4431,  3.0799, -0.9355,  ...,  4.8250,  5.0279,  3.5532]])),\n",
       "             ('decay', tensor([2.7284])),\n",
       "             ('RIR_residual',\n",
       "              tensor([ 0.0000,  0.0372,  0.1064,  ..., -0.0002, -0.0002, -0.0001])),\n",
       "             ('spline_values',\n",
       "              tensor([-6.5271, -4.4239, -2.2176, -1.4029, -2.3027, -1.4068, -2.0806, -1.2429,\n",
       "                      -1.6340, -1.5536, -1.6248, -1.6119, -1.6029, -1.8516, -2.0420, -2.1747,\n",
       "                      -2.3282, -2.4735, -2.5659, -2.6959, -2.7857, -2.9272, -2.9818, -3.0434,\n",
       "                      -3.1352, -3.1238, -3.1892, -3.1705, -3.2211, -3.2729, -3.3189, -3.2391,\n",
       "                      -3.2994, -3.2320])),\n",
       "             ('bp_ord_cut_freqs',\n",
       "              tensor([  70.,  400.,  800., 1000., 1300., 2000.]))])"
      ]
     },
     "execution_count": 36,
     "metadata": {},
     "output_type": "execute_result"
    }
   ],
   "source": [
    "#data = np.load('/home/gzanin/Desktop/hearinganythinganywhere/~/prova_training_1000epochs/weights.pt', allow_pickle = True)\n",
    "\n",
    "data = torch.load('/home/gzanin/Desktop/hearinganythinganywhere/~/prova_different/weights.pt', map_location=torch.device('cpu'))\n",
    "data['model_state_dict']\n"
   ]
  },
  {
   "cell_type": "code",
   "execution_count": 37,
   "metadata": {},
   "outputs": [
    {
     "data": {
      "text/plain": [
       "3.3706185e-06"
      ]
     },
     "execution_count": 37,
     "metadata": {},
     "output_type": "execute_result"
    }
   ],
   "source": [
    "np.average(data['model_state_dict']['RIR_residual']**2)"
   ]
  },
  {
   "cell_type": "code",
   "execution_count": 24,
   "metadata": {},
   "outputs": [
    {
     "data": {
      "text/plain": [
       "OrderedDict([('energy_vector',\n",
       "              tensor([[[ 0.9187,  0.7974,  0.6802, -0.2733, -0.9746, -0.2327, -0.4194,\n",
       "                        -0.1177,  0.0889, -0.0309],\n",
       "                       [-0.9187, -0.7974, -0.6802,  0.2733,  0.9746,  0.2327,  0.4194,\n",
       "                         0.1177, -0.0889,  0.0309]],\n",
       "              \n",
       "                      [[ 0.9174,  0.8133,  0.6739, -0.1058, -0.9628,  0.2995, -0.2774,\n",
       "                        -0.1113,  0.0809, -0.0516],\n",
       "                       [-0.9174, -0.8133, -0.6739,  0.1058,  0.9628, -0.2995,  0.2774,\n",
       "                         0.1113, -0.0809,  0.0516]],\n",
       "              \n",
       "                      [[-0.3067,  0.5299,  1.0300,  0.2963, -1.3403,  0.6778, -1.2488,\n",
       "                        -0.7093, -0.0882, -0.0781],\n",
       "                       [ 0.3067, -0.5299, -1.0300, -0.2963,  1.3403, -0.6778,  1.2488,\n",
       "                         0.7093,  0.0882,  0.0781]],\n",
       "              \n",
       "                      [[-0.3529,  0.5516,  1.0610,  0.8838, -1.3981,  1.0281,  0.8011,\n",
       "                         0.4164,  0.2287,  0.3265],\n",
       "                       [ 0.3529, -0.5516, -1.0610, -0.8838,  1.3981, -1.0281, -0.8011,\n",
       "                        -0.4164, -0.2287, -0.3265]],\n",
       "              \n",
       "                      [[ 0.7653,  0.5469,  0.3559, -0.6180, -0.7735, -0.7348, -0.8378,\n",
       "                        -0.1062, -0.1163, -0.5944],\n",
       "                       [-0.7653, -0.5469, -0.3559,  0.6180,  0.7735,  0.7348,  0.8378,\n",
       "                         0.1062,  0.1163,  0.5944]],\n",
       "              \n",
       "                      [[ 0.7564,  0.5357,  0.2469, -0.7992, -0.8613,  0.0983, -0.4734,\n",
       "                         0.0856, -0.2554, -0.5946],\n",
       "                       [-0.7564, -0.5357, -0.2469,  0.7992,  0.8613, -0.0983,  0.4734,\n",
       "                        -0.0856,  0.2554,  0.5946]]])),\n",
       "             ('source_response',\n",
       "              tensor([ 0.1728,  0.1966, -0.0735,  ..., -0.0712, -0.0919, -0.0549])),\n",
       "             ('directivity_sphere',\n",
       "              tensor([[1.2118, 0.8611, 0.7704,  ..., 0.8831, 1.0186, 1.1707],\n",
       "                      [1.1395, 0.7902, 0.7144,  ..., 0.7468, 0.9754, 1.0933],\n",
       "                      [1.0645, 0.7702, 0.6886,  ..., 1.1899, 1.1629, 1.2791],\n",
       "                      ...,\n",
       "                      [0.6590, 0.5972, 0.5229,  ..., 1.1200, 0.9815, 0.8962],\n",
       "                      [1.0084, 0.8317, 0.7619,  ..., 0.6339, 0.9359, 0.8289],\n",
       "                      [0.8858, 0.7091, 0.6136,  ..., 0.8327, 0.9454, 0.8329]])),\n",
       "             ('decay', tensor([5.6787])),\n",
       "             ('RIR_residual',\n",
       "              tensor([ 0.0000e+00,  2.0447e-02, -7.0034e-03,  ...,  2.3015e-07,\n",
       "                      -1.5048e-05, -1.4924e-05])),\n",
       "             ('spline_values',\n",
       "              tensor([-2.6292, -5.9393, -2.5444, -1.7005, -1.4081, -1.3112, -1.6289, -2.7871,\n",
       "                      -3.7891, -1.9339, -0.1705,  0.0315,  0.2243,  0.2686,  0.2392,  0.2697,\n",
       "                       0.3081,  0.3715,  0.4730,  0.6342,  0.8608,  1.1260,  1.4141,  1.7210,\n",
       "                       2.0215,  2.3347,  2.6283,  2.9293,  3.2296,  3.5316,  3.8284,  4.1244,\n",
       "                       4.4276,  4.7244])),\n",
       "             ('bp_ord_cut_freqs',\n",
       "              tensor([  70.,  400.,  800., 1000., 1300., 2000.]))])"
      ]
     },
     "execution_count": 24,
     "metadata": {},
     "output_type": "execute_result"
    }
   ],
   "source": [
    "data = torch.load('C:/Users/giova/Documents/Units/IIT/hearinganythinganywhere/~/espoo_s2_200amb+300om_epochs/weights.pt', map_location=torch.device('cpu'))\n",
    "data['model_state_dict']"
   ]
  },
  {
   "cell_type": "code",
   "execution_count": 39,
   "metadata": {},
   "outputs": [
    {
     "data": {
      "text/plain": [
       "1.4959952e-06"
      ]
     },
     "execution_count": 39,
     "metadata": {},
     "output_type": "execute_result"
    }
   ],
   "source": [
    "np.average(data['model_state_dict']['RIR_residual']**2)"
   ]
  },
  {
   "cell_type": "code",
   "execution_count": null,
   "metadata": {},
   "outputs": [],
   "source": [
    "data['model_state_dict']['spline_values']"
   ]
  },
  {
   "cell_type": "code",
   "execution_count": null,
   "metadata": {},
   "outputs": [],
   "source": [
    "model_weights = torch.load('/home/gzanin/Desktop/hearinganythinganywhere/models/hallwayBase/weights.pt', map_location=torch.device('cpu'))\n",
    "\n",
    "#print(model_weights.keys())"
   ]
  },
  {
   "cell_type": "code",
   "execution_count": null,
   "metadata": {},
   "outputs": [],
   "source": [
    "model_weights['model_state_dict']['spline_values']"
   ]
  },
  {
   "cell_type": "code",
   "execution_count": 20,
   "metadata": {},
   "outputs": [
    {
     "name": "stdout",
     "output_type": "stream",
     "text": [
      "epochs made: 200.0\n"
     ]
    }
   ],
   "source": [
    "data_losses = np.load('C:/Users/giova/Documents/Units/IIT/hearinganythinganywhere/~/espoo_s2_200amb+300om_epochs/losses.npy')\n",
    "data_losses.shape\n",
    "\n",
    "print(\"epochs made:\", data_losses.shape[0]/7)"
   ]
  },
  {
   "cell_type": "markdown",
   "metadata": {},
   "source": [
    "Create dummy dataset"
   ]
  },
  {
   "cell_type": "code",
   "execution_count": null,
   "metadata": {},
   "outputs": [],
   "source": [
    "import fibonacci_utilities as fib\n",
    "import render"
   ]
  },
  {
   "cell_type": "code",
   "execution_count": null,
   "metadata": {},
   "outputs": [],
   "source": [
    "azimuths, elevations = fib.fibonacci_azimuths_and_elevations(15)"
   ]
  },
  {
   "cell_type": "code",
   "execution_count": 5,
   "metadata": {},
   "outputs": [
    {
     "data": {
      "text/plain": [
       "array([[ 6.11514818e-06,  7.35741694e-06,  5.00817302e-06, ...,\n",
       "        -7.26507135e-07,  3.53323294e-07,  5.90716509e-07],\n",
       "       [ 9.97966657e-06,  3.15541092e-05, -1.79595778e-06, ...,\n",
       "         2.03789893e-06, -1.19009891e-05, -3.57242990e-06],\n",
       "       [ 9.85353793e-06,  7.06042298e-06,  1.01186370e-05, ...,\n",
       "        -1.48643564e-06,  1.73800477e-06, -1.97854981e-06],\n",
       "       ...,\n",
       "       [ 1.95844156e-05,  2.08539409e-05,  2.17284163e-05, ...,\n",
       "         1.87933942e-05,  2.10904654e-05,  1.78315590e-05],\n",
       "       [ 8.10003875e-06,  9.77486737e-06,  8.16097347e-06, ...,\n",
       "         7.35602554e-07, -3.14799097e-07,  1.75372285e-06],\n",
       "       [ 6.92069176e-06,  6.67534747e-06,  5.70008310e-06, ...,\n",
       "        -1.09548276e-06,  4.15361797e-06,  1.40834412e-07]])"
      ]
     },
     "execution_count": 5,
     "metadata": {},
     "output_type": "execute_result"
    }
   ],
   "source": [
    "data = np.load('/home/gzanin/Desktop/classroomBase/RIRs.npy', allow_pickle=True, encoding= 'latin1')\n",
    "data"
   ]
  },
  {
   "cell_type": "code",
   "execution_count": null,
   "metadata": {},
   "outputs": [],
   "source": [
    "##########only 12 microphones are considered\n",
    "\n",
    "m = []\n",
    "\n",
    "for i in range (12):\n",
    "    m.append(render.initialize_directional_list(azimuths, elevations, 1, \"cpu\"))\n",
    "\n",
    "for j in range (len(m)):\n",
    "    for r in m[j]:\n",
    "        r['t_response'] = data[j]\n",
    "\n",
    "m = np.array(m)"
   ]
  },
  {
   "cell_type": "code",
   "execution_count": null,
   "metadata": {},
   "outputs": [],
   "source": [
    "#m = data[:12]"
   ]
  },
  {
   "cell_type": "code",
   "execution_count": null,
   "metadata": {},
   "outputs": [],
   "source": [
    "m.shape"
   ]
  },
  {
   "cell_type": "code",
   "execution_count": null,
   "metadata": {},
   "outputs": [],
   "source": [
    "np.save('/home/gzanin/Desktop/prova_dataset/RIRs.npy', m)"
   ]
  },
  {
   "cell_type": "code",
   "execution_count": 10,
   "metadata": {},
   "outputs": [
    {
     "data": {
      "text/plain": [
       "array([[2.4241125 , 0.581025  , 0.32      ],\n",
       "       [2.16535   , 0.581025  , 0.32      ],\n",
       "       [1.90738125, 0.581025  , 0.32      ],\n",
       "       ...,\n",
       "       [5.04586875, 7.648575  , 1.5113    ],\n",
       "       [4.78393125, 7.648575  , 1.5113    ],\n",
       "       [4.524375  , 7.648575  , 1.5113    ]])"
      ]
     },
     "execution_count": 10,
     "metadata": {},
     "output_type": "execute_result"
    }
   ],
   "source": [
    "new_data = np.load(\"../classroomBase/xyzs.npy\")\n",
    "\n",
    "new_data\n"
   ]
  },
  {
   "cell_type": "code",
   "execution_count": 11,
   "metadata": {},
   "outputs": [],
   "source": [
    "nottingham1_positions = np.array([[6.68, 6.07, 0.55], [6.60, 1.42, 0.55], [1.50, 1.39, 0.55], [1.35, 5.95, 0.55], [6.68, 6.07, 2.00], [6.60, 1.42, 2.00], [1.50, 1.39, 2.00], [1.35, 5.95, 2.00], [5.28, 6.04, 1.40], [2.86, 6.01, 1.40]])"
   ]
  },
  {
   "cell_type": "code",
   "execution_count": 12,
   "metadata": {},
   "outputs": [],
   "source": [
    "np.save('../Nottingham1/xyzs.npy', nottingham1_positions)"
   ]
  },
  {
   "cell_type": "code",
   "execution_count": 2,
   "metadata": {},
   "outputs": [],
   "source": [
    "nottingham2_positions = np.array([[4.04, 5.60, 1.45], [4.04, 5.60, 1.45], [4.04, 5.60, 1.45], [4.04, 5.60, 1.45], [4.10, 5.80, 1.60]])"
   ]
  },
  {
   "cell_type": "code",
   "execution_count": 4,
   "metadata": {},
   "outputs": [],
   "source": [
    "np.save('../Nottingham2/xyzs.npy', nottingham2_positions)"
   ]
  },
  {
   "cell_type": "code",
   "execution_count": 5,
   "metadata": {},
   "outputs": [],
   "source": [
    "nottingham3_positions = np.array([[3.51, 4.00, 1.80]])"
   ]
  },
  {
   "cell_type": "code",
   "execution_count": 6,
   "metadata": {},
   "outputs": [],
   "source": [
    "np.save('../Nottingham3/xyzs.npy', nottingham3_positions)"
   ]
  }
 ],
 "metadata": {
  "kernelspec": {
   "display_name": "Python 3",
   "language": "python",
   "name": "python3"
  },
  "language_info": {
   "codemirror_mode": {
    "name": "ipython",
    "version": 3
   },
   "file_extension": ".py",
   "mimetype": "text/x-python",
   "name": "python",
   "nbconvert_exporter": "python",
   "pygments_lexer": "ipython3",
   "version": "3.11.9"
  }
 },
 "nbformat": 4,
 "nbformat_minor": 2
}
