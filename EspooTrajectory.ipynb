{
 "cells": [
  {
   "cell_type": "code",
   "execution_count": null,
   "id": "94c7e78d",
   "metadata": {
    "scrolled": true
   },
   "outputs": [],
   "source": [
    "%load_ext autoreload\n",
    "%autoreload 2\n",
    "import sys\n",
    "sys.path.insert(1, '..')\n",
    "import numpy as np\n",
    "import matplotlib.pyplot as plt\n",
    "import scipy.interpolate\n",
    "import render\n",
    "import trajectory\n",
    "import rooms.dataset\n",
    "from IPython.display import Audio\n",
    "\n",
    "# Loading Hallway Data\n",
    "D = rooms.dataset.dataLoader(\"espoo_S2\")\n",
    "\n",
    "# Generate Trajectory\n",
    "indices = [0, 1,2,3,4,5,6]\n",
    "key_points = D.xyzs[indices]*np.array([1,1,0]) + np.array([0,0,1.01])\n",
    "tck, u = scipy.interpolate.splprep(key_points.T, k=5)\n",
    "u_new = np.linspace(0, 1, 100)\n",
    "interpolated = np.array(scipy.interpolate.splev(u_new, tck)).T\n",
    "plt.plot(interpolated[:,0], interpolated[:,1], label='Interpolated Trajectory')\n",
    "plt.gca().set_aspect('equal', adjustable='box')\n",
    "plt.xlabel('X (meters)')\n",
    "plt.ylabel('Y (meters)')\n",
    "plt.title(\"Hallway Trajectory\")\n",
    "plt.show()"
   ]
  },
  {
   "cell_type": "code",
   "execution_count": null,
   "id": "f40ef4b1",
   "metadata": {},
   "outputs": [],
   "source": [
    "# Compute Forward-Facing Vectors for each interpolation point.\n",
    "forwards = np.diff(interpolated,axis=0)\n",
    "forwards = forwards/np.linalg.norm(forwards,axis=-1).reshape(-1, 1)\n",
    "\n",
    "# Compute Left-Facing Vectors\n",
    "lefts = []\n",
    "for i in range(forwards.shape[0]):\n",
    "    lefts.append(np.array([-forwards[i,1], forwards[i,0], 0 ]))\n",
    "lefts=np.array(lefts)\n",
    "\n",
    "\n",
    "# There are 99 keypoints - the source is at a constant location for all of them.\n",
    "source_xyzs = np.array([D.speaker_xyz]*99)\n",
    "\n",
    "\n",
    "T = trajectory.Trajectory(\"hallwayTraj\", \"hallwayBase\",interpolated[:99], forwards, lefts, source_xyzs, None, None)\n",
    "T.source_axis_1s = [None]*99 # There is no source Rotation.\n",
    "T.source_axis_2s = [None]*99\n",
    "\n",
    "# Tracing Reflection Paths for all keypoints\n",
    "T.save_paths()"
   ]
  },
  {
   "cell_type": "code",
   "execution_count": null,
   "id": "ec20b57b",
   "metadata": {},
   "outputs": [],
   "source": [
    "# Computing RIRs at all keypoints using one of our trained models.\n",
    "R = render.Renderer(n_surfaces=6, toa_perturb=False)\n",
    "R = R.cuda()\n",
    "T.get_RIRs(R,\"../models/hallwayBase/weights.pt\")"
   ]
  },
  {
   "cell_type": "code",
   "execution_count": null,
   "id": "52a27681",
   "metadata": {},
   "outputs": [],
   "source": [
    "T.load_RIRs()\n",
    "\n",
    "# Convolving RIRs with source audio\n",
    "T.convolve_audio(\"GoldenSlumbersMono.wav\")\n",
    "\n",
    "# Smoothly interpolating between audio recordings\n",
    "rendered_audio = T.fill(\"GoldenSlumbersMono.wav\", fade_length=5)\n",
    "\n",
    "# Playing Audio\n",
    "from IPython.display import Audio\n",
    "Audio(rendered_audio, rate=48000)"
   ]
  }
 ],
 "metadata": {
  "kernelspec": {
   "display_name": "Python 3 (ipykernel)",
   "language": "python",
   "name": "python3"
  },
  "language_info": {
   "codemirror_mode": {
    "name": "ipython",
    "version": 3
   },
   "file_extension": ".py",
   "mimetype": "text/x-python",
   "name": "python",
   "nbconvert_exporter": "python",
   "pygments_lexer": "ipython3",
   "version": "3.11.9"
  }
 },
 "nbformat": 4,
 "nbformat_minor": 5
}
