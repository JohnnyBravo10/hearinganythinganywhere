{
 "cells": [
  {
   "cell_type": "code",
   "execution_count": null,
   "metadata": {},
   "outputs": [],
   "source": [
    "import numpy as np\n",
    "import sounddevice as sd\n",
    "import matplotlib.pyplot as plt\n",
    "import soundfile as sf\n",
    "from scipy.io import wavfile\n",
    "# Carica il file .npy\n",
    "#signal = np.load('/Users/giova/Documents/Units/IIT/classroomBase/RIRs.npy')\n",
    "\n",
    "# Specifica la frequenza di campionamento (ad esempio, 44100 Hz)\n",
    "sample_rate = 48000\n",
    "\n",
    "# Leggi il file WAV esportato da REW\n",
    "sample_rate, dataO4 = wavfile.read(\"C:/Users/giova/Documents/Units/IIT/RIR_nottingham/ch 8.wav\")\n",
    "sample_rate, dataO5 = wavfile.read(\"C:/Users/giova/Documents/Units/IIT/RIR_nottingham/ch 9.wav\")\n",
    "sample_rate, dataO6 = wavfile.read(\"C:/Users/giova/Documents/Units/IIT/RIR_nottingham/ch 11.wav\")\n",
    "sample_rate, dataO7 = wavfile.read(\"C:/Users/giova/Documents/Units/IIT/RIR_nottingham/ch 13.wav\")\n",
    "sample_rate, dataO8 = wavfile.read(\"C:/Users/giova/Documents/Units/IIT/RIR_nottingham/ch 15.wav\")\n",
    "sample_rate, dataO1 = wavfile.read(\"C:/Users/giova/Documents/Units/IIT/RIR_nottingham/ch 5.wav\")\n",
    "sample_rate, dataO2 = wavfile.read(\"C:/Users/giova/Documents/Units/IIT/RIR_nottingham/ch 6.wav\")\n",
    "sample_rate, dataO3 = wavfile.read(\"C:/Users/giova/Documents/Units/IIT/RIR_nottingham/ch 7.wav\")\n",
    "\n",
    "signalO1 = np.array(dataO1)\n",
    "signalO2 = np.array(dataO2)\n",
    "signalO3 = np.array(dataO3)\n",
    "signalO4 = np.array(dataO4)\n",
    "signalO5 = np.array(dataO5)\n",
    "signalO6 = np.array(dataO6)\n",
    "signalO7 = np.array(dataO7)\n",
    "signalO8 = np.array(dataO8)\n",
    "\n",
    "'''\n",
    "# Riproduci il segnale\n",
    "sd.play(signal, samplerate=sample_rate)\n",
    "sd.wait()  # Aspetta che la riproduzione termini\n",
    "'''\n"
   ]
  },
  {
   "cell_type": "code",
   "execution_count": null,
   "metadata": {},
   "outputs": [],
   "source": [
    "signalO1.shape"
   ]
  },
  {
   "cell_type": "code",
   "execution_count": null,
   "metadata": {},
   "outputs": [],
   "source": [
    "# Crea un asse temporale\n",
    "time = np.linspace(0, 131072 / sample_rate, num=131072)\n",
    "#time = np.linspace(0, 83561 / sample_rate, num=83561)\n",
    "# Fai il plot\n",
    "plt.figure(figsize=(10, 4))\n",
    "plt.plot(time, signalO1, label=\"Segnale\")\n",
    "plt.xlabel('Tempo (s)')\n",
    "plt.ylabel('Ampiezza')\n",
    "plt.title('Segnale Audio')\n",
    "plt.legend()\n",
    "plt.grid()\n",
    "plt.show()"
   ]
  },
  {
   "cell_type": "code",
   "execution_count": null,
   "metadata": {},
   "outputs": [],
   "source": [
    "signalO1 = signalO1[int(48000- (48 * 10.170039)):] #10.170039 is the delay in ms\n",
    "signalO2 = signalO2[int(48000- (48 * 10.106964)):]\n",
    "signalO3 = signalO3[int(48000- (48 * 10.419876)):]\n",
    "signalO4 = signalO4[int(48000- (48 * 9.6167939)):]\n",
    "signalO5 = signalO5[int(48000- (48 * 10.415511)):]\n",
    "signalO6 = signalO6[int(48000- (48 * 10.641759)):]\n",
    "signalO7 = signalO7[int(48000- (48 * 10.659595)):]\n",
    "signalO8 = signalO8[int(48000- (48 * 9.876026)):]"
   ]
  },
  {
   "cell_type": "code",
   "execution_count": null,
   "metadata": {},
   "outputs": [],
   "source": [
    "max(signalO8)"
   ]
  },
  {
   "cell_type": "code",
   "execution_count": null,
   "metadata": {},
   "outputs": [],
   "source": [
    "target = len(signalO7)\n",
    "target"
   ]
  },
  {
   "cell_type": "code",
   "execution_count": null,
   "metadata": {},
   "outputs": [],
   "source": [
    "signalO1 = np.pad(signalO1, (0, max(0, target - len(signalO1))), mode='constant', constant_values=0)\n",
    "signalO2 = np.pad(signalO2, (0, max(0, target - len(signalO2))), mode='constant', constant_values=0)\n",
    "signalO3 = np.pad(signalO3, (0, max(0, target - len(signalO3))), mode='constant', constant_values=0)\n",
    "signalO4 = np.pad(signalO4, (0, max(0, target - len(signalO4))), mode='constant', constant_values=0)\n",
    "signalO5 = np.pad(signalO5, (0, max(0, target - len(signalO5))), mode='constant', constant_values=0)\n",
    "signalO6 = np.pad(signalO6, (0, max(0, target - len(signalO6))), mode='constant', constant_values=0)\n",
    "signalO7 = np.pad(signalO7, (0, max(0, target - len(signalO7))), mode='constant', constant_values=0)\n",
    "signalO8 = np.pad(signalO8, (0, max(0, target - len(signalO8))), mode='constant', constant_values=0)"
   ]
  },
  {
   "cell_type": "code",
   "execution_count": null,
   "metadata": {},
   "outputs": [],
   "source": [
    "all_signals = np.array([signalO1, signalO2, signalO3, signalO4, signalO5, signalO6, signalO7, signalO8])"
   ]
  },
  {
   "cell_type": "code",
   "execution_count": null,
   "metadata": {},
   "outputs": [],
   "source": [
    "all_signals.shape"
   ]
  },
  {
   "cell_type": "code",
   "execution_count": null,
   "metadata": {},
   "outputs": [],
   "source": [
    "np.save('/Users/giova/Documents/Units/IIT/Nottingham1/RIRs.npy', all_signals)"
   ]
  },
  {
   "cell_type": "code",
   "execution_count": null,
   "metadata": {},
   "outputs": [],
   "source": [
    "sample_rate, dataOM2 = wavfile.read(\"C:/Users/giova/Documents/Units/IIT/RIR_nottingham/OM2 S3-48k.wav\")\n",
    "signalOM2 = np.array(dataOM2)\n",
    "signalOM2 = signalOM2[int(48000- (48 * 7.700878)):]\n",
    "print(len(signalOM2))\n",
    "signalOM2 = np.pad(signalOM2, (0,142), mode='constant', constant_values=0)\n",
    "print(len(signalOM2))\n",
    "np.save('/Users/giova/Documents/Units/IIT/Nottingham3/RIRs.npy', np.array([signalOM2]))"
   ]
  },
  {
   "cell_type": "code",
   "execution_count": null,
   "metadata": {},
   "outputs": [],
   "source": [
    "np.save('../Nottingham1/music.npy', np.array([]))\n",
    "np.save('../Nottingham3/music.npy', np.array([]))\n",
    "\n",
    "np.save('../Nottingham1/music_dls.npy', np.array([]))\n",
    "np.save('../Nottingham3/music_dls.npy', np.array([]))\n",
    "\n",
    "np.save('../Nottingham1/bin_music.npy', np.array([]))\n",
    "np.save('../Nottingham3/bin_music.npy', np.array([]))\n",
    "\n",
    "np.save('../Nottingham1/bin_music_dls.npy', np.array([]))\n",
    "np.save('../Nottingham3/bin_music_dls.npy', np.array([]))\n",
    "\n",
    "np.save('../Nottingham1/bin_xyzs.npy', np.array([]))\n",
    "np.save('../Nottingham3/bin_xyzs.npy', np.array([]))\n",
    "\n",
    "np.save('../Nottingham1/bin_RIRs.npy', np.array([]))\n",
    "np.save('../Nottingham3/bin_RIRs.npy', np.array([]))\n",
    "\n",
    "np.save('../Nottingham1/bin_music.npy', np.array([]))\n",
    "np.save('../Nottingham3/bin_music.npy', np.array([]))\n",
    "\n",
    "np.save('../Nottingham1/mic_numbers.npy', np.array([]))\n",
    "np.save('../Nottingham3/mic_numbers.npy', np.array([]))"
   ]
  }
 ],
 "metadata": {
  "kernelspec": {
   "display_name": "3.11.9",
   "language": "python",
   "name": "python3"
  },
  "language_info": {
   "codemirror_mode": {
    "name": "ipython",
    "version": 3
   },
   "file_extension": ".py",
   "mimetype": "text/x-python",
   "name": "python",
   "nbconvert_exporter": "python",
   "pygments_lexer": "ipython3",
   "version": "3.11.9"
  }
 },
 "nbformat": 4,
 "nbformat_minor": 2
}
