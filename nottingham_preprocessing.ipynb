{
 "cells": [
  {
   "cell_type": "code",
   "execution_count": 13,
   "metadata": {},
   "outputs": [
    {
     "data": {
      "text/plain": [
       "'\\n# Riproduci il segnale\\nsd.play(signal, samplerate=sample_rate)\\nsd.wait()  # Aspetta che la riproduzione termini\\n'"
      ]
     },
     "execution_count": 13,
     "metadata": {},
     "output_type": "execute_result"
    }
   ],
   "source": [
    "import numpy as np\n",
    "import sounddevice as sd\n",
    "import matplotlib.pyplot as plt\n",
    "import soundfile as sf\n",
    "from scipy.io import wavfile\n",
    "# Carica il file .npy\n",
    "#signal = np.load('/Users/giova/Documents/Units/IIT/classroomBase/RIRs.npy')\n",
    "\n",
    "# Specifica la frequenza di campionamento (ad esempio, 44100 Hz)\n",
    "sample_rate = 48000\n",
    "\n",
    "# Leggi il file WAV esportato da REW\n",
    "sample_rate, dataO4 = wavfile.read(\"C:/Users/giova/Documents/Units/IIT/RIR_nottingham/ch 8.wav\")\n",
    "sample_rate, dataO5 = wavfile.read(\"C:/Users/giova/Documents/Units/IIT/RIR_nottingham/ch 9.wav\")\n",
    "sample_rate, dataO6 = wavfile.read(\"C:/Users/giova/Documents/Units/IIT/RIR_nottingham/ch 11.wav\")\n",
    "sample_rate, dataO7 = wavfile.read(\"C:/Users/giova/Documents/Units/IIT/RIR_nottingham/ch 13.wav\")\n",
    "sample_rate, dataO8 = wavfile.read(\"C:/Users/giova/Documents/Units/IIT/RIR_nottingham/ch 15.wav\")\n",
    "sample_rate, dataO1 = wavfile.read(\"C:/Users/giova/Documents/Units/IIT/RIR_nottingham/ch 5.wav\")\n",
    "sample_rate, dataO2 = wavfile.read(\"C:/Users/giova/Documents/Units/IIT/RIR_nottingham/ch 6.wav\")\n",
    "sample_rate, dataO3 = wavfile.read(\"C:/Users/giova/Documents/Units/IIT/RIR_nottingham/ch 7.wav\")\n",
    "\n",
    "signalO1 = np.array(dataO1)\n",
    "signalO2 = np.array(dataO2)\n",
    "signalO3 = np.array(dataO3)\n",
    "signalO4 = np.array(dataO4)\n",
    "signalO5 = np.array(dataO5)\n",
    "signalO6 = np.array(dataO6)\n",
    "signalO7 = np.array(dataO7)\n",
    "signalO8 = np.array(dataO8)\n",
    "\n",
    "'''\n",
    "# Riproduci il segnale\n",
    "sd.play(signal, samplerate=sample_rate)\n",
    "sd.wait()  # Aspetta che la riproduzione termini\n",
    "'''\n"
   ]
  },
  {
   "cell_type": "code",
   "execution_count": 14,
   "metadata": {},
   "outputs": [
    {
     "data": {
      "text/plain": [
       "(131072,)"
      ]
     },
     "execution_count": 14,
     "metadata": {},
     "output_type": "execute_result"
    }
   ],
   "source": [
    "signalO1.shape"
   ]
  },
  {
   "cell_type": "code",
   "execution_count": 16,
   "metadata": {},
   "outputs": [
    {
     "data": {
      "image/png": "[encoded data removed]",
      "text/plain": [
       "<Figure size 1000x400 with 1 Axes>"
      ]
     },
     "metadata": {},
     "output_type": "display_data"
    }
   ],
   "source": [
    "# Crea un asse temporale\n",
    "time = np.linspace(0, 131072 / sample_rate, num=131072)\n",
    "#time = np.linspace(0, 83561 / sample_rate, num=83561)\n",
    "# Fai il plot\n",
    "plt.figure(figsize=(10, 4))\n",
    "plt.plot(time, signalO1, label=\"Segnale\")\n",
    "plt.xlabel('Tempo (s)')\n",
    "plt.ylabel('Ampiezza')\n",
    "plt.title('Segnale Audio')\n",
    "plt.legend()\n",
    "plt.grid()\n",
    "plt.show()"
   ]
  },
  {
   "cell_type": "code",
   "execution_count": 17,
   "metadata": {},
   "outputs": [],
   "source": [
    "signalO1 = signalO1[int(48000- (48 * 10.170039)):] #10.170039 is the delay in ms\n",
    "signalO2 = signalO2[int(48000- (48 * 10.106964)):]\n",
    "signalO3 = signalO3[int(48000- (48 * 10.419876)):]\n",
    "signalO4 = signalO4[int(48000- (48 * 9.6167939)):]\n",
    "signalO5 = signalO5[int(48000- (48 * 10.415511)):]\n",
    "signalO6 = signalO6[int(48000- (48 * 10.641759)):]\n",
    "signalO7 = signalO7[int(48000- (48 * 10.659595)):]\n",
    "signalO8 = signalO8[int(48000- (48 * 9.876026)):]"
   ]
  },
  {
   "cell_type": "code",
   "execution_count": 22,
   "metadata": {},
   "outputs": [
    {
     "data": {
      "text/plain": [
       "0.040272526"
      ]
     },
     "execution_count": 22,
     "metadata": {},
     "output_type": "execute_result"
    }
   ],
   "source": [
    "max(signalO8)"
   ]
  },
  {
   "cell_type": "code",
   "execution_count": 23,
   "metadata": {},
   "outputs": [
    {
     "data": {
      "text/plain": [
       "83584"
      ]
     },
     "execution_count": 23,
     "metadata": {},
     "output_type": "execute_result"
    }
   ],
   "source": [
    "target = len(signalO7)\n",
    "target"
   ]
  },
  {
   "cell_type": "code",
   "execution_count": 24,
   "metadata": {},
   "outputs": [],
   "source": [
    "signalO1 = np.pad(signalO1, (0, max(0, target - len(signalO1))), mode='constant', constant_values=0)\n",
    "signalO2 = np.pad(signalO2, (0, max(0, target - len(signalO2))), mode='constant', constant_values=0)\n",
    "signalO3 = np.pad(signalO3, (0, max(0, target - len(signalO3))), mode='constant', constant_values=0)\n",
    "signalO4 = np.pad(signalO4, (0, max(0, target - len(signalO4))), mode='constant', constant_values=0)\n",
    "signalO5 = np.pad(signalO5, (0, max(0, target - len(signalO5))), mode='constant', constant_values=0)\n",
    "signalO6 = np.pad(signalO6, (0, max(0, target - len(signalO6))), mode='constant', constant_values=0)\n",
    "signalO7 = np.pad(signalO7, (0, max(0, target - len(signalO7))), mode='constant', constant_values=0)\n",
    "signalO8 = np.pad(signalO8, (0, max(0, target - len(signalO8))), mode='constant', constant_values=0)"
   ]
  },
  {
   "cell_type": "code",
   "execution_count": 25,
   "metadata": {},
   "outputs": [],
   "source": [
    "all_signals = np.array([signalO1, signalO2, signalO3, signalO4, signalO5, signalO6, signalO7, signalO8])"
   ]
  },
  {
   "cell_type": "code",
   "execution_count": 26,
   "metadata": {},
   "outputs": [
    {
     "data": {
      "text/plain": [
       "(8, 83584)"
      ]
     },
     "execution_count": 26,
     "metadata": {},
     "output_type": "execute_result"
    }
   ],
   "source": [
    "all_signals.shape"
   ]
  },
  {
   "cell_type": "code",
   "execution_count": 27,
   "metadata": {},
   "outputs": [],
   "source": [
    "np.save('/Users/giova/Documents/Units/IIT/Nottingham1/RIRs.npy', all_signals)"
   ]
  },
  {
   "cell_type": "code",
   "execution_count": 33,
   "metadata": {},
   "outputs": [
    {
     "name": "stdout",
     "output_type": "stream",
     "text": [
      "83442\n",
      "83584\n"
     ]
    }
   ],
   "source": [
    "sample_rate, dataOM2 = wavfile.read(\"C:/Users/giova/Documents/Units/IIT/RIR_nottingham/OM2 S3-48k.wav\")\n",
    "signalOM2 = np.array(dataOM2)\n",
    "signalOM2 = signalOM2[int(48000- (48 * 7.700878)):]\n",
    "print(len(signalOM2))\n",
    "signalOM2 = np.pad(signalOM2, (0,142), mode='constant', constant_values=0)\n",
    "print(len(signalOM2))\n",
    "np.save('/Users/giova/Documents/Units/IIT/Nottingham3/RIRs.npy', np.array([signalOM2]))"
   ]
  },
  {
   "cell_type": "code",
   "execution_count": 3,
   "metadata": {},
   "outputs": [
    {
     "ename": "FileNotFoundError",
     "evalue": "[Errno 2] No such file or directory: '../Nottingham1/music.npy'",
     "output_type": "error",
     "traceback": [
      "\u001b[0;31m---------------------------------------------------------------------------\u001b[0m",
      "\u001b[0;31mFileNotFoundError\u001b[0m                         Traceback (most recent call last)",
      "Cell \u001b[0;32mIn[3], line 1\u001b[0m\n\u001b[0;32m----> 1\u001b[0m \u001b[43mnp\u001b[49m\u001b[38;5;241;43m.\u001b[39;49m\u001b[43msave\u001b[49m\u001b[43m(\u001b[49m\u001b[38;5;124;43m'\u001b[39;49m\u001b[38;5;124;43m../Nottingham1/music.npy\u001b[39;49m\u001b[38;5;124;43m'\u001b[39;49m\u001b[43m,\u001b[49m\u001b[43m \u001b[49m\u001b[43mnp\u001b[49m\u001b[38;5;241;43m.\u001b[39;49m\u001b[43marray\u001b[49m\u001b[43m(\u001b[49m\u001b[43m[\u001b[49m\u001b[43m]\u001b[49m\u001b[43m)\u001b[49m\u001b[43m)\u001b[49m\n\u001b[1;32m      2\u001b[0m np\u001b[38;5;241m.\u001b[39msave(\u001b[38;5;124m'\u001b[39m\u001b[38;5;124m../Nottingham3/music.npy\u001b[39m\u001b[38;5;124m'\u001b[39m, np\u001b[38;5;241m.\u001b[39marray([]))\n\u001b[1;32m      4\u001b[0m np\u001b[38;5;241m.\u001b[39msave(\u001b[38;5;124m'\u001b[39m\u001b[38;5;124m../Nottingham1/music_dls.npy\u001b[39m\u001b[38;5;124m'\u001b[39m, np\u001b[38;5;241m.\u001b[39marray([]))\n",
      "File \u001b[0;32m~/.pyenv/versions/3.11.9/lib/python3.11/site-packages/numpy/lib/npyio.py:542\u001b[0m, in \u001b[0;36msave\u001b[0;34m(file, arr, allow_pickle, fix_imports)\u001b[0m\n\u001b[1;32m    540\u001b[0m     \u001b[38;5;28;01mif\u001b[39;00m \u001b[38;5;129;01mnot\u001b[39;00m file\u001b[38;5;241m.\u001b[39mendswith(\u001b[38;5;124m'\u001b[39m\u001b[38;5;124m.npy\u001b[39m\u001b[38;5;124m'\u001b[39m):\n\u001b[1;32m    541\u001b[0m         file \u001b[38;5;241m=\u001b[39m file \u001b[38;5;241m+\u001b[39m \u001b[38;5;124m'\u001b[39m\u001b[38;5;124m.npy\u001b[39m\u001b[38;5;124m'\u001b[39m\n\u001b[0;32m--> 542\u001b[0m     file_ctx \u001b[38;5;241m=\u001b[39m \u001b[38;5;28;43mopen\u001b[39;49m\u001b[43m(\u001b[49m\u001b[43mfile\u001b[49m\u001b[43m,\u001b[49m\u001b[43m \u001b[49m\u001b[38;5;124;43m\"\u001b[39;49m\u001b[38;5;124;43mwb\u001b[39;49m\u001b[38;5;124;43m\"\u001b[39;49m\u001b[43m)\u001b[49m\n\u001b[1;32m    544\u001b[0m \u001b[38;5;28;01mwith\u001b[39;00m file_ctx \u001b[38;5;28;01mas\u001b[39;00m fid:\n\u001b[1;32m    545\u001b[0m     arr \u001b[38;5;241m=\u001b[39m np\u001b[38;5;241m.\u001b[39masanyarray(arr)\n",
      "\u001b[0;31mFileNotFoundError\u001b[0m: [Errno 2] No such file or directory: '../Nottingham1/music.npy'"
     ]
    }
   ],
   "source": [
    "np.save('../Nottingham1/music.npy', np.array([]))\n",
    "np.save('../Nottingham3/music.npy', np.array([]))\n",
    "\n",
    "np.save('../Nottingham1/music_dls.npy', np.array([]))\n",
    "np.save('../Nottingham3/music_dls.npy', np.array([]))\n",
    "\n",
    "np.save('../Nottingham1/bin_music.npy', np.array([]))\n",
    "np.save('../Nottingham3/bin_music.npy', np.array([]))\n",
    "\n",
    "np.save('../Nottingham1/bin_music_dls.npy', np.array([]))\n",
    "np.save('../Nottingham3/bin_music_dls.npy', np.array([]))\n",
    "\n",
    "np.save('../Nottingham1/bin_xyzs.npy', np.array([]))\n",
    "np.save('../Nottingham3/bin_xyzs.npy', np.array([]))\n",
    "\n",
    "np.save('../Nottingham1/bin_RIRs.npy', np.array([]))\n",
    "np.save('../Nottingham3/bin_RIRs.npy', np.array([]))\n",
    "\n",
    "np.save('../Nottingham1/bin_music.npy', np.array([]))\n",
    "np.save('../Nottingham3/bin_music.npy', np.array([]))\n",
    "\n",
    "np.save('../Nottingham1/mic_numbers.npy', np.array([]))\n",
    "np.save('../Nottingham3/mic_numbers.npy', np.array([]))"
   ]
  }
 ],
 "metadata": {
  "kernelspec": {
   "display_name": "3.11.9",
   "language": "python",
   "name": "python3"
  },
  "language_info": {
   "codemirror_mode": {
    "name": "ipython",
    "version": 3
   },
   "file_extension": ".py",
   "mimetype": "text/x-python",
   "name": "python",
   "nbconvert_exporter": "python",
   "pygments_lexer": "ipython3",
   "version": "3.11.9"
  }
 },
 "nbformat": 4,
 "nbformat_minor": 2
}
