{
 "cells": [
  {
   "cell_type": "code",
   "execution_count": 1,
   "metadata": {},
   "outputs": [],
   "source": [
    "import render_optimized as render #################à\n",
    "import rooms.dataset\n",
    "import torch\n",
    "import torch.nn as nn\n",
    "import matplotlib.pyplot as plt\n",
    "\n",
    "import timeit"
   ]
  },
  {
   "cell_type": "code",
   "execution_count": 2,
   "metadata": {},
   "outputs": [
    {
     "name": "stderr",
     "output_type": "stream",
     "text": [
      "/home/gzanin/.local/lib/python3.11/site-packages/torch/cuda/__init__.py:118: UserWarning: CUDA initialization: CUDA unknown error - this may be due to an incorrectly set up environment, e.g. changing env variable CUDA_VISIBLE_DEVICES after program start. Setting the available devices to be zero. (Triggered internally at ../c10/cuda/CUDAFunctions.cpp:108.)\n",
      "  return torch._C._cuda_getDeviceCount() > 0\n"
     ]
    }
   ],
   "source": [
    "torch.set_default_dtype(torch.float32)\n",
    "device = torch.device(\"cuda:0\" if torch.cuda.is_available() else \"cpu\")"
   ]
  },
  {
   "cell_type": "code",
   "execution_count": 3,
   "metadata": {},
   "outputs": [],
   "source": [
    "D_0 = rooms.dataset.dataLoader(\"classroomBase\")"
   ]
  },
  {
   "cell_type": "code",
   "execution_count": 4,
   "metadata": {},
   "outputs": [
    {
     "name": "stdout",
     "output_type": "stream",
     "text": [
      "Considered Paths:\t59050\n",
      "Total Considered Paths, after Axial:\t59080\n",
      "Valid Paths:\t851\n"
     ]
    }
   ],
   "source": [
    "L_0 = render.get_listener(source_xyz=D_0.speaker_xyz, listener_xyz = D_0.xyzs[0], surfaces=D_0.all_surfaces, \n",
    "                                                speed_of_sound=D_0.speed_of_sound,\n",
    "                                                parallel_surface_pairs=D_0.parallel_surface_pairs,\n",
    "                                                max_order=D_0.max_order, max_axial_order=D_0.max_axial_order)"
   ]
  },
  {
   "cell_type": "code",
   "execution_count": 5,
   "metadata": {},
   "outputs": [],
   "source": [
    "R_0 = render.Renderer(n_surfaces=len(D_0.all_surfaces))"
   ]
  },
  {
   "cell_type": "code",
   "execution_count": 6,
   "metadata": {},
   "outputs": [],
   "source": [
    "# Use many GPUs if available\n",
    "if torch.cuda.device_count() > 1:\n",
    "    print(f\"Using {torch.cuda.device_count()} GPUs\")\n",
    "    R_0 = nn.DataParallel(R_0).module"
   ]
  },
  {
   "cell_type": "code",
   "execution_count": 7,
   "metadata": {},
   "outputs": [
    {
     "data": {
      "text/plain": [
       "Parameter containing:\n",
       "tensor([  70.,  400.,  800., 1000., 1300., 2000.], requires_grad=True)"
      ]
     },
     "execution_count": 7,
     "metadata": {},
     "output_type": "execute_result"
    }
   ],
   "source": [
    "pt_file = torch.load('./models/classroomBase/weights.pt', map_location=device)\n",
    "R_0.energy_vector = nn.Parameter(pt_file['model_state_dict']['energy_vector'])\n",
    "R_0.source_response = nn.Parameter(pt_file['model_state_dict']['source_response'])\n",
    "R_0.directivity_sphere = nn.Parameter(pt_file['model_state_dict']['directivity_sphere'])\n",
    "R_0.decay = nn.Parameter(pt_file['model_state_dict']['decay'])\n",
    "R_0.RIR_residual = nn.Parameter(pt_file['model_state_dict']['RIR_residual'])\n",
    "R_0.spline_values = nn.Parameter(pt_file['model_state_dict']['spline_values'])\n",
    "\n",
    "R_0.bp_ord_cut_freqs.to(device) "
   ]
  },
  {
   "cell_type": "code",
   "execution_count": null,
   "metadata": {},
   "outputs": [],
   "source": [
    "R_0.mic_180_loss = {1000: 0, 5000:1, 10000: 2.75, 15000:5, 20000:7 } #decibels lost at 180 degrees (DPA4006 with free field grid)\n",
    "\n",
    "R_0.mic_0_gain = {1000: 1, 5000: 1, 10000: 1.06, 15000: 1.16, 20000: 1.12} #gain at 0 degrees (DPA4006 with free field grid)\n",
    "#R_0.mic_180_loss = {1000: 0, 2000:0, 4000: 0, 6000:0, 16000:0, 20000:0 }\n",
    "R_0.mic_direction = torch.Tensor([0,1,0])#####################\n",
    "\n",
    "r = R_0.render_early_microphone_response(L_0)\n",
    "\n",
    "# Converti in NumPy\n",
    "r_numpy = r.detach().numpy()\n",
    "print(r_numpy)\n",
    "plt.scatter(range(len(r_numpy)), r_numpy, s=1)  # Usa piccoli punti\n",
    "plt.title(\"Scatter Plot del Tensore\")\n",
    "plt.xlabel(\"Indice\")\n",
    "plt.ylabel(\"Valore\")\n",
    "plt.show()"
   ]
  },
  {
   "cell_type": "code",
   "execution_count": null,
   "metadata": {},
   "outputs": [],
   "source": [
    "R_0.mic_180_loss = {1000: 0, 2000:0.05, 4000: 0.12, 6000:0.15, 16000:0.3, 20000:0.5 }\n",
    "\n",
    "R_0.mic_0_gain = {1000: 1, 2000: 1, 4000: 0.9, 6000: 0.87, 16000: 1.07, 20000: 1.48}\n",
    "#R_0.mic_180_loss = {1000: 0, 2000:0, 4000: 0, 6000:0, 16000:0, 20000:0 }\n",
    "R_0.mic_direction = torch.Tensor([0,1,0])#####################\n",
    "\n",
    "a = timeit.timeit(lambda:R_0.render_early_microphone_response(L_0), number=5)\n",
    "\n",
    "\n",
    "print (\"Elapsed:\", a)"
   ]
  },
  {
   "cell_type": "code",
   "execution_count": null,
   "metadata": {},
   "outputs": [],
   "source": [
    "R_0.cardioid_exponents = {1000:0.3, 5000:0.4, 10000:0.4, 16000:1.2}\n",
    "\n",
    "R_0.mic_0_gain = {1000: 1,  5000: 1, 10000: 1, 16000: 1}\n",
    "#R_0.mic_180_loss = {1000: 0, 2000:0, 4000: 0, 6000:0, 16000:0, 20000:0 }\n",
    "R_0.mic_direction = torch.Tensor([0,1,0])#####################\n",
    "\n",
    "r = R_0.render_early_cardioid(L_0)\n",
    "\n",
    "# Converti in NumPy\n",
    "r_numpy = r.detach().numpy()\n",
    "print(r_numpy)\n",
    "plt.scatter(range(len(r_numpy)), r_numpy, s=1)  # Usa piccoli punti\n",
    "plt.title(\"Scatter Plot del Tensore\")\n",
    "plt.xlabel(\"Indice\")\n",
    "plt.ylabel(\"Valore\")\n",
    "plt.show()"
   ]
  },
  {
   "cell_type": "code",
   "execution_count": null,
   "metadata": {},
   "outputs": [],
   "source": [
    "R_0.cardioid_exponents = {1000:0.3, 5000:0.4, 10000:0.4, 16000:1.2}\n",
    "\n",
    "R_0.mic_0_gain = {1000: 1,  5000: 1, 10000: 1, 16000: 1}\n",
    "#R_0.mic_180_loss = {1000: 0, 2000:0, 4000: 0, 6000:0, 16000:0, 20000:0 }\n",
    "R_0.mic_direction = torch.Tensor([0,1,0])#####################\n",
    "\n",
    "a = timeit.timeit(lambda:R_0.render_early_cardioid(L_0), number=5)\n",
    "\n",
    "\n",
    "\n",
    "print (\"Elapsed:\", a)"
   ]
  },
  {
   "cell_type": "code",
   "execution_count": 10,
   "metadata": {},
   "outputs": [
    {
     "name": "stdout",
     "output_type": "stream",
     "text": [
      "[-2.27657077e-10 -1.79697074e-10 -1.42907854e-10 ...  4.18957390e-18\n",
      "  3.12505066e-18  2.15548740e-18]\n"
     ]
    },
    {
     "data": {
      "image/png": "[encoded data removed]",
      "text/plain": [
       "<Figure size 640x480 with 1 Axes>"
      ]
     },
     "metadata": {},
     "output_type": "display_data"
    }
   ],
   "source": [
    "r = R_0.render_early(L_0)\n",
    "\n",
    "r_numpy = r.detach().numpy()\n",
    "\n",
    "print(r_numpy)\n",
    "\n",
    "plt.scatter(range(len(r_numpy)), r_numpy, s=1)  # Usa piccoli punti\n",
    "plt.title(\"Scatter Plot del Tensore\")\n",
    "plt.xlabel(\"Indice\")\n",
    "plt.ylabel(\"Valore\")\n",
    "plt.show()"
   ]
  },
  {
   "cell_type": "code",
   "execution_count": null,
   "metadata": {},
   "outputs": [],
   "source": [
    "a = timeit.timeit(lambda:R_0.render_early(L_0), number=5)\n",
    "\n",
    "\n",
    "\n",
    "\n",
    "print (\"Elapsed:\", a)"
   ]
  },
  {
   "cell_type": "code",
   "execution_count": 8,
   "metadata": {},
   "outputs": [],
   "source": [
    "import fibonacci_utilities as fib\n",
    "azimuths, elevations = fib.fibonacci_azimuths_and_elevations(3)"
   ]
  },
  {
   "cell_type": "code",
   "execution_count": 9,
   "metadata": {},
   "outputs": [
    {
     "name": "stdout",
     "output_type": "stream",
     "text": [
      "[-3.86080647e-06  7.47305126e-06 -2.02039973e-05 ...  1.00153728e-12\n",
      " -1.50334281e-14 -7.64523912e-13]\n"
     ]
    },
    {
     "data": {
      "image/png": "[encoded data removed]",
      "text/plain": [
       "<Figure size 640x480 with 1 Axes>"
      ]
     },
     "metadata": {},
     "output_type": "display_data"
    }
   ],
   "source": [
    "r = R_0.render_early_directional(L_0, azimuths, elevations)\n",
    "r\n",
    "\n",
    "# Converti in NumPy\n",
    "r_numpy = r[0]['t_response'].detach().numpy()\n",
    "\n",
    "print(r_numpy)\n",
    "\n",
    "plt.scatter(range(len(r_numpy)), r_numpy, s=1)  # Usa piccoli punti\n",
    "plt.title(\"Scatter Plot del Tensore\")\n",
    "plt.xlabel(\"Indice\")\n",
    "plt.ylabel(\"Valore\")\n",
    "plt.show()"
   ]
  },
  {
   "cell_type": "code",
   "execution_count": null,
   "metadata": {},
   "outputs": [],
   "source": [
    "r = R_0.render_early(L_0)\n",
    "r\n",
    "\n",
    "# Converti in NumPy\n",
    "r_numpy = r.detach().numpy()\n",
    "print(r_numpy)\n",
    "plt.scatter(range(len(r_numpy)), r_numpy, s=1)  # Usa piccoli punti\n",
    "plt.title(\"Scatter Plot del Tensore\")\n",
    "plt.xlabel(\"Indice\")\n",
    "plt.ylabel(\"Valore\")\n",
    "plt.show()"
   ]
  },
  {
   "cell_type": "code",
   "execution_count": null,
   "metadata": {},
   "outputs": [],
   "source": [
    "a = timeit.timeit(lambda:R_0.render_early_directional(L_0, azimuths, elevations), number=5)\n",
    "\n",
    "print (\"Elapsed:\", a)"
   ]
  }
 ],
 "metadata": {
  "kernelspec": {
   "display_name": "Python 3",
   "language": "python",
   "name": "python3"
  },
  "language_info": {
   "codemirror_mode": {
    "name": "ipython",
    "version": 3
   },
   "file_extension": ".py",
   "mimetype": "text/x-python",
   "name": "python",
   "nbconvert_exporter": "python",
   "pygments_lexer": "ipython3",
   "version": "3.11.9"
  }
 },
 "nbformat": 4,
 "nbformat_minor": 2
}
