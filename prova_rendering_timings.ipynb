{
 "cells": [
  {
   "cell_type": "code",
   "execution_count": null,
   "metadata": {},
   "outputs": [],
   "source": [
    "import render_optimized as render #################à\n",
    "import rooms.dataset\n",
    "import evaluate\n",
    "import torch\n",
    "import torch.nn as nn\n",
    "import matplotlib.pyplot as plt\n",
    "import numpy as np\n",
    "import metrics\n",
    "\n",
    "import timeit"
   ]
  },
  {
   "cell_type": "code",
   "execution_count": null,
   "metadata": {},
   "outputs": [],
   "source": [
    "torch.set_default_dtype(torch.float32)\n",
    "device = torch.device(\"cuda:0\" if torch.cuda.is_available() else \"cpu\")"
   ]
  },
  {
   "cell_type": "code",
   "execution_count": null,
   "metadata": {},
   "outputs": [],
   "source": [
    "D_0 = rooms.dataset.dataLoader(\"classroomBase\")"
   ]
  },
  {
   "cell_type": "code",
   "execution_count": null,
   "metadata": {},
   "outputs": [],
   "source": [
    "L_0 = render.get_listener(source_xyz=D_0.speaker_xyz, listener_xyz = D_0.xyzs[0], surfaces=D_0.all_surfaces, \n",
    "                                                speed_of_sound=D_0.speed_of_sound,\n",
    "                                                parallel_surface_pairs=D_0.parallel_surface_pairs,\n",
    "                                                max_order=D_0.max_order, max_axial_order=D_0.max_axial_order)"
   ]
  },
  {
   "cell_type": "code",
   "execution_count": null,
   "metadata": {},
   "outputs": [],
   "source": [
    "R_0 = render.Renderer(n_surfaces=len(D_0.all_surfaces))"
   ]
  },
  {
   "cell_type": "code",
   "execution_count": null,
   "metadata": {},
   "outputs": [],
   "source": [
    "# Use many GPUs if available\n",
    "if torch.cuda.device_count() > 1:\n",
    "    print(f\"Using {torch.cuda.device_count()} GPUs\")\n",
    "    R_0 = nn.DataParallel(R_0).module"
   ]
  },
  {
   "cell_type": "code",
   "execution_count": null,
   "metadata": {},
   "outputs": [],
   "source": [
    "pt_file = torch.load('./models/classroomBase/weights.pt', map_location=device)\n",
    "R_0.energy_vector = nn.Parameter(pt_file['model_state_dict']['energy_vector'])\n",
    "R_0.source_response = nn.Parameter(pt_file['model_state_dict']['source_response'])\n",
    "R_0.directivity_sphere = nn.Parameter(pt_file['model_state_dict']['directivity_sphere'])\n",
    "R_0.decay = nn.Parameter(pt_file['model_state_dict']['decay'])\n",
    "R_0.RIR_residual = nn.Parameter(pt_file['model_state_dict']['RIR_residual'])\n",
    "R_0.spline_values = nn.Parameter(pt_file['model_state_dict']['spline_values'])\n",
    "\n",
    "R_0.bp_ord_cut_freqs.to(device) "
   ]
  },
  {
   "cell_type": "code",
   "execution_count": null,
   "metadata": {},
   "outputs": [],
   "source": [
    "R_0.mic_180_loss = {1000: 0, 2000:0.05, 4000: 0.12, 6000:0.15, 16000:0.3, 20000:0.5 }\n",
    "\n",
    "R_0.mic_0_gain = {1000: 1, 2000: 1, 4000: 0.9, 6000: 0.87, 16000: 1.07, 20000: 1.48}\n",
    "#R_0.mic_180_loss = {1000: 0, 2000:0, 4000: 0, 6000:0, 16000:0, 20000:0 }\n",
    "R_0.mic_direction = torch.Tensor([0,1,0])#####################\n",
    "\n",
    "a = timeit.timeit(lambda:R_0.render_early_microphone_response(L_0), number=5)\n",
    "\n",
    "\n",
    "print (\"Elapsed:\", a)"
   ]
  },
  {
   "cell_type": "code",
   "execution_count": null,
   "metadata": {},
   "outputs": [],
   "source": [
    "R_0.cardioid_exponents = {1000:0.3, 5000:0.4, 10000:0.4, 16000:1.2}\n",
    "\n",
    "R_0.mic_0_gain = {1000: 1,  5000: 1, 10000: 1, 16000: 1}\n",
    "#R_0.mic_180_loss = {1000: 0, 2000:0, 4000: 0, 6000:0, 16000:0, 20000:0 }\n",
    "R_0.mic_direction = torch.Tensor([0,1,0])#####################\n",
    "\n",
    "a = timeit.timeit(lambda:R_0.render_early_cardioid(L_0), number=5)\n",
    "\n",
    "\n",
    "\n",
    "print (\"Elapsed:\", a)"
   ]
  },
  {
   "cell_type": "code",
   "execution_count": null,
   "metadata": {},
   "outputs": [],
   "source": [
    "a = timeit.timeit(lambda:R_0.render_early(L_0), number=5)\n",
    "\n",
    "\n",
    "\n",
    "\n",
    "print (\"Elapsed:\", a)"
   ]
  },
  {
   "cell_type": "code",
   "execution_count": null,
   "metadata": {},
   "outputs": [],
   "source": [
    "import fibonacci_utilities as fib\n",
    "azimuths, elevations = fib.fibonacci_azimuths_and_elevations(3)"
   ]
  },
  {
   "cell_type": "code",
   "execution_count": null,
   "metadata": {},
   "outputs": [],
   "source": [
    "a = timeit.timeit(lambda:R_0.render_early_directional(L_0, azimuths, elevations), number=5)\n",
    "\n",
    "\n",
    "print (\"Elapsed:\", a)\n"
   ]
  }
 ],
 "metadata": {
  "kernelspec": {
   "display_name": "Python 3",
   "language": "python",
   "name": "python3"
  },
  "language_info": {
   "codemirror_mode": {
    "name": "ipython",
    "version": 3
   },
   "file_extension": ".py",
   "mimetype": "text/x-python",
   "name": "python",
   "nbconvert_exporter": "python",
   "pygments_lexer": "ipython3",
   "version": "3.11.9"
  }
 },
 "nbformat": 4,
 "nbformat_minor": 2
}
