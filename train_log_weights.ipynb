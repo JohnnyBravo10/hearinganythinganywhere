{
 "cells": [
  {
   "cell_type": "code",
   "execution_count": null,
   "metadata": {},
   "outputs": [],
   "source": [
    "import rooms.dataset\n",
    "import render\n",
    "import torch\n",
    "import torch.nn as nn\n",
    "import metrics\n",
    "import train\n",
    "import os\n",
    "import numpy as np\n",
    "import evaluate\n",
    "import trace1\n",
    "\n",
    "import matplotlib.pyplot as plt"
   ]
  },
  {
   "cell_type": "code",
   "execution_count": null,
   "metadata": {},
   "outputs": [],
   "source": [
    "torch.set_default_dtype(torch.float32)\n",
    "device = torch.device(\"cuda:0\" if torch.cuda.is_available() else \"cpu\")"
   ]
  },
  {
   "cell_type": "code",
   "execution_count": null,
   "metadata": {},
   "outputs": [],
   "source": [
    "dataset_name = \"prova\"\n",
    "\n",
    "D = rooms.dataset.dataLoader(dataset_name)"
   ]
  },
  {
   "cell_type": "code",
   "execution_count": null,
   "metadata": {},
   "outputs": [],
   "source": [
    "#training parameters\n",
    "\n",
    "n_fibonacci = 128 #128 \n",
    "late_stage_model= \"UniformResidual\" #\"UniformResidual\"\n",
    "toa_perturb = True #True\n",
    "model_transmission = False #False\n",
    "\n",
    "skip_train = False #False\n",
    "continue_train = False #False\n",
    "\n",
    "n_epochs = 6 #1000 \n",
    "save_recurrency = 2 #how often (in terms of epochs you want to save the model weights)\n",
    "batch_size = 4 #4 #4 nel test\n",
    "lr = 1e-2 #1e-2\n",
    "pink_noise_supervision = True #True\n",
    "pink_start_epoch = 500 #500\n",
    "fs = 48000 #48000 \n",
    "\n",
    "load_dir= 'precomputed/' + dataset_name\n",
    "save_dir= '~/prova_train_logs'\n",
    "\n",
    "skip_inference = False #False\n",
    "skip_music = False #False\n",
    "skip_eval = False #False\n",
    "skip_binaural = False #False\n",
    "\n",
    "valid = False #False #Evaluate on valid instead of test"
   ]
  },
  {
   "cell_type": "code",
   "execution_count": null,
   "metadata": {},
   "outputs": [],
   "source": [
    "R = render.Renderer(n_surfaces=len(D.all_surfaces), n_fibonacci=n_fibonacci,\n",
    "                        late_stage_model=late_stage_model,\n",
    "                        toa_perturb = toa_perturb, model_transmission=model_transmission).to(device)"
   ]
  },
  {
   "cell_type": "code",
   "execution_count": null,
   "metadata": {},
   "outputs": [],
   "source": [
    "# Use multiple GPUs if available\n",
    "if torch.cuda.device_count() > 1:\n",
    "    print(f\"Using {torch.cuda.device_count()} GPUs\")\n",
    "    R = nn.DataParallel(R).module"
   ]
  },
  {
   "cell_type": "code",
   "execution_count": null,
   "metadata": {},
   "outputs": [],
   "source": [
    "# Omnidirectional case\n",
    "'''\n",
    "loss_fcn = metrics.training_loss\n",
    "\n",
    "gt_audio = torch.Tensor(D.RIRs[:, :R.RIR_length])\n",
    "\n",
    "rendering_method = render.Renderer.render_RIR\n",
    "'''"
   ]
  },
  {
   "cell_type": "code",
   "execution_count": null,
   "metadata": {},
   "outputs": [],
   "source": [
    "# Directional case\n",
    "\n",
    "loss_fcn = metrics.training_loss_directional\n",
    "#loss_fcn = metrics.training_loss_directional_with_decay\n",
    "\n",
    "for listener_position in D.RIRs:\n",
    "    for response in listener_position:\n",
    "        response['t_response'] = torch.Tensor(response['t_response'][:R.RIR_length])\n",
    "        response['t_response'].to(device) \n",
    "\n",
    "gt_audio = D.RIRs\n",
    "rendering_method = render.Renderer.render_RIR_directional"
   ]
  },
  {
   "cell_type": "markdown",
   "metadata": {},
   "source": [
    "solo per training le prossime"
   ]
  },
  {
   "cell_type": "code",
   "execution_count": null,
   "metadata": {},
   "outputs": [],
   "source": [
    "def initialize(indices, source_xyz, listener_xyzs, surfaces, load_dir):\n",
    "    Ls = []\n",
    "\n",
    "    for idx in indices:\n",
    "        L= render.get_listener(source_xyz=source_xyz, listener_xyz = listener_xyzs[idx], surfaces = surfaces, \n",
    "                               load_dir = load_dir, load_num = idx, speed_of_sound = D.speed_of_sound, \n",
    "                               max_order = D.max_order, parallel_surface_pairs = D.parallel_surface_pairs, \n",
    "                               max_axial_order = D.max_axial_order)\n",
    "        Ls.append(L)\n",
    "    return Ls"
   ]
  },
  {
   "cell_type": "code",
   "execution_count": null,
   "metadata": {},
   "outputs": [],
   "source": [
    "\"\"\"\n",
    "Training\n",
    "\"\"\"\n",
    "if not skip_train:\n",
    "    print(\"Training\")\n",
    "\n",
    "    #Initialize Listeners\n",
    "    Ls = initialize(indices=D.train_indices,\n",
    "                    listener_xyzs=D.xyzs,\n",
    "                    source_xyz=D.speaker_xyz,\n",
    "                    surfaces=D.all_surfaces,\n",
    "                    load_dir=load_dir)\n",
    "            \n",
    "    if continue_train:\n",
    "        R.load_state_dict(torch.load(os.path.join(save_dir,\"weights.pt\"))['model_state_dict'])\n",
    "\n",
    "    losses = train.train_loop_weight_log(R=R, Ls=Ls, train_gt_audio=gt_audio[D.train_indices], D=D,\n",
    "                        n_epochs = n_epochs, batch_size = batch_size, lr = lr, loss_fcn = loss_fcn,\n",
    "                        save_dir=save_dir,\n",
    "                        pink_noise_supervision = pink_noise_supervision,\n",
    "                        pink_start_epoch=pink_start_epoch,\n",
    "                        continue_train = continue_train, fs=fs, saving_recurrency=save_recurrency)\n",
    "\n",
    "else:\n",
    "    R.load_state_dict(torch.load(os.path.join(save_dir,\"weights.pt\"))['model_state_dict'])\n",
    "    R.train = False\n",
    "    R.toa_perturb = False"
   ]
  }
 ],
 "metadata": {
  "kernelspec": {
   "display_name": "Python 3",
   "language": "python",
   "name": "python3"
  },
  "language_info": {
   "codemirror_mode": {
    "name": "ipython",
    "version": 3
   },
   "file_extension": ".py",
   "mimetype": "text/x-python",
   "name": "python",
   "nbconvert_exporter": "python",
   "pygments_lexer": "ipython3",
   "version": "3.11.9"
  }
 },
 "nbformat": 4,
 "nbformat_minor": 2
}
