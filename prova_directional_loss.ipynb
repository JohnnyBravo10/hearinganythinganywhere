{
 "cells": [
  {
   "cell_type": "code",
   "execution_count": null,
   "metadata": {},
   "outputs": [],
   "source": [
    "%pip install torchaudio"
   ]
  },
  {
   "cell_type": "code",
   "execution_count": null,
   "metadata": {},
   "outputs": [],
   "source": [
    "import render\n",
    "import rooms.dataset\n",
    "import evaluate\n",
    "import torch\n",
    "import torch.nn as nn\n",
    "import matplotlib.pyplot as plt\n",
    "import numpy as np\n",
    "import metrics"
   ]
  },
  {
   "cell_type": "code",
   "execution_count": null,
   "metadata": {},
   "outputs": [],
   "source": [
    "torch.set_default_dtype(torch.float32)\n",
    "device = torch.device(\"cuda:0\" if torch.cuda.is_available() else \"cpu\")"
   ]
  },
  {
   "cell_type": "code",
   "execution_count": null,
   "metadata": {},
   "outputs": [],
   "source": [
    "D_0 = rooms.dataset.dataLoader(\"classroomBase\")"
   ]
  },
  {
   "cell_type": "code",
   "execution_count": null,
   "metadata": {},
   "outputs": [],
   "source": [
    "L_0 = render.get_listener(source_xyz=D_0.speaker_xyz, listener_xyz = D_0.xyzs[0], surfaces=D_0.all_surfaces, \n",
    "                                                speed_of_sound=D_0.speed_of_sound,\n",
    "                                                parallel_surface_pairs=D_0.parallel_surface_pairs,\n",
    "                                                max_order=D_0.max_order, max_axial_order=D_0.max_axial_order )"
   ]
  },
  {
   "cell_type": "code",
   "execution_count": null,
   "metadata": {},
   "outputs": [],
   "source": [
    "R_0 = render.Renderer(n_surfaces=len(D_0.all_surfaces))"
   ]
  },
  {
   "cell_type": "code",
   "execution_count": null,
   "metadata": {},
   "outputs": [],
   "source": [
    "pt_file = torch.load('./models/classroomBase/weights.pt', map_location=device)\n",
    "R_0.energy_vector = nn.Parameter(pt_file['model_state_dict']['energy_vector'])\n",
    "R_0.source_response = nn.Parameter(pt_file['model_state_dict']['source_response'])\n",
    "R_0.directivity_sphere = nn.Parameter(pt_file['model_state_dict']['directivity_sphere'])\n",
    "R_0.decay = nn.Parameter(pt_file['model_state_dict']['decay'])\n",
    "R_0.RIR_residual = nn.Parameter(pt_file['model_state_dict']['RIR_residual'])\n",
    "R_0.spline_values = nn.Parameter(pt_file['model_state_dict']['spline_values'])"
   ]
  },
  {
   "cell_type": "code",
   "execution_count": null,
   "metadata": {},
   "outputs": [],
   "source": [
    "RIR_by_direction_0 = R_0.render_RIR_by_directions(L_0)"
   ]
  },
  {
   "cell_type": "code",
   "execution_count": null,
   "metadata": {},
   "outputs": [],
   "source": [
    "loss_with_itself = metrics.training_loss_considering_directionality(RIR_by_direction_0, RIR_by_direction_0)\n",
    "print(loss_with_itself)"
   ]
  }
 ],
 "metadata": {
  "language_info": {
   "name": "python"
  }
 },
 "nbformat": 4,
 "nbformat_minor": 2
}
