{
 "cells": [
  {
   "cell_type": "code",
   "execution_count": 51,
   "metadata": {},
   "outputs": [
    {
     "name": "stdout",
     "output_type": "stream",
     "text": [
      "6709604 44100\n"
     ]
    }
   ],
   "source": [
    "import soundfile as sf\n",
    "\n",
    "# Leggi il file WAV\n",
    "data, sample_rate = sf.read('/home/gzanin/Downloads/01-A1-241121_1152.wav')\n",
    "\n",
    "print(len(data), sample_rate)\n"
   ]
  },
  {
   "cell_type": "code",
   "execution_count": 15,
   "metadata": {},
   "outputs": [
    {
     "name": "stdout",
     "output_type": "stream",
     "text": [
      "1844580 48000\n",
      "[-0.00216043 -0.00216413 -0.00217211 ... -0.00231469 -0.00232518\n",
      " -0.00234926]\n"
     ]
    }
   ],
   "source": [
    "import soundfile as sf\n",
    "\n",
    "# Leggi il file WAV\n",
    "data, sample_rate = sf.read('/home/gzanin/Downloads/05-O5-241120_1008(1).wav')\n",
    "\n",
    "print(len(data), sample_rate)\n",
    "print(data)"
   ]
  },
  {
   "cell_type": "code",
   "execution_count": 17,
   "metadata": {},
   "outputs": [
    {
     "name": "stdout",
     "output_type": "stream",
     "text": [
      "Collecting h5py\n",
      "  Downloading h5py-3.12.1-cp311-cp311-manylinux_2_17_x86_64.manylinux2014_x86_64.whl.metadata (2.5 kB)\n",
      "Requirement already satisfied: numpy>=1.19.3 in /home/gzanin/.pyenv/versions/3.11.9/lib/python3.11/site-packages (from h5py) (1.26.0)\n",
      "Downloading h5py-3.12.1-cp311-cp311-manylinux_2_17_x86_64.manylinux2014_x86_64.whl (5.5 MB)\n",
      "\u001b[2K   \u001b[90m━━━━━━━━━━━━━━━━━━━━━━━━━━━━━━━━━━━━━━━━\u001b[0m \u001b[32m5.5/5.5 MB\u001b[0m \u001b[31m1.6 MB/s\u001b[0m eta \u001b[36m0:00:00\u001b[0m00:01\u001b[0m00:01\u001b[0m\n",
      "\u001b[?25hInstalling collected packages: h5py\n",
      "Successfully installed h5py-3.12.1\n",
      "\n",
      "\u001b[1m[\u001b[0m\u001b[34;49mnotice\u001b[0m\u001b[1;39;49m]\u001b[0m\u001b[39;49m A new release of pip is available: \u001b[0m\u001b[31;49m24.1.2\u001b[0m\u001b[39;49m -> \u001b[0m\u001b[32;49m24.3.1\u001b[0m\n",
      "\u001b[1m[\u001b[0m\u001b[34;49mnotice\u001b[0m\u001b[1;39;49m]\u001b[0m\u001b[39;49m To update, run: \u001b[0m\u001b[32;49mpip install --upgrade pip\u001b[0m\n",
      "Note: you may need to restart the kernel to use updated packages.\n"
     ]
    }
   ],
   "source": [
    "%pip install h5py"
   ]
  },
  {
   "cell_type": "code",
   "execution_count": 18,
   "metadata": {},
   "outputs": [
    {
     "name": "stdout",
     "output_type": "stream",
     "text": [
      "['I', 'C', 'R', 'E', 'N', 'M', 'S', 'ListenerPosition', 'ReceiverPosition', 'SourcePosition', 'EmitterPosition', 'ListenerUp', 'ListenerView', 'SourceUp', 'SourceView', 'Data.IR', 'Data.SamplingRate', 'Data.Delay']\n"
     ]
    }
   ],
   "source": [
    "import h5py\n",
    "\n",
    "with h5py.File('/home/gzanin/Downloads/6dof_SRIRs_zylia_SH/6DoF_SRIRs_zylia_SH_0percent_absorbers_enabled.sofa', 'r') as sofa_file:\n",
    "    print(list(sofa_file.keys()))"
   ]
  },
  {
   "cell_type": "code",
   "execution_count": 22,
   "metadata": {},
   "outputs": [
    {
     "ename": "KeyError",
     "evalue": "'Unable to synchronously open object (invalid identifier type to function)'",
     "output_type": "error",
     "traceback": [
      "\u001b[0;31m---------------------------------------------------------------------------\u001b[0m",
      "\u001b[0;31mKeyError\u001b[0m                                  Traceback (most recent call last)",
      "Cell \u001b[0;32mIn[22], line 1\u001b[0m\n\u001b[0;32m----> 1\u001b[0m \u001b[43msofa_file\u001b[49m\u001b[43m[\u001b[49m\u001b[38;5;124;43m'\u001b[39;49m\u001b[38;5;124;43mListenerPosition\u001b[39;49m\u001b[38;5;124;43m'\u001b[39;49m\u001b[43m]\u001b[49m\n",
      "File \u001b[0;32mh5py/_objects.pyx:54\u001b[0m, in \u001b[0;36mh5py._objects.with_phil.wrapper\u001b[0;34m()\u001b[0m\n",
      "File \u001b[0;32mh5py/_objects.pyx:55\u001b[0m, in \u001b[0;36mh5py._objects.with_phil.wrapper\u001b[0;34m()\u001b[0m\n",
      "File \u001b[0;32m~/.pyenv/versions/3.11.9/lib/python3.11/site-packages/h5py/_hl/group.py:357\u001b[0m, in \u001b[0;36mGroup.__getitem__\u001b[0;34m(self, name)\u001b[0m\n\u001b[1;32m    355\u001b[0m         \u001b[38;5;28;01mraise\u001b[39;00m \u001b[38;5;167;01mValueError\u001b[39;00m(\u001b[38;5;124m\"\u001b[39m\u001b[38;5;124mInvalid HDF5 object reference\u001b[39m\u001b[38;5;124m\"\u001b[39m)\n\u001b[1;32m    356\u001b[0m \u001b[38;5;28;01melif\u001b[39;00m \u001b[38;5;28misinstance\u001b[39m(name, (\u001b[38;5;28mbytes\u001b[39m, \u001b[38;5;28mstr\u001b[39m)):\n\u001b[0;32m--> 357\u001b[0m     oid \u001b[38;5;241m=\u001b[39m \u001b[43mh5o\u001b[49m\u001b[38;5;241;43m.\u001b[39;49m\u001b[43mopen\u001b[49m\u001b[43m(\u001b[49m\u001b[38;5;28;43mself\u001b[39;49m\u001b[38;5;241;43m.\u001b[39;49m\u001b[43mid\u001b[49m\u001b[43m,\u001b[49m\u001b[43m \u001b[49m\u001b[38;5;28;43mself\u001b[39;49m\u001b[38;5;241;43m.\u001b[39;49m\u001b[43m_e\u001b[49m\u001b[43m(\u001b[49m\u001b[43mname\u001b[49m\u001b[43m)\u001b[49m\u001b[43m,\u001b[49m\u001b[43m \u001b[49m\u001b[43mlapl\u001b[49m\u001b[38;5;241;43m=\u001b[39;49m\u001b[38;5;28;43mself\u001b[39;49m\u001b[38;5;241;43m.\u001b[39;49m\u001b[43m_lapl\u001b[49m\u001b[43m)\u001b[49m\n\u001b[1;32m    358\u001b[0m \u001b[38;5;28;01melse\u001b[39;00m:\n\u001b[1;32m    359\u001b[0m     \u001b[38;5;28;01mraise\u001b[39;00m \u001b[38;5;167;01mTypeError\u001b[39;00m(\u001b[38;5;124m\"\u001b[39m\u001b[38;5;124mAccessing a group is done with bytes or str, \u001b[39m\u001b[38;5;124m\"\u001b[39m\n\u001b[1;32m    360\u001b[0m                     \u001b[38;5;124m\"\u001b[39m\u001b[38;5;124mnot \u001b[39m\u001b[38;5;132;01m{}\u001b[39;00m\u001b[38;5;124m\"\u001b[39m\u001b[38;5;241m.\u001b[39mformat(\u001b[38;5;28mtype\u001b[39m(name)))\n",
      "File \u001b[0;32mh5py/_objects.pyx:54\u001b[0m, in \u001b[0;36mh5py._objects.with_phil.wrapper\u001b[0;34m()\u001b[0m\n",
      "File \u001b[0;32mh5py/_objects.pyx:55\u001b[0m, in \u001b[0;36mh5py._objects.with_phil.wrapper\u001b[0;34m()\u001b[0m\n",
      "File \u001b[0;32mh5py/h5o.pyx:257\u001b[0m, in \u001b[0;36mh5py.h5o.open\u001b[0;34m()\u001b[0m\n",
      "\u001b[0;31mKeyError\u001b[0m: 'Unable to synchronously open object (invalid identifier type to function)'"
     ]
    }
   ],
   "source": [
    "sofa_file['ListenerPosition']"
   ]
  },
  {
   "cell_type": "code",
   "execution_count": 24,
   "metadata": {},
   "outputs": [
    {
     "name": "stdout",
     "output_type": "stream",
     "text": [
      "Collecting netCDF4\n",
      "  Downloading netCDF4-1.7.2-cp311-cp311-manylinux_2_17_x86_64.manylinux2014_x86_64.whl.metadata (1.8 kB)\n",
      "Collecting cftime (from netCDF4)\n",
      "  Downloading cftime-1.6.4.post1-cp311-cp311-manylinux_2_17_x86_64.manylinux2014_x86_64.whl.metadata (8.7 kB)\n",
      "Requirement already satisfied: certifi in /home/gzanin/.pyenv/versions/3.11.9/lib/python3.11/site-packages (from netCDF4) (2024.7.4)\n",
      "Requirement already satisfied: numpy in /home/gzanin/.pyenv/versions/3.11.9/lib/python3.11/site-packages (from netCDF4) (1.26.0)\n",
      "Downloading netCDF4-1.7.2-cp311-cp311-manylinux_2_17_x86_64.manylinux2014_x86_64.whl (9.3 MB)\n",
      "\u001b[2K   \u001b[90m━━━━━━━━━━━━━━━━━━━━━━━━━━━━━━━━━━━━━━━━\u001b[0m \u001b[32m9.3/9.3 MB\u001b[0m \u001b[31m1.6 MB/s\u001b[0m eta \u001b[36m0:00:00\u001b[0m00:01\u001b[0m00:01\u001b[0m\n",
      "\u001b[?25hDownloading cftime-1.6.4.post1-cp311-cp311-manylinux_2_17_x86_64.manylinux2014_x86_64.whl (1.4 MB)\n",
      "\u001b[2K   \u001b[90m━━━━━━━━━━━━━━━━━━━━━━━━━━━━━━━━━━━━━━━━\u001b[0m \u001b[32m1.4/1.4 MB\u001b[0m \u001b[31m2.5 MB/s\u001b[0m eta \u001b[36m0:00:00\u001b[0m00:01\u001b[0m00:01\u001b[0m\n",
      "\u001b[?25hInstalling collected packages: cftime, netCDF4\n",
      "Successfully installed cftime-1.6.4.post1 netCDF4-1.7.2\n",
      "\n",
      "\u001b[1m[\u001b[0m\u001b[34;49mnotice\u001b[0m\u001b[1;39;49m]\u001b[0m\u001b[39;49m A new release of pip is available: \u001b[0m\u001b[31;49m24.1.2\u001b[0m\u001b[39;49m -> \u001b[0m\u001b[32;49m24.3.1\u001b[0m\n",
      "\u001b[1m[\u001b[0m\u001b[34;49mnotice\u001b[0m\u001b[1;39;49m]\u001b[0m\u001b[39;49m To update, run: \u001b[0m\u001b[32;49mpip install --upgrade pip\u001b[0m\n",
      "Note: you may need to restart the kernel to use updated packages.\n"
     ]
    }
   ],
   "source": [
    "%pip install netCDF4"
   ]
  },
  {
   "cell_type": "code",
   "execution_count": 67,
   "metadata": {},
   "outputs": [
    {
     "name": "stdout",
     "output_type": "stream",
     "text": [
      "Chiavi disponibili nel file:\n",
      "['ListenerPosition', 'ReceiverPosition', 'SourcePosition', 'EmitterPosition', 'ListenerUp', 'ListenerView', 'SourceUp', 'SourceView', 'Data.IR', 'Data.SamplingRate', 'Data.Delay']\n",
      "Listener Position: [[6.37  1.3   1.55 ]\n",
      " [6.37  1.3   1.55 ]\n",
      " [6.37  1.3   1.55 ]\n",
      " [5.12  1.3   1.55 ]\n",
      " [5.12  1.3   1.55 ]\n",
      " [5.12  1.3   1.55 ]\n",
      " [3.87  1.3   1.55 ]\n",
      " [3.87  1.3   1.55 ]\n",
      " [3.87  1.3   1.55 ]\n",
      " [2.62  1.3   1.55 ]\n",
      " [2.62  1.3   1.55 ]\n",
      " [2.62  1.3   1.55 ]\n",
      " [1.37  1.3   1.55 ]\n",
      " [1.37  1.3   1.55 ]\n",
      " [1.37  1.3   1.55 ]\n",
      " [5.12  4.745 1.55 ]\n",
      " [5.12  4.745 1.55 ]\n",
      " [5.12  4.745 1.55 ]\n",
      " [2.62  4.745 1.55 ]\n",
      " [2.62  4.745 1.55 ]\n",
      " [2.62  4.745 1.55 ]]\n",
      "Receiver Position: [[[0.]\n",
      "  [0.]\n",
      "  [0.]]\n",
      "\n",
      " [[0.]\n",
      "  [0.]\n",
      "  [0.]]\n",
      "\n",
      " [[0.]\n",
      "  [0.]\n",
      "  [0.]]\n",
      "\n",
      " [[0.]\n",
      "  [0.]\n",
      "  [0.]]\n",
      "\n",
      " [[0.]\n",
      "  [0.]\n",
      "  [0.]]\n",
      "\n",
      " [[0.]\n",
      "  [0.]\n",
      "  [0.]]\n",
      "\n",
      " [[0.]\n",
      "  [0.]\n",
      "  [0.]]\n",
      "\n",
      " [[0.]\n",
      "  [0.]\n",
      "  [0.]]\n",
      "\n",
      " [[0.]\n",
      "  [0.]\n",
      "  [0.]]\n",
      "\n",
      " [[0.]\n",
      "  [0.]\n",
      "  [0.]]\n",
      "\n",
      " [[0.]\n",
      "  [0.]\n",
      "  [0.]]\n",
      "\n",
      " [[0.]\n",
      "  [0.]\n",
      "  [0.]]\n",
      "\n",
      " [[0.]\n",
      "  [0.]\n",
      "  [0.]]\n",
      "\n",
      " [[0.]\n",
      "  [0.]\n",
      "  [0.]]\n",
      "\n",
      " [[0.]\n",
      "  [0.]\n",
      "  [0.]]\n",
      "\n",
      " [[0.]\n",
      "  [0.]\n",
      "  [0.]]]\n",
      "Source Position: [[6.37  2.8   1.5  ]\n",
      " [2.87  2.8   1.5  ]\n",
      " [4.37  4.245 1.5  ]\n",
      " [6.37  2.8   1.5  ]\n",
      " [2.87  2.8   1.5  ]\n",
      " [4.37  4.245 1.5  ]\n",
      " [6.37  2.8   1.5  ]\n",
      " [2.87  2.8   1.5  ]\n",
      " [4.37  4.245 1.5  ]\n",
      " [6.37  2.8   1.5  ]\n",
      " [2.87  2.8   1.5  ]\n",
      " [4.37  4.245 1.5  ]\n",
      " [6.37  2.8   1.5  ]\n",
      " [2.87  2.8   1.5  ]\n",
      " [4.37  4.245 1.5  ]\n",
      " [6.37  2.8   1.5  ]\n",
      " [2.87  2.8   1.5  ]\n",
      " [4.37  4.245 1.5  ]\n",
      " [6.37  2.8   1.5  ]\n",
      " [2.87  2.8   1.5  ]\n",
      " [4.37  4.245 1.5  ]]\n",
      "Emitter Position: [[[0.]\n",
      "  [0.]\n",
      "  [0.]]]\n",
      "Listener Up: [[0. 0. 1.]]\n",
      "Listener View: [[0. 1. 0.]]\n",
      "Source Up: [[0. 0. 1.]]\n",
      "Source View: [[ 0. -1.  0.]]\n",
      "'Data.IR': [[[ 2.51041114e-04 -1.26139366e-04 -7.22761123e-05 ...  3.07699611e-06\n",
      "   -2.90971430e-07 -3.18947070e-06]\n",
      "  [ 2.86010622e-04  1.21870806e-04  3.34863691e-04 ... -7.35020261e-07\n",
      "   -1.29921940e-06 -2.68355358e-07]\n",
      "  [-1.56198080e-04  8.96389297e-05  5.90872351e-05 ...  2.32367582e-06\n",
      "    3.43801584e-06  3.34034469e-06]\n",
      "  ...\n",
      "  [-8.30664544e-05 -1.60388804e-05 -1.10461013e-04 ... -2.72930767e-06\n",
      "   -2.34466486e-06 -2.04066645e-06]\n",
      "  [-1.25508333e-04 -1.11268403e-04 -3.56478590e-05 ...  1.88353508e-06\n",
      "    1.77669990e-06  2.05663552e-06]\n",
      "  [-3.78473490e-05  4.50660850e-05  6.07685142e-05 ... -3.21085428e-06\n",
      "   -4.35679913e-06 -5.58902188e-06]]\n",
      "\n",
      " [[-4.99652831e-06 -5.77977226e-06  8.33047190e-07 ... -2.67470290e-06\n",
      "   -5.85077721e-06 -6.60992456e-06]\n",
      "  [-1.69202352e-05 -1.34094312e-06  6.41321251e-06 ... -1.83765408e-06\n",
      "   -3.30037386e-06 -3.45568250e-06]\n",
      "  [-3.49926204e-06  1.04546831e-05  1.75197981e-07 ... -4.15271035e-07\n",
      "   -2.77507931e-06 -3.92905983e-06]\n",
      "  ...\n",
      "  [-1.57921604e-05 -1.71300041e-05 -4.80882585e-06 ...  7.75314548e-07\n",
      "    4.96795653e-07 -2.22714398e-08]\n",
      "  [ 9.79606917e-06  9.07598403e-06  1.98594565e-06 ... -1.68513571e-06\n",
      "   -8.41030646e-07 -3.85649861e-07]\n",
      "  [-9.76066750e-06 -9.57296942e-06  3.76671471e-06 ...  1.46086301e-06\n",
      "    1.94325314e-06  1.97833186e-06]]\n",
      "\n",
      " [[ 8.68562470e-05 -1.20667897e-04 -5.94139629e-05 ...  7.89080624e-06\n",
      "    6.57442615e-06  3.19530971e-06]\n",
      "  [-3.56842501e-04  2.08857335e-04 -7.91540530e-06 ... -1.37683366e-06\n",
      "   -2.59376822e-06 -1.03093683e-06]\n",
      "  [ 1.57651829e-04  6.23422949e-05  1.92923785e-05 ... -9.43004898e-07\n",
      "    2.69737105e-06  3.33111304e-06]\n",
      "  ...\n",
      "  [-1.23771136e-04  4.11621878e-05  2.83711808e-05 ...  1.46891565e-06\n",
      "    8.00689674e-07 -1.20059750e-06]\n",
      "  [ 1.63819887e-04 -1.24868015e-04 -1.32032753e-04 ...  5.79472822e-08\n",
      "    6.80551084e-07  1.38174414e-06]\n",
      "  [ 4.90518740e-05  8.63165555e-05  2.29442457e-05 ... -2.24758539e-06\n",
      "   -1.91496079e-06 -2.27475690e-06]]\n",
      "\n",
      " ...\n",
      "\n",
      " [[-9.77898659e-07 -1.13514217e-05  4.00351816e-06 ... -1.24512209e-06\n",
      "   -4.95473875e-07 -5.25437173e-07]\n",
      "  [ 1.89759224e-07  3.36302437e-06 -1.67093342e-06 ... -4.48629957e-07\n",
      "   -8.98710008e-07 -8.49710478e-07]\n",
      "  [-2.83881832e-06  5.55687582e-06  3.61279421e-06 ...  8.43646603e-07\n",
      "   -1.52243265e-06 -2.81610335e-06]\n",
      "  ...\n",
      "  [-2.17017832e-06 -2.56393085e-06  3.38785166e-07 ...  1.34050814e-06\n",
      "    7.76711190e-07  5.15970190e-07]\n",
      "  [ 1.90370980e-07 -1.29062979e-06 -1.41793114e-06 ...  1.96321081e-06\n",
      "    2.35282997e-06  2.48184183e-06]\n",
      "  [-3.21010401e-06  5.07915260e-07  6.77398179e-06 ... -2.46591888e-06\n",
      "   -2.54600300e-06 -2.75067446e-06]]\n",
      "\n",
      " [[-1.07130025e-04 -1.51558948e-05 -5.67144393e-04 ...  7.45520934e-07\n",
      "    4.33961767e-06  6.69325024e-06]\n",
      "  [-5.03832708e-05 -1.22618855e-04 -9.69524160e-06 ...  9.26710804e-07\n",
      "    3.64744581e-07  4.98765367e-07]\n",
      "  [-1.45899583e-04 -1.97558362e-05  7.16198780e-05 ...  5.82266832e-07\n",
      "   -5.54431858e-07 -9.44456360e-07]\n",
      "  ...\n",
      "  [-3.04256319e-04 -1.69251726e-04 -1.95426667e-04 ...  2.79108723e-06\n",
      "    3.09355147e-06  2.28345888e-06]\n",
      "  [ 8.84886552e-05 -1.15242118e-04 -1.18608789e-04 ... -9.75398796e-07\n",
      "   -2.00573925e-06 -2.12741401e-06]\n",
      "  [-3.09387732e-04 -1.71593232e-04 -1.98814127e-04 ... -4.91431559e-06\n",
      "   -4.59006912e-06 -3.71850582e-06]]\n",
      "\n",
      " [[ 1.05334148e-03  1.81406397e-03  6.85737879e-04 ...  8.96743746e-07\n",
      "    8.86323086e-07  3.55425166e-07]\n",
      "  [-4.64247527e-04 -1.03515801e-03 -4.58294374e-04 ... -3.74938918e-08\n",
      "    1.24913766e-06  1.63822420e-06]\n",
      "  [ 2.05304058e-04  1.19324862e-05 -5.31651528e-04 ...  1.60653362e-06\n",
      "    8.33178432e-07  4.57362557e-07]\n",
      "  ...\n",
      "  [-2.60547614e-04 -2.81353860e-04  5.01305308e-04 ...  9.48337619e-07\n",
      "    1.05077932e-06  1.45760356e-06]\n",
      "  [ 4.64131304e-04  2.93177769e-05 -8.22200325e-04 ...  7.68077194e-07\n",
      "   -3.28362577e-07 -1.71645073e-06]\n",
      "  [ 5.80365116e-05 -1.30414193e-04 -6.06697433e-04 ...  5.18524637e-06\n",
      "    5.54268536e-06  6.46560134e-06]]]\n",
      "'Data.SamplingRate': [48000.]\n",
      "'Data.Delay': [[0. 0. 0. 0. 0. 0. 0. 0. 0. 0. 0. 0. 0. 0. 0. 0.]]\n"
     ]
    }
   ],
   "source": [
    "from netCDF4 import Dataset\n",
    "\n",
    "# Specifica il percorso al file\n",
    "file_path = '/home/gzanin/Downloads/6dof_SRIRs_zylia_SH/6DoF_SRIRs_zylia_SH_0percent_absorbers_enabled.sofa'\n",
    "\n",
    "# Carica il file\n",
    "data = Dataset(file_path, mode='r')\n",
    "\n",
    "# Visualizza tutte le chiavi disponibili\n",
    "print(\"Chiavi disponibili nel file:\")\n",
    "print(list(data.variables.keys()))\n",
    "\n",
    "# Accesso a una specifica chiave\n",
    "listener_position = data.variables['ListenerPosition'][:]\n",
    "print(\"Listener Position:\", listener_position)\n",
    "\n",
    "# Accesso a una specifica chiave\n",
    "receiver_position = data.variables['ReceiverPosition'][:]\n",
    "print(\"Receiver Position:\", receiver_position)\n",
    "\n",
    "# Accesso a una specifica chiave\n",
    "Source_position = data.variables['SourcePosition'][:]\n",
    "print(\"Source Position:\", Source_position)\n",
    "\n",
    "# Accesso a una specifica chiave\n",
    "emitter_position = data.variables['EmitterPosition'][:]\n",
    "print(\"Emitter Position:\", emitter_position)\n",
    "\n",
    "# Accesso a una specifica chiave\n",
    "listener_up = data.variables['ListenerUp'][:]\n",
    "print(\"Listener Up:\", listener_up)\n",
    "\n",
    "# Accesso a una specifica chiave\n",
    "listener_view = data.variables['ListenerView'][:]\n",
    "print(\"Listener View:\", listener_view)\n",
    "\n",
    "# Accesso a una specifica chiave\n",
    "source_up = data.variables['SourceUp'][:]\n",
    "print(\"Source Up:\", source_up)\n",
    "\n",
    "# Accesso a una specifica chiave\n",
    "source_view = data.variables['SourceView'][:]\n",
    "print(\"Source View:\", source_view)\n",
    "\n",
    "# Accesso a una specifica chiave\n",
    "IRs = data.variables['Data.IR'][:]\n",
    "print(\"'Data.IR':\", IRs)\n",
    "\n",
    "# Accesso a una specifica chiave\n",
    "sampling_rate = data.variables['Data.SamplingRate'][:]\n",
    "print(\"'Data.SamplingRate':\", sampling_rate)\n",
    "\n",
    "# Accesso a una specifica chiave\n",
    "delay = data.variables['Data.Delay'][:]\n",
    "print(\"'Data.Delay':\", delay)"
   ]
  },
  {
   "cell_type": "code",
   "execution_count": 68,
   "metadata": {},
   "outputs": [
    {
     "data": {
      "text/plain": [
       "(21, 16, 120000)"
      ]
     },
     "execution_count": 68,
     "metadata": {},
     "output_type": "execute_result"
    }
   ],
   "source": [
    "IRs.shape"
   ]
  },
  {
   "cell_type": "code",
   "execution_count": null,
   "metadata": {},
   "outputs": [],
   "source": [
    "import numpy as np\n",
    "import matplotlib.pyplot as plt\n",
    "\n",
    "for i in IRs:\n",
    "    print(max([max(j**2) for j in i]))\n",
    "    '''\n",
    "    N_fft = 120000  # FFT length\n",
    "    print(np.average(np.abs(np.fft.fft(i[0], axis=0, n=N_fft))))\n",
    "    '''\n",
    "    plt.plot(i[0])\n",
    "    plt.show()\n",
    "    "
   ]
  },
  {
   "cell_type": "code",
   "execution_count": 69,
   "metadata": {},
   "outputs": [
    {
     "data": {
      "text/plain": [
       "(21, 16, 120000)"
      ]
     },
     "execution_count": 69,
     "metadata": {},
     "output_type": "execute_result"
    }
   ],
   "source": [
    "IRs.shape"
   ]
  },
  {
   "cell_type": "code",
   "execution_count": 4,
   "metadata": {},
   "outputs": [],
   "source": [
    "import numpy as np"
   ]
  },
  {
   "cell_type": "code",
   "execution_count": 82,
   "metadata": {},
   "outputs": [],
   "source": [
    "m = []\n",
    "\n",
    "s2_indexes = [1,4,7,10,13,16,19]\n",
    "for n in s2_indexes:\n",
    "    m.append(IRs[n][0])\n",
    "\n",
    "m = np.array(m)"
   ]
  },
  {
   "cell_type": "code",
   "execution_count": 83,
   "metadata": {},
   "outputs": [],
   "source": [
    "np.save('/home/gzanin/Desktop/espoo_S2/RIRs.npy', m)"
   ]
  },
  {
   "cell_type": "code",
   "execution_count": 78,
   "metadata": {},
   "outputs": [
    {
     "data": {
      "text/plain": [
       "(7, 120000)"
      ]
     },
     "execution_count": 78,
     "metadata": {},
     "output_type": "execute_result"
    }
   ],
   "source": [
    "#7 omnidirectionals\n",
    "m.shape"
   ]
  },
  {
   "cell_type": "code",
   "execution_count": 20,
   "metadata": {},
   "outputs": [
    {
     "name": "stdout",
     "output_type": "stream",
     "text": [
      "(19, 120000)\n"
     ]
    }
   ],
   "source": [
    "# Specifica il percorso al file\n",
    "file_path = '/home/gzanin/Downloads/6dof_SRIRs_zylia_raw/6DoF_SRIRs_zylia_raw_100percent_absorbers_enabled.sofa'\n",
    "\n",
    "# Carica il file\n",
    "data = Dataset(file_path, mode='r')\n",
    "IRs = data.variables['Data.IR'][:]\n",
    "capsules_signals = np.array(IRs[10])\n",
    "\n",
    "print(capsules_signals.shape)\n",
    "\n",
    "np.save('../A_espoo_S2_R4_absorb.npy', capsules_signals.T)\n"
   ]
  },
  {
   "cell_type": "code",
   "execution_count": 38,
   "metadata": {},
   "outputs": [
    {
     "name": "stdout",
     "output_type": "stream",
     "text": [
      "(16, 120000)\n"
     ]
    }
   ],
   "source": [
    "# Specifica il percorso al file\n",
    "file_path = '/home/gzanin/Downloads/6dof_SRIRs_zylia_SH/6DoF_SRIRs_zylia_SH_0percent_absorbers_enabled.sofa'\n",
    "\n",
    "# Carica il file\n",
    "data = Dataset(file_path, mode='r')\n",
    "IRs = data.variables['Data.IR'][:]\n",
    "sh_signals = np.array(IRs[19])\n",
    "\n",
    "print(sh_signals.shape)\n",
    "\n",
    "np.save('../B_espoo_S2_R7.npy', sh_signals.T)  # Save the B format file (it's a complex)"
   ]
  },
  {
   "cell_type": "code",
   "execution_count": 60,
   "metadata": {},
   "outputs": [],
   "source": [
    "#up, sampling_rate = sf.read('/home/gzanin/Desktop/espoo_s2_r1_090.wav')\n",
    "up = np.load('../espoo_s2_r1_090.npy', allow_pickle=True, encoding= 'latin1')\n",
    "down = np.load('../espoo_s2_r1_0-90.npy', allow_pickle=True, encoding= 'latin1')\n",
    "dx = np.load('../espoo_s2_r1_900.npy', allow_pickle=True, encoding= 'latin1')\n",
    "sx = np.load('../espoo_s2_r1_2700.npy', allow_pickle=True, encoding= 'latin1')\n",
    "forward = np.load('../espoo_s2_r1_00.npy', allow_pickle=True, encoding= 'latin1')\n",
    "behind = np.load('../espoo_s2_r1_1800.npy', allow_pickle=True, encoding= 'latin1')"
   ]
  },
  {
   "cell_type": "code",
   "execution_count": 84,
   "metadata": {},
   "outputs": [],
   "source": [
    "##########only 12 microphones are considered\n",
    "import render_optimized as render\n",
    "n = []\n",
    "\n",
    "#up-down, dx-sx and forward-behind\n",
    "azimuths = [0,0,90, 270, 0, 180]\n",
    "elevations = [90, -90, 0,0,0,0]\n",
    "\n",
    "for i in range (7):\n",
    "    n.append(render.initialize_directional_list(azimuths, elevations, 1, \"cpu\"))\n",
    "\n",
    "for j in range (len(n)):\n",
    "    n[j][0]['t_response'] = np.load('../espoo_s2_r'+str(j+1)+'_090.npy', allow_pickle=True, encoding= 'latin1')\n",
    "    n[j][1]['t_response'] = np.load('../espoo_s2_r'+str(j+1)+'_0-90.npy', allow_pickle=True, encoding= 'latin1')\n",
    "    n[j][2]['t_response'] = np.load('../espoo_s2_r'+str(j+1)+'_900.npy', allow_pickle=True, encoding= 'latin1')\n",
    "    n[j][3]['t_response'] = np.load('../espoo_s2_r'+str(j+1)+'_2700.npy', allow_pickle=True, encoding= 'latin1')\n",
    "    n[j][4]['t_response'] = np.load('../espoo_s2_r'+str(j+1)+'_00.npy', allow_pickle=True, encoding= 'latin1')\n",
    "    n[j][5]['t_response'] = np.load('../espoo_s2_r'+str(j+1)+'_1800.npy', allow_pickle=True, encoding= 'latin1')\n",
    "\n",
    "n = np.array(n)"
   ]
  },
  {
   "cell_type": "code",
   "execution_count": 80,
   "metadata": {},
   "outputs": [
    {
     "data": {
      "text/plain": [
       "(7, 6)"
      ]
     },
     "execution_count": 80,
     "metadata": {},
     "output_type": "execute_result"
    }
   ],
   "source": [
    "n.shape"
   ]
  },
  {
   "cell_type": "code",
   "execution_count": 86,
   "metadata": {},
   "outputs": [],
   "source": [
    "np.save('/home/gzanin/Desktop/espoo_S2_amb/RIRs.npy', n)"
   ]
  },
  {
   "cell_type": "code",
   "execution_count": 87,
   "metadata": {},
   "outputs": [],
   "source": [
    "espoo_xyzs = np.array([[6.37, 1.3, 1.55], [5.12, 1.3, 1.55], [3.87, 1.3, 1.55], [2.62, 1.3, 1.55], [1.37, 1.3, 1.55],[5.12, 4.745, 1.55 ],[2.62, 4.745, 1.55]])"
   ]
  },
  {
   "cell_type": "code",
   "execution_count": 88,
   "metadata": {},
   "outputs": [],
   "source": [
    "np.save('/home/gzanin/Desktop/espoo_S2_amb/xyzs.npy', espoo_xyzs)\n",
    "np.save('/home/gzanin/Desktop/espoo_S2/xyzs.npy', espoo_xyzs)"
   ]
  },
  {
   "cell_type": "code",
   "execution_count": 90,
   "metadata": {},
   "outputs": [],
   "source": [
    "np.save('/home/gzanin/Desktop/espoo_S2_amb/music.npy', np.array([]))\n",
    "np.save('/home/gzanin/Desktop/espoo_S2/music.npy', np.array([]))\n",
    "\n",
    "np.save('/home/gzanin/Desktop/espoo_S2_amb/music_dls.npy', np.array([]))\n",
    "np.save('/home/gzanin/Desktop/espoo_S2/music_dls.npy', np.array([]))\n",
    "\n",
    "np.save('/home/gzanin/Desktop/espoo_S2_amb/bin_music.npy', np.array([]))\n",
    "np.save('/home/gzanin/Desktop/espoo_S2/bin_music.npy', np.array([]))\n",
    "\n",
    "np.save('/home/gzanin/Desktop/espoo_S2_amb/bin_music_dls.npy', np.array([]))\n",
    "np.save('/home/gzanin/Desktop/espoo_S2/bin_music_dls.npy', np.array([]))\n",
    "\n",
    "np.save('/home/gzanin/Desktop/espoo_S2_amb/bin_xyzs.npy', np.array([]))\n",
    "np.save('/home/gzanin/Desktop/espoo_S2/bin_xyzs.npy', np.array([]))\n",
    "\n",
    "np.save('/home/gzanin/Desktop/espoo_S2_amb/bin_RIRs.npy', np.array([]))\n",
    "np.save('/home/gzanin/Desktop/espoo_S2/bin_RIRs.npy', np.array([]))\n",
    "\n",
    "np.save('/home/gzanin/Desktop/espoo_S2_amb/bin_music.npy', np.array([]))\n",
    "np.save('/home/gzanin/Desktop/espoo_S2/bin_music.npy', np.array([]))\n",
    "\n",
    "np.save('/home/gzanin/Desktop/espoo_S2_amb/mic_numbers.npy', np.array([]))\n",
    "np.save('/home/gzanin/Desktop/espoo_S2/mic_numbers.npy', np.array([]))"
   ]
  }
 ],
 "metadata": {
  "kernelspec": {
   "display_name": "3.11.9",
   "language": "python",
   "name": "python3"
  },
  "language_info": {
   "codemirror_mode": {
    "name": "ipython",
    "version": 3
   },
   "file_extension": ".py",
   "mimetype": "text/x-python",
   "name": "python",
   "nbconvert_exporter": "python",
   "pygments_lexer": "ipython3",
   "version": "3.11.9"
  }
 },
 "nbformat": 4,
 "nbformat_minor": 2
}
