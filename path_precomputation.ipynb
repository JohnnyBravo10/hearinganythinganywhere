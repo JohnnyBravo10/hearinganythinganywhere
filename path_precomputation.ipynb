{
 "cells": [
  {
   "cell_type": "code",
   "execution_count": null,
   "metadata": {},
   "outputs": [],
   "source": [
    "import rooms.dataset\n",
    "import trace1\n",
    "import numpy as np\n",
    "import os\n",
    "import train"
   ]
  },
  {
   "cell_type": "code",
   "execution_count": null,
   "metadata": {},
   "outputs": [],
   "source": [
    "dataset_name = \"nottingham_S1\"\n",
    "\n",
    "D = rooms.dataset.dataLoader(dataset_name)"
   ]
  },
  {
   "cell_type": "code",
   "execution_count": null,
   "metadata": {},
   "outputs": [],
   "source": [
    "base_dir = f\"precomputed/{dataset_name}\"\n",
    "reflections_dir = os.path.join(base_dir, \"reflections\")\n",
    "transmissions_dir = os.path.join(base_dir, \"transmissions\")\n",
    "delays_dir = os.path.join(base_dir, \"delays\")\n",
    "starts_dir = os.path.join(base_dir, \"starts\")\n",
    "ends_dir = os.path.join(base_dir, \"ends\")\n",
    "\n",
    "# Creazione delle directory se necessario\n",
    "train.makedir_if_needed(reflections_dir)\n",
    "train.makedir_if_needed(transmissions_dir)\n",
    "train.makedir_if_needed(delays_dir)\n",
    "train.makedir_if_needed(starts_dir)\n",
    "train.makedir_if_needed(ends_dir)"
   ]
  },
  {
   "cell_type": "code",
   "execution_count": null,
   "metadata": {},
   "outputs": [],
   "source": [
    "indices= list(D.train_indices)+list(D.valid_indices)+ list(D.test_indices)\n",
    "\n",
    "for idx in indices:    \n",
    "    # Tracing from Scratch\n",
    "    reflections, transmissions, delays, start_directions, end_directions = (\n",
    "        trace1.get_reflections_transmissions_and_delays(\n",
    "        source=D.speaker_xyz, dest=D.xyzs[idx], surfaces=D.all_surfaces, speed_of_sound=D.speed_of_sound,\n",
    "        max_order=D.max_order, parallel_surface_pairs=D.parallel_surface_pairs, max_axial_order=D.max_axial_order)\n",
    "    )\n",
    "    \n",
    "    print(reflections)\n",
    "    \n",
    "    reflections = np.array([list(i) for i in reflections], dtype=object)\n",
    "    transmissions = np.array([list(j) for j in transmissions], dtype=object)\n",
    "    \n",
    "    np.save(os.path.join(reflections_dir, str(idx)+\".npy\"), reflections, allow_pickle=True)\n",
    "    np.save(os.path.join(transmissions_dir, str(idx)+\".npy\"), transmissions, allow_pickle=True)\n",
    "    np.save(os.path.join(delays_dir, str(idx)+\".npy\"), delays)\n",
    "    np.save(os.path.join(starts_dir, str(idx)+\".npy\"), start_directions)\n",
    "    np.save(os.path.join(ends_dir, str(idx)+\".npy\"), end_directions)\n",
    "    \n",
    "    "
   ]
  }
 ],
 "metadata": {
  "kernelspec": {
   "display_name": "Python 3",
   "language": "python",
   "name": "python3"
  },
  "language_info": {
   "codemirror_mode": {
    "name": "ipython",
    "version": 3
   },
   "file_extension": ".py",
   "mimetype": "text/x-python",
   "name": "python",
   "nbconvert_exporter": "python",
   "pygments_lexer": "ipython3",
   "version": "3.11.9"
  }
 },
 "nbformat": 4,
 "nbformat_minor": 2
}
